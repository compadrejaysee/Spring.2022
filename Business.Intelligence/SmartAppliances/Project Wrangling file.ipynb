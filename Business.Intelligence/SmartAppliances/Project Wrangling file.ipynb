{
 "cells": [
  {
   "cell_type": "markdown",
   "metadata": {},
   "source": [
    "# Wrangling Smart Home Dataset"
   ]
  },
  {
   "cell_type": "markdown",
   "metadata": {},
   "source": [
    "# Pipeline:\n",
    "\n",
    "##### 1. Missing Values \n",
    "    Categorical\n",
    "    Numerical\n",
    "    DateTime\n",
    "    Mis-spelled values\n",
    "\n",
    "##### 2. Data Types\n",
    "\n",
    "##### 3. Transformation\n",
    "\n",
    "    Column rename\n",
    "    Row deletion\n",
    "    Column deletion\n",
    "\n",
    "##### 4. Outliers\n",
    "    Dist Plots\n",
    "    Box Plots\n",
    "\n",
    "##### 5. Inferential Analysis\n",
    "\n",
    "    ANOVA\n",
    "    "
   ]
  },
  {
   "cell_type": "code",
   "execution_count": 2,
   "metadata": {},
   "outputs": [],
   "source": [
    "import pandas as pd \n",
    "import datetime\n",
    "import numpy as np\n",
    "from matplotlib import pyplot as plt \n",
    "import time\n",
    "import seaborn as sns \n",
    "import missingno as msno\n",
    "from scipy import stats"
   ]
  },
  {
   "cell_type": "code",
   "execution_count": 4,
   "metadata": {},
   "outputs": [
    {
     "data": {
      "text/html": [
       "<div>\n",
       "<style scoped>\n",
       "    .dataframe tbody tr th:only-of-type {\n",
       "        vertical-align: middle;\n",
       "    }\n",
       "\n",
       "    .dataframe tbody tr th {\n",
       "        vertical-align: top;\n",
       "    }\n",
       "\n",
       "    .dataframe thead th {\n",
       "        text-align: right;\n",
       "    }\n",
       "</style>\n",
       "<table border=\"1\" class=\"dataframe\">\n",
       "  <thead>\n",
       "    <tr style=\"text-align: right;\">\n",
       "      <th></th>\n",
       "      <th>time</th>\n",
       "      <th>use [kW]</th>\n",
       "      <th>gen [kW]</th>\n",
       "      <th>House overall [kW]</th>\n",
       "      <th>Dishwasher [kW]</th>\n",
       "      <th>Furnace 1 [kW]</th>\n",
       "      <th>Furnace 2 [kW]</th>\n",
       "      <th>Home office [kW]</th>\n",
       "      <th>Fridge [kW]</th>\n",
       "      <th>Wine cellar [kW]</th>\n",
       "      <th>...</th>\n",
       "      <th>visibility</th>\n",
       "      <th>summary</th>\n",
       "      <th>apparentTemperature</th>\n",
       "      <th>pressure</th>\n",
       "      <th>windSpeed</th>\n",
       "      <th>cloudCover</th>\n",
       "      <th>windBearing</th>\n",
       "      <th>precipIntensity</th>\n",
       "      <th>dewPoint</th>\n",
       "      <th>precipProbability</th>\n",
       "    </tr>\n",
       "  </thead>\n",
       "  <tbody>\n",
       "    <tr>\n",
       "      <th>0</th>\n",
       "      <td>1451624400</td>\n",
       "      <td>0.932833</td>\n",
       "      <td>0.003483</td>\n",
       "      <td>0.932833</td>\n",
       "      <td>0.000033</td>\n",
       "      <td>0.020700</td>\n",
       "      <td>0.061917</td>\n",
       "      <td>0.442633</td>\n",
       "      <td>0.124150</td>\n",
       "      <td>0.006983</td>\n",
       "      <td>...</td>\n",
       "      <td>10.0</td>\n",
       "      <td>Clear</td>\n",
       "      <td>29.26</td>\n",
       "      <td>1016.91</td>\n",
       "      <td>9.18</td>\n",
       "      <td>cloudCover</td>\n",
       "      <td>282.0</td>\n",
       "      <td>0.0</td>\n",
       "      <td>24.4</td>\n",
       "      <td>0.0</td>\n",
       "    </tr>\n",
       "    <tr>\n",
       "      <th>1</th>\n",
       "      <td>1451624401</td>\n",
       "      <td>0.934333</td>\n",
       "      <td>0.003467</td>\n",
       "      <td>0.934333</td>\n",
       "      <td>0.000000</td>\n",
       "      <td>0.020717</td>\n",
       "      <td>0.063817</td>\n",
       "      <td>0.444067</td>\n",
       "      <td>0.124000</td>\n",
       "      <td>0.006983</td>\n",
       "      <td>...</td>\n",
       "      <td>10.0</td>\n",
       "      <td>Clear</td>\n",
       "      <td>29.26</td>\n",
       "      <td>1016.91</td>\n",
       "      <td>9.18</td>\n",
       "      <td>cloudCover</td>\n",
       "      <td>282.0</td>\n",
       "      <td>0.0</td>\n",
       "      <td>24.4</td>\n",
       "      <td>0.0</td>\n",
       "    </tr>\n",
       "    <tr>\n",
       "      <th>2</th>\n",
       "      <td>1451624402</td>\n",
       "      <td>0.931817</td>\n",
       "      <td>0.003467</td>\n",
       "      <td>0.931817</td>\n",
       "      <td>0.000017</td>\n",
       "      <td>0.020700</td>\n",
       "      <td>0.062317</td>\n",
       "      <td>0.446067</td>\n",
       "      <td>0.123533</td>\n",
       "      <td>0.006983</td>\n",
       "      <td>...</td>\n",
       "      <td>10.0</td>\n",
       "      <td>Clear</td>\n",
       "      <td>29.26</td>\n",
       "      <td>1016.91</td>\n",
       "      <td>9.18</td>\n",
       "      <td>cloudCover</td>\n",
       "      <td>282.0</td>\n",
       "      <td>0.0</td>\n",
       "      <td>24.4</td>\n",
       "      <td>0.0</td>\n",
       "    </tr>\n",
       "    <tr>\n",
       "      <th>3</th>\n",
       "      <td>1451624403</td>\n",
       "      <td>1.022050</td>\n",
       "      <td>0.003483</td>\n",
       "      <td>1.022050</td>\n",
       "      <td>0.000017</td>\n",
       "      <td>0.106900</td>\n",
       "      <td>0.068517</td>\n",
       "      <td>0.446583</td>\n",
       "      <td>0.123133</td>\n",
       "      <td>0.006983</td>\n",
       "      <td>...</td>\n",
       "      <td>10.0</td>\n",
       "      <td>Clear</td>\n",
       "      <td>29.26</td>\n",
       "      <td>1016.91</td>\n",
       "      <td>9.18</td>\n",
       "      <td>cloudCover</td>\n",
       "      <td>282.0</td>\n",
       "      <td>0.0</td>\n",
       "      <td>24.4</td>\n",
       "      <td>0.0</td>\n",
       "    </tr>\n",
       "    <tr>\n",
       "      <th>4</th>\n",
       "      <td>1451624404</td>\n",
       "      <td>1.139400</td>\n",
       "      <td>0.003467</td>\n",
       "      <td>1.139400</td>\n",
       "      <td>0.000133</td>\n",
       "      <td>0.236933</td>\n",
       "      <td>0.063983</td>\n",
       "      <td>0.446533</td>\n",
       "      <td>0.122850</td>\n",
       "      <td>0.006850</td>\n",
       "      <td>...</td>\n",
       "      <td>10.0</td>\n",
       "      <td>Clear</td>\n",
       "      <td>29.26</td>\n",
       "      <td>1016.91</td>\n",
       "      <td>9.18</td>\n",
       "      <td>cloudCover</td>\n",
       "      <td>282.0</td>\n",
       "      <td>0.0</td>\n",
       "      <td>24.4</td>\n",
       "      <td>0.0</td>\n",
       "    </tr>\n",
       "    <tr>\n",
       "      <th>5</th>\n",
       "      <td>1451624405</td>\n",
       "      <td>1.391867</td>\n",
       "      <td>0.003433</td>\n",
       "      <td>1.391867</td>\n",
       "      <td>0.000283</td>\n",
       "      <td>0.503250</td>\n",
       "      <td>0.063667</td>\n",
       "      <td>0.447033</td>\n",
       "      <td>0.122300</td>\n",
       "      <td>0.006717</td>\n",
       "      <td>...</td>\n",
       "      <td>10.0</td>\n",
       "      <td>Clear</td>\n",
       "      <td>29.26</td>\n",
       "      <td>1016.91</td>\n",
       "      <td>9.18</td>\n",
       "      <td>cloudCover</td>\n",
       "      <td>282.0</td>\n",
       "      <td>0.0</td>\n",
       "      <td>24.4</td>\n",
       "      <td>0.0</td>\n",
       "    </tr>\n",
       "    <tr>\n",
       "      <th>6</th>\n",
       "      <td>1451624406</td>\n",
       "      <td>1.366217</td>\n",
       "      <td>0.003450</td>\n",
       "      <td>1.366217</td>\n",
       "      <td>0.000283</td>\n",
       "      <td>0.499400</td>\n",
       "      <td>0.063717</td>\n",
       "      <td>0.443267</td>\n",
       "      <td>0.122050</td>\n",
       "      <td>0.006733</td>\n",
       "      <td>...</td>\n",
       "      <td>10.0</td>\n",
       "      <td>Clear</td>\n",
       "      <td>29.26</td>\n",
       "      <td>1016.91</td>\n",
       "      <td>9.18</td>\n",
       "      <td>cloudCover</td>\n",
       "      <td>282.0</td>\n",
       "      <td>0.0</td>\n",
       "      <td>24.4</td>\n",
       "      <td>0.0</td>\n",
       "    </tr>\n",
       "    <tr>\n",
       "      <th>7</th>\n",
       "      <td>1451624407</td>\n",
       "      <td>1.431900</td>\n",
       "      <td>0.003417</td>\n",
       "      <td>1.431900</td>\n",
       "      <td>0.000250</td>\n",
       "      <td>0.477867</td>\n",
       "      <td>0.178633</td>\n",
       "      <td>0.444283</td>\n",
       "      <td>0.121800</td>\n",
       "      <td>0.006783</td>\n",
       "      <td>...</td>\n",
       "      <td>10.0</td>\n",
       "      <td>Clear</td>\n",
       "      <td>29.26</td>\n",
       "      <td>1016.91</td>\n",
       "      <td>9.18</td>\n",
       "      <td>cloudCover</td>\n",
       "      <td>282.0</td>\n",
       "      <td>0.0</td>\n",
       "      <td>24.4</td>\n",
       "      <td>0.0</td>\n",
       "    </tr>\n",
       "    <tr>\n",
       "      <th>8</th>\n",
       "      <td>1451624408</td>\n",
       "      <td>1.627300</td>\n",
       "      <td>0.003417</td>\n",
       "      <td>1.627300</td>\n",
       "      <td>0.000183</td>\n",
       "      <td>0.447650</td>\n",
       "      <td>0.365700</td>\n",
       "      <td>0.441467</td>\n",
       "      <td>0.121617</td>\n",
       "      <td>0.006950</td>\n",
       "      <td>...</td>\n",
       "      <td>10.0</td>\n",
       "      <td>Clear</td>\n",
       "      <td>29.26</td>\n",
       "      <td>1016.91</td>\n",
       "      <td>9.18</td>\n",
       "      <td>cloudCover</td>\n",
       "      <td>282.0</td>\n",
       "      <td>0.0</td>\n",
       "      <td>24.4</td>\n",
       "      <td>0.0</td>\n",
       "    </tr>\n",
       "    <tr>\n",
       "      <th>9</th>\n",
       "      <td>1451624409</td>\n",
       "      <td>1.735383</td>\n",
       "      <td>0.003417</td>\n",
       "      <td>1.735383</td>\n",
       "      <td>0.000017</td>\n",
       "      <td>0.171550</td>\n",
       "      <td>0.682500</td>\n",
       "      <td>0.438733</td>\n",
       "      <td>0.121633</td>\n",
       "      <td>0.007233</td>\n",
       "      <td>...</td>\n",
       "      <td>10.0</td>\n",
       "      <td>Clear</td>\n",
       "      <td>29.26</td>\n",
       "      <td>1016.91</td>\n",
       "      <td>9.18</td>\n",
       "      <td>cloudCover</td>\n",
       "      <td>282.0</td>\n",
       "      <td>0.0</td>\n",
       "      <td>24.4</td>\n",
       "      <td>0.0</td>\n",
       "    </tr>\n",
       "  </tbody>\n",
       "</table>\n",
       "<p>10 rows × 32 columns</p>\n",
       "</div>"
      ],
      "text/plain": [
       "         time  use [kW]  gen [kW]  House overall [kW]  Dishwasher [kW]  \\\n",
       "0  1451624400  0.932833  0.003483            0.932833         0.000033   \n",
       "1  1451624401  0.934333  0.003467            0.934333         0.000000   \n",
       "2  1451624402  0.931817  0.003467            0.931817         0.000017   \n",
       "3  1451624403  1.022050  0.003483            1.022050         0.000017   \n",
       "4  1451624404  1.139400  0.003467            1.139400         0.000133   \n",
       "5  1451624405  1.391867  0.003433            1.391867         0.000283   \n",
       "6  1451624406  1.366217  0.003450            1.366217         0.000283   \n",
       "7  1451624407  1.431900  0.003417            1.431900         0.000250   \n",
       "8  1451624408  1.627300  0.003417            1.627300         0.000183   \n",
       "9  1451624409  1.735383  0.003417            1.735383         0.000017   \n",
       "\n",
       "   Furnace 1 [kW]  Furnace 2 [kW]  Home office [kW]  Fridge [kW]  \\\n",
       "0        0.020700        0.061917          0.442633     0.124150   \n",
       "1        0.020717        0.063817          0.444067     0.124000   \n",
       "2        0.020700        0.062317          0.446067     0.123533   \n",
       "3        0.106900        0.068517          0.446583     0.123133   \n",
       "4        0.236933        0.063983          0.446533     0.122850   \n",
       "5        0.503250        0.063667          0.447033     0.122300   \n",
       "6        0.499400        0.063717          0.443267     0.122050   \n",
       "7        0.477867        0.178633          0.444283     0.121800   \n",
       "8        0.447650        0.365700          0.441467     0.121617   \n",
       "9        0.171550        0.682500          0.438733     0.121633   \n",
       "\n",
       "   Wine cellar [kW]  ...  visibility  summary  apparentTemperature  pressure  \\\n",
       "0          0.006983  ...        10.0    Clear                29.26   1016.91   \n",
       "1          0.006983  ...        10.0    Clear                29.26   1016.91   \n",
       "2          0.006983  ...        10.0    Clear                29.26   1016.91   \n",
       "3          0.006983  ...        10.0    Clear                29.26   1016.91   \n",
       "4          0.006850  ...        10.0    Clear                29.26   1016.91   \n",
       "5          0.006717  ...        10.0    Clear                29.26   1016.91   \n",
       "6          0.006733  ...        10.0    Clear                29.26   1016.91   \n",
       "7          0.006783  ...        10.0    Clear                29.26   1016.91   \n",
       "8          0.006950  ...        10.0    Clear                29.26   1016.91   \n",
       "9          0.007233  ...        10.0    Clear                29.26   1016.91   \n",
       "\n",
       "   windSpeed  cloudCover  windBearing  precipIntensity  dewPoint  \\\n",
       "0       9.18  cloudCover        282.0              0.0      24.4   \n",
       "1       9.18  cloudCover        282.0              0.0      24.4   \n",
       "2       9.18  cloudCover        282.0              0.0      24.4   \n",
       "3       9.18  cloudCover        282.0              0.0      24.4   \n",
       "4       9.18  cloudCover        282.0              0.0      24.4   \n",
       "5       9.18  cloudCover        282.0              0.0      24.4   \n",
       "6       9.18  cloudCover        282.0              0.0      24.4   \n",
       "7       9.18  cloudCover        282.0              0.0      24.4   \n",
       "8       9.18  cloudCover        282.0              0.0      24.4   \n",
       "9       9.18  cloudCover        282.0              0.0      24.4   \n",
       "\n",
       "   precipProbability  \n",
       "0                0.0  \n",
       "1                0.0  \n",
       "2                0.0  \n",
       "3                0.0  \n",
       "4                0.0  \n",
       "5                0.0  \n",
       "6                0.0  \n",
       "7                0.0  \n",
       "8                0.0  \n",
       "9                0.0  \n",
       "\n",
       "[10 rows x 32 columns]"
      ]
     },
     "execution_count": 4,
     "metadata": {},
     "output_type": "execute_result"
    }
   ],
   "source": [
    "df = pd.read_excel (r'C:\\Users\\shehz\\Documents\\BI Project\\HomeC.xlsx')\n",
    "df.head(10)"
   ]
  },
  {
   "cell_type": "code",
   "execution_count": 5,
   "metadata": {},
   "outputs": [
    {
     "data": {
      "text/plain": [
       "time                    object\n",
       "use [kW]               float64\n",
       "gen [kW]               float64\n",
       "House overall [kW]     float64\n",
       "Dishwasher [kW]        float64\n",
       "Furnace 1 [kW]         float64\n",
       "Furnace 2 [kW]         float64\n",
       "Home office [kW]       float64\n",
       "Fridge [kW]            float64\n",
       "Wine cellar [kW]       float64\n",
       "Garage door [kW]       float64\n",
       "Kitchen 12 [kW]        float64\n",
       "Kitchen 14 [kW]        float64\n",
       "Kitchen 38 [kW]        float64\n",
       "Barn [kW]              float64\n",
       "Well [kW]              float64\n",
       "Microwave [kW]         float64\n",
       "Living room [kW]       float64\n",
       "Solar [kW]             float64\n",
       "temperature            float64\n",
       "icon                    object\n",
       "humidity               float64\n",
       "visibility             float64\n",
       "summary                 object\n",
       "apparentTemperature    float64\n",
       "pressure               float64\n",
       "windSpeed              float64\n",
       "cloudCover              object\n",
       "windBearing            float64\n",
       "precipIntensity        float64\n",
       "dewPoint               float64\n",
       "precipProbability      float64\n",
       "dtype: object"
      ]
     },
     "execution_count": 5,
     "metadata": {},
     "output_type": "execute_result"
    }
   ],
   "source": [
    "df.dtypes"
   ]
  },
  {
   "cell_type": "code",
   "execution_count": 6,
   "metadata": {},
   "outputs": [
    {
     "data": {
      "text/plain": [
       "(503911, 32)"
      ]
     },
     "execution_count": 6,
     "metadata": {},
     "output_type": "execute_result"
    }
   ],
   "source": [
    "df.shape"
   ]
  },
  {
   "cell_type": "code",
   "execution_count": 7,
   "metadata": {},
   "outputs": [
    {
     "data": {
      "text/html": [
       "<div>\n",
       "<style scoped>\n",
       "    .dataframe tbody tr th:only-of-type {\n",
       "        vertical-align: middle;\n",
       "    }\n",
       "\n",
       "    .dataframe tbody tr th {\n",
       "        vertical-align: top;\n",
       "    }\n",
       "\n",
       "    .dataframe thead th {\n",
       "        text-align: right;\n",
       "    }\n",
       "</style>\n",
       "<table border=\"1\" class=\"dataframe\">\n",
       "  <thead>\n",
       "    <tr style=\"text-align: right;\">\n",
       "      <th></th>\n",
       "      <th>time</th>\n",
       "      <th>use [kW]</th>\n",
       "      <th>gen [kW]</th>\n",
       "      <th>House overall [kW]</th>\n",
       "      <th>Dishwasher [kW]</th>\n",
       "      <th>Furnace 1 [kW]</th>\n",
       "      <th>Furnace 2 [kW]</th>\n",
       "      <th>Home office [kW]</th>\n",
       "      <th>Fridge [kW]</th>\n",
       "      <th>Wine cellar [kW]</th>\n",
       "      <th>...</th>\n",
       "      <th>visibility</th>\n",
       "      <th>summary</th>\n",
       "      <th>apparentTemperature</th>\n",
       "      <th>pressure</th>\n",
       "      <th>windSpeed</th>\n",
       "      <th>cloudCover</th>\n",
       "      <th>windBearing</th>\n",
       "      <th>precipIntensity</th>\n",
       "      <th>dewPoint</th>\n",
       "      <th>precipProbability</th>\n",
       "    </tr>\n",
       "  </thead>\n",
       "  <tbody>\n",
       "    <tr>\n",
       "      <th>503901</th>\n",
       "      <td>1452128301</td>\n",
       "      <td>1.537383</td>\n",
       "      <td>0.003183</td>\n",
       "      <td>1.537383</td>\n",
       "      <td>0.000133</td>\n",
       "      <td>0.021683</td>\n",
       "      <td>0.642733</td>\n",
       "      <td>0.042033</td>\n",
       "      <td>0.005283</td>\n",
       "      <td>0.008333</td>\n",
       "      <td>...</td>\n",
       "      <td>8.74</td>\n",
       "      <td>Light Rain</td>\n",
       "      <td>29.45</td>\n",
       "      <td>1011.49</td>\n",
       "      <td>6.72</td>\n",
       "      <td>0.31</td>\n",
       "      <td>186.0</td>\n",
       "      <td>0.0101</td>\n",
       "      <td>31.27</td>\n",
       "      <td>0.51</td>\n",
       "    </tr>\n",
       "    <tr>\n",
       "      <th>503902</th>\n",
       "      <td>1452128302</td>\n",
       "      <td>1.551817</td>\n",
       "      <td>0.003200</td>\n",
       "      <td>1.551817</td>\n",
       "      <td>0.000050</td>\n",
       "      <td>0.056200</td>\n",
       "      <td>0.624783</td>\n",
       "      <td>0.041750</td>\n",
       "      <td>0.005250</td>\n",
       "      <td>0.008450</td>\n",
       "      <td>...</td>\n",
       "      <td>8.74</td>\n",
       "      <td>Light Rain</td>\n",
       "      <td>29.45</td>\n",
       "      <td>1011.49</td>\n",
       "      <td>6.72</td>\n",
       "      <td>0.31</td>\n",
       "      <td>186.0</td>\n",
       "      <td>0.0101</td>\n",
       "      <td>31.27</td>\n",
       "      <td>0.51</td>\n",
       "    </tr>\n",
       "    <tr>\n",
       "      <th>503903</th>\n",
       "      <td>1452128303</td>\n",
       "      <td>1.599617</td>\n",
       "      <td>0.003217</td>\n",
       "      <td>1.599617</td>\n",
       "      <td>0.000067</td>\n",
       "      <td>0.089217</td>\n",
       "      <td>0.638650</td>\n",
       "      <td>0.041750</td>\n",
       "      <td>0.005617</td>\n",
       "      <td>0.008467</td>\n",
       "      <td>...</td>\n",
       "      <td>8.74</td>\n",
       "      <td>Light Rain</td>\n",
       "      <td>29.45</td>\n",
       "      <td>1011.49</td>\n",
       "      <td>6.72</td>\n",
       "      <td>0.31</td>\n",
       "      <td>186.0</td>\n",
       "      <td>0.0101</td>\n",
       "      <td>31.27</td>\n",
       "      <td>0.51</td>\n",
       "    </tr>\n",
       "    <tr>\n",
       "      <th>503904</th>\n",
       "      <td>1452128304</td>\n",
       "      <td>1.608867</td>\n",
       "      <td>0.003217</td>\n",
       "      <td>1.608867</td>\n",
       "      <td>0.000033</td>\n",
       "      <td>0.114300</td>\n",
       "      <td>0.623283</td>\n",
       "      <td>0.041817</td>\n",
       "      <td>0.005217</td>\n",
       "      <td>0.008350</td>\n",
       "      <td>...</td>\n",
       "      <td>8.74</td>\n",
       "      <td>Light Rain</td>\n",
       "      <td>29.45</td>\n",
       "      <td>1011.49</td>\n",
       "      <td>6.72</td>\n",
       "      <td>0.31</td>\n",
       "      <td>186.0</td>\n",
       "      <td>0.0101</td>\n",
       "      <td>31.27</td>\n",
       "      <td>0.51</td>\n",
       "    </tr>\n",
       "    <tr>\n",
       "      <th>503905</th>\n",
       "      <td>1452128305</td>\n",
       "      <td>1.601233</td>\n",
       "      <td>0.003183</td>\n",
       "      <td>1.601233</td>\n",
       "      <td>0.000050</td>\n",
       "      <td>0.085267</td>\n",
       "      <td>0.642417</td>\n",
       "      <td>0.041783</td>\n",
       "      <td>0.005267</td>\n",
       "      <td>0.008667</td>\n",
       "      <td>...</td>\n",
       "      <td>8.74</td>\n",
       "      <td>Light Rain</td>\n",
       "      <td>29.45</td>\n",
       "      <td>1011.49</td>\n",
       "      <td>6.72</td>\n",
       "      <td>0.31</td>\n",
       "      <td>186.0</td>\n",
       "      <td>0.0101</td>\n",
       "      <td>31.27</td>\n",
       "      <td>0.51</td>\n",
       "    </tr>\n",
       "    <tr>\n",
       "      <th>503906</th>\n",
       "      <td>1452128306</td>\n",
       "      <td>1.599333</td>\n",
       "      <td>0.003233</td>\n",
       "      <td>1.599333</td>\n",
       "      <td>0.000050</td>\n",
       "      <td>0.104017</td>\n",
       "      <td>0.625033</td>\n",
       "      <td>0.041750</td>\n",
       "      <td>0.005233</td>\n",
       "      <td>0.008433</td>\n",
       "      <td>...</td>\n",
       "      <td>8.74</td>\n",
       "      <td>Light Rain</td>\n",
       "      <td>29.45</td>\n",
       "      <td>1011.49</td>\n",
       "      <td>6.72</td>\n",
       "      <td>0.31</td>\n",
       "      <td>186.0</td>\n",
       "      <td>0.0101</td>\n",
       "      <td>31.27</td>\n",
       "      <td>0.51</td>\n",
       "    </tr>\n",
       "    <tr>\n",
       "      <th>503907</th>\n",
       "      <td>1452128307</td>\n",
       "      <td>1.924267</td>\n",
       "      <td>0.003217</td>\n",
       "      <td>1.924267</td>\n",
       "      <td>0.000033</td>\n",
       "      <td>0.422383</td>\n",
       "      <td>0.637733</td>\n",
       "      <td>0.042033</td>\n",
       "      <td>0.004983</td>\n",
       "      <td>0.008467</td>\n",
       "      <td>...</td>\n",
       "      <td>8.74</td>\n",
       "      <td>Light Rain</td>\n",
       "      <td>29.45</td>\n",
       "      <td>1011.49</td>\n",
       "      <td>6.72</td>\n",
       "      <td>0.31</td>\n",
       "      <td>186.0</td>\n",
       "      <td>0.0101</td>\n",
       "      <td>31.27</td>\n",
       "      <td>0.51</td>\n",
       "    </tr>\n",
       "    <tr>\n",
       "      <th>503908</th>\n",
       "      <td>1452128308</td>\n",
       "      <td>1.978200</td>\n",
       "      <td>0.003217</td>\n",
       "      <td>1.978200</td>\n",
       "      <td>0.000050</td>\n",
       "      <td>0.495667</td>\n",
       "      <td>0.620367</td>\n",
       "      <td>0.042100</td>\n",
       "      <td>0.005333</td>\n",
       "      <td>0.008233</td>\n",
       "      <td>...</td>\n",
       "      <td>8.74</td>\n",
       "      <td>Light Rain</td>\n",
       "      <td>29.45</td>\n",
       "      <td>1011.49</td>\n",
       "      <td>6.72</td>\n",
       "      <td>0.31</td>\n",
       "      <td>186.0</td>\n",
       "      <td>0.0101</td>\n",
       "      <td>31.27</td>\n",
       "      <td>0.51</td>\n",
       "    </tr>\n",
       "    <tr>\n",
       "      <th>503909</th>\n",
       "      <td>1452128309</td>\n",
       "      <td>1.990950</td>\n",
       "      <td>0.003233</td>\n",
       "      <td>1.990950</td>\n",
       "      <td>0.000050</td>\n",
       "      <td>0.494700</td>\n",
       "      <td>0.634133</td>\n",
       "      <td>0.042100</td>\n",
       "      <td>0.004917</td>\n",
       "      <td>0.008133</td>\n",
       "      <td>...</td>\n",
       "      <td>8.74</td>\n",
       "      <td>Light Rain</td>\n",
       "      <td>29.45</td>\n",
       "      <td>1011.49</td>\n",
       "      <td>6.72</td>\n",
       "      <td>0.31</td>\n",
       "      <td>186.0</td>\n",
       "      <td>0.0101</td>\n",
       "      <td>31.27</td>\n",
       "      <td>0.51</td>\n",
       "    </tr>\n",
       "    <tr>\n",
       "      <th>503910</th>\n",
       "      <td>\\</td>\n",
       "      <td>NaN</td>\n",
       "      <td>NaN</td>\n",
       "      <td>NaN</td>\n",
       "      <td>NaN</td>\n",
       "      <td>NaN</td>\n",
       "      <td>NaN</td>\n",
       "      <td>NaN</td>\n",
       "      <td>NaN</td>\n",
       "      <td>NaN</td>\n",
       "      <td>...</td>\n",
       "      <td>NaN</td>\n",
       "      <td>NaN</td>\n",
       "      <td>NaN</td>\n",
       "      <td>NaN</td>\n",
       "      <td>NaN</td>\n",
       "      <td>NaN</td>\n",
       "      <td>NaN</td>\n",
       "      <td>NaN</td>\n",
       "      <td>NaN</td>\n",
       "      <td>NaN</td>\n",
       "    </tr>\n",
       "  </tbody>\n",
       "</table>\n",
       "<p>10 rows × 32 columns</p>\n",
       "</div>"
      ],
      "text/plain": [
       "              time  use [kW]  gen [kW]  House overall [kW]  Dishwasher [kW]  \\\n",
       "503901  1452128301  1.537383  0.003183            1.537383         0.000133   \n",
       "503902  1452128302  1.551817  0.003200            1.551817         0.000050   \n",
       "503903  1452128303  1.599617  0.003217            1.599617         0.000067   \n",
       "503904  1452128304  1.608867  0.003217            1.608867         0.000033   \n",
       "503905  1452128305  1.601233  0.003183            1.601233         0.000050   \n",
       "503906  1452128306  1.599333  0.003233            1.599333         0.000050   \n",
       "503907  1452128307  1.924267  0.003217            1.924267         0.000033   \n",
       "503908  1452128308  1.978200  0.003217            1.978200         0.000050   \n",
       "503909  1452128309  1.990950  0.003233            1.990950         0.000050   \n",
       "503910           \\       NaN       NaN                 NaN              NaN   \n",
       "\n",
       "        Furnace 1 [kW]  Furnace 2 [kW]  Home office [kW]  Fridge [kW]  \\\n",
       "503901        0.021683        0.642733          0.042033     0.005283   \n",
       "503902        0.056200        0.624783          0.041750     0.005250   \n",
       "503903        0.089217        0.638650          0.041750     0.005617   \n",
       "503904        0.114300        0.623283          0.041817     0.005217   \n",
       "503905        0.085267        0.642417          0.041783     0.005267   \n",
       "503906        0.104017        0.625033          0.041750     0.005233   \n",
       "503907        0.422383        0.637733          0.042033     0.004983   \n",
       "503908        0.495667        0.620367          0.042100     0.005333   \n",
       "503909        0.494700        0.634133          0.042100     0.004917   \n",
       "503910             NaN             NaN               NaN          NaN   \n",
       "\n",
       "        Wine cellar [kW]  ...  visibility     summary  apparentTemperature  \\\n",
       "503901          0.008333  ...        8.74  Light Rain                29.45   \n",
       "503902          0.008450  ...        8.74  Light Rain                29.45   \n",
       "503903          0.008467  ...        8.74  Light Rain                29.45   \n",
       "503904          0.008350  ...        8.74  Light Rain                29.45   \n",
       "503905          0.008667  ...        8.74  Light Rain                29.45   \n",
       "503906          0.008433  ...        8.74  Light Rain                29.45   \n",
       "503907          0.008467  ...        8.74  Light Rain                29.45   \n",
       "503908          0.008233  ...        8.74  Light Rain                29.45   \n",
       "503909          0.008133  ...        8.74  Light Rain                29.45   \n",
       "503910               NaN  ...         NaN         NaN                  NaN   \n",
       "\n",
       "        pressure  windSpeed  cloudCover  windBearing  precipIntensity  \\\n",
       "503901   1011.49       6.72        0.31        186.0           0.0101   \n",
       "503902   1011.49       6.72        0.31        186.0           0.0101   \n",
       "503903   1011.49       6.72        0.31        186.0           0.0101   \n",
       "503904   1011.49       6.72        0.31        186.0           0.0101   \n",
       "503905   1011.49       6.72        0.31        186.0           0.0101   \n",
       "503906   1011.49       6.72        0.31        186.0           0.0101   \n",
       "503907   1011.49       6.72        0.31        186.0           0.0101   \n",
       "503908   1011.49       6.72        0.31        186.0           0.0101   \n",
       "503909   1011.49       6.72        0.31        186.0           0.0101   \n",
       "503910       NaN        NaN         NaN          NaN              NaN   \n",
       "\n",
       "        dewPoint  precipProbability  \n",
       "503901     31.27               0.51  \n",
       "503902     31.27               0.51  \n",
       "503903     31.27               0.51  \n",
       "503904     31.27               0.51  \n",
       "503905     31.27               0.51  \n",
       "503906     31.27               0.51  \n",
       "503907     31.27               0.51  \n",
       "503908     31.27               0.51  \n",
       "503909     31.27               0.51  \n",
       "503910       NaN                NaN  \n",
       "\n",
       "[10 rows x 32 columns]"
      ]
     },
     "execution_count": 7,
     "metadata": {},
     "output_type": "execute_result"
    }
   ],
   "source": [
    "df.tail(10)"
   ]
  },
  {
   "cell_type": "markdown",
   "metadata": {},
   "source": [
    "## Missing Values Analysis"
   ]
  },
  {
   "cell_type": "code",
   "execution_count": 8,
   "metadata": {},
   "outputs": [
    {
     "name": "stdout",
     "output_type": "stream",
     "text": [
      "time                   0\n",
      "use [kW]               1\n",
      "gen [kW]               1\n",
      "House overall [kW]     1\n",
      "Dishwasher [kW]        1\n",
      "Furnace 1 [kW]         1\n",
      "Furnace 2 [kW]         1\n",
      "Home office [kW]       1\n",
      "Fridge [kW]            1\n",
      "Wine cellar [kW]       1\n",
      "Garage door [kW]       1\n",
      "Kitchen 12 [kW]        1\n",
      "Kitchen 14 [kW]        1\n",
      "Kitchen 38 [kW]        1\n",
      "Barn [kW]              1\n",
      "Well [kW]              1\n",
      "Microwave [kW]         1\n",
      "Living room [kW]       1\n",
      "Solar [kW]             1\n",
      "temperature            1\n",
      "icon                   1\n",
      "humidity               1\n",
      "visibility             1\n",
      "summary                1\n",
      "apparentTemperature    1\n",
      "pressure               1\n",
      "windSpeed              1\n",
      "cloudCover             1\n",
      "windBearing            1\n",
      "precipIntensity        1\n",
      "dewPoint               1\n",
      "precipProbability      1\n",
      "dtype: int64\n"
     ]
    },
    {
     "data": {
      "text/plain": [
       "<AxesSubplot:>"
      ]
     },
     "execution_count": 8,
     "metadata": {},
     "output_type": "execute_result"
    },
    {
     "data": {
      "image/png": "[encoded data removed]",
      "text/plain": [
       "<Figure size 1728x720 with 3 Axes>"
      ]
     },
     "metadata": {
      "needs_background": "light"
     },
     "output_type": "display_data"
    }
   ],
   "source": [
    "#Dealing with null values\n",
    "print(df.isna().sum())\n",
    "msno.bar(df)\n",
    "#The slash in the last row is causing the only mssing value in the dataset, so we remove it "
   ]
  },
  {
   "cell_type": "code",
   "execution_count": 9,
   "metadata": {},
   "outputs": [],
   "source": [
    "df=df.dropna()\n"
   ]
  },
  {
   "cell_type": "code",
   "execution_count": 10,
   "metadata": {},
   "outputs": [
    {
     "name": "stdout",
     "output_type": "stream",
     "text": [
      "time                   0\n",
      "use [kW]               0\n",
      "gen [kW]               0\n",
      "House overall [kW]     0\n",
      "Dishwasher [kW]        0\n",
      "Furnace 1 [kW]         0\n",
      "Furnace 2 [kW]         0\n",
      "Home office [kW]       0\n",
      "Fridge [kW]            0\n",
      "Wine cellar [kW]       0\n",
      "Garage door [kW]       0\n",
      "Kitchen 12 [kW]        0\n",
      "Kitchen 14 [kW]        0\n",
      "Kitchen 38 [kW]        0\n",
      "Barn [kW]              0\n",
      "Well [kW]              0\n",
      "Microwave [kW]         0\n",
      "Living room [kW]       0\n",
      "Solar [kW]             0\n",
      "temperature            0\n",
      "icon                   0\n",
      "humidity               0\n",
      "visibility             0\n",
      "summary                0\n",
      "apparentTemperature    0\n",
      "pressure               0\n",
      "windSpeed              0\n",
      "cloudCover             0\n",
      "windBearing            0\n",
      "precipIntensity        0\n",
      "dewPoint               0\n",
      "precipProbability      0\n",
      "dtype: int64\n"
     ]
    },
    {
     "data": {
      "text/plain": [
       "<AxesSubplot:>"
      ]
     },
     "execution_count": 10,
     "metadata": {},
     "output_type": "execute_result"
    },
    {
     "data": {
      "image/png": "[encoded data removed]",
      "text/plain": [
       "<Figure size 1728x720 with 3 Axes>"
      ]
     },
     "metadata": {
      "needs_background": "light"
     },
     "output_type": "display_data"
    }
   ],
   "source": [
    "print(df.isna().sum())\n",
    "msno.bar(df)\n",
    "#Missing values replaced"
   ]
  },
  {
   "cell_type": "code",
   "execution_count": 11,
   "metadata": {},
   "outputs": [
    {
     "data": {
      "text/plain": [
       "0         1451624400\n",
       "1         1451624401\n",
       "2         1451624402\n",
       "3         1451624403\n",
       "4         1451624404\n",
       "             ...    \n",
       "503905    1452128305\n",
       "503906    1452128306\n",
       "503907    1452128307\n",
       "503908    1452128308\n",
       "503909    1452128309\n",
       "Name: time, Length: 503910, dtype: int32"
      ]
     },
     "execution_count": 11,
     "metadata": {},
     "output_type": "execute_result"
    }
   ],
   "source": [
    "df['time'].astype(str).astype(int)"
   ]
  },
  {
   "cell_type": "code",
   "execution_count": 12,
   "metadata": {},
   "outputs": [
    {
     "ename": "TypeError",
     "evalue": "cannot convert the series to <class 'int'>",
     "output_type": "error",
     "traceback": [
      "\u001b[1;31m---------------------------------------------------------------------------\u001b[0m",
      "\u001b[1;31mTypeError\u001b[0m                                 Traceback (most recent call last)",
      "\u001b[1;32m~\\AppData\\Local\\Temp/ipykernel_9960/2383959152.py\u001b[0m in \u001b[0;36m<module>\u001b[1;34m\u001b[0m\n\u001b[0;32m      1\u001b[0m \u001b[1;31m#df['time']=pd.to_datetime(df['time'], unit='m')\u001b[0m\u001b[1;33m\u001b[0m\u001b[1;33m\u001b[0m\u001b[0m\n\u001b[0;32m      2\u001b[0m \u001b[1;31m#your_timestamp = 1331856000000\u001b[0m\u001b[1;33m\u001b[0m\u001b[1;33m\u001b[0m\u001b[0m\n\u001b[1;32m----> 3\u001b[1;33m \u001b[0mdf\u001b[0m\u001b[1;33m[\u001b[0m\u001b[1;34m'time'\u001b[0m\u001b[1;33m]\u001b[0m\u001b[1;33m=\u001b[0m\u001b[0mdatetime\u001b[0m\u001b[1;33m.\u001b[0m\u001b[0mdatetime\u001b[0m\u001b[1;33m.\u001b[0m\u001b[0mfromtimestamp\u001b[0m\u001b[1;33m(\u001b[0m\u001b[0mdf\u001b[0m\u001b[1;33m[\u001b[0m\u001b[1;34m'time'\u001b[0m\u001b[1;33m]\u001b[0m \u001b[1;33m/\u001b[0m \u001b[1;36m1e3\u001b[0m\u001b[1;33m)\u001b[0m\u001b[1;33m\u001b[0m\u001b[1;33m\u001b[0m\u001b[0m\n\u001b[0m\u001b[0;32m      4\u001b[0m \u001b[1;31m#df['time'] =  pd.to_datetime(df['time'], format='%d%b%Y:%H:%M:%S.%f')\u001b[0m\u001b[1;33m\u001b[0m\u001b[1;33m\u001b[0m\u001b[0m\n",
      "\u001b[1;32mC:\\ProgramData\\Anaconda3\\lib\\site-packages\\pandas\\core\\series.py\u001b[0m in \u001b[0;36mwrapper\u001b[1;34m(self)\u001b[0m\n\u001b[0;32m    183\u001b[0m         \u001b[1;32mif\u001b[0m \u001b[0mlen\u001b[0m\u001b[1;33m(\u001b[0m\u001b[0mself\u001b[0m\u001b[1;33m)\u001b[0m \u001b[1;33m==\u001b[0m \u001b[1;36m1\u001b[0m\u001b[1;33m:\u001b[0m\u001b[1;33m\u001b[0m\u001b[1;33m\u001b[0m\u001b[0m\n\u001b[0;32m    184\u001b[0m             \u001b[1;32mreturn\u001b[0m \u001b[0mconverter\u001b[0m\u001b[1;33m(\u001b[0m\u001b[0mself\u001b[0m\u001b[1;33m.\u001b[0m\u001b[0miloc\u001b[0m\u001b[1;33m[\u001b[0m\u001b[1;36m0\u001b[0m\u001b[1;33m]\u001b[0m\u001b[1;33m)\u001b[0m\u001b[1;33m\u001b[0m\u001b[1;33m\u001b[0m\u001b[0m\n\u001b[1;32m--> 185\u001b[1;33m         \u001b[1;32mraise\u001b[0m \u001b[0mTypeError\u001b[0m\u001b[1;33m(\u001b[0m\u001b[1;34mf\"cannot convert the series to {converter}\"\u001b[0m\u001b[1;33m)\u001b[0m\u001b[1;33m\u001b[0m\u001b[1;33m\u001b[0m\u001b[0m\n\u001b[0m\u001b[0;32m    186\u001b[0m \u001b[1;33m\u001b[0m\u001b[0m\n\u001b[0;32m    187\u001b[0m     \u001b[0mwrapper\u001b[0m\u001b[1;33m.\u001b[0m\u001b[0m__name__\u001b[0m \u001b[1;33m=\u001b[0m \u001b[1;34mf\"__{converter.__name__}__\"\u001b[0m\u001b[1;33m\u001b[0m\u001b[1;33m\u001b[0m\u001b[0m\n",
      "\u001b[1;31mTypeError\u001b[0m: cannot convert the series to <class 'int'>"
     ]
    }
   ],
   "source": [
    "#df['time']=pd.to_datetime(df['time'], unit='m')\n",
    "#your_timestamp = 1331856000000\n",
    "df['time']=datetime.datetime.fromtimestamp(df['time'] / 1e3)\n",
    "#df['time'] =  pd.to_datetime(df['time'], format='%d%b%Y:%H:%M:%S.%f')"
   ]
  },
  {
   "cell_type": "code",
   "execution_count": 13,
   "metadata": {},
   "outputs": [],
   "source": [
    "#Since none of the methods worked using the to_datetime function\n",
    "#The technique was to acquire knowledge of time of readings from the online\n",
    "# link, then apply the sequence to data set. Kaggle link said the the readings were\n",
    "#from 1 jan 2016  to 15th dec 2016 (350 days) so thats what we try to achieve\n",
    "#the conversion through a different technique by using a unix epoch method to make the column a \n",
    "#time series of our own which matches the given range\n",
    "time=pd.date_range('2016-01-01 05:00:00', periods=503910, freq='min')\n",
    "time=pd.DatetimeIndex(time)\n",
    "df['time']=time"
   ]
  },
  {
   "cell_type": "code",
   "execution_count": 14,
   "metadata": {},
   "outputs": [
    {
     "data": {
      "text/plain": [
       "0        2016-01-01 05:00:00\n",
       "1        2016-01-01 05:01:00\n",
       "2        2016-01-01 05:02:00\n",
       "3        2016-01-01 05:03:00\n",
       "4        2016-01-01 05:04:00\n",
       "                 ...        \n",
       "503905   2016-12-16 03:25:00\n",
       "503906   2016-12-16 03:26:00\n",
       "503907   2016-12-16 03:27:00\n",
       "503908   2016-12-16 03:28:00\n",
       "503909   2016-12-16 03:29:00\n",
       "Name: time, Length: 503910, dtype: datetime64[ns]"
      ]
     },
     "execution_count": 14,
     "metadata": {},
     "output_type": "execute_result"
    }
   ],
   "source": [
    "df['time']"
   ]
  },
  {
   "cell_type": "code",
   "execution_count": 15,
   "metadata": {},
   "outputs": [],
   "source": [
    "df['cloudCover']= df['cloudCover'].replace('cloudCover', np.nan)"
   ]
  },
  {
   "cell_type": "code",
   "execution_count": 16,
   "metadata": {},
   "outputs": [
    {
     "name": "stdout",
     "output_type": "stream",
     "text": [
      "0.01150999186362644 %\n",
      "\n"
     ]
    }
   ],
   "source": [
    "print((df['cloudCover'].isnull().sum()/df.shape[0])*100, '%\\n')\n",
    "#We have printed to see how much of the whole column had 'CloudCover' as a value\n",
    "#whereas cloudCover is a numeric column\n",
    "#We use backfill to replace the string value from this column\n",
    "df['cloudCover']=df['cloudCover'].fillna(method='bfill')\n",
    "df['cloudCover']=df['cloudCover'].astype(float)\n",
    "#Backfill takes the valid value and takes it to replace all the way to the first row."
   ]
  },
  {
   "cell_type": "code",
   "execution_count": 17,
   "metadata": {},
   "outputs": [
    {
     "name": "stdout",
     "output_type": "stream",
     "text": [
      "0.00    68236\n",
      "0.31    49899\n",
      "1.00    48705\n",
      "0.03    33940\n",
      "0.04    24117\n",
      "        ...  \n",
      "0.71      114\n",
      "0.64      114\n",
      "0.56       58\n",
      "0.53       58\n",
      "0.59       57\n",
      "Name: cloudCover, Length: 77, dtype: int64\n"
     ]
    }
   ],
   "source": [
    " print(df['cloudCover'].value_counts())"
   ]
  },
  {
   "cell_type": "code",
   "execution_count": 18,
   "metadata": {},
   "outputs": [
    {
     "data": {
      "text/plain": [
       "True"
      ]
     },
     "execution_count": 18,
     "metadata": {},
     "output_type": "execute_result"
    }
   ],
   "source": [
    "df['House overall [kW]'].equals(df['use [kW]'])\n",
    "#Answer=true means that both columns are exactly the same"
   ]
  },
  {
   "cell_type": "code",
   "execution_count": 19,
   "metadata": {},
   "outputs": [
    {
     "data": {
      "text/plain": [
       "True"
      ]
     },
     "execution_count": 19,
     "metadata": {},
     "output_type": "execute_result"
    }
   ],
   "source": [
    "df['Solar [kW]'].equals(df['gen [kW]'])\n",
    "#Answer=true means that both columns are exactly the same"
   ]
  },
  {
   "cell_type": "code",
   "execution_count": 20,
   "metadata": {},
   "outputs": [],
   "source": [
    "df.drop('use [kW]', axis =1, inplace=True)\n",
    "df.drop('Solar [kW]', axis =1, inplace=True)"
   ]
  },
  {
   "cell_type": "code",
   "execution_count": 21,
   "metadata": {},
   "outputs": [
    {
     "data": {
      "text/plain": [
       "False"
      ]
     },
     "execution_count": 21,
     "metadata": {},
     "output_type": "execute_result"
    }
   ],
   "source": [
    "df['icon'].equals(df['summary'])\n",
    "#Answer=false means that both columns are not the same\n",
    "#We still want to drop the icpn column because:\n",
    "#1. it is changing exactly as summary column\n",
    "#2. Summary column does the same thing which icon column does, do its redundant to have both\n"
   ]
  },
  {
   "cell_type": "code",
   "execution_count": 22,
   "metadata": {},
   "outputs": [
    {
     "data": {
      "text/plain": [
       "(503910, 29)"
      ]
     },
     "execution_count": 22,
     "metadata": {},
     "output_type": "execute_result"
    }
   ],
   "source": [
    "df.drop('icon', axis =1, inplace=True)\n",
    "df.shape"
   ]
  },
  {
   "cell_type": "code",
   "execution_count": 23,
   "metadata": {},
   "outputs": [],
   "source": [
    "#Worth noticing that we have no cost or price expenditure indicators in the dataset. \n",
    "#So we introduce a column which tells us the price of electricity being spent instantaneously. \n",
    "#We get this column by taking the electricity price and multiplying it to the total electricity used.\n",
    "#for analysis, we use KE data. According to KE online website https://nepra.org.pk/tariff/Tariff/KESC/2019/SRO%20576%20I%202019%2022-05-2019.PDF\n",
    "#, the price for 1 kW per minute in 2016 was 0.27166 ruppees\n",
    "df['Usage Electricity']=0.27166*df['House overall [kW]']"
   ]
  },
  {
   "cell_type": "code",
   "execution_count": 24,
   "metadata": {},
   "outputs": [],
   "source": [
    "#since we are also generating electricity using solar power, it \n",
    "#would make sense to see how much electricity we are making too\n",
    "df['Electricity generated']=0.27166*df['gen [kW]']"
   ]
  },
  {
   "cell_type": "code",
   "execution_count": 25,
   "metadata": {},
   "outputs": [
    {
     "data": {
      "text/html": [
       "<div>\n",
       "<style scoped>\n",
       "    .dataframe tbody tr th:only-of-type {\n",
       "        vertical-align: middle;\n",
       "    }\n",
       "\n",
       "    .dataframe tbody tr th {\n",
       "        vertical-align: top;\n",
       "    }\n",
       "\n",
       "    .dataframe thead th {\n",
       "        text-align: right;\n",
       "    }\n",
       "</style>\n",
       "<table border=\"1\" class=\"dataframe\">\n",
       "  <thead>\n",
       "    <tr style=\"text-align: right;\">\n",
       "      <th></th>\n",
       "      <th>time</th>\n",
       "      <th>gen [kW]</th>\n",
       "      <th>House overall [kW]</th>\n",
       "      <th>Dishwasher [kW]</th>\n",
       "      <th>Furnace 1 [kW]</th>\n",
       "      <th>Furnace 2 [kW]</th>\n",
       "      <th>Home office [kW]</th>\n",
       "      <th>Fridge [kW]</th>\n",
       "      <th>Wine cellar [kW]</th>\n",
       "      <th>Garage door [kW]</th>\n",
       "      <th>...</th>\n",
       "      <th>apparentTemperature</th>\n",
       "      <th>pressure</th>\n",
       "      <th>windSpeed</th>\n",
       "      <th>cloudCover</th>\n",
       "      <th>windBearing</th>\n",
       "      <th>precipIntensity</th>\n",
       "      <th>dewPoint</th>\n",
       "      <th>precipProbability</th>\n",
       "      <th>Usage Electricity</th>\n",
       "      <th>Electricity generated</th>\n",
       "    </tr>\n",
       "  </thead>\n",
       "  <tbody>\n",
       "    <tr>\n",
       "      <th>0</th>\n",
       "      <td>2016-01-01 05:00:00</td>\n",
       "      <td>0.003483</td>\n",
       "      <td>0.932833</td>\n",
       "      <td>0.000033</td>\n",
       "      <td>0.020700</td>\n",
       "      <td>0.061917</td>\n",
       "      <td>0.442633</td>\n",
       "      <td>0.124150</td>\n",
       "      <td>0.006983</td>\n",
       "      <td>0.013083</td>\n",
       "      <td>...</td>\n",
       "      <td>29.26</td>\n",
       "      <td>1016.91</td>\n",
       "      <td>9.18</td>\n",
       "      <td>0.75</td>\n",
       "      <td>282.0</td>\n",
       "      <td>0.0</td>\n",
       "      <td>24.4</td>\n",
       "      <td>0.0</td>\n",
       "      <td>0.253414</td>\n",
       "      <td>0.000946</td>\n",
       "    </tr>\n",
       "    <tr>\n",
       "      <th>1</th>\n",
       "      <td>2016-01-01 05:01:00</td>\n",
       "      <td>0.003467</td>\n",
       "      <td>0.934333</td>\n",
       "      <td>0.000000</td>\n",
       "      <td>0.020717</td>\n",
       "      <td>0.063817</td>\n",
       "      <td>0.444067</td>\n",
       "      <td>0.124000</td>\n",
       "      <td>0.006983</td>\n",
       "      <td>0.013117</td>\n",
       "      <td>...</td>\n",
       "      <td>29.26</td>\n",
       "      <td>1016.91</td>\n",
       "      <td>9.18</td>\n",
       "      <td>0.75</td>\n",
       "      <td>282.0</td>\n",
       "      <td>0.0</td>\n",
       "      <td>24.4</td>\n",
       "      <td>0.0</td>\n",
       "      <td>0.253821</td>\n",
       "      <td>0.000942</td>\n",
       "    </tr>\n",
       "    <tr>\n",
       "      <th>2</th>\n",
       "      <td>2016-01-01 05:02:00</td>\n",
       "      <td>0.003467</td>\n",
       "      <td>0.931817</td>\n",
       "      <td>0.000017</td>\n",
       "      <td>0.020700</td>\n",
       "      <td>0.062317</td>\n",
       "      <td>0.446067</td>\n",
       "      <td>0.123533</td>\n",
       "      <td>0.006983</td>\n",
       "      <td>0.013083</td>\n",
       "      <td>...</td>\n",
       "      <td>29.26</td>\n",
       "      <td>1016.91</td>\n",
       "      <td>9.18</td>\n",
       "      <td>0.75</td>\n",
       "      <td>282.0</td>\n",
       "      <td>0.0</td>\n",
       "      <td>24.4</td>\n",
       "      <td>0.0</td>\n",
       "      <td>0.253137</td>\n",
       "      <td>0.000942</td>\n",
       "    </tr>\n",
       "    <tr>\n",
       "      <th>3</th>\n",
       "      <td>2016-01-01 05:03:00</td>\n",
       "      <td>0.003483</td>\n",
       "      <td>1.022050</td>\n",
       "      <td>0.000017</td>\n",
       "      <td>0.106900</td>\n",
       "      <td>0.068517</td>\n",
       "      <td>0.446583</td>\n",
       "      <td>0.123133</td>\n",
       "      <td>0.006983</td>\n",
       "      <td>0.013000</td>\n",
       "      <td>...</td>\n",
       "      <td>29.26</td>\n",
       "      <td>1016.91</td>\n",
       "      <td>9.18</td>\n",
       "      <td>0.75</td>\n",
       "      <td>282.0</td>\n",
       "      <td>0.0</td>\n",
       "      <td>24.4</td>\n",
       "      <td>0.0</td>\n",
       "      <td>0.277650</td>\n",
       "      <td>0.000946</td>\n",
       "    </tr>\n",
       "    <tr>\n",
       "      <th>4</th>\n",
       "      <td>2016-01-01 05:04:00</td>\n",
       "      <td>0.003467</td>\n",
       "      <td>1.139400</td>\n",
       "      <td>0.000133</td>\n",
       "      <td>0.236933</td>\n",
       "      <td>0.063983</td>\n",
       "      <td>0.446533</td>\n",
       "      <td>0.122850</td>\n",
       "      <td>0.006850</td>\n",
       "      <td>0.012783</td>\n",
       "      <td>...</td>\n",
       "      <td>29.26</td>\n",
       "      <td>1016.91</td>\n",
       "      <td>9.18</td>\n",
       "      <td>0.75</td>\n",
       "      <td>282.0</td>\n",
       "      <td>0.0</td>\n",
       "      <td>24.4</td>\n",
       "      <td>0.0</td>\n",
       "      <td>0.309529</td>\n",
       "      <td>0.000942</td>\n",
       "    </tr>\n",
       "  </tbody>\n",
       "</table>\n",
       "<p>5 rows × 31 columns</p>\n",
       "</div>"
      ],
      "text/plain": [
       "                 time  gen [kW]  House overall [kW]  Dishwasher [kW]  \\\n",
       "0 2016-01-01 05:00:00  0.003483            0.932833         0.000033   \n",
       "1 2016-01-01 05:01:00  0.003467            0.934333         0.000000   \n",
       "2 2016-01-01 05:02:00  0.003467            0.931817         0.000017   \n",
       "3 2016-01-01 05:03:00  0.003483            1.022050         0.000017   \n",
       "4 2016-01-01 05:04:00  0.003467            1.139400         0.000133   \n",
       "\n",
       "   Furnace 1 [kW]  Furnace 2 [kW]  Home office [kW]  Fridge [kW]  \\\n",
       "0        0.020700        0.061917          0.442633     0.124150   \n",
       "1        0.020717        0.063817          0.444067     0.124000   \n",
       "2        0.020700        0.062317          0.446067     0.123533   \n",
       "3        0.106900        0.068517          0.446583     0.123133   \n",
       "4        0.236933        0.063983          0.446533     0.122850   \n",
       "\n",
       "   Wine cellar [kW]  Garage door [kW]  ...  apparentTemperature  pressure  \\\n",
       "0          0.006983          0.013083  ...                29.26   1016.91   \n",
       "1          0.006983          0.013117  ...                29.26   1016.91   \n",
       "2          0.006983          0.013083  ...                29.26   1016.91   \n",
       "3          0.006983          0.013000  ...                29.26   1016.91   \n",
       "4          0.006850          0.012783  ...                29.26   1016.91   \n",
       "\n",
       "   windSpeed  cloudCover  windBearing  precipIntensity  dewPoint  \\\n",
       "0       9.18        0.75        282.0              0.0      24.4   \n",
       "1       9.18        0.75        282.0              0.0      24.4   \n",
       "2       9.18        0.75        282.0              0.0      24.4   \n",
       "3       9.18        0.75        282.0              0.0      24.4   \n",
       "4       9.18        0.75        282.0              0.0      24.4   \n",
       "\n",
       "   precipProbability  Usage Electricity  Electricity generated  \n",
       "0                0.0           0.253414               0.000946  \n",
       "1                0.0           0.253821               0.000942  \n",
       "2                0.0           0.253137               0.000942  \n",
       "3                0.0           0.277650               0.000946  \n",
       "4                0.0           0.309529               0.000942  \n",
       "\n",
       "[5 rows x 31 columns]"
      ]
     },
     "execution_count": 25,
     "metadata": {},
     "output_type": "execute_result"
    }
   ],
   "source": [
    "df.head()"
   ]
  },
  {
   "cell_type": "code",
   "execution_count": 26,
   "metadata": {},
   "outputs": [
    {
     "name": "stderr",
     "output_type": "stream",
     "text": [
      "C:\\ProgramData\\Anaconda3\\lib\\site-packages\\seaborn\\_decorators.py:36: FutureWarning: Pass the following variable as a keyword arg: x. From version 0.12, the only valid positional argument will be `data`, and passing other arguments without an explicit keyword will result in an error or misinterpretation.\n",
      "  warnings.warn(\n"
     ]
    },
    {
     "data": {
      "text/plain": [
       "<AxesSubplot:xlabel='House overall [kW]'>"
      ]
     },
     "execution_count": 26,
     "metadata": {},
     "output_type": "execute_result"
    },
    {
     "data": {
      "image/png": "[encoded data removed]",
      "text/plain": [
       "<Figure size 1000x300 with 1 Axes>"
      ]
     },
     "metadata": {
      "needs_background": "light"
     },
     "output_type": "display_data"
    }
   ],
   "source": [
    "plt.figure(figsize=(10, 3), dpi = 100)\n",
    "sns.boxplot(df['House overall [kW]'])"
   ]
  },
  {
   "cell_type": "code",
   "execution_count": 27,
   "metadata": {},
   "outputs": [
    {
     "name": "stderr",
     "output_type": "stream",
     "text": [
      "C:\\ProgramData\\Anaconda3\\lib\\site-packages\\seaborn\\_decorators.py:36: FutureWarning: Pass the following variable as a keyword arg: x. From version 0.12, the only valid positional argument will be `data`, and passing other arguments without an explicit keyword will result in an error or misinterpretation.\n",
      "  warnings.warn(\n"
     ]
    },
    {
     "data": {
      "text/plain": [
       "<AxesSubplot:xlabel='temperature'>"
      ]
     },
     "execution_count": 27,
     "metadata": {},
     "output_type": "execute_result"
    },
    {
     "data": {
      "image/png": "[encoded data removed]",
      "text/plain": [
       "<Figure size 1000x300 with 1 Axes>"
      ]
     },
     "metadata": {
      "needs_background": "light"
     },
     "output_type": "display_data"
    }
   ],
   "source": [
    "plt.figure(figsize=(10, 3), dpi = 100)\n",
    "sns.boxplot(df['temperature'])"
   ]
  },
  {
   "cell_type": "code",
   "execution_count": 26,
   "metadata": {},
   "outputs": [
    {
     "name": "stderr",
     "output_type": "stream",
     "text": [
      "C:\\ProgramData\\Anaconda3\\lib\\site-packages\\seaborn\\_decorators.py:36: FutureWarning: Pass the following variable as a keyword arg: x. From version 0.12, the only valid positional argument will be `data`, and passing other arguments without an explicit keyword will result in an error or misinterpretation.\n",
      "  warnings.warn(\n"
     ]
    },
    {
     "data": {
      "text/plain": [
       "(503844, 31)"
      ]
     },
     "execution_count": 26,
     "metadata": {},
     "output_type": "execute_result"
    },
    {
     "data": {
      "image/png": "[encoded data removed]",
      "text/plain": [
       "<Figure size 1200x300 with 1 Axes>"
      ]
     },
     "metadata": {
      "needs_background": "light"
     },
     "output_type": "display_data"
    }
   ],
   "source": [
    "df = df[df['House overall [kW]'] < 12] # Removing rows with high electricty spending because it was an uncommon occurence\n",
    "plt.figure(figsize=(12, 3), dpi = 100)\n",
    "sns.boxplot(df['House overall [kW]'])\n",
    "\n",
    "df.shape\n",
    "#  37 ROWS removed"
   ]
  },
  {
   "cell_type": "code",
   "execution_count": 27,
   "metadata": {},
   "outputs": [
    {
     "name": "stderr",
     "output_type": "stream",
     "text": [
      "C:\\ProgramData\\Anaconda3\\lib\\site-packages\\seaborn\\_decorators.py:36: FutureWarning: Pass the following variable as a keyword arg: x. From version 0.12, the only valid positional argument will be `data`, and passing other arguments without an explicit keyword will result in an error or misinterpretation.\n",
      "  warnings.warn(\n"
     ]
    },
    {
     "data": {
      "text/plain": [
       "<AxesSubplot:xlabel='apparentTemperature'>"
      ]
     },
     "execution_count": 27,
     "metadata": {},
     "output_type": "execute_result"
    },
    {
     "data": {
      "image/png": "[encoded data removed]",
      "text/plain": [
       "<Figure size 1000x300 with 1 Axes>"
      ]
     },
     "metadata": {
      "needs_background": "light"
     },
     "output_type": "display_data"
    }
   ],
   "source": [
    "plt.figure(figsize=(10, 3), dpi = 100)\n",
    "sns.boxplot(df['apparentTemperature'])\n",
    "#Doesnt make sense to remove any outliers because temperature is -ve in winters"
   ]
  },
  {
   "cell_type": "code",
   "execution_count": 28,
   "metadata": {},
   "outputs": [
    {
     "name": "stderr",
     "output_type": "stream",
     "text": [
      "C:\\ProgramData\\Anaconda3\\lib\\site-packages\\seaborn\\_decorators.py:36: FutureWarning: Pass the following variable as a keyword arg: x. From version 0.12, the only valid positional argument will be `data`, and passing other arguments without an explicit keyword will result in an error or misinterpretation.\n",
      "  warnings.warn(\n"
     ]
    },
    {
     "data": {
      "text/plain": [
       "<AxesSubplot:xlabel='precipIntensity'>"
      ]
     },
     "execution_count": 28,
     "metadata": {},
     "output_type": "execute_result"
    },
    {
     "data": {
      "image/png": "[encoded data removed]",
      "text/plain": [
       "<Figure size 1000x300 with 1 Axes>"
      ]
     },
     "metadata": {
      "needs_background": "light"
     },
     "output_type": "display_data"
    }
   ],
   "source": [
    "plt.figure(figsize=(10, 3), dpi = 100)\n",
    "sns.boxplot(df['precipIntensity'])"
   ]
  },
  {
   "cell_type": "markdown",
   "metadata": {},
   "source": [
    "## Inferential Analysis"
   ]
  },
  {
   "cell_type": "code",
   "execution_count": null,
   "metadata": {},
   "outputs": [],
   "source": [
    "#from scipy.stats import chi2_contingency\n",
    "#from scipy.stats import chi2\n",
    "\n",
    "#def chi_square_test(cat_cols, df):\n",
    " #   for i in range(3):  #(len(cat_cols)-1):\n",
    "  #      print(\"\\n\\t --------\"+cat_cols[i]+\"--------\")\n",
    "   #     for j in range(i+1,4): #len(cat_cols)):\n",
    "    #        cat_var1 = cat_cols[i]\n",
    "     #       cat_var2 = cat_cols[j]\n",
    "      #      data_crosstab = pd.crosstab(df[cat_var1], df[cat_var2], margins = False) \n",
    "       #     print(data_crosstab) \n",
    "#\n",
    " #           stat, p, dof, expected = chi2_contingency(data_crosstab)\n",
    "  #          print('dof=%d' % dof)\n",
    "   #         print(expected)\n",
    "#\n",
    " #   # interpret p-value\n",
    "  #          alpha = 0.05\n",
    "   #         print('significance=%.3f, p=%.3f' % (alpha, p))\n",
    "    #        if p <= alpha:\n",
    "     #           print('Dependent (reject H0)')\n",
    "      #      else:\n",
    "       #         print('Independent (fail to reject H0)')\n",
    "        #    print(\"\\n\")"
   ]
  },
  {
   "cell_type": "code",
   "execution_count": null,
   "metadata": {},
   "outputs": [],
   "source": [
    "#chi_square_test(categorical_columns,df)"
   ]
  },
  {
   "cell_type": "code",
   "execution_count": null,
   "metadata": {},
   "outputs": [],
   "source": [
    "#from statsmodels.stats.multicomp import pairwise_tukeyhsd\n",
    "\n",
    "\n",
    "#def tukeyhsd_test(num_cols, cat_cols, d\n",
    " #   for i in range(3):#(len(num_cols)-1):\n",
    " #       num_var = num_cols[i]\n",
    "  #      print(\"\\t-------------\"+num_var+\"-------------\")\n",
    "   #     for j in range(3):#(len(cat_cols)-1):\n",
    "    #        cat_var = cat_cols[j]\n",
    "     #       tukey = pairwise_tukeyhsd(endog=df[num_var], groups=df[cat_var], alpha=0.05)\n",
    "      #      #display results\n",
    "       #     \n",
    "        #    print(cat_var)\n",
    "         #   print(tukey)\n",
    "          #  print()#"
   ]
  },
  {
   "cell_type": "code",
   "execution_count": null,
   "metadata": {},
   "outputs": [],
   "source": [
    "#tukeyhsd_test(numeric_columns, categorical_columns, df)"
   ]
  },
  {
   "cell_type": "code",
   "execution_count": null,
   "metadata": {},
   "outputs": [],
   "source": [
    "# T-Test\n",
    "\n",
    "#def get_num_cols(df):\n",
    " #   types_map = df.dtypes.to_dict()\n",
    "  #  num_columns = []\n",
    "   # for k,v in types_map.items():\n",
    "    #    if np.issubdtype(np.int64, v) or np.issubdtype(np.float64, v):\n",
    "     #       num_columns.append(k)\n",
    "#\n",
    " #   #print(num_columns)\n",
    "  #  return num_columns\n",
    "#\n",
    "#def t_test(df):\n",
    " #   num_columns = get_num_cols(df)\n",
    "  #  for i in range(3): #(len(num_columns)-1):\n",
    "   #     print(\"\\n --------\"+num_columns[i]+\"--------\")\n",
    "    #    for j in range(i+1, 5): #(i+1,len(num_columns)):\n",
    "     #       col1 = num_columns[i]\n",
    "      #      col2 = num_columns[j]\n",
    "       #     t_val, p_val = stats.ttest_ind(df[col1], df[col2])\n",
    "        #    if(p_val<0.05):\n",
    "         #       print(\"Dependent (reject H0) \\t(%s,%s) => t-value=%s, p-value=%s\" % (num_columns[i], num_columns[j], str(t_val), str(p_val)))\n",
    "          #  \n",
    "           # else:\n",
    "            #       print('Independent (fail to reject H0)',num_columns[i], num_columns[j])\n"
   ]
  },
  {
   "cell_type": "markdown",
   "metadata": {},
   "source": [
    "### ANOVA\n",
    "Bewteen one numerical and other categorical variable\n",
    "Here the best columns to run inferential analysis on are:\n",
    "1. \"House Overall\" and \"Summary' to confirm our assumption\n",
    "which is that changing weather conditions will affect the electricity consumption\n",
    "2. Electricity generation \"gen [kW] \"and weather conditions  \"summary\" to see how the electricity \n",
    "generation changes over changing weathers"
   ]
  },
  {
   "cell_type": "code",
   "execution_count": 29,
   "metadata": {},
   "outputs": [
    {
     "data": {
      "text/html": [
       "<div>\n",
       "<style scoped>\n",
       "    .dataframe tbody tr th:only-of-type {\n",
       "        vertical-align: middle;\n",
       "    }\n",
       "\n",
       "    .dataframe tbody tr th {\n",
       "        vertical-align: top;\n",
       "    }\n",
       "\n",
       "    .dataframe thead th {\n",
       "        text-align: right;\n",
       "    }\n",
       "</style>\n",
       "<table border=\"1\" class=\"dataframe\">\n",
       "  <thead>\n",
       "    <tr style=\"text-align: right;\">\n",
       "      <th></th>\n",
       "      <th>sum_sq</th>\n",
       "      <th>df</th>\n",
       "      <th>F</th>\n",
       "      <th>PR(&gt;F)</th>\n",
       "    </tr>\n",
       "  </thead>\n",
       "  <tbody>\n",
       "    <tr>\n",
       "      <th>C(Q(\"summary\"))</th>\n",
       "      <td>1412.866490</td>\n",
       "      <td>17.0</td>\n",
       "      <td>75.60828</td>\n",
       "      <td>1.434776e-262</td>\n",
       "    </tr>\n",
       "    <tr>\n",
       "      <th>Residual</th>\n",
       "      <td>553813.348465</td>\n",
       "      <td>503826.0</td>\n",
       "      <td>NaN</td>\n",
       "      <td>NaN</td>\n",
       "    </tr>\n",
       "  </tbody>\n",
       "</table>\n",
       "</div>"
      ],
      "text/plain": [
       "                        sum_sq        df         F         PR(>F)\n",
       "C(Q(\"summary\"))    1412.866490      17.0  75.60828  1.434776e-262\n",
       "Residual         553813.348465  503826.0       NaN            NaN"
      ]
     },
     "metadata": {},
     "output_type": "display_data"
    }
   ],
   "source": [
    "import statsmodels.api as sm\n",
    "from statsmodels.formula.api import ols\n",
    "\n",
    "y=df['House overall [kW]']\n",
    "model = ols('y ~ C(Q(\"summary\"))', data=df).fit()\n",
    "anova_table=sm.stats.anova_lm(model, typ=2)\n",
    "display(anova_table)"
   ]
  },
  {
   "cell_type": "code",
   "execution_count": 30,
   "metadata": {},
   "outputs": [
    {
     "data": {
      "text/html": [
       "<div>\n",
       "<style scoped>\n",
       "    .dataframe tbody tr th:only-of-type {\n",
       "        vertical-align: middle;\n",
       "    }\n",
       "\n",
       "    .dataframe tbody tr th {\n",
       "        vertical-align: top;\n",
       "    }\n",
       "\n",
       "    .dataframe thead th {\n",
       "        text-align: right;\n",
       "    }\n",
       "</style>\n",
       "<table border=\"1\" class=\"dataframe\">\n",
       "  <thead>\n",
       "    <tr style=\"text-align: right;\">\n",
       "      <th></th>\n",
       "      <th>sum_sq</th>\n",
       "      <th>df</th>\n",
       "      <th>F</th>\n",
       "      <th>PR(&gt;F)</th>\n",
       "    </tr>\n",
       "  </thead>\n",
       "  <tbody>\n",
       "    <tr>\n",
       "      <th>C(Q(\"summary\"))</th>\n",
       "      <td>32.163842</td>\n",
       "      <td>17.0</td>\n",
       "      <td>115.143767</td>\n",
       "      <td>0.0</td>\n",
       "    </tr>\n",
       "    <tr>\n",
       "      <th>Residual</th>\n",
       "      <td>8278.642629</td>\n",
       "      <td>503826.0</td>\n",
       "      <td>NaN</td>\n",
       "      <td>NaN</td>\n",
       "    </tr>\n",
       "  </tbody>\n",
       "</table>\n",
       "</div>"
      ],
      "text/plain": [
       "                      sum_sq        df           F  PR(>F)\n",
       "C(Q(\"summary\"))    32.163842      17.0  115.143767     0.0\n",
       "Residual         8278.642629  503826.0         NaN     NaN"
      ]
     },
     "metadata": {},
     "output_type": "display_data"
    }
   ],
   "source": [
    "y=df['gen [kW]']\n",
    "model = ols('y ~ C(Q(\"summary\"))', data=df).fit()\n",
    "anova_table=sm.stats.anova_lm(model, typ=2)\n",
    "display(anova_table)"
   ]
  },
  {
   "cell_type": "code",
   "execution_count": 32,
   "metadata": {},
   "outputs": [],
   "source": [
    "#From the anova test above, we see that house overall electrivity usage and generation is very sognificantly changing across weather\n",
    "#I think the wrangling part is now complete and we can move on for our analsyis. \n",
    "df.to_csv('HomeCleaned.csv')"
   ]
  },
  {
   "cell_type": "code",
   "execution_count": null,
   "metadata": {},
   "outputs": [],
   "source": []
  }
 ],
 "metadata": {
  "kernelspec": {
   "display_name": "Python 3 (ipykernel)",
   "language": "python",
   "name": "python3"
  },
  "language_info": {
   "codemirror_mode": {
    "name": "ipython",
    "version": 3
   },
   "file_extension": ".py",
   "mimetype": "text/x-python",
   "name": "python",
   "nbconvert_exporter": "python",
   "pygments_lexer": "ipython3",
   "version": "3.9.7"
  }
 },
 "nbformat": 4,
 "nbformat_minor": 4
}
