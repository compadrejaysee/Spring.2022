{
 "cells": [
  {
   "cell_type": "code",
   "execution_count": 1,
   "id": "9a2b9e7d-1371-4580-95a1-5586fcc171c0",
   "metadata": {},
   "outputs": [],
   "source": [
    "# Importing PySpark\n",
    "from pyspark.sql import SparkSession"
   ]
  },
  {
   "cell_type": "code",
   "execution_count": 2,
   "id": "d4eb2046-d566-4e50-ad4d-7d9b6374665e",
   "metadata": {},
   "outputs": [],
   "source": [
    "# Creating SparkSession\n",
    "spark = SparkSession.builder.appName(\"SparkExamples.com\").getOrCreate()"
   ]
  },
  {
   "cell_type": "code",
   "execution_count": 3,
   "id": "4c889fec-dd91-47e0-afdb-dfe2632bdf76",
   "metadata": {},
   "outputs": [],
   "source": [
    "# Creating test dataset\n",
    "data = [(\"IBA\", \"2000\"), (\"NED\", \"4000\"), (\"KU\", \"8000\")]\n",
    "columns = [\"University\", \"Students\"]\n",
    "test_df = spark.createDataFrame(data).toDF(*columns)"
   ]
  },
  {
   "cell_type": "code",
   "execution_count": 4,
   "id": "fb2f2e17-e632-468a-95f8-cbefd97ae33f",
   "metadata": {},
   "outputs": [
    {
     "name": "stdout",
     "output_type": "stream",
     "text": [
      "+----------+--------+\n",
      "|University|Students|\n",
      "+----------+--------+\n",
      "|       IBA|    2000|\n",
      "|       NED|    4000|\n",
      "|        KU|    8000|\n",
      "+----------+--------+\n",
      "\n"
     ]
    }
   ],
   "source": [
    "test_df.show()"
   ]
  },
  {
   "cell_type": "code",
   "execution_count": null,
   "id": "356277a6-c016-47b1-982c-9a958cd796f3",
   "metadata": {},
   "outputs": [],
   "source": []
  }
 ],
 "metadata": {
  "kernelspec": {
   "display_name": "Python 3 (ipykernel)",
   "language": "python",
   "name": "python3"
  },
  "language_info": {
   "codemirror_mode": {
    "name": "ipython",
    "version": 3
   },
   "file_extension": ".py",
   "mimetype": "text/x-python",
   "name": "python",
   "nbconvert_exporter": "python",
   "pygments_lexer": "ipython3",
   "version": "3.10.4"
  }
 },
 "nbformat": 4,
 "nbformat_minor": 5
}
