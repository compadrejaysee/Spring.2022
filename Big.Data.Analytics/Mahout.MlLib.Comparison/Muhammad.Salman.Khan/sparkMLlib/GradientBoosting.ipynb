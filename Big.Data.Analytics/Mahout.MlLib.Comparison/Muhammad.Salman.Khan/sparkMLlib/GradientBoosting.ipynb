{
 "cells": [
  {
   "cell_type": "code",
   "execution_count": 1,
   "id": "ba378d46-a083-48e8-921d-74a45829cce4",
   "metadata": {},
   "outputs": [],
   "source": [
    "# importing required modules\n",
    "\n",
    "from pyspark.sql import SparkSession\n",
    "from pyspark.ml.feature import VectorAssembler\n",
    "from pyspark.ml.regression import GBTRegressor\n",
    "import time"
   ]
  },
  {
   "cell_type": "code",
   "execution_count": 2,
   "id": "269f5a97-81dc-4ecc-8d52-c43a5d54e7b1",
   "metadata": {},
   "outputs": [],
   "source": [
    "# initiating spark session\n",
    "\n",
    "spark = SparkSession.builder.appName('Dataframe').getOrCreate()"
   ]
  },
  {
   "cell_type": "code",
   "execution_count": 3,
   "id": "d2001343-8d3e-4959-a37a-182c80ce294a",
   "metadata": {},
   "outputs": [
    {
     "name": "stdout",
     "output_type": "stream",
     "text": [
      "Time taken to load train and test datasets of size ~ 1GB: 30.63 seconds\n"
     ]
    }
   ],
   "source": [
    "# loading train and test datasets\n",
    "\n",
    "start = time.time()\n",
    "\n",
    "df_train = spark.read.csv('trainX.csv',header=True,inferSchema=True)\n",
    "df_test = spark.read.csv('testX.csv',header=True,inferSchema=True)\n",
    "\n",
    "end = time.time()\n",
    "duration = round(end-start, 2)\n",
    "\n",
    "print(f\"Time taken to load train and test datasets of size ~ 1GB: {duration} seconds\")"
   ]
  },
  {
   "cell_type": "code",
   "execution_count": 4,
   "id": "4a82d42e-f828-4ac4-b1a1-0de8d388d5a6",
   "metadata": {},
   "outputs": [],
   "source": [
    "# creating a list of all predictors\n",
    "\n",
    "features_list = []\n",
    "for col in df_train.dtypes:\n",
    "    if col[0] != 'price_doc':\n",
    "        features_list.append(col[0])"
   ]
  },
  {
   "cell_type": "code",
   "execution_count": 5,
   "id": "03242a4b-ae7b-4331-8c85-dd14914022c4",
   "metadata": {},
   "outputs": [],
   "source": [
    "# transforming all predictors of train dataset into features, which is supported by pyspark for regression\n",
    "\n",
    "vector_assembler = VectorAssembler(inputCols=features_list, outputCol='features')\n",
    "output = vector_assembler.transform(df_train)\n",
    "data = output.select(\"features\", \"price_doc\")"
   ]
  },
  {
   "cell_type": "code",
   "execution_count": 6,
   "id": "6a57e521-14be-4687-9138-3c47ff855898",
   "metadata": {},
   "outputs": [],
   "source": [
    "# transforming all predictors of test dataset into features, which is supported by pyspark for regression\n",
    "\n",
    "vector_assembler = VectorAssembler(inputCols=features_list, outputCol='features')\n",
    "output = vector_assembler.transform(df_test)\n",
    "test = output.select(\"features\")"
   ]
  },
  {
   "cell_type": "code",
   "execution_count": 7,
   "id": "db8ebde0-5985-4807-8cf3-351f47dae686",
   "metadata": {},
   "outputs": [
    {
     "name": "stdout",
     "output_type": "stream",
     "text": [
      "Time taken to train model on train dataset: 90.01 seconds\n"
     ]
    }
   ],
   "source": [
    "# training gradient boosting regressor on train dataset and then predicting results for test dataset\n",
    "\n",
    "start = time.time()\n",
    "\n",
    "# creating gradient boosting object and fitting it on the train data\n",
    "gb = GBTRegressor(featuresCol = 'features', labelCol = 'price_doc')\n",
    "gbModel = gb.fit(data)\n",
    "\n",
    "end = time.time()\n",
    "duration = round(end-start, 2)\n",
    "\n",
    "# predicting target variable for test dataset\n",
    "predictions = gbModel.transform(test)\n",
    "\n",
    "print(f\"Time taken to train model on train dataset: {duration} seconds\")"
   ]
  },
  {
   "cell_type": "code",
   "execution_count": 8,
   "id": "a6327b1f-72b4-4ee1-9911-910909cb9ba3",
   "metadata": {},
   "outputs": [
    {
     "name": "stdout",
     "output_type": "stream",
     "text": [
      "+--------------------+\n",
      "|          prediction|\n",
      "+--------------------+\n",
      "|1.3763556606222438E7|\n",
      "|   6126187.156817038|\n",
      "|   4787062.119890908|\n",
      "|   6623505.843747668|\n",
      "|   5887944.183244572|\n",
      "|   5266221.787535881|\n",
      "|   5438492.369136855|\n",
      "|   4982263.435258632|\n",
      "|   5308963.605339882|\n",
      "|   4878210.567323259|\n",
      "| 5.577175418372143E7|\n",
      "|   5466276.734715932|\n",
      "|  5.49598951212593E7|\n",
      "| 5.673974972077665E7|\n",
      "|   5448177.341533182|\n",
      "|   5953909.823199085|\n",
      "|   5322049.986872624|\n",
      "|   5580532.163515232|\n",
      "|   5648496.175198194|\n",
      "|    5626763.59324176|\n",
      "+--------------------+\n",
      "only showing top 20 rows\n",
      "\n"
     ]
    }
   ],
   "source": [
    "predictions.select(\"prediction\").show()"
   ]
  },
  {
   "cell_type": "code",
   "execution_count": 9,
   "id": "f362ed51-e321-4f41-abb1-5c67ec6074f7",
   "metadata": {},
   "outputs": [
    {
     "data": {
      "text/html": [
       "<div>\n",
       "<style scoped>\n",
       "    .dataframe tbody tr th:only-of-type {\n",
       "        vertical-align: middle;\n",
       "    }\n",
       "\n",
       "    .dataframe tbody tr th {\n",
       "        vertical-align: top;\n",
       "    }\n",
       "\n",
       "    .dataframe thead th {\n",
       "        text-align: right;\n",
       "    }\n",
       "</style>\n",
       "<table border=\"1\" class=\"dataframe\">\n",
       "  <thead>\n",
       "    <tr style=\"text-align: right;\">\n",
       "      <th></th>\n",
       "      <th>row ID</th>\n",
       "      <th>price_doc</th>\n",
       "    </tr>\n",
       "  </thead>\n",
       "  <tbody>\n",
       "    <tr>\n",
       "      <th>0</th>\n",
       "      <td>Row3</td>\n",
       "      <td>1.376356e+07</td>\n",
       "    </tr>\n",
       "    <tr>\n",
       "      <th>1</th>\n",
       "      <td>Row6</td>\n",
       "      <td>6.126187e+06</td>\n",
       "    </tr>\n",
       "    <tr>\n",
       "      <th>2</th>\n",
       "      <td>Row11</td>\n",
       "      <td>4.787062e+06</td>\n",
       "    </tr>\n",
       "    <tr>\n",
       "      <th>3</th>\n",
       "      <td>Row12</td>\n",
       "      <td>6.623506e+06</td>\n",
       "    </tr>\n",
       "    <tr>\n",
       "      <th>4</th>\n",
       "      <td>Row14</td>\n",
       "      <td>5.887944e+06</td>\n",
       "    </tr>\n",
       "  </tbody>\n",
       "</table>\n",
       "</div>"
      ],
      "text/plain": [
       "  row ID     price_doc\n",
       "0   Row3  1.376356e+07\n",
       "1   Row6  6.126187e+06\n",
       "2  Row11  4.787062e+06\n",
       "3  Row12  6.623506e+06\n",
       "4  Row14  5.887944e+06"
      ]
     },
     "execution_count": 9,
     "metadata": {},
     "output_type": "execute_result"
    }
   ],
   "source": [
    "import pandas as pd\n",
    "\n",
    "predictions.select(\"prediction\").toPandas().to_csv(\"spark_gb_pred.csv\", index=False)\n",
    "\n",
    "row_id = pd.read_csv(\"ml1ch_test.csv\")\n",
    "pred = pd.read_csv(\"spark_gb_pred.csv\")\n",
    "\n",
    "pred[\"row ID\"] = row_id[\"row ID\"]\n",
    "pred = pred[[\"row ID\", \"prediction\"]]\n",
    "pred.rename(columns = {'prediction':'price_doc'}, inplace = True)\n",
    "pred.to_csv('spark_gb.csv', index=False)\n",
    "\n",
    "pred.head()"
   ]
  },
  {
   "cell_type": "code",
   "execution_count": null,
   "id": "8187e909-1b15-43aa-a835-0265a8687fec",
   "metadata": {},
   "outputs": [],
   "source": []
  }
 ],
 "metadata": {
  "kernelspec": {
   "display_name": "Python 3 (ipykernel)",
   "language": "python",
   "name": "python3"
  },
  "language_info": {
   "codemirror_mode": {
    "name": "ipython",
    "version": 3
   },
   "file_extension": ".py",
   "mimetype": "text/x-python",
   "name": "python",
   "nbconvert_exporter": "python",
   "pygments_lexer": "ipython3",
   "version": "3.10.4"
  }
 },
 "nbformat": 4,
 "nbformat_minor": 5
}
