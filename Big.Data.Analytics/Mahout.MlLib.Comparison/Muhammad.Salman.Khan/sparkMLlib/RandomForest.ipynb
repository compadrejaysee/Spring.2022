{
 "cells": [
  {
   "cell_type": "code",
   "execution_count": 1,
   "id": "ba378d46-a083-48e8-921d-74a45829cce4",
   "metadata": {},
   "outputs": [],
   "source": [
    "# importing required modules\n",
    "\n",
    "from pyspark.sql import SparkSession\n",
    "from pyspark.ml.feature import VectorAssembler\n",
    "from pyspark.ml.regression import RandomForestRegressor\n",
    "import time"
   ]
  },
  {
   "cell_type": "code",
   "execution_count": 2,
   "id": "269f5a97-81dc-4ecc-8d52-c43a5d54e7b1",
   "metadata": {},
   "outputs": [],
   "source": [
    "# initiating spark session\n",
    "\n",
    "spark = SparkSession.builder.appName('Dataframe').getOrCreate()"
   ]
  },
  {
   "cell_type": "code",
   "execution_count": 3,
   "id": "d2001343-8d3e-4959-a37a-182c80ce294a",
   "metadata": {},
   "outputs": [
    {
     "name": "stdout",
     "output_type": "stream",
     "text": [
      "Time taken to load train and test datasets of size ~ 1GB: 31.84 seconds\n"
     ]
    }
   ],
   "source": [
    "# loading train and test datasets\n",
    "\n",
    "start = time.time()\n",
    "\n",
    "df_train = spark.read.csv('trainX.csv',header=True,inferSchema=True)\n",
    "df_test = spark.read.csv('testX.csv',header=True,inferSchema=True)\n",
    "\n",
    "end = time.time()\n",
    "duration = round(end-start, 2)\n",
    "\n",
    "print(f\"Time taken to load train and test datasets of size ~ 1GB: {duration} seconds\")"
   ]
  },
  {
   "cell_type": "code",
   "execution_count": 4,
   "id": "4a82d42e-f828-4ac4-b1a1-0de8d388d5a6",
   "metadata": {},
   "outputs": [],
   "source": [
    "# creating a list of all predictors\n",
    "\n",
    "features_list = []\n",
    "for col in df_train.dtypes:\n",
    "    if col[0] != 'price_doc':\n",
    "        features_list.append(col[0])"
   ]
  },
  {
   "cell_type": "code",
   "execution_count": 5,
   "id": "03242a4b-ae7b-4331-8c85-dd14914022c4",
   "metadata": {},
   "outputs": [],
   "source": [
    "# transforming all predictors of train dataset into features, which is supported by pyspark for regression\n",
    "\n",
    "vector_assembler = VectorAssembler(inputCols=features_list, outputCol='features')\n",
    "output = vector_assembler.transform(df_train)\n",
    "data = output.select(\"features\", \"price_doc\")"
   ]
  },
  {
   "cell_type": "code",
   "execution_count": 6,
   "id": "6a57e521-14be-4687-9138-3c47ff855898",
   "metadata": {},
   "outputs": [],
   "source": [
    "# transforming all predictors of test dataset into features, which is supported by pyspark for regression\n",
    "\n",
    "vector_assembler = VectorAssembler(inputCols=features_list, outputCol='features')\n",
    "output = vector_assembler.transform(df_test)\n",
    "test = output.select(\"features\")"
   ]
  },
  {
   "cell_type": "code",
   "execution_count": 7,
   "id": "db8ebde0-5985-4807-8cf3-351f47dae686",
   "metadata": {},
   "outputs": [
    {
     "name": "stdout",
     "output_type": "stream",
     "text": [
      "Time taken to train model on train dataset: 84.38 seconds\n"
     ]
    }
   ],
   "source": [
    "# training random forest regressor on train dataset and then predicting results for test dataset\n",
    "\n",
    "start = time.time()\n",
    "\n",
    "# creating random forest object and fitting it on the train data\n",
    "rf = RandomForestRegressor(featuresCol = 'features', labelCol = 'price_doc')\n",
    "rfModel = rf.fit(data)\n",
    "\n",
    "end = time.time()\n",
    "duration = round(end-start, 2)\n",
    "\n",
    "# predicting target variable for test dataset\n",
    "predictions = rfModel.transform(test)\n",
    "\n",
    "print(f\"Time taken to train model on train dataset: {duration} seconds\")"
   ]
  },
  {
   "cell_type": "code",
   "execution_count": 8,
   "id": "a6327b1f-72b4-4ee1-9911-910909cb9ba3",
   "metadata": {},
   "outputs": [
    {
     "name": "stdout",
     "output_type": "stream",
     "text": [
      "+--------------------+\n",
      "|          prediction|\n",
      "+--------------------+\n",
      "|1.2320796967519594E7|\n",
      "|   6532912.798491937|\n",
      "|   5854936.218142115|\n",
      "|    6328923.54027323|\n",
      "|  6347550.4442855045|\n",
      "|   6016097.997534399|\n",
      "|   5887345.307585415|\n",
      "|   5887345.307585415|\n",
      "|   5864824.758091529|\n",
      "|    5954843.26027645|\n",
      "|5.6019331012901545E7|\n",
      "|   5887345.307585415|\n",
      "| 5.609070458299409E7|\n",
      "| 5.340167529423499E7|\n",
      "|   5677944.965858667|\n",
      "|   5887345.307585415|\n",
      "|    5954843.26027645|\n",
      "|   5887345.307585415|\n",
      "|   5973890.273224078|\n",
      "|   6082238.077010237|\n",
      "+--------------------+\n",
      "only showing top 20 rows\n",
      "\n"
     ]
    }
   ],
   "source": [
    "predictions.select(\"prediction\").show()"
   ]
  },
  {
   "cell_type": "code",
   "execution_count": 9,
   "id": "f362ed51-e321-4f41-abb1-5c67ec6074f7",
   "metadata": {},
   "outputs": [],
   "source": [
    "import pandas as pd"
   ]
  },
  {
   "cell_type": "code",
   "execution_count": 10,
   "id": "e15dbc5f-0bc1-4eda-a90f-cbde00ec478c",
   "metadata": {},
   "outputs": [],
   "source": [
    "predictions.select(\"prediction\").toPandas().to_csv(\"spark_rf_pred.csv\", index=False)"
   ]
  },
  {
   "cell_type": "code",
   "execution_count": 11,
   "id": "015b2c6f-d5dc-468f-98c2-c15af63dc818",
   "metadata": {},
   "outputs": [],
   "source": [
    "row_id = pd.read_csv(\"ml1ch_test.csv\")\n",
    "row_id = row_id[\"row ID\"]"
   ]
  },
  {
   "cell_type": "code",
   "execution_count": 13,
   "id": "5457b86a-5ad1-48ec-99be-382c8b97037b",
   "metadata": {},
   "outputs": [],
   "source": [
    "pred = pd.read_csv(\"spark_rf_pred.csv\")"
   ]
  },
  {
   "cell_type": "code",
   "execution_count": 15,
   "id": "0f6a6519-26d6-4e46-9b38-dc00b901d101",
   "metadata": {},
   "outputs": [],
   "source": [
    "pred[\"row ID\"] = row_id"
   ]
  },
  {
   "cell_type": "code",
   "execution_count": 17,
   "id": "23272f29-015e-4566-b51a-8b7148b160c8",
   "metadata": {},
   "outputs": [],
   "source": [
    "pred = pred[[\"row ID\", \"prediction\"]]"
   ]
  },
  {
   "cell_type": "code",
   "execution_count": 19,
   "id": "cee3682f-2cf4-4c08-849a-ef55d5b0f3b5",
   "metadata": {},
   "outputs": [],
   "source": [
    "pred.rename(columns = {'prediction':'price_doc'}, inplace = True)"
   ]
  },
  {
   "cell_type": "code",
   "execution_count": 21,
   "id": "d751e491-8cc9-4663-8c2c-e959b6ae0289",
   "metadata": {},
   "outputs": [],
   "source": [
    "pred.to_csv('spark_rf.csv', index=False)"
   ]
  },
  {
   "cell_type": "code",
   "execution_count": 22,
   "id": "3fac2ace-b482-4b0e-9601-9fd2cef56001",
   "metadata": {},
   "outputs": [
    {
     "data": {
      "text/html": [
       "<div>\n",
       "<style scoped>\n",
       "    .dataframe tbody tr th:only-of-type {\n",
       "        vertical-align: middle;\n",
       "    }\n",
       "\n",
       "    .dataframe tbody tr th {\n",
       "        vertical-align: top;\n",
       "    }\n",
       "\n",
       "    .dataframe thead th {\n",
       "        text-align: right;\n",
       "    }\n",
       "</style>\n",
       "<table border=\"1\" class=\"dataframe\">\n",
       "  <thead>\n",
       "    <tr style=\"text-align: right;\">\n",
       "      <th></th>\n",
       "      <th>row ID</th>\n",
       "      <th>price_doc</th>\n",
       "    </tr>\n",
       "  </thead>\n",
       "  <tbody>\n",
       "    <tr>\n",
       "      <th>0</th>\n",
       "      <td>Row3</td>\n",
       "      <td>1.232080e+07</td>\n",
       "    </tr>\n",
       "    <tr>\n",
       "      <th>1</th>\n",
       "      <td>Row6</td>\n",
       "      <td>6.532913e+06</td>\n",
       "    </tr>\n",
       "    <tr>\n",
       "      <th>2</th>\n",
       "      <td>Row11</td>\n",
       "      <td>5.854936e+06</td>\n",
       "    </tr>\n",
       "    <tr>\n",
       "      <th>3</th>\n",
       "      <td>Row12</td>\n",
       "      <td>6.328924e+06</td>\n",
       "    </tr>\n",
       "    <tr>\n",
       "      <th>4</th>\n",
       "      <td>Row14</td>\n",
       "      <td>6.347550e+06</td>\n",
       "    </tr>\n",
       "  </tbody>\n",
       "</table>\n",
       "</div>"
      ],
      "text/plain": [
       "  row ID     price_doc\n",
       "0   Row3  1.232080e+07\n",
       "1   Row6  6.532913e+06\n",
       "2  Row11  5.854936e+06\n",
       "3  Row12  6.328924e+06\n",
       "4  Row14  6.347550e+06"
      ]
     },
     "execution_count": 22,
     "metadata": {},
     "output_type": "execute_result"
    }
   ],
   "source": [
    "pred.head()"
   ]
  },
  {
   "cell_type": "code",
   "execution_count": null,
   "id": "0f8827f0-9025-4397-bae9-3582e735bbdf",
   "metadata": {},
   "outputs": [],
   "source": []
  }
 ],
 "metadata": {
  "kernelspec": {
   "display_name": "Python 3 (ipykernel)",
   "language": "python",
   "name": "python3"
  },
  "language_info": {
   "codemirror_mode": {
    "name": "ipython",
    "version": 3
   },
   "file_extension": ".py",
   "mimetype": "text/x-python",
   "name": "python",
   "nbconvert_exporter": "python",
   "pygments_lexer": "ipython3",
   "version": "3.10.4"
  }
 },
 "nbformat": 4,
 "nbformat_minor": 5
}
