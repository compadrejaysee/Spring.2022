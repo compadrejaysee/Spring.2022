﻿{
  "metadata": {
    "name": "01",
    "kernelspec": {
      "language": "scala",
      "name": "spark2-scala"
    },
    "language_info": {
      "codemirror_mode": "text/x-scala",
      "file_extension": ".scala",
      "mimetype": "text/x-scala",
      "name": "scala",
      "pygments_lexer": "scala"
    }
  },
  "nbformat": 4,
  "nbformat_minor": 2,
  "cells": [
    {
      "cell_type": "code",
      "execution_count": 0,
      "metadata": {
        "autoscroll": "auto"
      },
      "outputs": [],
      "source": "import org.apache.mahout.math.algorithms.regression.OrdinaryLeastSquares"
    },
    {
      "cell_type": "code",
      "execution_count": 1,
      "metadata": {
        "autoscroll": "auto"
      },
      "outputs": [],
      "source": "import org.apache.mahout.math._\r\nimport org.apache.mahout.math.scalabindings._\r\nimport org.apache.mahout.math.drm._\r\nimport org.apache.mahout.math.scalabindings.RLikeOps._\r\nimport org.apache.mahout.math.drm.RLikeDrmOps._\r\nimport org.apache.mahout.sparkbindings._\r\n\r\nimplicit val sdc: org.apache.mahout.sparkbindings.SparkDistributedContext \u003d sc2sdc(sc)"
    },
    {
      "cell_type": "code",
      "execution_count": 2,
      "metadata": {
        "autoscroll": "auto"
      },
      "outputs": [],
      "source": "val drmData \u003d drmParallelize(dense(\r\n  (2, 2, 10.5, 10, 29.509541),  // Apple Cinnamon Cheerios\r\n  (1, 2, 12,   12, 18.042851),  // Cap\u0027n\u0027Crunch\r\n  (1, 1, 12,   13, 22.736446),  // Cocoa Puffs\r\n  (2, 1, 11,   13, 32.207582),  // Froot Loops\r\n  (1, 2, 12,   11, 21.871292),  // Honey Graham Ohs\r\n  (2, 1, 16,   8,  36.187559),  // Wheaties Honey Gold\r\n  (6, 2, 17,   1,  50.764999),  // Cheerios\r\n  (3, 2, 13,   7,  40.400208),  // Clusters\r\n  (3, 3, 13,   4,  45.811716)), numPartitions \u003d 2)"
    },
    {
      "cell_type": "code",
      "execution_count": 3,
      "metadata": {
        "autoscroll": "auto"
      },
      "outputs": [],
      "source": "drmData.collect(::, 0 until 4)"
    },
    {
      "cell_type": "code",
      "execution_count": 4,
      "metadata": {
        "autoscroll": "auto"
      },
      "outputs": [],
      "source": "val drmX \u003d drmData(::, 0 until 4)\r\nval drmY \u003d drmData(::, 4 until 5)"
    },
    {
      "cell_type": "code",
      "execution_count": 5,
      "metadata": {
        "autoscroll": "auto"
      },
      "outputs": [],
      "source": "val model \u003d new OrdinaryLeastSquares[Int]().fit(drmX, drmY, \u0027calcCommonStatistics → false)"
    },
    {
      "cell_type": "code",
      "execution_count": 6,
      "metadata": {
        "autoscroll": "auto"
      },
      "outputs": [],
      "source": "println(model.summary)"
    }
  ]
}