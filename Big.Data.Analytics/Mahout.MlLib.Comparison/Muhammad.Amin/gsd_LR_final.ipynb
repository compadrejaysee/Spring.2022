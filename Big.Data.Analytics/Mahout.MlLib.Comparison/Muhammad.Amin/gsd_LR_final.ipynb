{
 "cells": [
  {
   "cell_type": "markdown",
   "id": "883cbeaa-68ea-4492-9d6b-0f19576ce9d4",
   "metadata": {},
   "source": [
    "# BDA - Project SPark MLlib Vs Mahout performance comparision"
   ]
  },
  {
   "cell_type": "markdown",
   "id": "b197d6d1-1ecd-42a2-baf3-51e08c781f3a",
   "metadata": {},
   "source": [
    "### Submitted by:\n",
    "#### Name      : Muhammad Amin Ghias\n",
    "#### ERP ID    : 25366"
   ]
  },
  {
   "cell_type": "markdown",
   "id": "09a59082-91a0-4c38-a3e1-031eebe4a19f",
   "metadata": {},
   "source": [
    "Date : 2nd June 2022"
   ]
  },
  {
   "cell_type": "markdown",
   "id": "a8f2db37-5939-4674-8de2-5254d2c3d124",
   "metadata": {},
   "source": [
    "(on Filtered reduced dataset for comparrision with Mahout)"
   ]
  },
  {
   "cell_type": "code",
   "execution_count": 2,
   "id": "a96b0d3c-d8f6-4fe7-beb7-d2f2bb52423c",
   "metadata": {},
   "outputs": [
    {
     "name": "stdout",
     "output_type": "stream",
     "text": [
      "Requirement already satisfied: pyspark in /usr/local/spark-3.2.1-bin-hadoop3.2/python (3.2.1)\n",
      "Requirement already satisfied: py4j==0.10.9.3 in /opt/conda/lib/python3.9/site-packages (from pyspark) (0.10.9.3)\n"
     ]
    }
   ],
   "source": [
    "!pip install pyspark"
   ]
  },
  {
   "cell_type": "code",
   "execution_count": 3,
   "id": "2d209e75-91ce-43eb-897b-e911eebadd22",
   "metadata": {},
   "outputs": [],
   "source": [
    "import os\n",
    "import time\n",
    "import pandas as pd\n",
    "import numpy as np\n",
    "\n",
    "from pyspark import SparkConf, SparkContext\n",
    "from pyspark.sql import SparkSession, SQLContext\n",
    "\n",
    "from pyspark.sql.types import *\n",
    "import pyspark.sql.functions as F\n",
    "from pyspark.sql.functions import udf, col\n",
    "\n",
    "from pyspark.ml.regression import LinearRegression\n",
    "from pyspark.mllib.evaluation import RegressionMetrics\n",
    "\n",
    "from pyspark.ml.tuning import ParamGridBuilder, CrossValidator, CrossValidatorModel\n",
    "from pyspark.ml.feature import VectorAssembler, StandardScaler\n",
    "from pyspark.ml.evaluation import RegressionEvaluator"
   ]
  },
  {
   "cell_type": "code",
   "execution_count": 4,
   "id": "e35b03ad-88cd-4dd9-aad9-3522cda3ef70",
   "metadata": {},
   "outputs": [],
   "source": [
    "import seaborn as sns\n",
    "import matplotlib.pyplot as plt"
   ]
  },
  {
   "cell_type": "code",
   "execution_count": 5,
   "id": "c17318c8-6bda-488a-b52e-434faf12cb3d",
   "metadata": {},
   "outputs": [],
   "source": [
    "# Visualization\n",
    "from IPython.core.interactiveshell import InteractiveShell\n",
    "InteractiveShell.ast_node_interactivity = \"all\"\n",
    "\n",
    "pd.set_option('display.max_columns', 200)\n",
    "pd.set_option('display.max_colwidth', 400)\n",
    "\n",
    "from matplotlib import rcParams\n",
    "sns.set(context='notebook', style='whitegrid', rc={'figure.figsize': (18,4)})\n",
    "rcParams['figure.figsize'] = 18,4\n",
    "\n",
    "%matplotlib inline\n",
    "%config InlineBackend.figure_format = 'retina'"
   ]
  },
  {
   "cell_type": "code",
   "execution_count": 6,
   "id": "075c22ea-97a9-47f6-8479-ca2f73605491",
   "metadata": {},
   "outputs": [],
   "source": [
    "rnd_seed=23\n",
    "np.random.seed=rnd_seed\n",
    "np.random.set_state=rnd_seed"
   ]
  },
  {
   "cell_type": "code",
   "execution_count": 7,
   "id": "295028ee-f583-423c-ad70-595c8f944848",
   "metadata": {},
   "outputs": [],
   "source": [
    "spark = SparkSession.builder.master(\"local[2]\").appName(\"Linear-Regression-Gas-Sensor\").getOrCreate()"
   ]
  },
  {
   "cell_type": "code",
   "execution_count": 8,
   "id": "44d37a25-c3fa-4b35-b1bc-346e5c4cb502",
   "metadata": {},
   "outputs": [
    {
     "data": {
      "text/html": [
       "\n",
       "            <div>\n",
       "                <p><b>SparkSession - in-memory</b></p>\n",
       "                \n",
       "        <div>\n",
       "            <p><b>SparkContext</b></p>\n",
       "\n",
       "            <p><a href=\"http://47176e291082:4041\">Spark UI</a></p>\n",
       "\n",
       "            <dl>\n",
       "              <dt>Version</dt>\n",
       "                <dd><code>v3.2.1</code></dd>\n",
       "              <dt>Master</dt>\n",
       "                <dd><code>local[2]</code></dd>\n",
       "              <dt>AppName</dt>\n",
       "                <dd><code>Linear-Regression-Gas-Sensor</code></dd>\n",
       "            </dl>\n",
       "        </div>\n",
       "        \n",
       "            </div>\n",
       "        "
      ],
      "text/plain": [
       "<pyspark.sql.session.SparkSession at 0x7fd4a65c4f70>"
      ]
     },
     "execution_count": 8,
     "metadata": {},
     "output_type": "execute_result"
    }
   ],
   "source": [
    "spark"
   ]
  },
  {
   "cell_type": "code",
   "execution_count": 9,
   "id": "1f3bb455-f13c-443f-ba16-ef53d659e386",
   "metadata": {},
   "outputs": [
    {
     "name": "stderr",
     "output_type": "stream",
     "text": [
      "/usr/local/spark/python/pyspark/sql/context.py:77: FutureWarning: Deprecated in 3.0.0. Use SparkSession.builder.getOrCreate() instead.\n",
      "  warnings.warn(\n"
     ]
    },
    {
     "data": {
      "text/plain": [
       "<pyspark.sql.context.SQLContext at 0x7fd4a63cd910>"
      ]
     },
     "execution_count": 9,
     "metadata": {},
     "output_type": "execute_result"
    }
   ],
   "source": [
    "sqlContext = SQLContext(spark.sparkContext)\n",
    "sqlContext"
   ]
  },
  {
   "cell_type": "code",
   "execution_count": 10,
   "id": "c3f36ee9-17d6-4c97-904d-098e05af75e2",
   "metadata": {},
   "outputs": [],
   "source": [
    "df = spark.read.csv('gsd_train_7.csv',header=True)"
   ]
  },
  {
   "cell_type": "code",
   "execution_count": 11,
   "id": "b52c6387-b37a-4ec3-a603-b22072475514",
   "metadata": {},
   "outputs": [
    {
     "data": {
      "text/plain": [
       "pyspark.sql.dataframe.DataFrame"
      ]
     },
     "execution_count": 11,
     "metadata": {},
     "output_type": "execute_result"
    }
   ],
   "source": [
    "type(df)"
   ]
  },
  {
   "cell_type": "code",
   "execution_count": 12,
   "id": "2ee743c0-dc2e-46d3-bc2f-ddc5445fd7c2",
   "metadata": {},
   "outputs": [
    {
     "data": {
      "text/plain": [
       "192158"
      ]
     },
     "execution_count": 12,
     "metadata": {},
     "output_type": "execute_result"
    }
   ],
   "source": [
    "df.count()"
   ]
  },
  {
   "cell_type": "code",
   "execution_count": 13,
   "id": "72bb2736-f902-4cec-8a0d-402b4dc0ec49",
   "metadata": {},
   "outputs": [
    {
     "name": "stdout",
     "output_type": "stream",
     "text": [
      "+---------+---------+----------+----------+----------+----------+----------+--------+\n",
      "|R8 (MOhm)|R9 (MOhm)|R10 (MOhm)|R11 (MOhm)|R12 (MOhm)|R13 (MOhm)|R14 (MOhm)|CO (ppm)|\n",
      "+---------+---------+----------+----------+----------+----------+----------+--------+\n",
      "|  28.6584|  23.6376|   25.6229|   26.5903|   25.8244|   21.4715|   28.2509|   15.56|\n",
      "|  41.2509|  47.3693|   50.0936|   52.0519|   48.1165|   45.7841|   53.4763|    4.44|\n",
      "+---------+---------+----------+----------+----------+----------+----------+--------+\n",
      "only showing top 2 rows\n",
      "\n"
     ]
    }
   ],
   "source": [
    "df.show(2)"
   ]
  },
  {
   "cell_type": "code",
   "execution_count": 14,
   "id": "38338c00-17be-42df-acee-150aa8af5266",
   "metadata": {},
   "outputs": [
    {
     "name": "stdout",
     "output_type": "stream",
     "text": [
      "root\n",
      " |-- R8 (MOhm): string (nullable = true)\n",
      " |-- R9 (MOhm): string (nullable = true)\n",
      " |-- R10 (MOhm): string (nullable = true)\n",
      " |-- R11 (MOhm): string (nullable = true)\n",
      " |-- R12 (MOhm): string (nullable = true)\n",
      " |-- R13 (MOhm): string (nullable = true)\n",
      " |-- R14 (MOhm): string (nullable = true)\n",
      " |-- CO (ppm): string (nullable = true)\n",
      "\n"
     ]
    }
   ],
   "source": [
    "df.printSchema()"
   ]
  },
  {
   "cell_type": "code",
   "execution_count": 15,
   "id": "8e769a29-1d41-49ab-bbd3-34d49f3ebfe5",
   "metadata": {},
   "outputs": [
    {
     "data": {
      "text/plain": [
       "['R8 (MOhm)',\n",
       " 'R9 (MOhm)',\n",
       " 'R10 (MOhm)',\n",
       " 'R11 (MOhm)',\n",
       " 'R12 (MOhm)',\n",
       " 'R13 (MOhm)',\n",
       " 'R14 (MOhm)',\n",
       " 'CO (ppm)']"
      ]
     },
     "execution_count": 15,
     "metadata": {},
     "output_type": "execute_result"
    }
   ],
   "source": [
    "df.columns"
   ]
  },
  {
   "cell_type": "code",
   "execution_count": 16,
   "id": "0a55a20d-d02c-4dbc-91cf-38ff062572f8",
   "metadata": {},
   "outputs": [],
   "source": [
    "df = df.withColumn(\"R8 (MOhm)\",col(\"R8 (MOhm)\").cast( DoubleType()))\n",
    "df = df.withColumn(\"R9 (MOhm)\",col(\"R9 (MOhm)\").cast( DoubleType()))\n",
    "df = df.withColumn(\"R10 (MOhm)\",col(\"R10 (MOhm)\").cast( DoubleType()))\n",
    "df = df.withColumn(\"R11 (MOhm)\",col(\"R11 (MOhm)\").cast( DoubleType()))\n",
    "df = df.withColumn(\"R12 (MOhm)\",col(\"R12 (MOhm)\").cast( DoubleType()))\n",
    "df = df.withColumn(\"R13 (MOhm)\",col(\"R13 (MOhm)\").cast( DoubleType()))\n",
    "df = df.withColumn(\"R14 (MOhm)\",col(\"R14 (MOhm)\").cast( DoubleType()))\n",
    "df = df.withColumn(\"CO (ppm)\",col(\"CO (ppm)\").cast( DoubleType()))\n"
   ]
  },
  {
   "cell_type": "code",
   "execution_count": 17,
   "id": "770e1dec-ad91-4446-9daa-871721965251",
   "metadata": {},
   "outputs": [
    {
     "name": "stdout",
     "output_type": "stream",
     "text": [
      "root\n",
      " |-- R8 (MOhm): double (nullable = true)\n",
      " |-- R9 (MOhm): double (nullable = true)\n",
      " |-- R10 (MOhm): double (nullable = true)\n",
      " |-- R11 (MOhm): double (nullable = true)\n",
      " |-- R12 (MOhm): double (nullable = true)\n",
      " |-- R13 (MOhm): double (nullable = true)\n",
      " |-- R14 (MOhm): double (nullable = true)\n",
      " |-- CO (ppm): double (nullable = true)\n",
      "\n"
     ]
    }
   ],
   "source": [
    "df.printSchema()"
   ]
  },
  {
   "cell_type": "code",
   "execution_count": 18,
   "id": "ea4d3e10-5bd9-4dfb-a6ce-9c0f1489ec7e",
   "metadata": {},
   "outputs": [
    {
     "name": "stdout",
     "output_type": "stream",
     "text": [
      "+--------------------+-----+\n",
      "|            features|label|\n",
      "+--------------------+-----+\n",
      "|[28.6584,23.6376,...|15.56|\n",
      "|[41.2509,47.3693,...| 4.44|\n",
      "|[28.7735,23.1497,...|13.33|\n",
      "+--------------------+-----+\n",
      "only showing top 3 rows\n",
      "\n"
     ]
    }
   ],
   "source": [
    "from pyspark.ml.feature import VectorAssembler\n",
    "vectorAssembler_train = VectorAssembler(inputCols = [ 'R8 (MOhm)', 'R9 (MOhm)','R10 (MOhm)','R11 (MOhm)',\n",
    "                                                'R12 (MOhm)', 'R13 (MOhm)', 'R14 (MOhm)'], outputCol = 'features')\n",
    "\n",
    "\n",
    "data = vectorAssembler_train.transform(df)\n",
    "\n",
    "data = data.withColumn('label', col('CO (ppm)'))\n",
    "\n",
    "data = data.select(['features', 'label'])\n",
    "data.show(3)\n"
   ]
  },
  {
   "cell_type": "code",
   "execution_count": 19,
   "id": "5742788f-be98-445f-9c50-c16e282eab34",
   "metadata": {},
   "outputs": [],
   "source": [
    "train_df = data"
   ]
  },
  {
   "cell_type": "code",
   "execution_count": 20,
   "id": "d6680f4f-ed8e-4658-868b-de6d1fea0814",
   "metadata": {},
   "outputs": [
    {
     "name": "stdout",
     "output_type": "stream",
     "text": [
      "Model Fitting Time Duration - 2.4237\n",
      "Coefficients: [0.30081264162524546,0.3993613747375286,-0.882862902992174,0.08704524840469419,0.7670340312456152,-0.6808103928106293,-0.12107128035192033]\n",
      "Intercept: 11.878724666034875\n",
      "numIterations: 0\n",
      "objectiveHistory: [0.0]\n",
      "+--------------------+\n",
      "|           residuals|\n",
      "+--------------------+\n",
      "|  4.1576698489674495|\n",
      "|   1.667667169619219|\n",
      "|  2.8199489909088644|\n",
      "|  1.4753256737263634|\n",
      "|  -4.987259711766912|\n",
      "|   2.538538703874625|\n",
      "|  -4.127314611269143|\n",
      "|-0.24152559280603292|\n",
      "|  -5.186313973167703|\n",
      "| -11.855827895995214|\n",
      "|  -2.944930260898623|\n",
      "|    8.14396134836217|\n",
      "| -2.9117204617391064|\n",
      "|  1.4774750647391883|\n",
      "|   5.238772616964059|\n",
      "|  1.7282566444707843|\n",
      "|  -7.414802331076708|\n",
      "|  -5.183093367308658|\n",
      "|  5.9160729909229435|\n",
      "|     5.9282411825947|\n",
      "+--------------------+\n",
      "only showing top 20 rows\n",
      "\n",
      "RMSE: 4.689602\n",
      "r2: 0.467559\n",
      "Model Fitting Time Duration - 2.4237\n",
      "Model predicting Time Duration - 0.0358\n"
     ]
    },
    {
     "name": "stderr",
     "output_type": "stream",
     "text": [
      "/usr/local/spark/python/pyspark/sql/context.py:125: FutureWarning: Deprecated in 3.0.0. Use SparkSession.builder.getOrCreate() instead.\n",
      "  warnings.warn(\n"
     ]
    }
   ],
   "source": [
    "from pyspark.ml.regression import LinearRegression\n",
    "lr_f = LinearRegression(featuresCol = 'features', labelCol='label', predictionCol='pred_CO (ppm)', \n",
    "                        maxIter=10, regParam=0.0, solver=\"normal\", standardization=False)\n",
    "start = time.perf_counter()\n",
    "lr_modelf = lr_f.fit(train_df)\n",
    "end = time.perf_counter()\n",
    "duration_fit = format((end-start),'.4f')\n",
    "\n",
    "print(\"Model Fitting Time Duration - {}\".format(duration_fit))\n",
    "print(\"Coefficients: \" + str(lr_modelf.coefficients))\n",
    "print(\"Intercept: \" + str(lr_modelf.intercept))\n",
    "\n",
    "start = time.perf_counter()\n",
    "yfpredictions = lr_modelf.transform(train_df)\n",
    "end = time.perf_counter()\n",
    "duration_pred = format((end-start),'.4f')\n",
    "\n",
    "trainingSummary = lr_modelf.summary\n",
    "\n",
    "print(\"numIterations: %d\" % trainingSummary.totalIterations)\n",
    "print(\"objectiveHistory: %s\" % str(trainingSummary.objectiveHistory))\n",
    "trainingSummary.residuals.show()\n",
    "print(\"RMSE: %f\" % trainingSummary.rootMeanSquaredError)\n",
    "print(\"r2: %f\" % trainingSummary.r2)\n",
    "print(\"Model Fitting Time Duration - {}\".format(duration_fit))\n",
    "print(\"Model predicting Time Duration - {}\".format(duration_pred))"
   ]
  },
  {
   "cell_type": "code",
   "execution_count": null,
   "id": "cc34edef-2111-4774-8b69-8debd1ff14d6",
   "metadata": {},
   "outputs": [],
   "source": []
  },
  {
   "cell_type": "code",
   "execution_count": 21,
   "id": "812fd705-ac08-478f-9dc6-2c1f6edad2aa",
   "metadata": {},
   "outputs": [],
   "source": [
    "yfpredandlabels = yfpredictions.select('pred_CO (ppm)', 'label')\n",
    "\n",
    "y_pred_f = yfpredandlabels.toPandas()\n",
    "\n",
    "y_pred_f.to_csv(\"ylRf_Mllib_c.csv\",index=False)"
   ]
  },
  {
   "cell_type": "code",
   "execution_count": 22,
   "id": "1756db3b-3c38-4d84-884e-ba6f67c6e3db",
   "metadata": {},
   "outputs": [
    {
     "data": {
      "text/html": [
       "<div>\n",
       "<style scoped>\n",
       "    .dataframe tbody tr th:only-of-type {\n",
       "        vertical-align: middle;\n",
       "    }\n",
       "\n",
       "    .dataframe tbody tr th {\n",
       "        vertical-align: top;\n",
       "    }\n",
       "\n",
       "    .dataframe thead th {\n",
       "        text-align: right;\n",
       "    }\n",
       "</style>\n",
       "<table border=\"1\" class=\"dataframe\">\n",
       "  <thead>\n",
       "    <tr style=\"text-align: right;\">\n",
       "      <th></th>\n",
       "      <th>pred_CO (ppm)</th>\n",
       "      <th>label</th>\n",
       "    </tr>\n",
       "  </thead>\n",
       "  <tbody>\n",
       "    <tr>\n",
       "      <th>0</th>\n",
       "      <td>11.402330</td>\n",
       "      <td>15.56</td>\n",
       "    </tr>\n",
       "    <tr>\n",
       "      <th>1</th>\n",
       "      <td>2.772333</td>\n",
       "      <td>4.44</td>\n",
       "    </tr>\n",
       "    <tr>\n",
       "      <th>2</th>\n",
       "      <td>10.510051</td>\n",
       "      <td>13.33</td>\n",
       "    </tr>\n",
       "    <tr>\n",
       "      <th>3</th>\n",
       "      <td>9.634674</td>\n",
       "      <td>11.11</td>\n",
       "    </tr>\n",
       "    <tr>\n",
       "      <th>4</th>\n",
       "      <td>11.657260</td>\n",
       "      <td>6.67</td>\n",
       "    </tr>\n",
       "  </tbody>\n",
       "</table>\n",
       "</div>"
      ],
      "text/plain": [
       "   pred_CO (ppm)  label\n",
       "0      11.402330  15.56\n",
       "1       2.772333   4.44\n",
       "2      10.510051  13.33\n",
       "3       9.634674  11.11\n",
       "4      11.657260   6.67"
      ]
     },
     "execution_count": 22,
     "metadata": {},
     "output_type": "execute_result"
    }
   ],
   "source": [
    "y_pred_f.head()"
   ]
  },
  {
   "cell_type": "markdown",
   "id": "f3cd68ec-6f41-4757-b909-ff191326b48c",
   "metadata": {},
   "source": [
    "### Using the RegressionEvaluator from pyspark.ml package:"
   ]
  },
  {
   "cell_type": "code",
   "execution_count": 23,
   "id": "ae2ffbf1-3e16-4cab-ac90-50788275f8c0",
   "metadata": {},
   "outputs": [
    {
     "name": "stdout",
     "output_type": "stream",
     "text": [
      "RMSE: 4.68960181346083\n"
     ]
    }
   ],
   "source": [
    "evaluator = RegressionEvaluator(predictionCol='pred_CO (ppm)', labelCol='label', metricName='rmse')\n",
    "print(\"RMSE: {0}\".format(evaluator.evaluate(yfpredandlabels)))"
   ]
  },
  {
   "cell_type": "code",
   "execution_count": 24,
   "id": "32957995-e3b4-4c2e-9017-b5dfab7b686a",
   "metadata": {},
   "outputs": [
    {
     "name": "stdout",
     "output_type": "stream",
     "text": [
      "MAE: 3.5839476762586693\n"
     ]
    }
   ],
   "source": [
    "evaluator = RegressionEvaluator(predictionCol='pred_CO (ppm)', labelCol='label', metricName='mae')\n",
    "print(\"MAE: {0}\".format(evaluator.evaluate(yfpredandlabels)))"
   ]
  },
  {
   "cell_type": "code",
   "execution_count": 25,
   "id": "2e249576-04af-4a21-a7b5-b84bc0fb4bd3",
   "metadata": {},
   "outputs": [
    {
     "name": "stdout",
     "output_type": "stream",
     "text": [
      "R2: 0.4675586106094035\n"
     ]
    }
   ],
   "source": [
    "evaluator = RegressionEvaluator(predictionCol='pred_CO (ppm)', labelCol='label', metricName='r2')\n",
    "print(\"R2: {0}\".format(evaluator.evaluate(yfpredandlabels)))"
   ]
  },
  {
   "cell_type": "markdown",
   "id": "8e84194b-1eb1-42a0-9c41-0c79b8701628",
   "metadata": {},
   "source": [
    "### Using the RegressionMetrics from pyspark.mllib package:"
   ]
  },
  {
   "cell_type": "code",
   "execution_count": 26,
   "id": "17bdaff8-5f09-47cc-826b-54a39b3f5a1c",
   "metadata": {},
   "outputs": [
    {
     "name": "stderr",
     "output_type": "stream",
     "text": [
      "/usr/local/spark/python/pyspark/sql/context.py:125: FutureWarning: Deprecated in 3.0.0. Use SparkSession.builder.getOrCreate() instead.\n",
      "  warnings.warn(\n"
     ]
    }
   ],
   "source": [
    "# mllib is old so the methods are available in rdd\n",
    "metrics = RegressionMetrics(yfpredandlabels.rdd)"
   ]
  },
  {
   "cell_type": "code",
   "execution_count": 27,
   "id": "092b8a8d-fb5d-4b7d-b5f6-a8fb529b2de2",
   "metadata": {},
   "outputs": [
    {
     "name": "stdout",
     "output_type": "stream",
     "text": [
      "RMSE: 4.68960181346083\n"
     ]
    }
   ],
   "source": [
    "print(\"RMSE: {0}\".format(metrics.rootMeanSquaredError))"
   ]
  },
  {
   "cell_type": "code",
   "execution_count": 28,
   "id": "07f3ed57-3a57-4c7f-a638-aa5a0ea8445a",
   "metadata": {},
   "outputs": [
    {
     "name": "stdout",
     "output_type": "stream",
     "text": [
      "MAE: 3.5839476762586693\n"
     ]
    }
   ],
   "source": [
    "print(\"MAE: {0}\".format(metrics.meanAbsoluteError))"
   ]
  },
  {
   "cell_type": "code",
   "execution_count": 29,
   "id": "150796ac-6603-4989-b048-2d0c55fa81bb",
   "metadata": {},
   "outputs": [
    {
     "name": "stdout",
     "output_type": "stream",
     "text": [
      "R2: 0.4675586106094035\n"
     ]
    }
   ],
   "source": [
    "print(\"R2: {0}\".format(metrics.r2))"
   ]
  },
  {
   "cell_type": "code",
   "execution_count": null,
   "id": "7c428a2f-e119-4ce0-a37e-31a883bd0474",
   "metadata": {},
   "outputs": [],
   "source": []
  },
  {
   "cell_type": "code",
   "execution_count": null,
   "id": "4ce39976-7d9d-4b04-b8a3-12bee3781acb",
   "metadata": {},
   "outputs": [],
   "source": []
  },
  {
   "cell_type": "code",
   "execution_count": null,
   "id": "6d88cc2d-405c-4e8b-8278-ee23a16fd7f1",
   "metadata": {},
   "outputs": [],
   "source": []
  }
 ],
 "metadata": {
  "kernelspec": {
   "display_name": "Python 3 (ipykernel)",
   "language": "python",
   "name": "python3"
  },
  "language_info": {
   "codemirror_mode": {
    "name": "ipython",
    "version": 3
   },
   "file_extension": ".py",
   "mimetype": "text/x-python",
   "name": "python",
   "nbconvert_exporter": "python",
   "pygments_lexer": "ipython3",
   "version": "3.9.10"
  }
 },
 "nbformat": 4,
 "nbformat_minor": 5
}
