{
 "cells": [
  {
   "cell_type": "markdown",
   "id": "87431fb9-4201-42ce-8d4c-a062968eb746",
   "metadata": {},
   "source": [
    "# BDA - Project SPark MLlib Vs Mahout performance comparision"
   ]
  },
  {
   "cell_type": "markdown",
   "id": "ec1ce379-34ee-43a3-a5e7-1a430660cf08",
   "metadata": {},
   "source": [
    "### Submitted by:\n",
    "#### Name      : Muhammad Amin Ghias\n",
    "#### ERP ID    : 25366"
   ]
  },
  {
   "cell_type": "markdown",
   "id": "8475a3d7-34e7-4939-9d00-66265cdb32b4",
   "metadata": {},
   "source": [
    "Date : 2nd June 2022"
   ]
  },
  {
   "cell_type": "markdown",
   "id": "0a601837-3586-461e-a7de-94deb86b08b0",
   "metadata": {},
   "source": [
    "(on full dataset)"
   ]
  },
  {
   "cell_type": "code",
   "execution_count": 1,
   "id": "a96b0d3c-d8f6-4fe7-beb7-d2f2bb52423c",
   "metadata": {
    "tags": []
   },
   "outputs": [
    {
     "name": "stdout",
     "output_type": "stream",
     "text": [
      "Requirement already satisfied: pyspark in /usr/local/spark-3.2.1-bin-hadoop3.2/python (3.2.1)\n",
      "Requirement already satisfied: py4j==0.10.9.3 in /opt/conda/lib/python3.9/site-packages (from pyspark) (0.10.9.3)\n"
     ]
    }
   ],
   "source": [
    "!pip install pyspark"
   ]
  },
  {
   "cell_type": "markdown",
   "id": "d9a5a7fc-fff2-494b-b41e-7633a7889397",
   "metadata": {},
   "source": [
    "## Import Libraries"
   ]
  },
  {
   "cell_type": "code",
   "execution_count": 2,
   "id": "2d209e75-91ce-43eb-897b-e911eebadd22",
   "metadata": {},
   "outputs": [],
   "source": [
    "import os\n",
    "import time\n",
    "import pandas as pd\n",
    "import numpy as np\n",
    "\n",
    "from pyspark import SparkConf, SparkContext\n",
    "from pyspark.sql import SparkSession, SQLContext\n",
    "\n",
    "from pyspark.sql.types import *\n",
    "import pyspark.sql.functions as F\n",
    "from pyspark.sql.functions import udf, col\n",
    "\n",
    "from pyspark.ml.regression import LinearRegression\n",
    "from pyspark.mllib.evaluation import RegressionMetrics\n",
    "\n",
    "from pyspark.ml.tuning import ParamGridBuilder, CrossValidator, CrossValidatorModel\n",
    "from pyspark.ml.feature import VectorAssembler, StandardScaler\n",
    "from pyspark.ml.evaluation import RegressionEvaluator"
   ]
  },
  {
   "cell_type": "code",
   "execution_count": 3,
   "id": "e35b03ad-88cd-4dd9-aad9-3522cda3ef70",
   "metadata": {},
   "outputs": [],
   "source": [
    "import seaborn as sns\n",
    "import matplotlib.pyplot as plt"
   ]
  },
  {
   "cell_type": "code",
   "execution_count": 4,
   "id": "c17318c8-6bda-488a-b52e-434faf12cb3d",
   "metadata": {},
   "outputs": [],
   "source": [
    "# Visualization\n",
    "from IPython.core.interactiveshell import InteractiveShell\n",
    "InteractiveShell.ast_node_interactivity = \"all\"\n",
    "\n",
    "pd.set_option('display.max_columns', 200)\n",
    "pd.set_option('display.max_colwidth', 400)\n",
    "\n",
    "from matplotlib import rcParams\n",
    "sns.set(context='notebook', style='whitegrid', rc={'figure.figsize': (18,4)})\n",
    "rcParams['figure.figsize'] = 18,4\n",
    "\n",
    "%matplotlib inline\n",
    "%config InlineBackend.figure_format = 'retina'"
   ]
  },
  {
   "cell_type": "code",
   "execution_count": 5,
   "id": "075c22ea-97a9-47f6-8479-ca2f73605491",
   "metadata": {},
   "outputs": [],
   "source": [
    "rnd_seed=23\n",
    "np.random.seed=rnd_seed\n",
    "np.random.set_state=rnd_seed"
   ]
  },
  {
   "cell_type": "code",
   "execution_count": 6,
   "id": "295028ee-f583-423c-ad70-595c8f944848",
   "metadata": {},
   "outputs": [],
   "source": [
    "spark = SparkSession.builder.master(\"local[2]\").appName(\"Linear-Regression-Gas-Sensor\").getOrCreate()"
   ]
  },
  {
   "cell_type": "code",
   "execution_count": 7,
   "id": "44d37a25-c3fa-4b35-b1bc-346e5c4cb502",
   "metadata": {},
   "outputs": [
    {
     "data": {
      "text/html": [
       "\n",
       "            <div>\n",
       "                <p><b>SparkSession - in-memory</b></p>\n",
       "                \n",
       "        <div>\n",
       "            <p><b>SparkContext</b></p>\n",
       "\n",
       "            <p><a href=\"http://47176e291082:4040\">Spark UI</a></p>\n",
       "\n",
       "            <dl>\n",
       "              <dt>Version</dt>\n",
       "                <dd><code>v3.2.1</code></dd>\n",
       "              <dt>Master</dt>\n",
       "                <dd><code>local[2]</code></dd>\n",
       "              <dt>AppName</dt>\n",
       "                <dd><code>Linear-Regression-Gas-Sensor</code></dd>\n",
       "            </dl>\n",
       "        </div>\n",
       "        \n",
       "            </div>\n",
       "        "
      ],
      "text/plain": [
       "<pyspark.sql.session.SparkSession at 0x7fe2849bd070>"
      ]
     },
     "execution_count": 7,
     "metadata": {},
     "output_type": "execute_result"
    }
   ],
   "source": [
    "spark"
   ]
  },
  {
   "cell_type": "code",
   "execution_count": 8,
   "id": "1f3bb455-f13c-443f-ba16-ef53d659e386",
   "metadata": {},
   "outputs": [
    {
     "name": "stderr",
     "output_type": "stream",
     "text": [
      "/usr/local/spark/python/pyspark/sql/context.py:77: FutureWarning: Deprecated in 3.0.0. Use SparkSession.builder.getOrCreate() instead.\n",
      "  warnings.warn(\n"
     ]
    },
    {
     "data": {
      "text/plain": [
       "<pyspark.sql.context.SQLContext at 0x7fe21c18d9a0>"
      ]
     },
     "execution_count": 8,
     "metadata": {},
     "output_type": "execute_result"
    }
   ],
   "source": [
    "sqlContext = SQLContext(spark.sparkContext)\n",
    "sqlContext"
   ]
  },
  {
   "cell_type": "markdown",
   "id": "f02100dc-9ad5-4691-aca6-e2c783b9292a",
   "metadata": {},
   "source": [
    "## Read Dataset"
   ]
  },
  {
   "cell_type": "code",
   "execution_count": 9,
   "id": "cb48d999-f834-427a-93d6-e22400715c67",
   "metadata": {},
   "outputs": [],
   "source": [
    "df = spark.read.csv('gas_sensor_data_f.csv',header=True)"
   ]
  },
  {
   "cell_type": "code",
   "execution_count": 10,
   "id": "b52c6387-b37a-4ec3-a603-b22072475514",
   "metadata": {},
   "outputs": [
    {
     "data": {
      "text/plain": [
       "pyspark.sql.dataframe.DataFrame"
      ]
     },
     "execution_count": 10,
     "metadata": {},
     "output_type": "execute_result"
    }
   ],
   "source": [
    "type(df)"
   ]
  },
  {
   "cell_type": "code",
   "execution_count": 11,
   "id": "2c49aceb-c8d1-45bf-ba03-2c3cec70bf77",
   "metadata": {},
   "outputs": [
    {
     "data": {
      "text/plain": [
       "3843160"
      ]
     },
     "execution_count": 11,
     "metadata": {},
     "output_type": "execute_result"
    }
   ],
   "source": [
    "df.count()"
   ]
  },
  {
   "cell_type": "code",
   "execution_count": 12,
   "id": "be752138-4129-4a3a-9da2-cdbc46316ce9",
   "metadata": {},
   "outputs": [
    {
     "name": "stdout",
     "output_type": "stream",
     "text": [
      "+-------+------------------+-------------------+------------------+-----------------+-------------------+------------------+------------------+------------------+-----------------+-----------------+------------------+-----------------+------------------+------------------+------------------+------------------+------------------+------------------+-----------------+-----------------+\n",
      "|summary|          Time (s)|humidity_percentage|   Temperature (C)|        flow_rate| Heater voltage (V)|         R1 (MOhm)|         R2 (MOhm)|         R3 (MOhm)|        R4 (MOhm)|        R5 (MOhm)|         R6 (MOhm)|        R7 (MOhm)|         R8 (MOhm)|         R9 (MOhm)|        R10 (MOhm)|        R11 (MOhm)|        R12 (MOhm)|        R13 (MOhm)|       R14 (MOhm)|         CO (ppm)|\n",
      "+-------+------------------+-------------------+------------------+-----------------+-------------------+------------------+------------------+------------------+-----------------+-----------------+------------------+-----------------+------------------+------------------+------------------+------------------+------------------+------------------+-----------------+-----------------+\n",
      "|  count|           3843160|            3843160|           3843160|          3843160|            3843160|           3843160|           3843160|           3843160|          3843160|          3843160|           3843160|          3843160|           3843160|           3843160|           3843160|           3843160|           3843160|           3843160|          3843160|          3843160|\n",
      "|   mean|45452.022548745124|  46.00409610551803|25.717310423651305|239.9453743093421|0.35510810955276917|16.414707061374806| 18.47116517914739|23.037269465838076|21.44495058923468|32.62182513717366|29.564895917321458|32.81930446916598|27.993186054679807|23.685969414466705|26.168418725871724|28.335655735241417| 26.29417892557538|23.283582056406278|29.19879065788807|9.900478750378447|\n",
      "| stddev|26242.420754504674| 12.467776661788765|0.9402477779340533|1.855253786929939| 0.2885429128173839|23.914047971545294|27.620306786554682| 29.20822627301078|17.77050581755072|27.84818604862987|27.748170555143297|28.22065710642361|20.584787819537492|18.762830605716058|20.935297414088506| 21.15840390209562|19.371791483225266|18.070013510499525|22.61727120287404|6.427533313682327|\n",
      "|    min|               0.0|              16.34|           13.7998|              0.0|              0.198|            0.0315|            0.0548|             0.051|           0.0297|           0.0449|            0.0464|           0.0494|             0.031|            0.0289|             0.036|            0.0305|            0.0327|            0.0321|           0.0313|              0.0|\n",
      "|    max|          9999.994|              83.81|            9.9032|          99.3822|             0.9026|           99.4072|           99.4072|           98.8084|          97.6414|          99.2076|           98.9582|          99.8283|           99.1944|           96.6819|           98.8084|           99.1078|           99.3074|           98.2095|          99.8467|           9.9972|\n",
      "+-------+------------------+-------------------+------------------+-----------------+-------------------+------------------+------------------+------------------+-----------------+-----------------+------------------+-----------------+------------------+------------------+------------------+------------------+------------------+------------------+-----------------+-----------------+\n",
      "\n"
     ]
    }
   ],
   "source": [
    "df.describe().show()"
   ]
  },
  {
   "cell_type": "code",
   "execution_count": 13,
   "id": "72bb2736-f902-4cec-8a0d-402b4dc0ec49",
   "metadata": {},
   "outputs": [
    {
     "name": "stdout",
     "output_type": "stream",
     "text": [
      "+--------+-------------------+---------------+---------+------------------+---------+---------+---------+---------+---------+---------+---------+---------+---------+----------+----------+----------+----------+----------+--------+\n",
      "|Time (s)|humidity_percentage|Temperature (C)|flow_rate|Heater voltage (V)|R1 (MOhm)|R2 (MOhm)|R3 (MOhm)|R4 (MOhm)|R5 (MOhm)|R6 (MOhm)|R7 (MOhm)|R8 (MOhm)|R9 (MOhm)|R10 (MOhm)|R11 (MOhm)|R12 (MOhm)|R13 (MOhm)|R14 (MOhm)|CO (ppm)|\n",
      "+--------+-------------------+---------------+---------+------------------+---------+---------+---------+---------+---------+---------+---------+---------+---------+----------+----------+----------+----------+----------+--------+\n",
      "|     0.0|            49.7534|        23.7184| 233.2737|            0.8993|   0.2231|   0.6365|   1.1493|   0.8483|   1.2534|   1.4449|   1.9906|   1.3303|    1.448|    1.9148|    3.4651|    5.2144|    6.5806|    8.6385|     0.0|\n",
      "|   0.309|              55.84|          26.62| 241.6323|            0.2112|   2.1314|   5.3552|   9.7569|   6.3188|   9.4472|  10.5769|  13.6317|  21.9829|  16.1902|    24.278|   31.1014|   34.7193|   31.7505|   41.9167|     0.0|\n",
      "+--------+-------------------+---------------+---------+------------------+---------+---------+---------+---------+---------+---------+---------+---------+---------+----------+----------+----------+----------+----------+--------+\n",
      "only showing top 2 rows\n",
      "\n"
     ]
    }
   ],
   "source": [
    "df.show(2)"
   ]
  },
  {
   "cell_type": "code",
   "execution_count": 14,
   "id": "38338c00-17be-42df-acee-150aa8af5266",
   "metadata": {},
   "outputs": [
    {
     "name": "stdout",
     "output_type": "stream",
     "text": [
      "root\n",
      " |-- Time (s): string (nullable = true)\n",
      " |-- humidity_percentage: string (nullable = true)\n",
      " |-- Temperature (C): string (nullable = true)\n",
      " |-- flow_rate: string (nullable = true)\n",
      " |-- Heater voltage (V): string (nullable = true)\n",
      " |-- R1 (MOhm): string (nullable = true)\n",
      " |-- R2 (MOhm): string (nullable = true)\n",
      " |-- R3 (MOhm): string (nullable = true)\n",
      " |-- R4 (MOhm): string (nullable = true)\n",
      " |-- R5 (MOhm): string (nullable = true)\n",
      " |-- R6 (MOhm): string (nullable = true)\n",
      " |-- R7 (MOhm): string (nullable = true)\n",
      " |-- R8 (MOhm): string (nullable = true)\n",
      " |-- R9 (MOhm): string (nullable = true)\n",
      " |-- R10 (MOhm): string (nullable = true)\n",
      " |-- R11 (MOhm): string (nullable = true)\n",
      " |-- R12 (MOhm): string (nullable = true)\n",
      " |-- R13 (MOhm): string (nullable = true)\n",
      " |-- R14 (MOhm): string (nullable = true)\n",
      " |-- CO (ppm): string (nullable = true)\n",
      "\n"
     ]
    }
   ],
   "source": [
    "df.printSchema()"
   ]
  },
  {
   "cell_type": "code",
   "execution_count": 15,
   "id": "8e769a29-1d41-49ab-bbd3-34d49f3ebfe5",
   "metadata": {},
   "outputs": [
    {
     "data": {
      "text/plain": [
       "['Time (s)',\n",
       " 'humidity_percentage',\n",
       " 'Temperature (C)',\n",
       " 'flow_rate',\n",
       " 'Heater voltage (V)',\n",
       " 'R1 (MOhm)',\n",
       " 'R2 (MOhm)',\n",
       " 'R3 (MOhm)',\n",
       " 'R4 (MOhm)',\n",
       " 'R5 (MOhm)',\n",
       " 'R6 (MOhm)',\n",
       " 'R7 (MOhm)',\n",
       " 'R8 (MOhm)',\n",
       " 'R9 (MOhm)',\n",
       " 'R10 (MOhm)',\n",
       " 'R11 (MOhm)',\n",
       " 'R12 (MOhm)',\n",
       " 'R13 (MOhm)',\n",
       " 'R14 (MOhm)',\n",
       " 'CO (ppm)']"
      ]
     },
     "execution_count": 15,
     "metadata": {},
     "output_type": "execute_result"
    }
   ],
   "source": [
    "df.columns"
   ]
  },
  {
   "cell_type": "markdown",
   "id": "5d4cc3c5-079c-461b-bf20-8ce1f1e7771e",
   "metadata": {},
   "source": [
    "## Change data type from string double"
   ]
  },
  {
   "cell_type": "code",
   "execution_count": 16,
   "id": "26a60615-e969-4355-8c7b-4cf9e2c59a94",
   "metadata": {},
   "outputs": [],
   "source": [
    "df = df.withColumn(\"Time (s)\",col(\"Time (s)\").cast( DoubleType()))\n",
    "df = df.withColumn(\"CO (ppm)\",col(\"CO (ppm)\").cast( DoubleType()))\n",
    "df = df.withColumn(\"humidity_percentage\",col(\"humidity_percentage\").cast( DoubleType()))\n",
    "df = df.withColumn(\"Temperature (C)\",col(\"Temperature (C)\").cast( DoubleType()))\n",
    "df = df.withColumn(\"Temperature (C)\",col(\"Temperature (C)\").cast( DoubleType()))\n",
    "df = df.withColumn(\"flow_rate\",col(\"flow_rate\").cast( DoubleType()))\n",
    "df = df.withColumn(\"Heater voltage (V)\",col(\"Heater voltage (V)\").cast( DoubleType()))\n",
    "df = df.withColumn(\"R1 (MOhm)\",col(\"R1 (MOhm)\").cast( DoubleType()))\n",
    "df = df.withColumn(\"R2 (MOhm)\",col(\"R2 (MOhm)\").cast( DoubleType()))\n",
    "df = df.withColumn(\"R3 (MOhm)\",col(\"R3 (MOhm)\").cast( DoubleType()))\n",
    "df = df.withColumn(\"R4 (MOhm)\",col(\"R4 (MOhm)\").cast( DoubleType()))\n",
    "df = df.withColumn(\"R5 (MOhm)\",col(\"R5 (MOhm)\").cast( DoubleType()))\n",
    "df = df.withColumn(\"R6 (MOhm)\",col(\"R6 (MOhm)\").cast( DoubleType()))\n",
    "df = df.withColumn(\"R7 (MOhm)\",col(\"R7 (MOhm)\").cast( DoubleType()))\n",
    "df = df.withColumn(\"R8 (MOhm)\",col(\"R8 (MOhm)\").cast( DoubleType()))\n",
    "df = df.withColumn(\"R9 (MOhm)\",col(\"R9 (MOhm)\").cast( DoubleType()))\n",
    "df = df.withColumn(\"R10 (MOhm)\",col(\"R10 (MOhm)\").cast( DoubleType()))\n",
    "df = df.withColumn(\"R11 (MOhm)\",col(\"R11 (MOhm)\").cast( DoubleType()))\n",
    "df = df.withColumn(\"R12 (MOhm)\",col(\"R12 (MOhm)\").cast( DoubleType()))\n",
    "df = df.withColumn(\"R13 (MOhm)\",col(\"R13 (MOhm)\").cast( DoubleType()))\n",
    "df = df.withColumn(\"R14 (MOhm)\",col(\"R14 (MOhm)\").cast( DoubleType()))\n",
    "\n"
   ]
  },
  {
   "cell_type": "code",
   "execution_count": 17,
   "id": "770e1dec-ad91-4446-9daa-871721965251",
   "metadata": {},
   "outputs": [
    {
     "name": "stdout",
     "output_type": "stream",
     "text": [
      "root\n",
      " |-- Time (s): double (nullable = true)\n",
      " |-- humidity_percentage: double (nullable = true)\n",
      " |-- Temperature (C): double (nullable = true)\n",
      " |-- flow_rate: double (nullable = true)\n",
      " |-- Heater voltage (V): double (nullable = true)\n",
      " |-- R1 (MOhm): double (nullable = true)\n",
      " |-- R2 (MOhm): double (nullable = true)\n",
      " |-- R3 (MOhm): double (nullable = true)\n",
      " |-- R4 (MOhm): double (nullable = true)\n",
      " |-- R5 (MOhm): double (nullable = true)\n",
      " |-- R6 (MOhm): double (nullable = true)\n",
      " |-- R7 (MOhm): double (nullable = true)\n",
      " |-- R8 (MOhm): double (nullable = true)\n",
      " |-- R9 (MOhm): double (nullable = true)\n",
      " |-- R10 (MOhm): double (nullable = true)\n",
      " |-- R11 (MOhm): double (nullable = true)\n",
      " |-- R12 (MOhm): double (nullable = true)\n",
      " |-- R13 (MOhm): double (nullable = true)\n",
      " |-- R14 (MOhm): double (nullable = true)\n",
      " |-- CO (ppm): double (nullable = true)\n",
      "\n"
     ]
    }
   ],
   "source": [
    "df.printSchema()"
   ]
  },
  {
   "cell_type": "code",
   "execution_count": 18,
   "id": "3657edfa-1bf9-46fb-a43e-95e6018e4c23",
   "metadata": {},
   "outputs": [
    {
     "name": "stdout",
     "output_type": "stream",
     "text": [
      "+--------------------+-----+\n",
      "|            features|label|\n",
      "+--------------------+-----+\n",
      "|[0.0,49.7534,23.7...|  0.0|\n",
      "|[0.309,55.84,26.6...|  0.0|\n",
      "|[0.618,55.84,26.6...|  0.0|\n",
      "+--------------------+-----+\n",
      "only showing top 3 rows\n",
      "\n"
     ]
    }
   ],
   "source": [
    "from pyspark.ml.feature import VectorAssembler\n",
    "vectorAssembler = VectorAssembler(inputCols = ['Time (s)', 'humidity_percentage', 'Temperature (C)', 'flow_rate', 'Heater voltage (V)','R1 (MOhm)','R2 (MOhm)',\n",
    "                                                'R3 (MOhm)', 'R4 (MOhm)', 'R5 (MOhm)', 'R6 (MOhm)', 'R7 (MOhm)', 'R8 (MOhm)', 'R9 (MOhm)','R10 (MOhm)','R11 (MOhm)',\n",
    "                                                'R12 (MOhm)', 'R13 (MOhm)', 'R14 (MOhm)'], outputCol = 'features')\n",
    "data = vectorAssembler.transform(df)\n",
    "\n",
    "data = data.withColumn('label', col('CO (ppm)'))\n",
    "\n",
    "data = data.select(['features', 'label'])\n",
    "data.show(3)"
   ]
  },
  {
   "cell_type": "markdown",
   "id": "e30e75ac-ed89-48e6-8e74-5ee2b804e215",
   "metadata": {},
   "source": [
    "## Splitting Data"
   ]
  },
  {
   "cell_type": "code",
   "execution_count": 19,
   "id": "181c9d6f-4eda-4cfe-8a8d-276b5814df6d",
   "metadata": {},
   "outputs": [],
   "source": [
    "splits = data.randomSplit([0.7, 0.3])\n",
    "train_df = splits[0]\n",
    "test_df = splits[1]"
   ]
  },
  {
   "cell_type": "code",
   "execution_count": 20,
   "id": "6bd8f403-1dfb-48aa-b61a-d8792ffbe434",
   "metadata": {},
   "outputs": [
    {
     "name": "stdout",
     "output_type": "stream",
     "text": [
      "+--------------------+-----+\n",
      "|            features|label|\n",
      "+--------------------+-----+\n",
      "|[0.0,49.21,26.38,...|  0.0|\n",
      "|[0.0,50.25,26.54,...|  0.0|\n",
      "|[0.0,54.6258,25.3...|  0.0|\n",
      "+--------------------+-----+\n",
      "only showing top 3 rows\n",
      "\n"
     ]
    }
   ],
   "source": [
    "train_df.show(3)"
   ]
  },
  {
   "cell_type": "code",
   "execution_count": 21,
   "id": "b444ef42-4b0b-49c4-a66f-cae3cebca22f",
   "metadata": {},
   "outputs": [
    {
     "name": "stdout",
     "output_type": "stream",
     "text": [
      "+--------------------+-----+\n",
      "|            features|label|\n",
      "+--------------------+-----+\n",
      "|[0.0,49.7534,23.7...|  0.0|\n",
      "|[0.31,52.63,25.3,...|  0.0|\n",
      "|[0.618,55.84,26.6...|  0.0|\n",
      "+--------------------+-----+\n",
      "only showing top 3 rows\n",
      "\n"
     ]
    }
   ],
   "source": [
    "test_df.show(3)"
   ]
  },
  {
   "cell_type": "markdown",
   "id": "c033f538-53f9-4484-a8c0-bb87955a3366",
   "metadata": {},
   "source": [
    "# Linear Regression"
   ]
  },
  {
   "cell_type": "code",
   "execution_count": 22,
   "id": "49b959e2-851e-46b5-aeec-d48134600353",
   "metadata": {},
   "outputs": [
    {
     "name": "stdout",
     "output_type": "stream",
     "text": [
      "Model Fitting Time Duration - 41.8281\n",
      "Coefficients: [-2.747324384838938e-06,-0.015039206926646202,-0.04810147820691096,0.012800961867793345,-9.942679670257316,0.06636701391223498,-0.0866525537733854,0.05639783368486679,0.05927557608421093,-0.06383846539883631,-0.07507315442883519,0.13450215478096225,0.029271455644799143,0.2683168462757321,-0.43185033121518396,0.1146963715738742,0.23492645152281474,-0.49981070230506913,-0.04288485054873854]\n",
      "Intercept: 17.828974407878604\n",
      "numIterations: 0\n",
      "objectiveHistory: [0.0]\n"
     ]
    },
    {
     "name": "stderr",
     "output_type": "stream",
     "text": [
      "/usr/local/spark/python/pyspark/sql/context.py:125: FutureWarning: Deprecated in 3.0.0. Use SparkSession.builder.getOrCreate() instead.\n",
      "  warnings.warn(\n"
     ]
    },
    {
     "name": "stdout",
     "output_type": "stream",
     "text": [
      "+-------------------+\n",
      "|          residuals|\n",
      "+-------------------+\n",
      "| -9.283122084388022|\n",
      "|-10.114362975269774|\n",
      "|-1.9950856786005744|\n",
      "| -9.981096984804712|\n",
      "| -6.300524369647359|\n",
      "|-11.766964215558097|\n",
      "| -9.944733258182723|\n",
      "| -4.235942048632857|\n",
      "| 1.4518447234436422|\n",
      "| -2.038987575892529|\n",
      "|  7.046021567298087|\n",
      "|-4.2406062972835095|\n",
      "| -9.943431738433233|\n",
      "| 0.4424688477849408|\n",
      "|   -9.9055289019664|\n",
      "| -2.276182517065781|\n",
      "| -9.905706654958923|\n",
      "| -9.932312781041258|\n",
      "|   -9.9058483709346|\n",
      "| 0.9875593926127628|\n",
      "+-------------------+\n",
      "only showing top 20 rows\n",
      "\n",
      "RMSE: 4.186850\n",
      "r2: 0.575813\n",
      "Model Fitting Time Duration - 41.8281\n",
      "Model predicting Time Duration - 0.0338\n"
     ]
    }
   ],
   "source": [
    "from pyspark.ml.regression import LinearRegression\n",
    "\n",
    "lr_f = LinearRegression(featuresCol = 'features', predictionCol='pred_CO (ppm)', \n",
    "                        maxIter=10, regParam=0.0, solver=\"normal\", standardization=False)\n",
    "\n",
    "start = time.perf_counter()\n",
    "lr_modelf = lr_f.fit(train_df)\n",
    "end = time.perf_counter()\n",
    "duration_fit = format((end-start),'.4f')\n",
    "print(\"Model Fitting Time Duration - {}\".format(duration_fit))\n",
    "\n",
    "print(\"Coefficients: \" + str(lr_modelf.coefficients))\n",
    "print(\"Intercept: \" + str(lr_modelf.intercept))\n",
    "\n",
    "start = time.perf_counter()\n",
    "yfpredictions = lr_modelf.transform(test_df)\n",
    "end = time.perf_counter()\n",
    "duration_pred = format((end-start),'.4f')\n",
    "\n",
    "trainingSummary = lr_modelf.summary\n",
    "\n",
    "print(\"numIterations: %d\" % trainingSummary.totalIterations)\n",
    "print(\"objectiveHistory: %s\" % str(trainingSummary.objectiveHistory))\n",
    "trainingSummary.residuals.show()\n",
    "print(\"RMSE: %f\" % trainingSummary.rootMeanSquaredError)\n",
    "print(\"r2: %f\" % trainingSummary.r2)\n",
    "print(\"Model Fitting Time Duration - {}\".format(duration_fit))\n",
    "print(\"Model predicting Time Duration - {}\".format(duration_pred))"
   ]
  },
  {
   "cell_type": "code",
   "execution_count": null,
   "id": "1d82781f-6843-47ef-91da-3089fca8d496",
   "metadata": {},
   "outputs": [],
   "source": []
  },
  {
   "cell_type": "code",
   "execution_count": 23,
   "id": "4097593a-8c78-4821-b450-996b1376156f",
   "metadata": {},
   "outputs": [],
   "source": [
    "yfpredandlabels = yfpredictions.select('pred_CO (ppm)', 'label')\n",
    "\n",
    "y_pred_f = yfpredandlabels.toPandas()\n",
    "\n",
    "y_pred_f.to_csv(\"ylRf_Mllib.csv\",index=False)"
   ]
  },
  {
   "cell_type": "code",
   "execution_count": null,
   "id": "5c5b5460-1d21-4f51-b1c7-11c995284070",
   "metadata": {},
   "outputs": [],
   "source": []
  },
  {
   "cell_type": "markdown",
   "id": "1880c2e3-d6d5-4c35-874b-06e17f5704ff",
   "metadata": {},
   "source": [
    "### Using the RegressionEvaluator from pyspark.ml package:"
   ]
  },
  {
   "cell_type": "code",
   "execution_count": 24,
   "id": "19290e2f-83b8-43bd-908f-7cbae5c876c0",
   "metadata": {},
   "outputs": [
    {
     "name": "stdout",
     "output_type": "stream",
     "text": [
      "RMSE: 4.180058211093116\n"
     ]
    }
   ],
   "source": [
    "evaluator = RegressionEvaluator(predictionCol='pred_CO (ppm)', labelCol='label', metricName='rmse')\n",
    "print(\"RMSE: {0}\".format(evaluator.evaluate(yfpredandlabels)))"
   ]
  },
  {
   "cell_type": "code",
   "execution_count": 25,
   "id": "854fc1f3-fa56-48dd-95d4-c9d4c06c4de8",
   "metadata": {},
   "outputs": [
    {
     "name": "stdout",
     "output_type": "stream",
     "text": [
      "MAE: 3.0061282691657776\n"
     ]
    }
   ],
   "source": [
    "evaluator = RegressionEvaluator(predictionCol='pred_CO (ppm)', labelCol='label', metricName='mae')\n",
    "print(\"MAE: {0}\".format(evaluator.evaluate(yfpredandlabels)))"
   ]
  },
  {
   "cell_type": "code",
   "execution_count": 26,
   "id": "e19f7ea6-fa9e-410b-92f8-cf0dc973f779",
   "metadata": {},
   "outputs": [
    {
     "name": "stdout",
     "output_type": "stream",
     "text": [
      "R2: 0.5767692947753741\n"
     ]
    }
   ],
   "source": [
    "evaluator = RegressionEvaluator(predictionCol='pred_CO (ppm)', labelCol='label', metricName='r2')\n",
    "print(\"R2: {0}\".format(evaluator.evaluate(yfpredandlabels)))"
   ]
  },
  {
   "cell_type": "markdown",
   "id": "0925178e-1ea9-4e6c-b925-c011e6bb9edc",
   "metadata": {},
   "source": [
    "### Using the RegressionMetrics from pyspark.mllib package:"
   ]
  },
  {
   "cell_type": "code",
   "execution_count": 27,
   "id": "e512442d-7891-4c0b-9ced-b742d0f0c5c0",
   "metadata": {},
   "outputs": [
    {
     "name": "stderr",
     "output_type": "stream",
     "text": [
      "/usr/local/spark/python/pyspark/sql/context.py:125: FutureWarning: Deprecated in 3.0.0. Use SparkSession.builder.getOrCreate() instead.\n",
      "  warnings.warn(\n"
     ]
    }
   ],
   "source": [
    "# mllib is old so the methods are available in rdd\n",
    "metrics = RegressionMetrics(yfpredandlabels.rdd)"
   ]
  },
  {
   "cell_type": "code",
   "execution_count": 28,
   "id": "0e8dcdfd-2b15-4fa0-af86-e9d6674cb99a",
   "metadata": {},
   "outputs": [
    {
     "name": "stdout",
     "output_type": "stream",
     "text": [
      "RMSE: 4.180058211093116\n"
     ]
    }
   ],
   "source": [
    "print(\"RMSE: {0}\".format(metrics.rootMeanSquaredError))"
   ]
  },
  {
   "cell_type": "code",
   "execution_count": 29,
   "id": "6abfcf1a-66eb-4526-8ee8-f8286bef75a7",
   "metadata": {},
   "outputs": [
    {
     "name": "stdout",
     "output_type": "stream",
     "text": [
      "MAE: 3.0061282691657776\n"
     ]
    }
   ],
   "source": [
    "print(\"MAE: {0}\".format(metrics.meanAbsoluteError))"
   ]
  },
  {
   "cell_type": "code",
   "execution_count": 30,
   "id": "8569f026-1277-4e88-9d06-c6fe40b5f6f8",
   "metadata": {},
   "outputs": [
    {
     "name": "stdout",
     "output_type": "stream",
     "text": [
      "R2: 0.5767692947753741\n"
     ]
    }
   ],
   "source": [
    "print(\"R2: {0}\".format(metrics.r2))"
   ]
  },
  {
   "cell_type": "code",
   "execution_count": null,
   "id": "2b4ab25a-6e33-4248-a7c0-c212a0e3f764",
   "metadata": {},
   "outputs": [],
   "source": []
  },
  {
   "cell_type": "markdown",
   "id": "4b2f63c1-f4a1-4074-a98b-27e096fa2df3",
   "metadata": {},
   "source": [
    "# Decission Tree regressor"
   ]
  },
  {
   "cell_type": "code",
   "execution_count": 31,
   "id": "c78c6be1-7aac-48f7-8ee1-4898394294aa",
   "metadata": {},
   "outputs": [
    {
     "name": "stdout",
     "output_type": "stream",
     "text": [
      "Model Fitting Time Duration - 77.9203\n",
      "Model Fitting Time Duration - 77.9203\n",
      "Model predicting Time Duration - 0.0411\n"
     ]
    }
   ],
   "source": [
    "from pyspark.ml.regression import DecisionTreeRegressor\n",
    "dt = DecisionTreeRegressor()\n",
    "\n",
    "start = time.perf_counter()\n",
    "model_dt = dt.fit(train_df)\n",
    "end = time.perf_counter()\n",
    "duration_fit = format((end-start),'.4f')\n",
    "print(\"Model Fitting Time Duration - {}\".format(duration_fit))\n",
    "\n",
    "start = time.perf_counter()\n",
    "ypred_dt = model_dt.transform(test_df)\n",
    "end = time.perf_counter()\n",
    "duration_pred = format((end-start),'.4f')\n",
    "\n",
    "print(\"Model Fitting Time Duration - {}\".format(duration_fit))\n",
    "print(\"Model predicting Time Duration - {}\".format(duration_pred))\n",
    "\n"
   ]
  },
  {
   "cell_type": "code",
   "execution_count": 32,
   "id": "8a97bcdb-6d78-4982-bc5d-deac78d50aec",
   "metadata": {},
   "outputs": [
    {
     "name": "stdout",
     "output_type": "stream",
     "text": [
      "R2 : 0.7484396758793779\n",
      "MSE : 10.385553255624137\n",
      "RMSE : 3.2226624482908752\n",
      "MAE : 2.1642999933938785\n"
     ]
    }
   ],
   "source": [
    "evaluator = RegressionEvaluator()\n",
    "print(\"R2 :\",evaluator.evaluate(ypred_dt,\n",
    "{evaluator.metricName: \"r2\"}))\n",
    "\n",
    "print(\"MSE :\",evaluator.evaluate(ypred_dt,\n",
    "{evaluator.metricName: \"mse\"}))\n",
    "\n",
    "print(\"RMSE :\",evaluator.evaluate(ypred_dt,\n",
    "{evaluator.metricName: \"rmse\"}))\n",
    "\n",
    "print(\"MAE :\",evaluator.evaluate(ypred_dt,\n",
    "{evaluator.metricName: \"mae\"}))"
   ]
  },
  {
   "cell_type": "code",
   "execution_count": 33,
   "id": "c37d2242-ce79-4ea1-a577-b261ed6ef652",
   "metadata": {},
   "outputs": [
    {
     "name": "stdout",
     "output_type": "stream",
     "text": [
      "+--------------------+-----+------------------+\n",
      "|            features|label|        prediction|\n",
      "+--------------------+-----+------------------+\n",
      "|[0.0,49.7534,23.7...|  0.0|11.165923002809174|\n",
      "|[0.31,52.63,25.3,...|  0.0|3.1480610121624246|\n",
      "|[0.618,55.84,26.6...|  0.0|2.3264769198412116|\n",
      "|[0.62,49.21,26.38...|  0.0|3.3276835139892635|\n",
      "|[0.928,50.25,26.5...|  0.0|3.3276835139892635|\n",
      "+--------------------+-----+------------------+\n",
      "only showing top 5 rows\n",
      "\n"
     ]
    }
   ],
   "source": [
    "ypred_dt.select(\"features\",\"label\", \"prediction\").show(5)"
   ]
  },
  {
   "cell_type": "code",
   "execution_count": null,
   "id": "1c03e896-f960-41e4-bdbf-5da1fc1ef84c",
   "metadata": {},
   "outputs": [],
   "source": []
  },
  {
   "cell_type": "markdown",
   "id": "a265418b-5bc7-48c5-b027-7551570fd3fc",
   "metadata": {},
   "source": [
    "# Random Forrest Regressor"
   ]
  },
  {
   "cell_type": "code",
   "execution_count": null,
   "id": "7a944c5e-c9b2-4b68-902c-c1537b3ffafb",
   "metadata": {},
   "outputs": [],
   "source": []
  },
  {
   "cell_type": "code",
   "execution_count": 34,
   "id": "49920174-5254-4cc6-9bf8-e63a6315b02e",
   "metadata": {},
   "outputs": [
    {
     "name": "stdout",
     "output_type": "stream",
     "text": [
      "Model Fitting Time Duration - 104.6386\n",
      "Model Fitting Time Duration - 104.6386\n",
      "Model predicting Time Duration - 0.1611\n"
     ]
    }
   ],
   "source": [
    "from pyspark.ml.regression import RandomForestRegressor\n",
    "\n",
    "# Define LinearRegression algorithm\n",
    "rf = RandomForestRegressor() # featuresCol=\"eatures\",numTrees=2, maxDepth=2, seed=42\n",
    "\n",
    "start = time.perf_counter()\n",
    "model_rf = rf.fit(train_df)\n",
    "end = time.perf_counter()\n",
    "duration_fit = format((end-start),'.4f')\n",
    "print(\"Model Fitting Time Duration - {}\".format(duration_fit))\n",
    "\n",
    "start = time.perf_counter()\n",
    "ypred_rf = model_rf.transform(test_df)\n",
    "end = time.perf_counter()\n",
    "duration_pred = format((end-start),'.4f')\n",
    "\n",
    "print(\"Model Fitting Time Duration - {}\".format(duration_fit))\n",
    "print(\"Model predicting Time Duration - {}\".format(duration_pred))\n"
   ]
  },
  {
   "cell_type": "code",
   "execution_count": 35,
   "id": "868a690d-0151-49fd-bb2a-d8422b3ac6f3",
   "metadata": {},
   "outputs": [
    {
     "name": "stdout",
     "output_type": "stream",
     "text": [
      "R2 : 0.7633407364675332\n",
      "MSE : 9.770369764966192\n",
      "RMSE : 3.1257590702045785\n",
      "MAE : 2.06678014299914\n"
     ]
    }
   ],
   "source": [
    "evaluator = RegressionEvaluator()\n",
    "print(\"R2 :\",evaluator.evaluate(ypred_rf,\n",
    "{evaluator.metricName: \"r2\"}))\n",
    "\n",
    "print(\"MSE :\",evaluator.evaluate(ypred_rf,\n",
    "{evaluator.metricName: \"mse\"}))\n",
    "\n",
    "print(\"RMSE :\",evaluator.evaluate(ypred_rf,\n",
    "{evaluator.metricName: \"rmse\"}))\n",
    "\n",
    "print(\"MAE :\",evaluator.evaluate(ypred_rf,\n",
    "{evaluator.metricName: \"mae\"}))"
   ]
  },
  {
   "cell_type": "code",
   "execution_count": 36,
   "id": "bd447ab8-c27e-4e11-84d9-85bdc1d7b512",
   "metadata": {},
   "outputs": [
    {
     "name": "stdout",
     "output_type": "stream",
     "text": [
      "+--------------------+-----+------------------+\n",
      "|            features|label|        prediction|\n",
      "+--------------------+-----+------------------+\n",
      "|[0.0,49.7534,23.7...|  0.0| 10.20420090568429|\n",
      "|[0.31,52.63,25.3,...|  0.0| 2.255308009144843|\n",
      "|[0.618,55.84,26.6...|  0.0| 2.493680318817966|\n",
      "|[0.62,49.21,26.38...|  0.0|3.5645754187718572|\n",
      "|[0.928,50.25,26.5...|  0.0|3.8712724131240157|\n",
      "+--------------------+-----+------------------+\n",
      "only showing top 5 rows\n",
      "\n"
     ]
    }
   ],
   "source": [
    "ypred_rf.select(\"features\",\"label\", \"prediction\").show(5)"
   ]
  },
  {
   "cell_type": "code",
   "execution_count": null,
   "id": "86e7fd32-811a-42b6-95d1-def2d8c7d8f3",
   "metadata": {},
   "outputs": [],
   "source": []
  }
 ],
 "metadata": {
  "kernelspec": {
   "display_name": "Python 3 (ipykernel)",
   "language": "python",
   "name": "python3"
  },
  "language_info": {
   "codemirror_mode": {
    "name": "ipython",
    "version": 3
   },
   "file_extension": ".py",
   "mimetype": "text/x-python",
   "name": "python",
   "nbconvert_exporter": "python",
   "pygments_lexer": "ipython3",
   "version": "3.9.10"
  }
 },
 "nbformat": 4,
 "nbformat_minor": 5
}
