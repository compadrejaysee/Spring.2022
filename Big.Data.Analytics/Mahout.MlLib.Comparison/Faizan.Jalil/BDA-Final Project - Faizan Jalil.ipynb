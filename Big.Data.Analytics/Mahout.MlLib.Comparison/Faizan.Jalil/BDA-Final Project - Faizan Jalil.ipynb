{
 "cells": [
  {
   "cell_type": "markdown",
   "id": "c08b9277-7a9a-4b07-bddd-b7f47df14d3b",
   "metadata": {},
   "source": [
    "IMPORTING PYSPARK"
   ]
  },
  {
   "cell_type": "code",
   "execution_count": 1,
   "id": "ae2d8567-885e-45e6-a5a7-eaff498032dd",
   "metadata": {},
   "outputs": [],
   "source": [
    "from pyspark.sql import SparkSession\n",
    "spark = SparkSession \\\n",
    "    .builder \\\n",
    "    .appName('Housing Data') \\\n",
    "    .getOrCreate()"
   ]
  },
  {
   "cell_type": "markdown",
   "id": "084000e9-0947-48e2-a7b5-27ccc6e53b09",
   "metadata": {},
   "source": [
    "LOADING DATASET"
   ]
  },
  {
   "cell_type": "code",
   "execution_count": 2,
   "id": "01653d39-f4c2-4d8f-8cc5-73f8095ed6f4",
   "metadata": {},
   "outputs": [],
   "source": [
    "df = (spark.read.format(\"csv\").option('header', 'true').load(\"kc.csv\"))"
   ]
  },
  {
   "cell_type": "markdown",
   "id": "f1734650-9ae8-45ec-b9f4-1c7a49850160",
   "metadata": {},
   "source": [
    "DATAFRAME HEAD & DATA TYPES"
   ]
  },
  {
   "cell_type": "code",
   "execution_count": 3,
   "id": "f661a575-a91c-4a1c-9b7b-f69dbe031c4e",
   "metadata": {
    "tags": []
   },
   "outputs": [
    {
     "data": {
      "text/plain": [
       "Row(id='7129300520', date='20141013T000000', price='221900', bedrooms='3', bathrooms='1', sqft_living='1180', sqft_lot='5650', floors='1', waterfront='0', view='0', condition='3', grade='7', sqft_above='1180', sqft_basement='0', yr_built='1955', yr_renovated='0', zipcode='98178', lat='47.5112', long='-122.257', sqft_living15='1340', sqft_lot15='5650')"
      ]
     },
     "execution_count": 3,
     "metadata": {},
     "output_type": "execute_result"
    }
   ],
   "source": [
    "df.head()"
   ]
  },
  {
   "cell_type": "code",
   "execution_count": 4,
   "id": "b8ea7d2c-f5d4-460c-806e-6ac644dcdfec",
   "metadata": {},
   "outputs": [
    {
     "data": {
      "text/plain": [
       "[('id', 'string'),\n",
       " ('date', 'string'),\n",
       " ('price', 'string'),\n",
       " ('bedrooms', 'string'),\n",
       " ('bathrooms', 'string'),\n",
       " ('sqft_living', 'string'),\n",
       " ('sqft_lot', 'string'),\n",
       " ('floors', 'string'),\n",
       " ('waterfront', 'string'),\n",
       " ('view', 'string'),\n",
       " ('condition', 'string'),\n",
       " ('grade', 'string'),\n",
       " ('sqft_above', 'string'),\n",
       " ('sqft_basement', 'string'),\n",
       " ('yr_built', 'string'),\n",
       " ('yr_renovated', 'string'),\n",
       " ('zipcode', 'string'),\n",
       " ('lat', 'string'),\n",
       " ('long', 'string'),\n",
       " ('sqft_living15', 'string'),\n",
       " ('sqft_lot15', 'string')]"
      ]
     },
     "execution_count": 4,
     "metadata": {},
     "output_type": "execute_result"
    }
   ],
   "source": [
    "df.dtypes"
   ]
  },
  {
   "cell_type": "markdown",
   "id": "a221c404-4491-4e0a-9e3b-f3ed30b4005a",
   "metadata": {},
   "source": [
    "SUMMARY - DATAFRAME FEATURES"
   ]
  },
  {
   "cell_type": "code",
   "execution_count": 5,
   "id": "9a032bbf-2614-4d5d-9cb7-06535e60c0a1",
   "metadata": {},
   "outputs": [
    {
     "data": {
      "text/html": [
       "<div>\n",
       "<style scoped>\n",
       "    .dataframe tbody tr th:only-of-type {\n",
       "        vertical-align: middle;\n",
       "    }\n",
       "\n",
       "    .dataframe tbody tr th {\n",
       "        vertical-align: top;\n",
       "    }\n",
       "\n",
       "    .dataframe thead th {\n",
       "        text-align: right;\n",
       "    }\n",
       "</style>\n",
       "<table border=\"1\" class=\"dataframe\">\n",
       "  <thead>\n",
       "    <tr style=\"text-align: right;\">\n",
       "      <th></th>\n",
       "      <th>0</th>\n",
       "      <th>1</th>\n",
       "      <th>2</th>\n",
       "      <th>3</th>\n",
       "      <th>4</th>\n",
       "    </tr>\n",
       "  </thead>\n",
       "  <tbody>\n",
       "    <tr>\n",
       "      <th>summary</th>\n",
       "      <td>count</td>\n",
       "      <td>mean</td>\n",
       "      <td>stddev</td>\n",
       "      <td>min</td>\n",
       "      <td>max</td>\n",
       "    </tr>\n",
       "    <tr>\n",
       "      <th>id</th>\n",
       "      <td>1048574</td>\n",
       "      <td>4.579861275310459E9</td>\n",
       "      <td>2.8763916519559584E9</td>\n",
       "      <td>1000102</td>\n",
       "      <td>999000215</td>\n",
       "    </tr>\n",
       "    <tr>\n",
       "      <th>date</th>\n",
       "      <td>1048574</td>\n",
       "      <td>None</td>\n",
       "      <td>None</td>\n",
       "      <td>20140502T000000</td>\n",
       "      <td>20150527T000000</td>\n",
       "    </tr>\n",
       "    <tr>\n",
       "      <th>price</th>\n",
       "      <td>1048574</td>\n",
       "      <td>540000.9407280745</td>\n",
       "      <td>367160.25436746876</td>\n",
       "      <td>1.00E+06</td>\n",
       "      <td>999999</td>\n",
       "    </tr>\n",
       "    <tr>\n",
       "      <th>bedrooms</th>\n",
       "      <td>1048574</td>\n",
       "      <td>3.3707616248352523</td>\n",
       "      <td>0.9298424990258323</td>\n",
       "      <td>0</td>\n",
       "      <td>9</td>\n",
       "    </tr>\n",
       "    <tr>\n",
       "      <th>bathrooms</th>\n",
       "      <td>1048574</td>\n",
       "      <td>2.114187935233946</td>\n",
       "      <td>0.7700672393270263</td>\n",
       "      <td>0</td>\n",
       "      <td>8</td>\n",
       "    </tr>\n",
       "    <tr>\n",
       "      <th>sqft_living</th>\n",
       "      <td>1048574</td>\n",
       "      <td>2079.600361061785</td>\n",
       "      <td>918.2777039636362</td>\n",
       "      <td>1000</td>\n",
       "      <td>998</td>\n",
       "    </tr>\n",
       "    <tr>\n",
       "      <th>sqft_lot</th>\n",
       "      <td>1048574</td>\n",
       "      <td>15114.805397616192</td>\n",
       "      <td>41446.225024989784</td>\n",
       "      <td>1000</td>\n",
       "      <td>9999</td>\n",
       "    </tr>\n",
       "    <tr>\n",
       "      <th>floors</th>\n",
       "      <td>1048574</td>\n",
       "      <td>1.4936575768615281</td>\n",
       "      <td>0.5397294437285176</td>\n",
       "      <td>1</td>\n",
       "      <td>3.5</td>\n",
       "    </tr>\n",
       "    <tr>\n",
       "      <th>waterfront</th>\n",
       "      <td>1048574</td>\n",
       "      <td>0.007542624554871664</td>\n",
       "      <td>0.08652017399813725</td>\n",
       "      <td>0</td>\n",
       "      <td>1</td>\n",
       "    </tr>\n",
       "    <tr>\n",
       "      <th>view</th>\n",
       "      <td>1048574</td>\n",
       "      <td>0.2343306242573247</td>\n",
       "      <td>0.7662741145124068</td>\n",
       "      <td>0</td>\n",
       "      <td>4</td>\n",
       "    </tr>\n",
       "    <tr>\n",
       "      <th>condition</th>\n",
       "      <td>1048574</td>\n",
       "      <td>3.4098194309605234</td>\n",
       "      <td>0.6508781415110932</td>\n",
       "      <td>1</td>\n",
       "      <td>5</td>\n",
       "    </tr>\n",
       "    <tr>\n",
       "      <th>grade</th>\n",
       "      <td>1048574</td>\n",
       "      <td>7.6562483906715215</td>\n",
       "      <td>1.1752864651032575</td>\n",
       "      <td>1</td>\n",
       "      <td>9</td>\n",
       "    </tr>\n",
       "    <tr>\n",
       "      <th>sqft_above</th>\n",
       "      <td>1048574</td>\n",
       "      <td>1787.9822511334442</td>\n",
       "      <td>827.8630287542384</td>\n",
       "      <td>1000</td>\n",
       "      <td>998</td>\n",
       "    </tr>\n",
       "    <tr>\n",
       "      <th>sqft_basement</th>\n",
       "      <td>1048574</td>\n",
       "      <td>291.6181099283408</td>\n",
       "      <td>442.6381938292455</td>\n",
       "      <td>0</td>\n",
       "      <td>990</td>\n",
       "    </tr>\n",
       "    <tr>\n",
       "      <th>yr_built</th>\n",
       "      <td>1048574</td>\n",
       "      <td>1970.9668282829823</td>\n",
       "      <td>29.36000258050457</td>\n",
       "      <td>1900</td>\n",
       "      <td>2015</td>\n",
       "    </tr>\n",
       "    <tr>\n",
       "      <th>yr_renovated</th>\n",
       "      <td>1048574</td>\n",
       "      <td>84.46046058742635</td>\n",
       "      <td>401.8029910667028</td>\n",
       "      <td>0</td>\n",
       "      <td>2015</td>\n",
       "    </tr>\n",
       "    <tr>\n",
       "      <th>zipcode</th>\n",
       "      <td>1048574</td>\n",
       "      <td>98077.9390419751</td>\n",
       "      <td>53.50842796395778</td>\n",
       "      <td>98001</td>\n",
       "      <td>98199</td>\n",
       "    </tr>\n",
       "    <tr>\n",
       "      <th>lat</th>\n",
       "      <td>1048574</td>\n",
       "      <td>47.560051383497864</td>\n",
       "      <td>0.1385778728621862</td>\n",
       "      <td>47.1559</td>\n",
       "      <td>47.7776</td>\n",
       "    </tr>\n",
       "    <tr>\n",
       "      <th>long</th>\n",
       "      <td>1048574</td>\n",
       "      <td>-122.21389457396674</td>\n",
       "      <td>0.14081404352083712</td>\n",
       "      <td>-121.315</td>\n",
       "      <td>-122.519</td>\n",
       "    </tr>\n",
       "    <tr>\n",
       "      <th>sqft_living15</th>\n",
       "      <td>1048574</td>\n",
       "      <td>1986.4422167629561</td>\n",
       "      <td>685.231818483224</td>\n",
       "      <td>1000</td>\n",
       "      <td>998</td>\n",
       "    </tr>\n",
       "    <tr>\n",
       "      <th>sqft_lot15</th>\n",
       "      <td>1048574</td>\n",
       "      <td>12772.798134418745</td>\n",
       "      <td>27296.499607930138</td>\n",
       "      <td>10000</td>\n",
       "      <td>9999</td>\n",
       "    </tr>\n",
       "  </tbody>\n",
       "</table>\n",
       "</div>"
      ],
      "text/plain": [
       "                     0                     1                     2  \\\n",
       "summary          count                  mean                stddev   \n",
       "id             1048574   4.579861275310459E9  2.8763916519559584E9   \n",
       "date           1048574                  None                  None   \n",
       "price          1048574     540000.9407280745    367160.25436746876   \n",
       "bedrooms       1048574    3.3707616248352523    0.9298424990258323   \n",
       "bathrooms      1048574     2.114187935233946    0.7700672393270263   \n",
       "sqft_living    1048574     2079.600361061785     918.2777039636362   \n",
       "sqft_lot       1048574    15114.805397616192    41446.225024989784   \n",
       "floors         1048574    1.4936575768615281    0.5397294437285176   \n",
       "waterfront     1048574  0.007542624554871664   0.08652017399813725   \n",
       "view           1048574    0.2343306242573247    0.7662741145124068   \n",
       "condition      1048574    3.4098194309605234    0.6508781415110932   \n",
       "grade          1048574    7.6562483906715215    1.1752864651032575   \n",
       "sqft_above     1048574    1787.9822511334442     827.8630287542384   \n",
       "sqft_basement  1048574     291.6181099283408     442.6381938292455   \n",
       "yr_built       1048574    1970.9668282829823     29.36000258050457   \n",
       "yr_renovated   1048574     84.46046058742635     401.8029910667028   \n",
       "zipcode        1048574      98077.9390419751     53.50842796395778   \n",
       "lat            1048574    47.560051383497864    0.1385778728621862   \n",
       "long           1048574   -122.21389457396674   0.14081404352083712   \n",
       "sqft_living15  1048574    1986.4422167629561      685.231818483224   \n",
       "sqft_lot15     1048574    12772.798134418745    27296.499607930138   \n",
       "\n",
       "                             3                4  \n",
       "summary                    min              max  \n",
       "id                     1000102        999000215  \n",
       "date           20140502T000000  20150527T000000  \n",
       "price                 1.00E+06           999999  \n",
       "bedrooms                     0                9  \n",
       "bathrooms                    0                8  \n",
       "sqft_living               1000              998  \n",
       "sqft_lot                  1000             9999  \n",
       "floors                       1              3.5  \n",
       "waterfront                   0                1  \n",
       "view                         0                4  \n",
       "condition                    1                5  \n",
       "grade                        1                9  \n",
       "sqft_above                1000              998  \n",
       "sqft_basement                0              990  \n",
       "yr_built                  1900             2015  \n",
       "yr_renovated                 0             2015  \n",
       "zipcode                  98001            98199  \n",
       "lat                    47.1559          47.7776  \n",
       "long                  -121.315         -122.519  \n",
       "sqft_living15             1000              998  \n",
       "sqft_lot15               10000             9999  "
      ]
     },
     "execution_count": 5,
     "metadata": {},
     "output_type": "execute_result"
    }
   ],
   "source": [
    "df.describe().toPandas().transpose()"
   ]
  },
  {
   "cell_type": "code",
   "execution_count": 6,
   "id": "d81190a3-f3b1-49ea-a2b4-5e901463f52a",
   "metadata": {},
   "outputs": [
    {
     "name": "stdout",
     "output_type": "stream",
     "text": [
      "+---------+--------+---------+-----------+--------+------+----------+----+---------+-----+-------------+--------+------------+-------+--------+-------------+----------+\n",
      "|    price|bedrooms|bathrooms|sqft_living|sqft_lot|floors|waterfront|view|condition|grade|sqft_basement|yr_built|yr_renovated|    lat|    long|sqft_living15|sqft_lot15|\n",
      "+---------+--------+---------+-----------+--------+------+----------+----+---------+-----+-------------+--------+------------+-------+--------+-------------+----------+\n",
      "| 221900.0|       3|      1.0|       1180|    5650|   1.0|         0|   0|        3|    7|            0|    1955|           0|47.5112|-122.257|         1340|      5650|\n",
      "| 538000.0|       3|     2.25|       2570|    7242|   2.0|         0|   0|        3|    7|          400|    1951|        1991| 47.721|-122.319|         1690|      7639|\n",
      "| 180000.0|       2|      1.0|        770|   10000|   1.0|         0|   0|        3|    6|            0|    1933|           0|47.7379|-122.233|         2720|      8062|\n",
      "| 604000.0|       4|      3.0|       1960|    5000|   1.0|         0|   0|        5|    7|          910|    1965|           0|47.5208|-122.393|         1360|      5000|\n",
      "| 510000.0|       3|      2.0|       1680|    8080|   1.0|         0|   0|        3|    8|            0|    1987|           0|47.6168|-122.045|         1800|      7503|\n",
      "|1230000.0|       4|      4.5|       5420|  101930|   1.0|         0|   0|        3|   11|         1530|    2001|           0|47.6561|-122.005|         4760|    101930|\n",
      "| 257500.0|       3|     2.25|       1715|    6819|   2.0|         0|   0|        3|    7|            0|    1995|           0|47.3097|-122.327|         2238|      6819|\n",
      "| 291850.0|       3|      1.5|       1060|    9711|   1.0|         0|   0|        3|    7|            0|    1963|           0|47.4095|-122.315|         1650|      9711|\n",
      "| 229500.0|       3|      1.0|       1780|    7470|   1.0|         0|   0|        3|    7|          730|    1960|           0|47.5123|-122.337|         1780|      8113|\n",
      "| 323000.0|       3|      2.5|       1890|    6560|   2.0|         0|   0|        3|    7|            0|    2003|           0|47.3684|-122.031|         2390|      7570|\n",
      "| 662500.0|       3|      2.5|       3560|    9796|   1.0|         0|   0|        3|    8|         1700|    1965|           0|47.6007|-122.145|         2210|      8925|\n",
      "| 468000.0|       2|      1.0|       1160|    6000|   1.0|         0|   0|        4|    7|          300|    1942|           0|  47.69|-122.292|         1330|      6000|\n",
      "| 310000.0|       3|      1.0|       1430|   19901|   1.5|         0|   0|        4|    7|            0|    1927|           0|47.7558|-122.229|         1780|     12697|\n",
      "| 400000.0|       3|     1.75|       1370|    9680|   1.0|         0|   0|        4|    7|            0|    1977|           0|47.6127|-122.045|         1370|     10208|\n",
      "| 530000.0|       5|      2.0|       1810|    4850|   1.5|         0|   0|        3|    7|            0|    1900|           0|  47.67|-122.394|         1360|      4850|\n",
      "| 650000.0|       4|      3.0|       2950|    5000|   2.0|         0|   3|        3|    9|          970|    1979|           0|47.5714|-122.375|         2140|      4000|\n",
      "| 395000.0|       3|      2.0|       1890|   14040|   2.0|         0|   0|        3|    7|            0|    1994|           0|47.7277|-121.962|         1890|     14018|\n",
      "| 485000.0|       4|      1.0|       1600|    4300|   1.5|         0|   0|        4|    7|            0|    1916|           0|47.6648|-122.343|         1610|      4300|\n",
      "| 189000.0|       2|      1.0|       1200|    9850|   1.0|         0|   0|        4|    7|            0|    1921|           0|47.3089| -122.21|         1060|      5095|\n",
      "| 230000.0|       3|      1.0|       1250|    9774|   1.0|         0|   0|        4|    7|            0|    1969|           0|47.3343|-122.306|         1280|      8850|\n",
      "+---------+--------+---------+-----------+--------+------+----------+----+---------+-----+-------------+--------+------------+-------+--------+-------------+----------+\n",
      "only showing top 20 rows\n",
      "\n"
     ]
    }
   ],
   "source": [
    "from pyspark.sql.functions import col\n",
    "dataset = df.select(col('price').cast('float'),\n",
    "                         col('bedrooms').cast('int'),\n",
    "                         col('bathrooms').cast('float'),\n",
    "                         col('sqft_living').cast('int'),\n",
    "                         col('sqft_lot').cast('int'),\n",
    "                         col('floors').cast('float'),\n",
    "                        col('waterfront').cast('int'),\n",
    "                        col('view').cast('int'),\n",
    "                        col('condition').cast('int'),\n",
    "                        col('grade').cast('int'),\n",
    "                        col('sqft_basement').cast('int'),\n",
    "                        col('yr_built').cast('int'),\n",
    "                        col('yr_renovated').cast('int'),\n",
    "                        col('lat').cast('float'),\n",
    "                        col('long').cast('float'),\n",
    "                        col('sqft_living15').cast('int'),\n",
    "                        col('sqft_lot15').cast('int')\n",
    "                        )\n",
    "dataset.show()"
   ]
  },
  {
   "cell_type": "code",
   "execution_count": 7,
   "id": "461d994a-9dcf-4cd3-bac2-f9662ccbcd7b",
   "metadata": {},
   "outputs": [
    {
     "data": {
      "text/plain": [
       "[('price', 'float'),\n",
       " ('bedrooms', 'int'),\n",
       " ('bathrooms', 'float'),\n",
       " ('sqft_living', 'int'),\n",
       " ('sqft_lot', 'int'),\n",
       " ('floors', 'float'),\n",
       " ('waterfront', 'int'),\n",
       " ('view', 'int'),\n",
       " ('condition', 'int'),\n",
       " ('grade', 'int'),\n",
       " ('sqft_basement', 'int'),\n",
       " ('yr_built', 'int'),\n",
       " ('yr_renovated', 'int'),\n",
       " ('lat', 'float'),\n",
       " ('long', 'float'),\n",
       " ('sqft_living15', 'int'),\n",
       " ('sqft_lot15', 'int')]"
      ]
     },
     "execution_count": 7,
     "metadata": {},
     "output_type": "execute_result"
    }
   ],
   "source": [
    "dataset.dtypes"
   ]
  },
  {
   "cell_type": "markdown",
   "id": "1bf4aac9-cb0d-41a3-863c-a54b2aeccacb",
   "metadata": {},
   "source": [
    "MODEL TRAINING"
   ]
  },
  {
   "cell_type": "code",
   "execution_count": 8,
   "id": "e6d58cb1-ccd3-4fbe-9ed1-eb067fc960a8",
   "metadata": {},
   "outputs": [
    {
     "name": "stdout",
     "output_type": "stream",
     "text": [
      "+---------+--------+---------+-----------+--------+------+----------+----+---------+-----+-------------+--------+------------+-------+--------+-------------+----------+--------------------+\n",
      "|    price|bedrooms|bathrooms|sqft_living|sqft_lot|floors|waterfront|view|condition|grade|sqft_basement|yr_built|yr_renovated|    lat|    long|sqft_living15|sqft_lot15|            features|\n",
      "+---------+--------+---------+-----------+--------+------+----------+----+---------+-----+-------------+--------+------------+-------+--------+-------------+----------+--------------------+\n",
      "| 221900.0|       3|      1.0|       1180|    5650|   1.0|         0|   0|        3|    7|            0|    1955|           0|47.5112|-122.257|         1340|      5650|[3.0,1.0,1180.0,5...|\n",
      "| 538000.0|       3|     2.25|       2570|    7242|   2.0|         0|   0|        3|    7|          400|    1951|        1991| 47.721|-122.319|         1690|      7639|[3.0,2.25,2570.0,...|\n",
      "| 180000.0|       2|      1.0|        770|   10000|   1.0|         0|   0|        3|    6|            0|    1933|           0|47.7379|-122.233|         2720|      8062|[2.0,1.0,770.0,10...|\n",
      "| 604000.0|       4|      3.0|       1960|    5000|   1.0|         0|   0|        5|    7|          910|    1965|           0|47.5208|-122.393|         1360|      5000|[4.0,3.0,1960.0,5...|\n",
      "| 510000.0|       3|      2.0|       1680|    8080|   1.0|         0|   0|        3|    8|            0|    1987|           0|47.6168|-122.045|         1800|      7503|[3.0,2.0,1680.0,8...|\n",
      "|1230000.0|       4|      4.5|       5420|  101930|   1.0|         0|   0|        3|   11|         1530|    2001|           0|47.6561|-122.005|         4760|    101930|[4.0,4.5,5420.0,1...|\n",
      "| 257500.0|       3|     2.25|       1715|    6819|   2.0|         0|   0|        3|    7|            0|    1995|           0|47.3097|-122.327|         2238|      6819|[3.0,2.25,1715.0,...|\n",
      "| 291850.0|       3|      1.5|       1060|    9711|   1.0|         0|   0|        3|    7|            0|    1963|           0|47.4095|-122.315|         1650|      9711|[3.0,1.5,1060.0,9...|\n",
      "| 229500.0|       3|      1.0|       1780|    7470|   1.0|         0|   0|        3|    7|          730|    1960|           0|47.5123|-122.337|         1780|      8113|[3.0,1.0,1780.0,7...|\n",
      "| 323000.0|       3|      2.5|       1890|    6560|   2.0|         0|   0|        3|    7|            0|    2003|           0|47.3684|-122.031|         2390|      7570|[3.0,2.5,1890.0,6...|\n",
      "| 662500.0|       3|      2.5|       3560|    9796|   1.0|         0|   0|        3|    8|         1700|    1965|           0|47.6007|-122.145|         2210|      8925|[3.0,2.5,3560.0,9...|\n",
      "| 468000.0|       2|      1.0|       1160|    6000|   1.0|         0|   0|        4|    7|          300|    1942|           0|  47.69|-122.292|         1330|      6000|[2.0,1.0,1160.0,6...|\n",
      "| 310000.0|       3|      1.0|       1430|   19901|   1.5|         0|   0|        4|    7|            0|    1927|           0|47.7558|-122.229|         1780|     12697|[3.0,1.0,1430.0,1...|\n",
      "| 400000.0|       3|     1.75|       1370|    9680|   1.0|         0|   0|        4|    7|            0|    1977|           0|47.6127|-122.045|         1370|     10208|[3.0,1.75,1370.0,...|\n",
      "| 530000.0|       5|      2.0|       1810|    4850|   1.5|         0|   0|        3|    7|            0|    1900|           0|  47.67|-122.394|         1360|      4850|[5.0,2.0,1810.0,4...|\n",
      "| 650000.0|       4|      3.0|       2950|    5000|   2.0|         0|   3|        3|    9|          970|    1979|           0|47.5714|-122.375|         2140|      4000|[4.0,3.0,2950.0,5...|\n",
      "| 395000.0|       3|      2.0|       1890|   14040|   2.0|         0|   0|        3|    7|            0|    1994|           0|47.7277|-121.962|         1890|     14018|[3.0,2.0,1890.0,1...|\n",
      "| 485000.0|       4|      1.0|       1600|    4300|   1.5|         0|   0|        4|    7|            0|    1916|           0|47.6648|-122.343|         1610|      4300|[4.0,1.0,1600.0,4...|\n",
      "| 189000.0|       2|      1.0|       1200|    9850|   1.0|         0|   0|        4|    7|            0|    1921|           0|47.3089| -122.21|         1060|      5095|[2.0,1.0,1200.0,9...|\n",
      "| 230000.0|       3|      1.0|       1250|    9774|   1.0|         0|   0|        4|    7|            0|    1969|           0|47.3343|-122.306|         1280|      8850|[3.0,1.0,1250.0,9...|\n",
      "+---------+--------+---------+-----------+--------+------+----------+----+---------+-----+-------------+--------+------------+-------+--------+-------------+----------+--------------------+\n",
      "only showing top 20 rows\n",
      "\n"
     ]
    }
   ],
   "source": [
    "# Assemble all the features with VectorAssembler\n",
    "required_features = ['bedrooms','bathrooms','sqft_living','sqft_lot','floors','waterfront','view','condition','grade','sqft_basement',\n",
    "                     'yr_built','yr_renovated','lat','long','sqft_living15','sqft_lot15'] \n",
    "from pyspark.ml.feature import VectorAssembler\n",
    "assembler = VectorAssembler(inputCols=required_features, outputCol='features')\n",
    "transformed_data = assembler.transform(dataset)\n",
    "# transformed_data.select('features').show()\n",
    "transformed_data.show()"
   ]
  },
  {
   "cell_type": "code",
   "execution_count": 9,
   "id": "5a50623c-4025-44cc-bdee-0f91dcf4b8e1",
   "metadata": {},
   "outputs": [],
   "source": [
    "(training_data, test_data) = transformed_data.randomSplit([0.7,0.3])"
   ]
  },
  {
   "cell_type": "code",
   "execution_count": 10,
   "id": "ea144913-1af2-4ca0-9231-5b593df8eee9",
   "metadata": {},
   "outputs": [
    {
     "name": "stdout",
     "output_type": "stream",
     "text": [
      "+-------+--------+---------+-----------+--------+------+----------+----+---------+-----+-------------+--------+------------+-------+--------+-------------+----------+--------------------+\n",
      "|  price|bedrooms|bathrooms|sqft_living|sqft_lot|floors|waterfront|view|condition|grade|sqft_basement|yr_built|yr_renovated|    lat|    long|sqft_living15|sqft_lot15|            features|\n",
      "+-------+--------+---------+-----------+--------+------+----------+----+---------+-----+-------------+--------+------------+-------+--------+-------------+----------+--------------------+\n",
      "|75000.0|       1|      0.0|        670|   43377|   1.0|         0|   0|        3|    3|            0|    1966|           0|47.2638|-121.906|         1160|     42882|[1.0,0.0,670.0,43...|\n",
      "|75000.0|       1|      0.0|        670|   43377|   1.0|         0|   0|        3|    3|            0|    1966|           0|47.2638|-121.906|         1160|     42882|[1.0,0.0,670.0,43...|\n",
      "|75000.0|       1|      0.0|        670|   43377|   1.0|         0|   0|        3|    3|            0|    1966|           0|47.2638|-121.906|         1160|     42882|[1.0,0.0,670.0,43...|\n",
      "|75000.0|       1|      0.0|        670|   43377|   1.0|         0|   0|        3|    3|            0|    1966|           0|47.2638|-121.906|         1160|     42882|[1.0,0.0,670.0,43...|\n",
      "|75000.0|       1|      0.0|        670|   43377|   1.0|         0|   0|        3|    3|            0|    1966|           0|47.2638|-121.906|         1160|     42882|[1.0,0.0,670.0,43...|\n",
      "|75000.0|       1|      0.0|        670|   43377|   1.0|         0|   0|        3|    3|            0|    1966|           0|47.2638|-121.906|         1160|     42882|[1.0,0.0,670.0,43...|\n",
      "|78000.0|       2|      1.0|        780|   16344|   1.0|         0|   0|        1|    5|            0|    1942|           0|47.4739| -122.28|         1700|     10387|[2.0,1.0,780.0,16...|\n",
      "|78000.0|       2|      1.0|        780|   16344|   1.0|         0|   0|        1|    5|            0|    1942|           0|47.4739| -122.28|         1700|     10387|[2.0,1.0,780.0,16...|\n",
      "|78000.0|       2|      1.0|        780|   16344|   1.0|         0|   0|        1|    5|            0|    1942|           0|47.4739| -122.28|         1700|     10387|[2.0,1.0,780.0,16...|\n",
      "|78000.0|       2|      1.0|        780|   16344|   1.0|         0|   0|        1|    5|            0|    1942|           0|47.4739| -122.28|         1700|     10387|[2.0,1.0,780.0,16...|\n",
      "|78000.0|       2|      1.0|        780|   16344|   1.0|         0|   0|        1|    5|            0|    1942|           0|47.4739| -122.28|         1700|     10387|[2.0,1.0,780.0,16...|\n",
      "|78000.0|       2|      1.0|        780|   16344|   1.0|         0|   0|        1|    5|            0|    1942|           0|47.4739| -122.28|         1700|     10387|[2.0,1.0,780.0,16...|\n",
      "|78000.0|       2|      1.0|        780|   16344|   1.0|         0|   0|        1|    5|            0|    1942|           0|47.4739| -122.28|         1700|     10387|[2.0,1.0,780.0,16...|\n",
      "|78000.0|       2|      1.0|        780|   16344|   1.0|         0|   0|        1|    5|            0|    1942|           0|47.4739| -122.28|         1700|     10387|[2.0,1.0,780.0,16...|\n",
      "|80000.0|       1|     0.75|        430|    5050|   1.0|         0|   0|        2|    4|            0|    1912|           0|47.6499|-121.909|         1200|      7500|[1.0,0.75,430.0,5...|\n",
      "|80000.0|       1|     0.75|        430|    5050|   1.0|         0|   0|        2|    4|            0|    1912|           0|47.6499|-121.909|         1200|      7500|[1.0,0.75,430.0,5...|\n",
      "|80000.0|       1|     0.75|        430|    5050|   1.0|         0|   0|        2|    4|            0|    1912|           0|47.6499|-121.909|         1200|      7500|[1.0,0.75,430.0,5...|\n",
      "|80000.0|       1|     0.75|        430|    5050|   1.0|         0|   0|        2|    4|            0|    1912|           0|47.6499|-121.909|         1200|      7500|[1.0,0.75,430.0,5...|\n",
      "|80000.0|       1|     0.75|        430|    5050|   1.0|         0|   0|        2|    4|            0|    1912|           0|47.6499|-121.909|         1200|      7500|[1.0,0.75,430.0,5...|\n",
      "|80000.0|       1|     0.75|        430|    5050|   1.0|         0|   0|        2|    4|            0|    1912|           0|47.6499|-121.909|         1200|      7500|[1.0,0.75,430.0,5...|\n",
      "+-------+--------+---------+-----------+--------+------+----------+----+---------+-----+-------------+--------+------------+-------+--------+-------------+----------+--------------------+\n",
      "only showing top 20 rows\n",
      "\n"
     ]
    }
   ],
   "source": [
    "training_data.show()"
   ]
  },
  {
   "cell_type": "code",
   "execution_count": 11,
   "id": "858a1f4b-db88-4f56-9b03-857a81c28fae",
   "metadata": {},
   "outputs": [],
   "source": [
    "# from pyspark.ml.classification import LogisticRegression\n",
    "# lr = LogisticRegression(featuresCol='features',labelCol='price')"
   ]
  },
  {
   "cell_type": "code",
   "execution_count": 12,
   "id": "6d778b89-fa94-4ce6-912c-e499d013558e",
   "metadata": {},
   "outputs": [],
   "source": [
    "# from pyspark.ml import Pipeline\n",
    "# regression_pipeline = Pipeline(stages= [lr])"
   ]
  },
  {
   "cell_type": "code",
   "execution_count": 13,
   "id": "ef76cc93-a16f-4897-ac1c-f7126ccbf513",
   "metadata": {},
   "outputs": [],
   "source": [
    "# model = lr.fit(training_data)"
   ]
  },
  {
   "cell_type": "code",
   "execution_count": 14,
   "id": "0c66e587-58d5-423b-b9a7-09341b3a6a96",
   "metadata": {},
   "outputs": [],
   "source": [
    "# predictions = model.transform(test_data)"
   ]
  },
  {
   "cell_type": "markdown",
   "id": "1066092e-b7bd-43ed-b858-8bcb614cafcf",
   "metadata": {},
   "source": [
    "RANDOM FOREST REGRESSION"
   ]
  },
  {
   "cell_type": "markdown",
   "id": "678a7337-93f4-40cf-9575-bf4aba8a8e13",
   "metadata": {},
   "source": [
    "- IMPORTING LIBRARIES & FUNCTION WITH PARAMETERS"
   ]
  },
  {
   "cell_type": "code",
   "execution_count": 15,
   "id": "a69fd89c-0af2-4d50-bce6-da153375cd69",
   "metadata": {},
   "outputs": [],
   "source": [
    "from pyspark.ml.regression import RandomForestRegressor\n",
    "rf = RandomForestRegressor(labelCol=\"price\", featuresCol=\"features\")"
   ]
  },
  {
   "cell_type": "markdown",
   "id": "d8feddf7-ad6a-4dc3-8682-182e413c298b",
   "metadata": {},
   "source": [
    "- MODEL FIT"
   ]
  },
  {
   "cell_type": "code",
   "execution_count": 16,
   "id": "727e8733-4f6c-40ff-a29f-8f3a6e762ccb",
   "metadata": {},
   "outputs": [],
   "source": [
    "import time"
   ]
  },
  {
   "cell_type": "code",
   "execution_count": 17,
   "id": "a2b20a3f-1c34-46c1-9fa4-1cb90c7fff00",
   "metadata": {},
   "outputs": [],
   "source": [
    "start_timeRF = time.perf_counter()\n",
    "\n",
    "modelRF = rf.fit(training_data)\n",
    "predictionsRF = modelRF.transform(test_data)\n",
    "\n",
    "end_timeRF = time.perf_counter()\n",
    "training_timeRF = end_timeRF - start_timeRF"
   ]
  },
  {
   "cell_type": "markdown",
   "id": "54f3e0cf-0875-4e17-9f73-1b56e4558dd4",
   "metadata": {},
   "source": [
    "- EXECUTION TIME & PERFORMANCE"
   ]
  },
  {
   "cell_type": "code",
   "execution_count": 18,
   "id": "a6556721-e7c7-4737-9ad0-277c2166fb7b",
   "metadata": {},
   "outputs": [
    {
     "name": "stdout",
     "output_type": "stream",
     "text": [
      "Random Forest Model Start Time =  4276.7897\n",
      "Random Forest Model End Time =  4378.5083438\n",
      "Random Forest Model Total Training Time =  101.71864379999988\n"
     ]
    }
   ],
   "source": [
    "print('Random Forest Model Start Time = ', start_timeRF)\n",
    "print('Random Forest Model End Time = ', end_timeRF)\n",
    "print('Random Forest Model Total Training Time = ', training_timeRF)"
   ]
  },
  {
   "cell_type": "markdown",
   "id": "f0fbce95-6453-497c-b05a-8de8cdd6ddb1",
   "metadata": {},
   "source": [
    "- RMSE & R Square - TEST ACCURACIES"
   ]
  },
  {
   "cell_type": "code",
   "execution_count": 19,
   "id": "53792de6-be40-424c-8011-b3762f51e7ea",
   "metadata": {},
   "outputs": [],
   "source": [
    "# Evaluate our model\n",
    "from pyspark.ml.evaluation import RegressionEvaluator, MulticlassClassificationEvaluator\n",
    "#evaluator = MulticlassClassificationEvaluator(\n",
    "#    labelCol='price', \n",
    "#    predictionCol='prediction', \n",
    "#    metricName='accuracy')\n",
    "evaluatorrf1 = RegressionEvaluator(labelCol=\"price\", predictionCol=\"prediction\", metricName=\"rmse\")\n",
    "evaluatorrf2 = RegressionEvaluator(labelCol=\"price\", predictionCol=\"prediction\", metricName=\"r2\")"
   ]
  },
  {
   "cell_type": "code",
   "execution_count": 20,
   "id": "7b1015ba-2660-4a96-9074-cf9dc5891b5b",
   "metadata": {},
   "outputs": [
    {
     "name": "stdout",
     "output_type": "stream",
     "text": [
      "Random Forest Regression RMSE Test Accuracy =  167386.04013005417\n",
      "Random Forest Regression R2 Test Accuracy =  0.7909986431832868\n"
     ]
    }
   ],
   "source": [
    "accuracy1 = evaluatorrf1.evaluate(predictionsRF)\n",
    "accuracy2 = evaluatorrf2.evaluate(predictionsRF)\n",
    "print('Random Forest Regression RMSE Test Accuracy = ', accuracy1)\n",
    "print('Random Forest Regression R2 Test Accuracy = ', accuracy2)"
   ]
  },
  {
   "cell_type": "markdown",
   "id": "620c6548-bac8-4418-bbb5-032e813763b6",
   "metadata": {},
   "source": [
    "PERFORMANCE VISUALIZATION - RANDOM FOREST REGRESSION"
   ]
  },
  {
   "cell_type": "code",
   "execution_count": 21,
   "id": "13038ca0-d864-47d5-adcf-fa10642c11d9",
   "metadata": {},
   "outputs": [
    {
     "data": {
      "image/png": "[encoded data removed]",
      "text/plain": [
       "<Figure size 432x288 with 1 Axes>"
      ]
     },
     "metadata": {
      "needs_background": "light"
     },
     "output_type": "display_data"
    }
   ],
   "source": [
    "import matplotlib.pyplot as plt\n",
    "\n",
    "rmse = evaluatorrf1.evaluate(predictionsRF)\n",
    "r2 = evaluatorrf2.evaluate(predictionsRF)\n",
    "rfPred = modelRF.transform(test_data)\n",
    "rfResult = rfPred.toPandas()\n",
    "plt.plot(rfResult.price, rfResult.prediction, 'bo')\n",
    "plt.xlabel('Price')\n",
    "plt.ylabel('Prediction')\n",
    "plt.suptitle(\"Random Forest Regression Model Performance RMSE: %f\" % rmse)\n",
    "plt.suptitle(\"Random Forest Regression Model Performance R2: %f\" % r2)\n",
    "plt.show()"
   ]
  },
  {
   "cell_type": "markdown",
   "id": "9649dee3-754b-426b-88fa-1cca5d93cbfa",
   "metadata": {},
   "source": [
    "LINEAR REGRESSION"
   ]
  },
  {
   "cell_type": "code",
   "execution_count": 22,
   "id": "a4d9c523-173b-46b3-8a19-39f32efdc5cf",
   "metadata": {},
   "outputs": [],
   "source": [
    "from pyspark.ml.regression import LinearRegression\n",
    "lr = LinearRegression(featuresCol = 'features', labelCol='price', maxIter=10, regParam=0.3, elasticNetParam=0.8)"
   ]
  },
  {
   "cell_type": "code",
   "execution_count": 23,
   "id": "4d4a3f2b-9419-434c-a5e5-9431b62c1cb0",
   "metadata": {},
   "outputs": [],
   "source": [
    "start_timeLR = time.perf_counter()\n",
    "\n",
    "lr_model = lr.fit(training_data)\n",
    "predictionsLR = lr_model.transform(test_data)\n",
    "\n",
    "end_timeLR = time.perf_counter()\n",
    "\n",
    "training_timeLR = end_timeLR - start_timeLR"
   ]
  },
  {
   "cell_type": "code",
   "execution_count": 24,
   "id": "c38aea6e-1328-4095-9821-83e42b95b098",
   "metadata": {},
   "outputs": [
    {
     "name": "stdout",
     "output_type": "stream",
     "text": [
      "Linear Regression Model Start Time =  4569.8371016\n",
      "Linear Regression Model End Time =  4620.4712325\n",
      "Linear Regression Model Total Training Time =  50.634130899999946\n"
     ]
    }
   ],
   "source": [
    "print('Linear Regression Model Start Time = ', start_timeLR)\n",
    "print('Linear Regression Model End Time = ', end_timeLR)\n",
    "print('Linear Regression Model Total Training Time = ', training_timeLR)"
   ]
  },
  {
   "cell_type": "code",
   "execution_count": 25,
   "id": "d4457fc4-3a9c-442b-b832-6a4d22c0ed72",
   "metadata": {},
   "outputs": [
    {
     "name": "stdout",
     "output_type": "stream",
     "text": [
      "Coefficients: [-33993.80847295216,44175.53907306952,166.3422434132397,0.16847942501952068,3045.154741430932,628356.2302689436,45038.93845860079,30501.123812705846,102303.4260319803,-20.5419649329964,-2591.5971762995473,20.331834883862022,556023.1578516479,-126482.23879823307,34.512934314395274,-0.44930466229975813]\n",
      "Intercept: -37547005.15196078\n"
     ]
    }
   ],
   "source": [
    "print(\"Coefficients: \" + str(lr_model.coefficients))\n",
    "print(\"Intercept: \" + str(lr_model.intercept))"
   ]
  },
  {
   "cell_type": "code",
   "execution_count": 26,
   "id": "175c026a-6ab5-4644-bc89-7104dc42c64b",
   "metadata": {},
   "outputs": [],
   "source": [
    "# Evaluate our model\n",
    "from pyspark.ml.evaluation import RegressionEvaluator, MulticlassClassificationEvaluator\n",
    "\n",
    "evaluatorLR1 = RegressionEvaluator(labelCol=\"price\", predictionCol=\"prediction\", metricName=\"rmse\")\n",
    "evaluatorLR2 = RegressionEvaluator(labelCol=\"price\", predictionCol=\"prediction\", metricName=\"r2\")"
   ]
  },
  {
   "cell_type": "code",
   "execution_count": 27,
   "id": "ca89fbed-b864-4a69-9a3b-044f5e07bda4",
   "metadata": {},
   "outputs": [
    {
     "name": "stdout",
     "output_type": "stream",
     "text": [
      "Linear Regression RMSE Test Accuracy =  202260.07375045063\n",
      "Linear Regression R2 Test Accuracy =  0.6948376452815955\n"
     ]
    }
   ],
   "source": [
    "accuracy3 = evaluatorLR1.evaluate(predictionsLR)\n",
    "accuracy4 = evaluatorLR2.evaluate(predictionsLR)\n",
    "print('Linear Regression RMSE Test Accuracy = ', accuracy3)\n",
    "print('Linear Regression R2 Test Accuracy = ', accuracy4)"
   ]
  },
  {
   "cell_type": "code",
   "execution_count": 28,
   "id": "82bef19c-552e-42ef-b9a4-661c8561469f",
   "metadata": {},
   "outputs": [
    {
     "data": {
      "image/png": "[encoded data removed]",
      "text/plain": [
       "<Figure size 432x288 with 1 Axes>"
      ]
     },
     "metadata": {
      "needs_background": "light"
     },
     "output_type": "display_data"
    }
   ],
   "source": [
    "import matplotlib.pyplot as plt\n",
    "\n",
    "rmse = evaluatorLR1.evaluate(predictionsLR)\n",
    "r2 = evaluatorLR2.evaluate(predictionsLR)\n",
    "rfPred = lr_model.transform(test_data)\n",
    "rfResult = rfPred.toPandas()\n",
    "plt.plot(rfResult.price, rfResult.prediction, 'bo')\n",
    "plt.xlabel('Price')\n",
    "plt.ylabel('Prediction')\n",
    "plt.suptitle(\"Linear Regression Model Performance RMSE: %f\" % rmse)\n",
    "plt.suptitle(\"Linear Regression Model Performance R2: %f\" % r2)\n",
    "plt.show()"
   ]
  },
  {
   "cell_type": "code",
   "execution_count": 29,
   "id": "9bb62d16-cae8-4ed5-8cf5-de9f55cc0785",
   "metadata": {},
   "outputs": [
    {
     "ename": "NameError",
     "evalue": "name 'model' is not defined",
     "output_type": "error",
     "traceback": [
      "\u001b[0;31m---------------------------------------------------------------------------\u001b[0m",
      "\u001b[0;31mNameError\u001b[0m                                 Traceback (most recent call last)",
      "Input \u001b[0;32mIn [29]\u001b[0m, in \u001b[0;36m<cell line: 1>\u001b[0;34m()\u001b[0m\n\u001b[0;32m----> 1\u001b[0m bestPipeline \u001b[38;5;241m=\u001b[39m \u001b[43mmodel\u001b[49m\u001b[38;5;241m.\u001b[39mbestModel\n\u001b[1;32m      2\u001b[0m bestModel \u001b[38;5;241m=\u001b[39m bestPipeline\u001b[38;5;241m.\u001b[39mstages[\u001b[38;5;241m1\u001b[39m]\n\u001b[1;32m      3\u001b[0m importances \u001b[38;5;241m=\u001b[39m bestModel\u001b[38;5;241m.\u001b[39mfeatureImportances\n",
      "\u001b[0;31mNameError\u001b[0m: name 'model' is not defined"
     ]
    }
   ],
   "source": [
    "bestPipeline = model.bestModel\n",
    "bestModel = bestPipeline.stages[1]\n",
    "importances = bestModel.featureImportances\n",
    "x_values = list(range(len(importances)))\n",
    "plt.bar(x_values, importances, orientation = 'vertical')\n",
    "plt.xticks(x_values, feature_list, rotation=40)\n",
    "plt.ylabel('Importance')\n",
    "plt.xlabel('Feature')\n",
    "plt.title('Feature Importances')"
   ]
  },
  {
   "cell_type": "markdown",
   "id": "a7b9e5ba-e6d5-4e4e-a186-686956252ab1",
   "metadata": {},
   "source": [
    "CORRELATION MATRIX"
   ]
  },
  {
   "cell_type": "code",
   "execution_count": 30,
   "id": "e7d7bcef-4dd6-49a9-aa49-0a5bd45886e5",
   "metadata": {},
   "outputs": [
    {
     "name": "stderr",
     "output_type": "stream",
     "text": [
      "/usr/local/spark/python/pyspark/sql/context.py:125: FutureWarning: Deprecated in 3.0.0. Use SparkSession.builder.getOrCreate() instead.\n",
      "  warnings.warn(\n"
     ]
    }
   ],
   "source": [
    "from pyspark.ml.stat import Correlation\n",
    "\n",
    "matrix = Correlation.corr(training_data.select('features'), 'features')\n",
    "matrix_np = matrix.collect()[0][\"pearson({})\".format('features')].values"
   ]
  },
  {
   "cell_type": "code",
   "execution_count": 31,
   "id": "0dab2cf0-c1d1-4c63-8a1c-8bd009b538fe",
   "metadata": {},
   "outputs": [
    {
     "name": "stderr",
     "output_type": "stream",
     "text": [
      "/tmp/ipykernel_3471/2746928295.py:1: DeprecationWarning: Importing display from IPython.core.display is deprecated since IPython 7.14, please import from IPython display\n",
      "  from IPython.core.display import display, HTML # my imports\n"
     ]
    }
   ],
   "source": [
    "from IPython.core.display import display, HTML # my imports\n",
    "\n",
    "# annot = dataset.display_image(21, use_url=False) #my function return a html page\n",
    "\n",
    "# HTML(annot) # used for displaying the page\n",
    "\n",
    "%matplotlib widget\n",
    "%matplotlib inline"
   ]
  },
  {
   "cell_type": "code",
   "execution_count": 32,
   "id": "ec0936ef-a0bd-4025-b52c-fe8e9549b9aa",
   "metadata": {},
   "outputs": [
    {
     "data": {
      "image/png": "[encoded data removed]",
      "text/plain": [
       "<Figure size 864x576 with 2 Axes>"
      ]
     },
     "metadata": {
      "needs_background": "light"
     },
     "output_type": "display_data"
    }
   ],
   "source": [
    "import seaborn as sns\n",
    "\n",
    "matrix_np = matrix_np.reshape(len(required_features),len(required_features))\n",
    "\n",
    "fig, ax = plt.subplots(figsize=(12,8))\n",
    "ax = sns.heatmap(matrix_np, cmap=\"YlGnBu\")\n",
    "ax.xaxis.set_ticklabels(required_features, rotation=270)\n",
    "ax.yaxis.set_ticklabels(required_features, rotation=0)\n",
    "ax.set_title(\"Correlation Matrix\")\n",
    "plt.tight_layout()\n",
    "plt.show()"
   ]
  },
  {
   "cell_type": "code",
   "execution_count": 33,
   "id": "c33e0960-997e-4636-8e6a-3b29297694a4",
   "metadata": {},
   "outputs": [],
   "source": [
    "from pyspark.ml.regression import RandomForestRegressor\n",
    "\n",
    "rfr = RandomForestRegressor(labelCol='price', featuresCol='features', numTrees=50)"
   ]
  },
  {
   "cell_type": "code",
   "execution_count": 34,
   "id": "25d70493-d206-4e9b-a063-3fc05ed4ccd1",
   "metadata": {},
   "outputs": [],
   "source": [
    "start_timeRFR = time.perf_counter()\n",
    "\n",
    "modelRFR = rfr.fit(training_data)\n",
    "predictionsRFR = modelRFR.transform(test_data)\n",
    "\n",
    "end_timeRFR = time.perf_counter()\n",
    "\n",
    "training_timeRFR = end_timeRFR - start_timeRFR"
   ]
  },
  {
   "cell_type": "code",
   "execution_count": 35,
   "id": "2f949617-5c74-49db-b61d-d31421bd907b",
   "metadata": {},
   "outputs": [
    {
     "name": "stdout",
     "output_type": "stream",
     "text": [
      "Random Forest Regression Model Start Time =  5649.0026326\n",
      "Random Forest Regression Model End Time =  5728.1820794\n",
      "Random Forest Regression Model Training Time =  79.17944679999982\n"
     ]
    }
   ],
   "source": [
    "print('Random Forest Regression Model Start Time = ', start_timeRFR)\n",
    "print('Random Forest Regression Model End Time = ', end_timeRFR)\n",
    "print('Random Forest Regression Model Training Time = ', training_timeRFR)"
   ]
  },
  {
   "cell_type": "code",
   "execution_count": 36,
   "id": "ed8343ee-afed-4e96-b08c-78e7bfada53a",
   "metadata": {},
   "outputs": [],
   "source": [
    "# Evaluate our model\n",
    "from pyspark.ml.evaluation import RegressionEvaluator, MulticlassClassificationEvaluator\n",
    "evaluatorRFR1 = RegressionEvaluator(labelCol=\"price\", predictionCol=\"prediction\", metricName=\"rmse\")\n",
    "evaluatorRFR2 = RegressionEvaluator(labelCol=\"price\", predictionCol=\"prediction\", metricName=\"r2\")"
   ]
  },
  {
   "cell_type": "code",
   "execution_count": 37,
   "id": "53990816-12b5-41dd-bd1c-232be9b7fb9d",
   "metadata": {},
   "outputs": [
    {
     "name": "stdout",
     "output_type": "stream",
     "text": [
      "Random Forest Regression RMSE Test Accuracy =  165540.47935022417\n",
      "Random Forest Regression R2 Test Accuracy =  0.7955820391451062\n"
     ]
    }
   ],
   "source": [
    "accuracy5 = evaluatorRFR1.evaluate(predictionsRFR)\n",
    "accuracy6 = evaluatorRFR2.evaluate(predictionsRFR)\n",
    "print('Random Forest Regression RMSE Test Accuracy = ', accuracy5)\n",
    "print('Random Forest Regression R2 Test Accuracy = ', accuracy6)"
   ]
  },
  {
   "cell_type": "code",
   "execution_count": 38,
   "id": "e66aa98f-1b83-4b1f-8bb5-5784454c845a",
   "metadata": {},
   "outputs": [
    {
     "data": {
      "image/png": "[encoded data removed]",
      "text/plain": [
       "<Figure size 432x288 with 1 Axes>"
      ]
     },
     "metadata": {
      "needs_background": "light"
     },
     "output_type": "display_data"
    }
   ],
   "source": [
    "import matplotlib.pyplot as plt\n",
    "\n",
    "rmse = evaluatorRFR1.evaluate(predictionsRFR)\n",
    "r2 = evaluatorRFR2.evaluate(predictionsRFR)\n",
    "rfPred = modelRFR.transform(test_data)\n",
    "rfResult = rfPred.toPandas()\n",
    "plt.plot(rfResult.price, rfResult.prediction, 'bo')\n",
    "plt.xlabel('Price')\n",
    "plt.ylabel('Prediction')\n",
    "plt.suptitle(\"Random Forest Regression Model Performance RMSE: %f\" % rmse)\n",
    "plt.suptitle(\"Random Forest Regression Model Performance R2: %f\" % r2)\n",
    "plt.show()"
   ]
  },
  {
   "cell_type": "code",
   "execution_count": 39,
   "id": "b379640a-6903-45ad-acf8-fbf7de0d39e7",
   "metadata": {},
   "outputs": [
    {
     "data": {
      "text/plain": [
       "DataFrame[date: string, price: string]"
      ]
     },
     "metadata": {},
     "output_type": "display_data"
    }
   ],
   "source": [
    "display(df.select(\"date\", \"price\"))"
   ]
  },
  {
   "cell_type": "markdown",
   "id": "88db4a4e-dc7e-4be8-923b-2eb36ab54d52",
   "metadata": {},
   "source": [
    "GRADIENT BOOSTING REGRESSOR"
   ]
  },
  {
   "cell_type": "code",
   "execution_count": 40,
   "id": "44290fbc-0e15-4b93-888b-022bb3be79f7",
   "metadata": {},
   "outputs": [],
   "source": [
    "import pyspark\n",
    "from pyspark.sql import SparkSession\n",
    "from pyspark.ml.regression import GBTRegressor\n",
    "from pyspark.ml.feature import StringIndexer, VectorAssembler\n",
    "from pyspark.ml.feature import VectorAssembler\n",
    "from pyspark.ml import Pipeline\n",
    "from pyspark.ml.evaluation import BinaryClassificationEvaluator\n",
    "conf = pyspark.SparkConf().setAppName(\"Gradient Boosted Tree Regressor\")"
   ]
  },
  {
   "cell_type": "code",
   "execution_count": 41,
   "id": "8da67d53-6b4b-4086-8a94-37b9997b4eb6",
   "metadata": {},
   "outputs": [],
   "source": [
    "from pyspark.ml.regression import RandomForestRegressor, GBTRegressor\n",
    "gbtregressor = GBTRegressor(featuresCol = 'features', labelCol = 'price', maxDepth = 30)\n",
    "\n",
    "# maxIter=10"
   ]
  },
  {
   "cell_type": "code",
   "execution_count": 42,
   "id": "01f1bb2f-1e97-4e7f-838f-79e549bbc133",
   "metadata": {},
   "outputs": [],
   "source": [
    "start_timeGB = time.perf_counter()\n",
    "\n",
    "modelGB = gbtregressor.fit(training_data)\n",
    "predictionsGB = modelGB.transform(test_data)\n",
    "\n",
    "end_timeGB = time.perf_counter()\n",
    "\n",
    "training_timeGB = end_timeGB - start_timeGB"
   ]
  },
  {
   "cell_type": "code",
   "execution_count": 43,
   "id": "0078bdde-d4c0-461d-a415-60011cd4d0c7",
   "metadata": {},
   "outputs": [
    {
     "name": "stdout",
     "output_type": "stream",
     "text": [
      "Gradient Boosting Regression Model Start Time =  5864.9711885\n",
      "Gradient Boosting Regression Model End Time =  6647.7953575\n",
      "Gradient Boosting Regression Model Training Time =  782.8241690000004\n"
     ]
    }
   ],
   "source": [
    "print('Gradient Boosting Regression Model Start Time = ', start_timeGB)\n",
    "print('Gradient Boosting Regression Model End Time = ', end_timeGB)\n",
    "print('Gradient Boosting Regression Model Training Time = ', training_timeGB)"
   ]
  },
  {
   "cell_type": "code",
   "execution_count": 44,
   "id": "e2fac0bf-8204-46b8-b4dd-2bb7aa46884c",
   "metadata": {},
   "outputs": [],
   "source": [
    "from pyspark.ml.evaluation import RegressionEvaluator, MulticlassClassificationEvaluator\n",
    "\n",
    "evaluatorGB1 = RegressionEvaluator(labelCol=\"price\", predictionCol=\"prediction\", metricName=\"rmse\")\n",
    "evaluatorGB2 = RegressionEvaluator(labelCol=\"price\", predictionCol=\"prediction\", metricName=\"r2\")"
   ]
  },
  {
   "cell_type": "code",
   "execution_count": 45,
   "id": "a9f35f94-2185-4f50-b97c-b3929e9791d4",
   "metadata": {},
   "outputs": [
    {
     "name": "stdout",
     "output_type": "stream",
     "text": [
      "Gradient Boosting Regression RMSE Test Accuracy =  11850.855495781418\n",
      "Gradient Boosting Regression R2 Test Accuracy =  0.9989523649015711\n"
     ]
    }
   ],
   "source": [
    "accuracy7 = evaluatorGB1.evaluate(predictionsGB)\n",
    "accuracy8 = evaluatorGB2.evaluate(predictionsGB)\n",
    "print('Gradient Boosting Regression RMSE Test Accuracy = ', accuracy7)\n",
    "print('Gradient Boosting Regression R2 Test Accuracy = ', accuracy8)"
   ]
  },
  {
   "cell_type": "code",
   "execution_count": 46,
   "id": "59f37619-4806-4f4e-a0dd-698b835ccf7c",
   "metadata": {},
   "outputs": [
    {
     "data": {
      "image/png": "[encoded data removed]",
      "text/plain": [
       "<Figure size 432x288 with 1 Axes>"
      ]
     },
     "metadata": {
      "needs_background": "light"
     },
     "output_type": "display_data"
    }
   ],
   "source": [
    "import matplotlib.pyplot as plt\n",
    "\n",
    "rmse = evaluatorGB1.evaluate(predictionsGB)\n",
    "r2 = evaluatorGB2.evaluate(predictionsGB)\n",
    "rfPred = modelGB.transform(test_data)\n",
    "rfResult = rfPred.toPandas()\n",
    "plt.plot(rfResult.price, rfResult.prediction, 'bo')\n",
    "plt.xlabel('Price')\n",
    "plt.ylabel('Prediction')\n",
    "plt.suptitle(\"Random Forest Regression Model Performance RMSE: %f\" % rmse)\n",
    "plt.suptitle(\"Random Forest Regression Model Performance R2: %f\" % r2)\n",
    "plt.show()"
   ]
  },
  {
   "cell_type": "markdown",
   "id": "6f9d5b0c-9587-494b-b5ee-27c7b526b534",
   "metadata": {},
   "source": [
    "DECISION TREE REGRESSION"
   ]
  },
  {
   "cell_type": "code",
   "execution_count": 47,
   "id": "49108203-13e4-4568-beb0-7f117f846fbd",
   "metadata": {},
   "outputs": [],
   "source": [
    "import pyspark\n",
    "from pyspark.ml.regression import DecisionTreeRegressionModel, DecisionTreeRegressor"
   ]
  },
  {
   "cell_type": "code",
   "execution_count": 54,
   "id": "ed60d6e7-feb8-40e4-ad37-99b703ccd40e",
   "metadata": {},
   "outputs": [],
   "source": [
    "DecisionTree = DecisionTreeRegressor(featuresCol = 'features', labelCol = 'price', maxDepth = 10, maxBins=32)"
   ]
  },
  {
   "cell_type": "code",
   "execution_count": 55,
   "id": "6b8a62c1-2f2c-447c-a15e-f457129a6b77",
   "metadata": {},
   "outputs": [],
   "source": [
    "start_timeDT = time.perf_counter()\n",
    "\n",
    "modelDT = DecisionTree.fit(training_data)\n",
    "predictionsDT = modelDT.transform(test_data)\n",
    "\n",
    "end_timeDT = time.perf_counter()\n",
    "\n",
    "training_timeDT = end_timeDT - start_timeDT"
   ]
  },
  {
   "cell_type": "code",
   "execution_count": 56,
   "id": "725e9af1-1fbb-4195-bf35-546fb868620d",
   "metadata": {},
   "outputs": [
    {
     "name": "stdout",
     "output_type": "stream",
     "text": [
      "Decision Tree Regression Model Start Time =  9742.6451198\n",
      "Decision Tree Boosting Regression Model End Time =  9781.4423352\n",
      "Decision Tree Regression Model Training Time =  38.797215399999914\n"
     ]
    }
   ],
   "source": [
    "print('Decision Tree Regression Model Start Time = ', start_timeDT)\n",
    "print('Decision Tree Boosting Regression Model End Time = ', end_timeDT)\n",
    "print('Decision Tree Regression Model Training Time = ', training_timeDT)"
   ]
  },
  {
   "cell_type": "code",
   "execution_count": 57,
   "id": "f97d82c1-e575-489c-9e90-8e3f03b3ddde",
   "metadata": {},
   "outputs": [],
   "source": [
    "from pyspark.ml.evaluation import RegressionEvaluator, MulticlassClassificationEvaluator\n",
    "\n",
    "evaluatorDT1 = RegressionEvaluator(labelCol=\"price\", predictionCol=\"prediction\", metricName=\"rmse\")\n",
    "evaluatorDT2 = RegressionEvaluator(labelCol=\"price\", predictionCol=\"prediction\", metricName=\"r2\")"
   ]
  },
  {
   "cell_type": "code",
   "execution_count": 58,
   "id": "04916f98-6244-48fc-b468-f8bdb70733a0",
   "metadata": {},
   "outputs": [
    {
     "name": "stdout",
     "output_type": "stream",
     "text": [
      "Decision Tree Regression RMSE Test Accuracy =  114735.3862947077\n",
      "Decision Tree Regression R2 Test Accuracy =  0.9018013767034312\n"
     ]
    }
   ],
   "source": [
    "accuracy9 = evaluatorDT1.evaluate(predictionsDT)\n",
    "accuracy10 = evaluatorDT2.evaluate(predictionsDT)\n",
    "print('Decision Tree Regression RMSE Test Accuracy = ', accuracy9)\n",
    "print('Decision Tree Regression R2 Test Accuracy = ', accuracy10)"
   ]
  },
  {
   "cell_type": "code",
   "execution_count": 59,
   "id": "558bbcfd-a2ce-41a5-98ab-84c2fb03d765",
   "metadata": {},
   "outputs": [
    {
     "data": {
      "image/png": "[encoded data removed]",
      "text/plain": [
       "<Figure size 432x288 with 1 Axes>"
      ]
     },
     "metadata": {
      "needs_background": "light"
     },
     "output_type": "display_data"
    }
   ],
   "source": [
    "import matplotlib.pyplot as plt\n",
    "\n",
    "rmse = evaluatorDT1.evaluate(predictionsDT)\n",
    "r2 = evaluatorDT2.evaluate(predictionsDT)\n",
    "rfPred = modelDT.transform(test_data)\n",
    "rfResult = rfPred.toPandas()\n",
    "plt.plot(rfResult.price, rfResult.prediction, 'bo')\n",
    "plt.xlabel('Price')\n",
    "plt.ylabel('Prediction')\n",
    "plt.suptitle(\"Random Forest Regression Model Performance RMSE: %f\" % rmse)\n",
    "plt.suptitle(\"Random Forest Regression Model Performance R2: %f\" % r2)\n",
    "plt.show()"
   ]
  },
  {
   "cell_type": "markdown",
   "id": "4dc00fb6-c3e8-422f-a25d-508ddd00273e",
   "metadata": {},
   "source": [
    "sns"
   ]
  },
  {
   "cell_type": "code",
   "execution_count": 60,
   "id": "33248edc-39c7-4bda-8b5d-691896577d77",
   "metadata": {},
   "outputs": [
    {
     "data": {
      "text/plain": [
       "SparseVector(16, {0: 0.0021, 1: 0.0565, 2: 0.2385, 3: 0.002, 4: 0.0002, 5: 0.0378, 6: 0.0208, 7: 0.0001, 8: 0.3165, 9: 0.0016, 10: 0.0292, 11: 0.0012, 12: 0.1324, 13: 0.0414, 14: 0.1146, 15: 0.005})"
      ]
     },
     "execution_count": 60,
     "metadata": {},
     "output_type": "execute_result"
    }
   ],
   "source": [
    "modelRF.featureImportances"
   ]
  },
  {
   "cell_type": "code",
   "execution_count": 61,
   "id": "80149ad6-3151-46ad-af38-60178e458bf7",
   "metadata": {},
   "outputs": [
    {
     "data": {
      "text/plain": [
       "[Row(price=75000.0, bedrooms=1, bathrooms=0.0, sqft_living=670, sqft_lot=43377, floors=1.0, waterfront=0, view=0, condition=3, grade=3, sqft_basement=0, yr_built=1966, yr_renovated=0, lat=47.26380157470703, long=-121.90599822998047, sqft_living15=1160, sqft_lot15=42882, features=DenseVector([1.0, 0.0, 670.0, 43377.0, 1.0, 0.0, 0.0, 3.0, 3.0, 0.0, 1966.0, 0.0, 47.2638, -121.906, 1160.0, 42882.0]))]"
      ]
     },
     "execution_count": 61,
     "metadata": {},
     "output_type": "execute_result"
    }
   ],
   "source": [
    "training_data.take(1)"
   ]
  },
  {
   "cell_type": "markdown",
   "id": "cebe0ee4-2794-465d-8af4-c3a4de38e3fb",
   "metadata": {},
   "source": [
    "KMEANS ALGORITHM"
   ]
  },
  {
   "cell_type": "code",
   "execution_count": 62,
   "id": "6dcb6061-76a8-4fca-9bab-05bad80f3dba",
   "metadata": {},
   "outputs": [
    {
     "ename": "ImportError",
     "evalue": "cannot import name 'StandardScalar' from 'pyspark.ml.feature' (/usr/local/spark/python/pyspark/ml/feature.py)",
     "output_type": "error",
     "traceback": [
      "\u001b[0;31m---------------------------------------------------------------------------\u001b[0m",
      "\u001b[0;31mImportError\u001b[0m                               Traceback (most recent call last)",
      "Input \u001b[0;32mIn [62]\u001b[0m, in \u001b[0;36m<cell line: 1>\u001b[0;34m()\u001b[0m\n\u001b[0;32m----> 1\u001b[0m \u001b[38;5;28;01mfrom\u001b[39;00m \u001b[38;5;21;01mpyspark\u001b[39;00m\u001b[38;5;21;01m.\u001b[39;00m\u001b[38;5;21;01mml\u001b[39;00m\u001b[38;5;21;01m.\u001b[39;00m\u001b[38;5;21;01mfeature\u001b[39;00m \u001b[38;5;28;01mimport\u001b[39;00m StandardScalar\n\u001b[1;32m      3\u001b[0m scalar \u001b[38;5;241m=\u001b[39m StandardScalar(inputCol \u001b[38;5;241m=\u001b[39m required_features, oututcol \u001b[38;5;241m=\u001b[39m \u001b[38;5;124m'\u001b[39m\u001b[38;5;124mfeatures\u001b[39m\u001b[38;5;124m'\u001b[39m)\n\u001b[1;32m      4\u001b[0m scalar_model \u001b[38;5;241m=\u001b[39m scalar\u001b[38;5;241m.\u001b[39mfit(transformed_data)\n",
      "\u001b[0;31mImportError\u001b[0m: cannot import name 'StandardScalar' from 'pyspark.ml.feature' (/usr/local/spark/python/pyspark/ml/feature.py)"
     ]
    }
   ],
   "source": [
    "from pyspark.ml.feature import StandardScalar\n",
    "\n",
    "scalar = StandardScalar(inputCol = required_features, oututcol = 'features')\n",
    "scalar_model = scalar.fit(transformed_data)\n",
    "transformed_data1 = scalar_model.transform(transformed_data)\n",
    "transformed_data1.printSchema()"
   ]
  },
  {
   "cell_type": "code",
   "execution_count": 63,
   "id": "8e90547f-357d-4c42-9b8e-d93eaeb89903",
   "metadata": {},
   "outputs": [],
   "source": [
    "from pyspark.ml.clustering import KMeans"
   ]
  },
  {
   "cell_type": "code",
   "execution_count": 64,
   "id": "5649708f-6555-4d62-8514-affe59bc1507",
   "metadata": {},
   "outputs": [],
   "source": [
    "kmeans2 = KMeans(featuresCol = 'features', k=2)\n",
    "kmeans3 = KMeans(featuresCol = 'features', k=3)\n",
    "kmeans10 = KMeans(featuresCol = 'features', k=10)"
   ]
  },
  {
   "cell_type": "code",
   "execution_count": 65,
   "id": "e847b057-ac5e-4881-a47b-50a582bca6d4",
   "metadata": {},
   "outputs": [],
   "source": [
    "model_k2 = kmeans2.fit(transformed_data)\n",
    "model_k3 = kmeans3.fit(transformed_data)\n",
    "model_k10 = kmeans10.fit(transformed_data)\n",
    "\n",
    "# print('WSSSE_K2:' , model_k2.comuteCost(transformed_data))"
   ]
  },
  {
   "cell_type": "code",
   "execution_count": 66,
   "id": "cf769443-c7a2-4f4d-a8fb-fe279bd3800b",
   "metadata": {},
   "outputs": [
    {
     "name": "stdout",
     "output_type": "stream",
     "text": [
      "Silhouette with squared euclidean distance = 0.979522914998058\n"
     ]
    }
   ],
   "source": [
    "# Make predictions \n",
    "predictionsK2 = model_k2.transform(training_data)\n",
    "from pyspark.ml.evaluation import ClusteringEvaluator\n",
    "# Evaluate clustering by computing Silhouette score\n",
    "evaluator1 = ClusteringEvaluator()\n",
    "silhouette1 = evaluator1.evaluate(predictionsK2)\n",
    "print(\"Silhouette with squared euclidean distance = \" + str(silhouette1))"
   ]
  },
  {
   "cell_type": "code",
   "execution_count": 67,
   "id": "57e9cb0f-5d18-47a3-8023-32176a73e5c3",
   "metadata": {},
   "outputs": [
    {
     "name": "stdout",
     "output_type": "stream",
     "text": [
      "Silhouette with squared euclidean distance = 0.9754691847675738\n"
     ]
    }
   ],
   "source": [
    "# Make predictions \n",
    "predictionsK3 = model_k3.transform(training_data)\n",
    "from pyspark.ml.evaluation import ClusteringEvaluator\n",
    "# Evaluate clustering by computing Silhouette score\n",
    "evaluator2 = ClusteringEvaluator()\n",
    "silhouette2 = evaluator2.evaluate(predictionsK3)\n",
    "print(\"Silhouette with squared euclidean distance = \" + str(silhouette2))"
   ]
  },
  {
   "cell_type": "code",
   "execution_count": 68,
   "id": "efdfac17-8082-49bc-8b7b-7421f5ff0a96",
   "metadata": {},
   "outputs": [
    {
     "name": "stdout",
     "output_type": "stream",
     "text": [
      "Silhouette with squared euclidean distance = 0.628720954966732\n"
     ]
    }
   ],
   "source": [
    "# Make predictions \n",
    "predictionsK10 = model_k10.transform(training_data)\n",
    "from pyspark.ml.evaluation import ClusteringEvaluator\n",
    "# Evaluate clustering by computing Silhouette score\n",
    "evaluator3 = ClusteringEvaluator()\n",
    "silhouette3 = evaluator3.evaluate(predictionsK10)\n",
    "print(\"Silhouette with squared euclidean distance = \" + str(silhouette3))"
   ]
  },
  {
   "cell_type": "code",
   "execution_count": 69,
   "id": "282fcf99-c36f-4a2b-bb36-0e6d68232cfb",
   "metadata": {},
   "outputs": [
    {
     "ename": "NameError",
     "evalue": "name 'pd' is not defined",
     "output_type": "error",
     "traceback": [
      "\u001b[0;31m---------------------------------------------------------------------------\u001b[0m",
      "\u001b[0;31mNameError\u001b[0m                                 Traceback (most recent call last)",
      "Input \u001b[0;32mIn [69]\u001b[0m, in \u001b[0;36m<cell line: 2>\u001b[0;34m()\u001b[0m\n\u001b[1;32m      1\u001b[0m \u001b[38;5;66;03m#Let's have a tabular pandas data frame, for a clear comparison\u001b[39;00m\n\u001b[0;32m----> 2\u001b[0m models_score \u001b[38;5;241m=\u001b[39m\u001b[43mpd\u001b[49m\u001b[38;5;241m.\u001b[39mDataFrame({\n\u001b[1;32m      3\u001b[0m                            \n\u001b[1;32m      4\u001b[0m \u001b[38;5;124m'\u001b[39m\u001b[38;5;124mModel\u001b[39m\u001b[38;5;124m'\u001b[39m:[\u001b[38;5;124m'\u001b[39m\u001b[38;5;124mMultiple Linear Regression\u001b[39m\u001b[38;5;124m'\u001b[39m,\n\u001b[1;32m      5\u001b[0m          \u001b[38;5;124m'\u001b[39m\u001b[38;5;124mRandom forest Regression\u001b[39m\u001b[38;5;124m'\u001b[39m\n\u001b[1;32m      6\u001b[0m         ],\n\u001b[1;32m      7\u001b[0m \u001b[38;5;124m'\u001b[39m\u001b[38;5;124mScore\u001b[39m\u001b[38;5;124m'\u001b[39m:[accuracy2,\n\u001b[1;32m      8\u001b[0m          accuracy4\n\u001b[1;32m      9\u001b[0m         ]\n\u001b[1;32m     10\u001b[0m                                                      \n\u001b[1;32m     11\u001b[0m })\n\u001b[1;32m     12\u001b[0m \u001b[38;5;66;03m#models_score.sort_values(by='Score',ascending=True)\u001b[39;00m\n\u001b[1;32m     13\u001b[0m models_score\n",
      "\u001b[0;31mNameError\u001b[0m: name 'pd' is not defined"
     ]
    }
   ],
   "source": [
    "#Let's have a tabular pandas data frame, for a clear comparison\n",
    "models_score =pd.DataFrame({\n",
    "                           \n",
    "'Model':['Multiple Linear Regression',\n",
    "         'Random forest Regression'\n",
    "        ],\n",
    "'Score':[accuracy2,\n",
    "         accuracy4\n",
    "        ]\n",
    "                                                     \n",
    "})\n",
    "#models_score.sort_values(by='Score',ascending=True)\n",
    "models_score"
   ]
  },
  {
   "cell_type": "code",
   "execution_count": null,
   "id": "155c9b81-b946-4c5b-82c8-3e24f1796406",
   "metadata": {},
   "outputs": [],
   "source": []
  }
 ],
 "metadata": {
  "kernelspec": {
   "display_name": "Python 3 (ipykernel)",
   "language": "python",
   "name": "python3"
  },
  "language_info": {
   "codemirror_mode": {
    "name": "ipython",
    "version": 3
   },
   "file_extension": ".py",
   "mimetype": "text/x-python",
   "name": "python",
   "nbconvert_exporter": "python",
   "pygments_lexer": "ipython3",
   "version": "3.9.7"
  }
 },
 "nbformat": 4,
 "nbformat_minor": 5
}
