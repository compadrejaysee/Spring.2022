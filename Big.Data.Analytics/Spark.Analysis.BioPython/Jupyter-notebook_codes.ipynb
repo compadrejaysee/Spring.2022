{
 "cells": [
  {
   "cell_type": "code",
   "execution_count": 1,
   "id": "4e0d64f7-4f02-4490-9e59-d1a2fcbb4f6e",
   "metadata": {},
   "outputs": [
    {
     "name": "stdout",
     "output_type": "stream",
     "text": [
      "Collecting Bio\n",
      "  Downloading bio-1.3.9-py3-none-any.whl (270 kB)\n",
      "\u001b[2K     \u001b[90m━━━━━━━━━━━━━━━━━━━━━━━━━━━━━━━━━━━━━\u001b[0m \u001b[32m270.9/270.9 kB\u001b[0m \u001b[31m952.4 kB/s\u001b[0m eta \u001b[36m0:00:00\u001b[0m00:01\u001b[0m00:01\u001b[0m\n",
      "\u001b[?25hCollecting biopython>=1.79\n",
      "  Downloading biopython-1.79-cp39-cp39-manylinux_2_5_x86_64.manylinux1_x86_64.whl (2.3 MB)\n",
      "\u001b[2K     \u001b[90m━━━━━━━━━━━━━━━━━━━━━━━━━━━━━━━━━━━━━━━━\u001b[0m \u001b[32m2.3/2.3 MB\u001b[0m \u001b[31m727.1 kB/s\u001b[0m eta \u001b[36m0:00:00\u001b[0m00:01\u001b[0m00:01\u001b[0m\n",
      "\u001b[?25hCollecting mygene\n",
      "  Downloading mygene-3.2.2-py2.py3-none-any.whl (5.4 kB)\n",
      "Requirement already satisfied: requests in /opt/conda/lib/python3.9/site-packages (from Bio) (2.27.1)\n",
      "Requirement already satisfied: tqdm in /opt/conda/lib/python3.9/site-packages (from Bio) (4.64.0)\n",
      "Requirement already satisfied: numpy in /opt/conda/lib/python3.9/site-packages (from biopython>=1.79->Bio) (1.21.6)\n",
      "Collecting biothings-client>=0.2.6\n",
      "  Downloading biothings_client-0.2.6-py2.py3-none-any.whl (37 kB)\n",
      "Requirement already satisfied: charset-normalizer~=2.0.0 in /opt/conda/lib/python3.9/site-packages (from requests->Bio) (2.0.12)\n",
      "Requirement already satisfied: certifi>=2017.4.17 in /opt/conda/lib/python3.9/site-packages (from requests->Bio) (2022.5.18.1)\n",
      "Requirement already satisfied: idna<4,>=2.5 in /opt/conda/lib/python3.9/site-packages (from requests->Bio) (3.3)\n",
      "Requirement already satisfied: urllib3<1.27,>=1.21.1 in /opt/conda/lib/python3.9/site-packages (from requests->Bio) (1.26.9)\n",
      "Installing collected packages: biopython, biothings-client, mygene, Bio\n",
      "Successfully installed Bio-1.3.9 biopython-1.79 biothings-client-0.2.6 mygene-3.2.2\n",
      "Note: you may need to restart the kernel to use updated packages.\n"
     ]
    }
   ],
   "source": [
    "pip install Bio"
   ]
  },
  {
   "cell_type": "code",
   "execution_count": 1,
   "id": "697aa11e-8856-4653-9c7e-1230165f2c20",
   "metadata": {},
   "outputs": [],
   "source": [
    "import Bio\n",
    "from Bio import SeqIO"
   ]
  },
  {
   "cell_type": "code",
   "execution_count": 2,
   "id": "7a945e7c-15ba-443c-a031-af207cbdbec6",
   "metadata": {},
   "outputs": [
    {
     "name": "stdout",
     "output_type": "stream",
     "text": [
      "/home/jovyan/work\n"
     ]
    }
   ],
   "source": [
    "import os\n",
    "cwd = os.getcwd()\n",
    "print(cwd)"
   ]
  },
  {
   "cell_type": "code",
   "execution_count": 6,
   "id": "6a8aea18-97ca-413e-8322-fc1d578bee45",
   "metadata": {},
   "outputs": [
    {
     "name": "stdout",
     "output_type": "stream",
     "text": [
      "Requirement already satisfied: wget in /opt/conda/lib/python3.9/site-packages (3.2)\n",
      "Note: you may need to restart the kernel to use updated packages.\n"
     ]
    }
   ],
   "source": [
    "pip install wget"
   ]
  },
  {
   "cell_type": "code",
   "execution_count": 11,
   "id": "d14f0820-56d7-4a80-acf4-bb1d5beb4f05",
   "metadata": {},
   "outputs": [
    {
     "name": "stdout",
     "output_type": "stream",
     "text": [
      " 60% [..............................                    ] 588906496 / 972898531Traceback (most recent call last):\n",
      "  File \"/opt/conda/lib/python3.9/runpy.py\", line 197, in _run_module_as_main\n",
      "    return _run_code(code, main_globals, None,\n",
      "  File \"/opt/conda/lib/python3.9/runpy.py\", line 87, in _run_code\n",
      "    exec(code, run_globals)\n",
      "  File \"/opt/conda/lib/python3.9/site-packages/wget.py\", line 568, in <module>\n",
      "    filename = download(args[0], out=options.output)\n",
      "  File \"/opt/conda/lib/python3.9/site-packages/wget.py\", line 526, in download\n",
      "    (tmpfile, headers) = ulib.urlretrieve(binurl, tmpfile, callback)\n",
      "  File \"/opt/conda/lib/python3.9/urllib/request.py\", line 278, in urlretrieve\n",
      "    raise ContentTooShortError(\n",
      "urllib.error.ContentTooShortError: <urlopen error retrieval incomplete: got only 588906496 out of 972898531 bytes>\n"
     ]
    }
   ],
   "source": [
    "!python -m wget https://ftp.ncbi.nlm.nih.gov/refseq/H_sapiens/annotation/GRCh38_latest/refseq_identifiers/GRCh38_latest_genomic.fna.gz"
   ]
  },
  {
   "cell_type": "code",
   "execution_count": null,
   "id": "aad4b9c7-524b-4e2a-b650-c37d4ec0352a",
   "metadata": {},
   "outputs": [
    {
     "name": "stderr",
     "output_type": "stream",
     "text": [
      "IOPub data rate exceeded.\n",
      "The Jupyter server will temporarily stop sending output\n",
      "to the client in order to avoid crashing it.\n",
      "To change this limit, set the config variable\n",
      "`--ServerApp.iopub_data_rate_limit`.\n",
      "\n",
      "Current values:\n",
      "ServerApp.iopub_data_rate_limit=1000000.0 (bytes/sec)\n",
      "ServerApp.rate_limit_window=3.0 (secs)\n",
      "\n"
     ]
    }
   ],
   "source": [
    "count = 0\n",
    "for seq_record in SeqIO.parse(\"/work/GRCh38_latest_genomic.fna\", \"fasta\"):\n",
    "    count = count + 1\n",
    "    print(seq_record.seq)\n",
    "print(count)"
   ]
  },
  {
   "cell_type": "code",
   "execution_count": 2,
   "id": "a0ba5f50-baed-4225-aad7-c11de7fd460a",
   "metadata": {
    "scrolled": true,
    "tags": []
   },
   "outputs": [
    {
     "name": "stdout",
     "output_type": "stream",
     "text": [
      "[SeqRecord(seq=Seq('NNNNNNNNNNNNNNNNNNNNNNNNNNNNNNNNNNNNNNNNNNNNNNNNNNNNNN...NNN'), id='NC_000001.11', name='NC_000001.11', description='NC_000001.11 Homo sapiens chromosome 1, GRCh38.p14 Primary Assembly', dbxrefs=[]), SeqRecord(seq=Seq('GAATTCAGCTGAGAAGAACAGGCAAGGACTTAGGAAATATTCCTTATTTGAAGG...TTC'), id='NT_187361.1', name='NT_187361.1', description='NT_187361.1 Homo sapiens chromosome 1 unlocalized genomic scaffold, GRCh38.p14 Primary Assembly HSCHR1_CTG1_UNLOCALIZED', dbxrefs=[]), SeqRecord(seq=Seq('AGGGGTCTGCTTAGAGAGGGTCTCATTAGTGGGGTCTAGTAGTGGGGTTTTGGT...TTC'), id='NT_187362.1', name='NT_187362.1', description='NT_187362.1 Homo sapiens chromosome 1 unlocalized genomic scaffold, GRCh38.p14 Primary Assembly HSCHR1_CTG2_UNLOCALIZED', dbxrefs=[]), SeqRecord(seq=Seq('gatcgagactatcctggctaacacggtgaaaccccgtctctactaaaaatacaa...ATC'), id='NT_187363.1', name='NT_187363.1', description='NT_187363.1 Homo sapiens chromosome 1 unlocalized genomic scaffold, GRCh38.p14 Primary Assembly HSCHR1_CTG3_UNLOCALIZED', dbxrefs=[]), SeqRecord(seq=Seq('gaattcattcgatgacgattccattcaattccgttcaatgattccattagattc...TTC'), id='NT_187364.1', name='NT_187364.1', description='NT_187364.1 Homo sapiens chromosome 1 unlocalized genomic scaffold, GRCh38.p14 Primary Assembly HSCHR1_CTG4_UNLOCALIZED', dbxrefs=[]), SeqRecord(seq=Seq('AAACTGtgcagcctctatggaaaacagtaccgtggttcctcaaaaaaattaaga...ATC'), id='NT_187365.1', name='NT_187365.1', description='NT_187365.1 Homo sapiens chromosome 1 unlocalized genomic scaffold, GRCh38.p14 Primary Assembly HSCHR1_CTG5_UNLOCALIZED', dbxrefs=[]), SeqRecord(seq=Seq('tgtgtatgtgtatgtgtatgtatgtgtatgtgtatgtgtatatgtatatgtata...GCT'), id='NT_187366.1', name='NT_187366.1', description='NT_187366.1 Homo sapiens chromosome 1 unlocalized genomic scaffold, GRCh38.p14 Primary Assembly HSCHR1_CTG6_UNLOCALIZED', dbxrefs=[]), SeqRecord(seq=Seq('GAATTCTCAGAACTTTCAAAACACAAATCTTCATCCGCAGGGATGTTCAGGAGG...TTC'), id='NT_187367.1', name='NT_187367.1', description='NT_187367.1 Homo sapiens chromosome 1 unlocalized genomic scaffold, GRCh38.p14 Primary Assembly HSCHR1_CTG7_UNLOCALIZED', dbxrefs=[]), SeqRecord(seq=Seq('GAGCATTCTCTAGTAGGAAGACCTTTTTAGAGTACAAAGGCCAGATCCTGCCCT...aac'), id='NT_187368.1', name='NT_187368.1', description='NT_187368.1 Homo sapiens chromosome 1 unlocalized genomic scaffold, GRCh38.p14 Primary Assembly HSCHR1_CTG8_UNLOCALIZED', dbxrefs=[]), SeqRecord(seq=Seq('CTAAACACAAAAagtttagctgggcatgatggtgcatgcctgtaatctgagcta...GGA'), id='NT_187369.1', name='NT_187369.1', description='NT_187369.1 Homo sapiens chromosome 1 unlocalized genomic scaffold, GRCh38.p14 Primary Assembly HSCHR1_CTG9_UNLOCALIZED', dbxrefs=[]), SeqRecord(seq=Seq('NNNNNNNNNNNNNNNNNNNNNNNNNNNNNNNNNNNNNNNNNNNNNNNNNNNNNN...NNN'), id='NC_000002.12', name='NC_000002.12', description='NC_000002.12 Homo sapiens chromosome 2, GRCh38.p14 Primary Assembly', dbxrefs=[]), SeqRecord(seq=Seq('GAATTCTCAGAAaccagtttgtgatgtgtgtactcaactaacagggttgaacct...ttc'), id='NT_187370.1', name='NT_187370.1', description='NT_187370.1 Homo sapiens chromosome 2 unlocalized genomic scaffold, GRCh38.p14 Primary Assembly HSCHR2_RANDOM_CTG1', dbxrefs=[]), SeqRecord(seq=Seq('GAATTCTTTCTATAactctattcgattccattcgatgatgattccattctattc...ttc'), id='NT_187371.1', name='NT_187371.1', description='NT_187371.1 Homo sapiens chromosome 2 unlocalized genomic scaffold, GRCh38.p14 Primary Assembly HSCHR2_RANDOM_CTG2', dbxrefs=[]), SeqRecord(seq=Seq('NNNNNNNNNNNNNNNNNNNNNNNNNNNNNNNNNNNNNNNNNNNNNNNNNNNNNN...NNN'), id='NC_000003.12', name='NC_000003.12', description='NC_000003.12 Homo sapiens chromosome 3, GRCh38.p14 Primary Assembly', dbxrefs=[]), SeqRecord(seq=Seq('GAATTCGTTGAGGAGCTTCTGGAAAGTGCACATTCTGACTCAGCAGGTATTGGA...ttc'), id='NT_167215.1', name='NT_167215.1', description='NT_167215.1 Homo sapiens chromosome 3 unlocalized genomic scaffold, GRCh38.p14 Primary Assembly HSCHR3UN_CTG2', dbxrefs=[]), SeqRecord(seq=Seq('NNNNNNNNNNNNNNNNNNNNNNNNNNNNNNNNNNNNNNNNNNNNNNNNNNNNNN...NNN'), id='NC_000004.12', name='NC_000004.12', description='NC_000004.12 Homo sapiens chromosome 4, GRCh38.p14 Primary Assembly', dbxrefs=[]), SeqRecord(seq=Seq('gaattcaatggaatggaattcaatggaatgcaatgaaatacaatggaatggaat...ccc'), id='NT_113793.3', name='NT_113793.3', description='NT_113793.3 Homo sapiens chromosome 4 unlocalized genomic scaffold, GRCh38.p14 Primary Assembly HSCHR4_RANDOM_CTG4', dbxrefs=[]), SeqRecord(seq=Seq('NNNNNNNNNNNNNNNNNNNNNNNNNNNNNNNNNNNNNNNNNNNNNNNNNNNNNN...NNN'), id='NC_000005.10', name='NC_000005.10', description='NC_000005.10 Homo sapiens chromosome 5, GRCh38.p14 Primary Assembly', dbxrefs=[]), SeqRecord(seq=Seq('gaattcttcaaagagttccagatatccacaggcagattctacaaaagaagtgtt...gat'), id='NT_113948.1', name='NT_113948.1', description='NT_113948.1 Homo sapiens chromosome 5 unlocalized genomic scaffold, GRCh38.p14 Primary Assembly HSCHR5_RANDOM_CTG1', dbxrefs=[]), SeqRecord(seq=Seq('NNNNNNNNNNNNNNNNNNNNNNNNNNNNNNNNNNNNNNNNNNNNNNNNNNNNNN...NNN'), id='NC_000006.12', name='NC_000006.12', description='NC_000006.12 Homo sapiens chromosome 6, GRCh38.p14 Primary Assembly', dbxrefs=[]), SeqRecord(seq=Seq('NNNNNNNNNNNNNNNNNNNNNNNNNNNNNNNNNNNNNNNNNNNNNNNNNNNNNN...NNN'), id='NC_000007.14', name='NC_000007.14', description='NC_000007.14 Homo sapiens chromosome 7, GRCh38.p14 Primary Assembly', dbxrefs=[]), SeqRecord(seq=Seq('NNNNNNNNNNNNNNNNNNNNNNNNNNNNNNNNNNNNNNNNNNNNNNNNNNNNNN...NNN'), id='NC_000008.11', name='NC_000008.11', description='NC_000008.11 Homo sapiens chromosome 8, GRCh38.p14 Primary Assembly', dbxrefs=[]), SeqRecord(seq=Seq('NNNNNNNNNNNNNNNNNNNNNNNNNNNNNNNNNNNNNNNNNNNNNNNNNNNNNN...NNN'), id='NC_000009.12', name='NC_000009.12', description='NC_000009.12 Homo sapiens chromosome 9, GRCh38.p14 Primary Assembly', dbxrefs=[]), SeqRecord(seq=Seq('TTTTATTCATTGcctatacttttatttctaaactttctgTAACACTTTATCTTA...GCG'), id='NT_187372.1', name='NT_187372.1', description='NT_187372.1 Homo sapiens chromosome 9 unlocalized genomic scaffold, GRCh38.p14 Primary Assembly HSCHR9_UNLOCALIZED_CTG1', dbxrefs=[]), SeqRecord(seq=Seq('AGGATCCTCTTCCTCATCCACAGATCCAACAGCCGGTAACATTCCGGCCTACAG...TGT'), id='NT_187373.1', name='NT_187373.1', description='NT_187373.1 Homo sapiens chromosome 9 unlocalized genomic scaffold, GRCh38.p14 Primary Assembly HSCHR9_UNLOCALIZED_CTG2', dbxrefs=[]), SeqRecord(seq=Seq('GAATTCACTCAGCAGTCAGAAGAAAAGGAAGCCTCTTGTTGGAATTCATACTAA...TTC'), id='NT_187374.1', name='NT_187374.1', description='NT_187374.1 Homo sapiens chromosome 9 unlocalized genomic scaffold, GRCh38.p14 Primary Assembly HSCHR9_UNLOCALIZED_CTG3', dbxrefs=[]), SeqRecord(seq=Seq('GCTCCTTTCAGATAGAGGCAAGGGATATTTGACTTTTTATCTCTAGTGTCTAGT...CTA'), id='NT_187375.1', name='NT_187375.1', description='NT_187375.1 Homo sapiens chromosome 9 unlocalized genomic scaffold, GRCh38.p14 Primary Assembly HSCHR9_UNLOCALIZED_CTG4', dbxrefs=[]), SeqRecord(seq=Seq('NNNNNNNNNNNNNNNNNNNNNNNNNNNNNNNNNNNNNNNNNNNNNNNNNNNNNN...NNN'), id='NC_000010.11', name='NC_000010.11', description='NC_000010.11 Homo sapiens chromosome 10, GRCh38.p14 Primary Assembly', dbxrefs=[]), SeqRecord(seq=Seq('NNNNNNNNNNNNNNNNNNNNNNNNNNNNNNNNNNNNNNNNNNNNNNNNNNNNNN...NNN'), id='NC_000011.10', name='NC_000011.10', description='NC_000011.10 Homo sapiens chromosome 11, GRCh38.p14 Primary Assembly', dbxrefs=[]), SeqRecord(seq=Seq('NNNNNNNNNNNNNNNNNNNNNNNNNNNNNNNNNNNNNNNNNNNNNNNNNNNNNN...NNN'), id='NC_000012.12', name='NC_000012.12', description='NC_000012.12 Homo sapiens chromosome 12, GRCh38.p14 Primary Assembly', dbxrefs=[]), SeqRecord(seq=Seq('NNNNNNNNNNNNNNNNNNNNNNNNNNNNNNNNNNNNNNNNNNNNNNNNNNNNNN...NNN'), id='NC_000013.11', name='NC_000013.11', description='NC_000013.11 Homo sapiens chromosome 13, GRCh38.p14 Primary Assembly', dbxrefs=[]), SeqRecord(seq=Seq('NNNNNNNNNNNNNNNNNNNNNNNNNNNNNNNNNNNNNNNNNNNNNNNNNNNNNN...NNN'), id='NC_000014.9', name='NC_000014.9', description='NC_000014.9 Homo sapiens chromosome 14, GRCh38.p14 Primary Assembly', dbxrefs=[]), SeqRecord(seq=Seq('GAATTCTGTGAAAGCCTGTAGCTATAAAAAAATGTTGAGCCATAAATACCATCA...TTC'), id='NT_113796.3', name='NT_113796.3', description='NT_113796.3 Homo sapiens chromosome 14 unlocalized genomic scaffold, GRCh38.p14 Primary Assembly HSCHR14_CTG1_UNLOCALIZED', dbxrefs=[]), SeqRecord(seq=Seq('GAATTCTCACAtgtctctgcactgatcacccaggtgatgtaactcctGTCTAGG...TTC'), id='NT_167219.1', name='NT_167219.1', description='NT_167219.1 Homo sapiens chromosome 14 unlocalized genomic scaffold, GRCh38.p14 Primary Assembly HSCHR14_CTG2_UNLOCALIZED', dbxrefs=[]), SeqRecord(seq=Seq('GATCCATATAGCTAGTTGCTAAAATATATGTGGGGATTTGGTGGAAATTTGGAT...atC'), id='NT_187377.1', name='NT_187377.1', description='NT_187377.1 Homo sapiens chromosome 14 unlocalized genomic scaffold, GRCh38.p14 Primary Assembly HSCHR14_CTG3_UNLOCALIZED', dbxrefs=[]), SeqRecord(seq=Seq('GATCCCTGCCCTAAAACTTTCCCCCCTCATGTCCAGCAAATGCTGCATGGAGCC...atc'), id='NT_113888.1', name='NT_113888.1', description='NT_113888.1 Homo sapiens chromosome 14 unlocalized genomic scaffold, GRCh38.p14 Primary Assembly HSCHR14_CTG4_UNLOCALIZED', dbxrefs=[]), SeqRecord(seq=Seq('caaaagtcaatgtacaaaaattggtAGCGTTTTTATACACTAATGATGATCAAG...CAG'), id='NT_187378.1', name='NT_187378.1', description='NT_187378.1 Homo sapiens chromosome 14 unlocalized genomic scaffold, GRCh38.p14 Primary Assembly HSCHR14_CTG5_UNLOCALIZED', dbxrefs=[]), SeqRecord(seq=Seq('CACCAGGAGATGTAACACTTGTCTAGGCTCGgcctacaggggctttgtgacata...agt'), id='NT_187379.1', name='NT_187379.1', description='NT_187379.1 Homo sapiens chromosome 14 unlocalized genomic scaffold, GRCh38.p14 Primary Assembly HSCHR14_CTG6_UNLOCALIZED', dbxrefs=[]), SeqRecord(seq=Seq('GATCTGCTGTggtagaaataatttattaaaaattctgtttacATTTATCTTATC...atc'), id='NT_187380.1', name='NT_187380.1', description='NT_187380.1 Homo sapiens chromosome 14 unlocalized genomic scaffold, GRCh38.p14 Primary Assembly HSCHR14_CTG7_UNLOCALIZED', dbxrefs=[]), SeqRecord(seq=Seq('GCCTTCAGAGTTACAAGGCTATATCAGTTTTCCACGATTGTTTCCCCTTTTTGT...CAG'), id='NT_187381.1', name='NT_187381.1', description='NT_187381.1 Homo sapiens chromosome 14 unlocalized genomic scaffold, GRCh38.p14 Primary Assembly HSCHR14_CTG8_UNLOCALIZED', dbxrefs=[]), SeqRecord(seq=Seq('NNNNNNNNNNNNNNNNNNNNNNNNNNNNNNNNNNNNNNNNNNNNNNNNNNNNNN...NNN'), id='NC_000015.10', name='NC_000015.10', description='NC_000015.10 Homo sapiens chromosome 15, GRCh38.p14 Primary Assembly', dbxrefs=[]), SeqRecord(seq=Seq('gaattcaataaatgttttaatgagAGTTTTCTAAGCACCAGATGCTGTATCAGG...TTC'), id='NT_187382.1', name='NT_187382.1', description='NT_187382.1 Homo sapiens chromosome 15 unlocalized genomic scaffold, GRCh38.p14 Primary Assembly HSCHR15_RANDOM_CTG1', dbxrefs=[]), SeqRecord(seq=Seq('NNNNNNNNNNNNNNNNNNNNNNNNNNNNNNNNNNNNNNNNNNNNNNNNNNNNNN...NNN'), id='NC_000016.10', name='NC_000016.10', description='NC_000016.10 Homo sapiens chromosome 16, GRCh38.p14 Primary Assembly', dbxrefs=[]), SeqRecord(seq=Seq('GAATTCCCACACTGAGTAAAAACCTCCTTGGTGGGCTTATAATCAATCTCACAT...TTC'), id='NT_187383.1', name='NT_187383.1', description='NT_187383.1 Homo sapiens chromosome 16 unlocalized genomic scaffold, GRCh38.p14 Primary Assembly HSCHR16_RANDOM_CTG1', dbxrefs=[]), SeqRecord(seq=Seq('NNNNNNNNNNNNNNNNNNNNNNNNNNNNNNNNNNNNNNNNNNNNNNNNNNNNNN...NNN'), id='NC_000017.11', name='NC_000017.11', description='NC_000017.11 Homo sapiens chromosome 17, GRCh38.p14 Primary Assembly', dbxrefs=[]), SeqRecord(seq=Seq('gaattctatgtgagggagaaacactcagaacccagcagcagtgttctggaatcc...TGT'), id='NT_113930.2', name='NT_113930.2', description='NT_113930.2 Homo sapiens chromosome 17 unlocalized genomic scaffold, GRCh38.p14 Primary Assembly HSCHR17_RANDOM_CTG3', dbxrefs=[]), SeqRecord(seq=Seq('CATTCCGTTCtgttccatgccattccattccattcctttgtattccattccatt...GGG'), id='NT_187384.1', name='NT_187384.1', description='NT_187384.1 Homo sapiens chromosome 17 unlocalized genomic scaffold, GRCh38.p14 Primary Assembly HSCHR17_RANDOM_CTG4', dbxrefs=[]), SeqRecord(seq=Seq('GCCGCTTTTTGCTGCCGCAGCTTTTTACCCCCGCCGCCGCTGCTCTGAGGGCGG...GAT'), id='NT_187385.1', name='NT_187385.1', description='NT_187385.1 Homo sapiens chromosome 17 unlocalized genomic scaffold, GRCh38.p14 Primary Assembly HSCHR17_RANDOM_CTG5', dbxrefs=[]), SeqRecord(seq=Seq('NNNNNNNNNNNNNNNNNNNNNNNNNNNNNNNNNNNNNNNNNNNNNNNNNNNNNN...NNN'), id='NC_000018.10', name='NC_000018.10', description='NC_000018.10 Homo sapiens chromosome 18, GRCh38.p14 Primary Assembly', dbxrefs=[]), SeqRecord(seq=Seq('NNNNNNNNNNNNNNNNNNNNNNNNNNNNNNNNNNNNNNNNNNNNNNNNNNNNNN...NNN'), id='NC_000019.10', name='NC_000019.10', description='NC_000019.10 Homo sapiens chromosome 19, GRCh38.p14 Primary Assembly', dbxrefs=[]), SeqRecord(seq=Seq('NNNNNNNNNNNNNNNNNNNNNNNNNNNNNNNNNNNNNNNNNNNNNNNNNNNNNN...NNN'), id='NC_000020.11', name='NC_000020.11', description='NC_000020.11 Homo sapiens chromosome 20, GRCh38.p14 Primary Assembly', dbxrefs=[]), SeqRecord(seq=Seq('NNNNNNNNNNNNNNNNNNNNNNNNNNNNNNNNNNNNNNNNNNNNNNNNNNNNNN...NNN'), id='NC_000021.9', name='NC_000021.9', description='NC_000021.9 Homo sapiens chromosome 21, GRCh38.p14 Primary Assembly', dbxrefs=[]), SeqRecord(seq=Seq('NNNNNNNNNNNNNNNNNNNNNNNNNNNNNNNNNNNNNNNNNNNNNNNNNNNNNN...NNN'), id='NC_000022.11', name='NC_000022.11', description='NC_000022.11 Homo sapiens chromosome 22, GRCh38.p14 Primary Assembly', dbxrefs=[]), SeqRecord(seq=Seq('ACTTGCTTCCTCAGGATGGAATCTGGCTGGGCCTCTGACCTTGCTGGTCACGTG...gcG'), id='NT_187386.1', name='NT_187386.1', description='NT_187386.1 Homo sapiens chromosome 22 unlocalized genomic scaffold, GRCh38.p14 Primary Assembly HSCHR22_UNLOCALIZED_CTG1', dbxrefs=[]), SeqRecord(seq=Seq('TAGTGTCTTGTCGTCCGTTTTGGCTTTCTCCCTGATTCCAGAATGCAGGTAGAG...TCT'), id='NT_187387.1', name='NT_187387.1', description='NT_187387.1 Homo sapiens chromosome 22 unlocalized genomic scaffold, GRCh38.p14 Primary Assembly HSCHR22_UNLOCALIZED_CTG2', dbxrefs=[]), SeqRecord(seq=Seq('GAATTCACTCTCCACCTCAGACATGATGACCCAGGTACTGATTACTAGTAGACA...TTC'), id='NT_187388.1', name='NT_187388.1', description='NT_187388.1 Homo sapiens chromosome 22 unlocalized genomic scaffold, GRCh38.p14 Primary Assembly HSCHR22_UNLOCALIZED_CTG3', dbxrefs=[]), SeqRecord(seq=Seq('aatattataaattattaatttctctaatttttattttcttccttctgcttgctt...ATC'), id='NT_187390.1', name='NT_187390.1', description='NT_187390.1 Homo sapiens chromosome 22 unlocalized genomic scaffold, GRCh38.p14 Primary Assembly HSCHR22_UNLOCALIZED_CTG5', dbxrefs=[]), SeqRecord(seq=Seq('ggatggagtgcagtggagtggagtggaatggaatggagtgtaatggaatgtaTT...atc'), id='NT_187391.1', name='NT_187391.1', description='NT_187391.1 Homo sapiens chromosome 22 unlocalized genomic scaffold, GRCh38.p14 Primary Assembly HSCHR22_UNLOCALIZED_CTG6', dbxrefs=[]), SeqRecord(seq=Seq('CATCAATTTATTCTAGCTAAAGGAGTTTATCAGAAGCAGCATTTGAAAGCACCA...cca'), id='NT_187392.1', name='NT_187392.1', description='NT_187392.1 Homo sapiens chromosome 22 unlocalized genomic scaffold, GRCh38.p14 Primary Assembly HSCHR22_UNLOCALIZED_CTG7', dbxrefs=[]), SeqRecord(seq=Seq('attcctggaggctttgttcgtttctttttattcttttttctctaaacttccctt...AGC'), id='NT_187393.1', name='NT_187393.1', description='NT_187393.1 Homo sapiens chromosome 22 unlocalized genomic scaffold, GRCh38.p14 Primary Assembly HSCHR22_UNLOCALIZED_CTG8', dbxrefs=[]), SeqRecord(seq=Seq('ccctgccgtgtgaggtgtcagtgtgcccctgctggggggtgccttccagttagg...ttc'), id='NT_187394.1', name='NT_187394.1', description='NT_187394.1 Homo sapiens chromosome 22 unlocalized genomic scaffold, GRCh38.p14 Primary Assembly HSCHR22_UNLOCALIZED_CTG9', dbxrefs=[]), SeqRecord(seq=Seq('NNNNNNNNNNNNNNNNNNNNNNNNNNNNNNNNNNNNNNNNNNNNNNNNNNNNNN...NNN'), id='NC_000023.11', name='NC_000023.11', description='NC_000023.11 Homo sapiens chromosome X, GRCh38.p14 Primary Assembly', dbxrefs=[]), SeqRecord(seq=Seq('NNNNNNNNNNNNNNNNNNNNNNNNNNNNNNNNNNNNNNNNNNNNNNNNNNNNNN...NNN'), id='NC_000024.10', name='NC_000024.10', description='NC_000024.10 Homo sapiens chromosome Y, GRCh38.p14 Primary Assembly', dbxrefs=[]), SeqRecord(seq=Seq('taataaattttgaagaaaatgaagactGTGTTCTCAGTTCCAGGTGCTTCATCA...cgG'), id='NT_187395.1', name='NT_187395.1', description='NT_187395.1 Homo sapiens chromosome Y unlocalized genomic scaffold, GRCh38.p14 Primary Assembly HSCHRY_RANDOM_CTG1', dbxrefs=[]), SeqRecord(seq=Seq('tttttgtagcatctgcaagtggatatttggacctctctgaggatttcgttggaa...atc'), id='NT_187396.1', name='NT_187396.1', description='NT_187396.1 Homo sapiens unplaced genomic scaffold, GRCh38.p14 Primary Assembly HSCHRUN_RANDOM_100', dbxrefs=[]), SeqRecord(seq=Seq('tctgtgagttgaacgaacacatcacaacgcagtttgagggaatgattctgtcta...aaa'), id='NT_187397.1', name='NT_187397.1', description='NT_187397.1 Homo sapiens unplaced genomic scaffold, GRCh38.p14 Primary Assembly HSCHRUN_RANDOM_101', dbxrefs=[]), SeqRecord(seq=Seq('GAAGGCCTCaaggatgtcagaatatccacttgcaaactttacaaacagagtgtt...gtg'), id='NT_187398.1', name='NT_187398.1', description='NT_187398.1 Homo sapiens unplaced genomic scaffold, GRCh38.p14 Primary Assembly HSCHRUN_RANDOM_102', dbxrefs=[]), SeqRecord(seq=Seq('TTtgttgcgctttcaggcctgtggtgaagaaggaaatatcttcacataaaaact...tca'), id='NT_187399.1', name='NT_187399.1', description='NT_187399.1 Homo sapiens unplaced genomic scaffold, GRCh38.p14 Primary Assembly HSCHRUN_RANDOM_103', dbxrefs=[]), SeqRecord(seq=Seq('cagagttccacctatccatgggcagattctagagaaacagagttaagaaactgc...TTG'), id='NT_187400.1', name='NT_187400.1', description='NT_187400.1 Homo sapiens unplaced genomic scaffold, GRCh38.p14 Primary Assembly HSCHRUN_RANDOM_104', dbxrefs=[]), SeqRecord(seq=Seq('GGCATTCACTTAGAGAGTTGAACcgtcccttgtgagttcaggttgaaacactct...aca'), id='NT_187401.1', name='NT_187401.1', description='NT_187401.1 Homo sapiens unplaced genomic scaffold, GRCh38.p14 Primary Assembly HSCHRUN_RANDOM_105', dbxrefs=[]), SeqRecord(seq=Seq('gaagatatttccttttctgccattgacctgaaagcgcttgaaatctacacttgc...ccg'), id='NT_187402.1', name='NT_187402.1', description='NT_187402.1 Homo sapiens unplaced genomic scaffold, GRCh38.p14 Primary Assembly HSCHRUN_RANDOM_106', dbxrefs=[]), SeqRecord(seq=Seq('gttccttagacagagcagatttgaaacactctttttgtgcaattggcaagtggt...ctt'), id='NT_187403.1', name='NT_187403.1', description='NT_187403.1 Homo sapiens unplaced genomic scaffold, GRCh38.p14 Primary Assembly HSCHRUN_RANDOM_107', dbxrefs=[]), SeqRecord(seq=Seq('TGTGTGTAttcactctgtgagttgaatcctttacacagagcagacttgaaacac...aaa'), id='NT_187404.1', name='NT_187404.1', description='NT_187404.1 Homo sapiens unplaced genomic scaffold, GRCh38.p14 Primary Assembly HSCHRUN_RANDOM_108', dbxrefs=[]), SeqRecord(seq=Seq('ggagtttctgagaatcattctgtctaatttttatatgaagatatttccttttct...acg'), id='NT_187405.1', name='NT_187405.1', description='NT_187405.1 Homo sapiens unplaced genomic scaffold, GRCh38.p14 Primary Assembly HSCHRUN_RANDOM_109', dbxrefs=[]), SeqRecord(seq=Seq('agtggatattcagacctccttgaggccttcgttggaaacgggatttcttcatat...ACC'), id='NT_187406.1', name='NT_187406.1', description='NT_187406.1 Homo sapiens unplaced genomic scaffold, GRCh38.p14 Primary Assembly HSCHRUN_RANDOM_110', dbxrefs=[]), SeqRecord(seq=Seq('gtaatatccacttgcagactttacaaacagagtgtttcctaactactctatgaa...AAT'), id='NT_187407.1', name='NT_187407.1', description='NT_187407.1 Homo sapiens unplaced genomic scaffold, GRCh38.p14 Primary Assembly HSCHRUN_RANDOM_111', dbxrefs=[]), SeqRecord(seq=Seq('aaaagagtgtttcaaaactgccctgaataaaggaaggttcaactctgtgagttg...CAG'), id='NT_187408.1', name='NT_187408.1', description='NT_187408.1 Homo sapiens unplaced genomic scaffold, GRCh38.p14 Primary Assembly HSCHRUN_RANDOM_112', dbxrefs=[]), SeqRecord(seq=Seq('GAGTtgaggcacacatcacaaactagtttctgcgaatgactctgtgtactttta...tgc'), id='NT_187409.1', name='NT_187409.1', description='NT_187409.1 Homo sapiens unplaced genomic scaffold, GRCh38.p14 Primary Assembly HSCHRUN_RANDOM_113', dbxrefs=[]), SeqRecord(seq=Seq('ttaacctttcttttaatcgagcagtttggaaacactgtctttgtaTGTCTGTAA...atg'), id='NT_187410.1', name='NT_187410.1', description='NT_187410.1 Homo sapiens unplaced genomic scaffold, GRCh38.p14 Primary Assembly HSCHRUN_RANDOM_114', dbxrefs=[]), SeqRecord(seq=Seq('gcagtggatatgtggacctctttgaagatttcgttggaaaagggttcatcttca...gga'), id='NT_187411.1', name='NT_187411.1', description='NT_187411.1 Homo sapiens unplaced genomic scaffold, GRCh38.p14 Primary Assembly HSCHRUN_RANDOM_115', dbxrefs=[]), SeqRecord(seq=Seq('TCGATgcatcatcacaaagtagtttctgagaatgcttccatctaggttttatgt...TGC'), id='NT_187412.1', name='NT_187412.1', description='NT_187412.1 Homo sapiens unplaced genomic scaffold, GRCh38.p14 Primary Assembly HSCHRUN_RANDOM_116', dbxrefs=[]), SeqRecord(seq=Seq('tccaaatatccacttgcagattctacagaaagagtgtttgaaagctgaactatg...AGA'), id='NT_187413.1', name='NT_187413.1', description='NT_187413.1 Homo sapiens unplaced genomic scaffold, GRCh38.p14 Primary Assembly HSCHRUN_RANDOM_117', dbxrefs=[]), SeqRecord(seq=Seq('TCAAAACGGCTataccttcacataaaactagacagaagaaaaatcagaaacttc...ttt'), id='NT_187414.1', name='NT_187414.1', description='NT_187414.1 Homo sapiens unplaced genomic scaffold, GRCh38.p14 Primary Assembly HSCHRUN_RANDOM_118', dbxrefs=[]), SeqRecord(seq=Seq('Aaactttgaggccaatgatgaaaaaggaaatatcttctcataaaaactagacag...aca'), id='NT_187415.1', name='NT_187415.1', description='NT_187415.1 Homo sapiens unplaced genomic scaffold, GRCh38.p14 Primary Assembly HSCHRUN_RANDOM_119', dbxrefs=[]), SeqRecord(seq=Seq('AtccaatcatcacaaagaattttctgagtgCTTCCGTTTGgattttaggtgaag...CTC'), id='NT_187416.1', name='NT_187416.1', description='NT_187416.1 Homo sapiens unplaced genomic scaffold, GRCh38.p14 Primary Assembly HSCHRUN_RANDOM_120', dbxrefs=[]), SeqRecord(seq=Seq('AGATTTCGTTggaacgggataaacttcccagaactacacggaatcattctcaaa...ttg'), id='NT_187417.1', name='NT_187417.1', description='NT_187417.1 Homo sapiens unplaced genomic scaffold, GRCh38.p14 Primary Assembly HSCHRUN_RANDOM_121', dbxrefs=[]), SeqRecord(seq=Seq('gggttcatcttcacataaaactaaacagaagcattctcagaaactattttgtga...atc'), id='NT_187418.1', name='NT_187418.1', description='NT_187418.1 Homo sapiens unplaced genomic scaffold, GRCh38.p14 Primary Assembly HSCHRUN_RANDOM_122', dbxrefs=[]), SeqRecord(seq=Seq('CGTtcactcacagattttaacctttcttttcatagagcagtctggaaacactct...gca'), id='NT_187419.1', name='NT_187419.1', description='NT_187419.1 Homo sapiens unplaced genomic scaffold, GRCh38.p14 Primary Assembly HSCHRUN_RANDOM_123', dbxrefs=[]), SeqRecord(seq=Seq('aatggaagggaatggaatggaatggaatggaatggaatggaagggaatggaatg...ACC'), id='NT_187420.1', name='NT_187420.1', description='NT_187420.1 Homo sapiens unplaced genomic scaffold, GRCh38.p14 Primary Assembly HSCHRUN_RANDOM_124', dbxrefs=[]), SeqRecord(seq=Seq('cagtatataatacatattttgggAACTTTgctattttatgtacagtatataata...ctT'), id='NT_187421.1', name='NT_187421.1', description='NT_187421.1 Homo sapiens unplaced genomic scaffold, GRCh38.p14 Primary Assembly HSCHRUN_RANDOM_125', dbxrefs=[]), SeqRecord(seq=Seq('ggaatgttcaactctatgagttgaatgcaaacatcacaaagaaattctgagaat...att'), id='NT_187422.1', name='NT_187422.1', description='NT_187422.1 Homo sapiens unplaced genomic scaffold, GRCh38.p14 Primary Assembly HSCHRUN_RANDOM_126', dbxrefs=[]), SeqRecord(seq=Seq('gaagcactattagaaactacttggtgatatctgcattcaagtcacagagttgaa...TAC'), id='NT_187423.1', name='NT_187423.1', description='NT_187423.1 Homo sapiens unplaced genomic scaffold, GRCh38.p14 Primary Assembly HSCHRUN_RANDOM_127', dbxrefs=[]), SeqRecord(seq=Seq('ATtcagtggagtggattggagcactttgagacctatggtggaaaaggaaatatc...gag'), id='NT_187424.1', name='NT_187424.1', description='NT_187424.1 Homo sapiens unplaced genomic scaffold, GRCh38.p14 Primary Assembly HSCHRUN_RANDOM_128', dbxrefs=[]), SeqRecord(seq=Seq('TCTGCTAGTGGATACTTGGAGTGCTCTGTGGcttactgtggaaaagcaaatatc...ggg'), id='NT_187425.1', name='NT_187425.1', description='NT_187425.1 Homo sapiens unplaced genomic scaffold, GRCh38.p14 Primary Assembly HSCHRUN_RANDOM_129', dbxrefs=[]), SeqRecord(seq=Seq('TTCTTTGGAACGGGattatcttcacaaaaaactagacagaagcattctcagaaa...GAC'), id='NT_187426.1', name='NT_187426.1', description='NT_187426.1 Homo sapiens unplaced genomic scaffold, GRCh38.p14 Primary Assembly HSCHRUN_RANDOM_130', dbxrefs=[]), SeqRecord(seq=Seq('aaaatatcttcatatgataacttgacagaagcattctaagaaacttctttgtga...aca'), id='NT_187427.1', name='NT_187427.1', description='NT_187427.1 Homo sapiens unplaced genomic scaffold, GRCh38.p14 Primary Assembly HSCHRUN_RANDOM_131', dbxrefs=[]), SeqRecord(seq=Seq('ATGAgatgaacgcagacatcacaaagatatttatcTGTATacatctgcctagtt...aaa'), id='NT_187428.1', name='NT_187428.1', description='NT_187428.1 Homo sapiens unplaced genomic scaffold, GRCh38.p14 Primary Assembly HSCHRUN_RANDOM_132', dbxrefs=[]), SeqRecord(seq=Seq('TTAGCAGTTTTGAGCACCCTTTTGATAATACCTGTgattggacatttggagtgc...gca'), id='NT_187429.1', name='NT_187429.1', description='NT_187429.1 Homo sapiens unplaced genomic scaffold, GRCh38.p14 Primary Assembly HSCHRUN_RANDOM_133', dbxrefs=[]), SeqRecord(seq=Seq('CTTCCagtatgtgatcaattttggaataggtgtgatgcagtgctgaaaaaaatg...aga'), id='NT_187430.1', name='NT_187430.1', description='NT_187430.1 Homo sapiens unplaced genomic scaffold, GRCh38.p14 Primary Assembly HSCHRUN_RANDOM_134', dbxrefs=[]), SeqRecord(seq=Seq('AAATAAAAaatacacggaagcattctgagaaacttcattgttttgtgtgcattc...tca'), id='NT_187431.1', name='NT_187431.1', description='NT_187431.1 Homo sapiens unplaced genomic scaffold, GRCh38.p14 Primary Assembly HSCHRUN_RANDOM_135', dbxrefs=[]), SeqRecord(seq=Seq('AGGGCCTCAAAgcacgccaaatatccacttgcagatcctatgaaaagagtgttc...GAG'), id='NT_187432.1', name='NT_187432.1', description='NT_187432.1 Homo sapiens unplaced genomic scaffold, GRCh38.p14 Primary Assembly HSCHRUN_RANDOM_136', dbxrefs=[]), SeqRecord(seq=Seq('tgatctctctttttgcagaatctgcgagtggatatttggagtgcttggaagcct...TGA'), id='NT_187433.1', name='NT_187433.1', description='NT_187433.1 Homo sapiens unplaced genomic scaffold, GRCh38.p14 Primary Assembly HSCHRUN_RANDOM_137', dbxrefs=[]), SeqRecord(seq=Seq('aaagttcaagtctgtgagttgagtagacacatcacaaagtggtaactgagaatt...TCC'), id='NT_187434.1', name='NT_187434.1', description='NT_187434.1 Homo sapiens unplaced genomic scaffold, GRCh38.p14 Primary Assembly HSCHRUN_RANDOM_138', dbxrefs=[]), SeqRecord(seq=Seq('caaagagagattcaaaactgctctatcaaaagatacgttgtactctgtgagttg...ata'), id='NT_187435.1', name='NT_187435.1', description='NT_187435.1 Homo sapiens unplaced genomic scaffold, GRCh38.p14 Primary Assembly HSCHRUN_RANDOM_139', dbxrefs=[]), SeqRecord(seq=Seq('GAGCCGTTTAGATtatctcttttttgtagaatctgcaaagtgatatttggagcc...GCC'), id='NT_187436.1', name='NT_187436.1', description='NT_187436.1 Homo sapiens unplaced genomic scaffold, GRCh38.p14 Primary Assembly HSCHRUN_RANDOM_140', dbxrefs=[]), SeqRecord(seq=Seq('tctttgtgatatgtgcattcatcctacagagttgaaccttacttttgatttagc...ctc'), id='NT_187437.1', name='NT_187437.1', description='NT_187437.1 Homo sapiens unplaced genomic scaffold, GRCh38.p14 Primary Assembly HSCHRUN_RANDOM_141', dbxrefs=[]), SeqRecord(seq=Seq('agatattttcttttccaaaatagacCTCAAAGCCCTGCAAATATcaacttccag...ttt'), id='NT_187438.1', name='NT_187438.1', description='NT_187438.1 Homo sapiens unplaced genomic scaffold, GRCh38.p14 Primary Assembly HSCHRUN_RANDOM_142', dbxrefs=[]), SeqRecord(seq=Seq('ctgctctatcaaaagaaaggttcaacactgttaggtGAGAACACACAtcccaaa...CTG'), id='NT_187439.1', name='NT_187439.1', description='NT_187439.1 Homo sapiens unplaced genomic scaffold, GRCh38.p14 Primary Assembly HSCHRUN_RANDOM_143', dbxrefs=[]), SeqRecord(seq=Seq('TCGATTCAGTTccatgatgattctatttgattcaattagatgatgtttccattc...ACC'), id='NT_187440.1', name='NT_187440.1', description='NT_187440.1 Homo sapiens unplaced genomic scaffold, GRCh38.p14 Primary Assembly HSCHRUN_RANDOM_144', dbxrefs=[]), SeqRecord(seq=Seq('taacttccttgtgttgtgtgtattcaactcacagagttgaacgatcctttacac...aaa'), id='NT_187441.1', name='NT_187441.1', description='NT_187441.1 Homo sapiens unplaced genomic scaffold, GRCh38.p14 Primary Assembly HSCHRUN_RANDOM_145', dbxrefs=[]), SeqRecord(seq=Seq('GCCCcacgtccgggagggaggtgggggtgtcagccccccaccaggccagccgcc...cct'), id='NT_187442.1', name='NT_187442.1', description='NT_187442.1 Homo sapiens unplaced genomic scaffold, GRCh38.p14 Primary Assembly HSCHRUN_RANDOM_146', dbxrefs=[]), SeqRecord(seq=Seq('cttttgagagcagttttgaaacagtctttttgaagtatctgcaagtggatgttt...TGC'), id='NT_187443.1', name='NT_187443.1', description='NT_187443.1 Homo sapiens unplaced genomic scaffold, GRCh38.p14 Primary Assembly HSCHRUN_RANDOM_147', dbxrefs=[]), SeqRecord(seq=Seq('ctgctctatgatagggaatgttcaactctgtgtcctgatacaaacatcacaaag...AGT'), id='NT_187444.1', name='NT_187444.1', description='NT_187444.1 Homo sapiens unplaced genomic scaffold, GRCh38.p14 Primary Assembly HSCHRUN_RANDOM_148', dbxrefs=[]), SeqRecord(seq=Seq('CTTGGAAaggggattacatatacaaagtagacagtagcattctcagaagcttct...gtg'), id='NT_187445.1', name='NT_187445.1', description='NT_187445.1 Homo sapiens unplaced genomic scaffold, GRCh38.p14 Primary Assembly HSCHRUN_RANDOM_149', dbxrefs=[]), SeqRecord(seq=Seq('CACATGATAAGAAAATGAtaaggattaagaaaatgtgacacatatacaccatgg...aac'), id='NT_187446.1', name='NT_187446.1', description='NT_187446.1 Homo sapiens unplaced genomic scaffold, GRCh38.p14 Primary Assembly HSCHRUN_RANDOM_154', dbxrefs=[]), SeqRecord(seq=Seq('tacaaaaagagtgtttcaaaactgctcaatcaaaagaaaggttctactctgtga...AAT'), id='NT_187447.1', name='NT_187447.1', description='NT_187447.1 Homo sapiens unplaced genomic scaffold, GRCh38.p14 Primary Assembly HSCHRUN_RANDOM_155', dbxrefs=[]), SeqRecord(seq=Seq('gtagtttgtagttctccgcgaagaggtccttcacatcccttgtaagttggattc...GCT'), id='NT_187448.1', name='NT_187448.1', description='NT_187448.1 Homo sapiens unplaced genomic scaffold, GRCh38.p14 Primary Assembly HSCHRUN_RANDOM_156', dbxrefs=[]), SeqRecord(seq=Seq('AAGGACAGTTTGTTCCACAATAAATGCTGGGAAAACAAGTCCACATTGAAACCA...cca'), id='NT_187449.1', name='NT_187449.1', description='NT_187449.1 Homo sapiens unplaced genomic scaffold, GRCh38.p14 Primary Assembly HSCHRUN_RANDOM_157', dbxrefs=[]), SeqRecord(seq=Seq('gcccagctattttttgtatttttagttgagaaggagtttcaccatgttggccag...ctc'), id='NT_187450.1', name='NT_187450.1', description='NT_187450.1 Homo sapiens unplaced genomic scaffold, GRCh38.p14 Primary Assembly HSCHRUN_RANDOM_158', dbxrefs=[]), SeqRecord(seq=Seq('GTTGatcctatcttttgatacagcagttttgaaactctctttttgtagaatctt...TAT'), id='NT_187451.1', name='NT_187451.1', description='NT_187451.1 Homo sapiens unplaced genomic scaffold, GRCh38.p14 Primary Assembly HSCHRUN_RANDOM_159', dbxrefs=[]), SeqRecord(seq=Seq('cttaaagtataataaaaaaagaaagtttcaaaactgctgtatcacaagataggt...TCC'), id='NT_187452.1', name='NT_187452.1', description='NT_187452.1 Homo sapiens unplaced genomic scaffold, GRCh38.p14 Primary Assembly HSCHRUN_RANDOM_160', dbxrefs=[]), SeqRecord(seq=Seq('attgttttgatttgcatttctctgatggccagtgatggtgagcatttctttatg...aag'), id='NT_187453.1', name='NT_187453.1', description='NT_187453.1 Homo sapiens unplaced genomic scaffold, GRCh38.p14 Primary Assembly HSCHRUN_RANDOM_161', dbxrefs=[]), SeqRecord(seq=Seq('GGcctagatagctcttattattttcagatacgtCCCAtcatacctaatttattg...GAA'), id='NT_187454.1', name='NT_187454.1', description='NT_187454.1 Homo sapiens unplaced genomic scaffold, GRCh38.p14 Primary Assembly HSCHRUN_RANDOM_162', dbxrefs=[]), SeqRecord(seq=Seq('ttggaggcctatggtggaaaggaaatatcttcacataaaaaataggcagaagaa...tga'), id='NT_187455.1', name='NT_187455.1', description='NT_187455.1 Homo sapiens unplaced genomic scaffold, GRCh38.p14 Primary Assembly HSCHRUN_RANDOM_163', dbxrefs=[]), SeqRecord(seq=Seq('atctgcaagtggacatttggagcgccttgtgGACTATTGTAGAataaggaatat...att'), id='NT_187456.1', name='NT_187456.1', description='NT_187456.1 Homo sapiens unplaced genomic scaffold, GRCh38.p14 Primary Assembly HSCHRUN_RANDOM_164', dbxrefs=[]), SeqRecord(seq=Seq('agaagtttctcagaaatctctgtctagtttttatgtgaagatatttccttttcc...ACT'), id='NT_187457.1', name='NT_187457.1', description='NT_187457.1 Homo sapiens unplaced genomic scaffold, GRCh38.p14 Primary Assembly HSCHRUN_RANDOM_165', dbxrefs=[]), SeqRecord(seq=Seq('ATTTCTGCCCAGTCAGCCCCAGGCACCCAGGACAACCCTAGACACTCACAGGCC...ATA'), id='NT_187458.1', name='NT_187458.1', description='NT_187458.1 Homo sapiens unplaced genomic scaffold, GRCh38.p14 Primary Assembly HSCHRUN_RANDOM_166', dbxrefs=[]), SeqRecord(seq=Seq('Tggtctatcaaagaaaggttaaactcagtgagttgaacccacacatcacaaagt...gct'), id='NT_187459.1', name='NT_187459.1', description='NT_187459.1 Homo sapiens unplaced genomic scaffold, GRCh38.p14 Primary Assembly HSCHRUN_RANDOM_167', dbxrefs=[]), SeqRecord(seq=Seq('atatcttcacataaaagctagacagaagtattctcagacagttctttgtgatat...TGG'), id='NT_187460.1', name='NT_187460.1', description='NT_187460.1 Homo sapiens unplaced genomic scaffold, GRCh38.p14 Primary Assembly HSCHRUN_RANDOM_168', dbxrefs=[]), SeqRecord(seq=Seq('CAAagtgtgtattatatactgtacataaaatatcaaagtacccaaagtatatat...TGT'), id='NT_187461.1', name='NT_187461.1', description='NT_187461.1 Homo sapiens unplaced genomic scaffold, GRCh38.p14 Primary Assembly HSCHRUN_RANDOM_169', dbxrefs=[]), SeqRecord(seq=Seq('AACGAGATATCTCcacatacaatctagacagaagcattctcagaaaattttgtg...cac'), id='NT_187462.1', name='NT_187462.1', description='NT_187462.1 Homo sapiens unplaced genomic scaffold, GRCh38.p14 Primary Assembly HSCHRUN_RANDOM_170', dbxrefs=[]), SeqRecord(seq=Seq('GAAGTATTCTCAGACagttctttgtgatatgtccattcaactcacagagttgaa...AGT'), id='NT_187463.1', name='NT_187463.1', description='NT_187463.1 Homo sapiens unplaced genomic scaffold, GRCh38.p14 Primary Assembly HSCHRUN_RANDOM_171', dbxrefs=[]), SeqRecord(seq=Seq('cttttgatagagcagtcttgaaatactgcttttgtagaatctgcttgaggatat...ctc'), id='NT_187464.1', name='NT_187464.1', description='NT_187464.1 Homo sapiens unplaced genomic scaffold, GRCh38.p14 Primary Assembly HSCHRUN_RANDOM_172', dbxrefs=[]), SeqRecord(seq=Seq('aactgtacataaaatatcaaagtactcAAACTATATCTTGTACATGAAATATCA...GTA'), id='NT_187465.1', name='NT_187465.1', description='NT_187465.1 Homo sapiens unplaced genomic scaffold, GRCh38.p14 Primary Assembly HSCHRUN_RANDOM_173', dbxrefs=[]), SeqRecord(seq=Seq('CCAAAGTATGTATTATAAGCTGtagataaaatatcaaagtacccaaactatata...AAG'), id='NT_187466.1', name='NT_187466.1', description='NT_187466.1 Homo sapiens unplaced genomic scaffold, GRCh38.p14 Primary Assembly HSCHRUN_RANDOM_174', dbxrefs=[]), SeqRecord(seq=Seq('tctattcagagattcaacttctccctgttttagtcttgggagagtgtatgtgtc...TGC'), id='NT_187467.1', name='NT_187467.1', description='NT_187467.1 Homo sapiens unplaced genomic scaffold, GRCh38.p14 Primary Assembly HSCHRUN_RANDOM_175', dbxrefs=[]), SeqRecord(seq=Seq('acatgttcaactctatgagatgaatgcacacatcacaaagaagtttctcagaat...atg'), id='NT_187468.1', name='NT_187468.1', description='NT_187468.1 Homo sapiens unplaced genomic scaffold, GRCh38.p14 Primary Assembly HSCHRUN_RANDOM_176', dbxrefs=[]), SeqRecord(seq=Seq('tcccgtttccaaagaagaccTCATagccgtccaaatatccacttgcagatcctt...cac'), id='NT_187469.1', name='NT_187469.1', description='NT_187469.1 Homo sapiens unplaced genomic scaffold, GRCh38.p14 Primary Assembly HSCHRUN_RANDOM_177', dbxrefs=[]), SeqRecord(seq=Seq('CGAAAGCCTCAAGCGGTCAagacatccacttgcagatcctacaaaaagagtgtt...TAG'), id='NT_187470.1', name='NT_187470.1', description='NT_187470.1 Homo sapiens unplaced genomic scaffold, GRCh38.p14 Primary Assembly HSCHRUN_RANDOM_178', dbxrefs=[]), SeqRecord(seq=Seq('Aaaggaatatcttcccataaaaacgacatagaagctatctcaggaacttgttta...gca'), id='NT_187471.1', name='NT_187471.1', description='NT_187471.1 Homo sapiens unplaced genomic scaffold, GRCh38.p14 Primary Assembly HSCHRUN_RANDOM_179', dbxrefs=[]), SeqRecord(seq=Seq('agcaacttcagcaaagtgtcaggatacaaaatcaatgtacaaaaatcacaagca...agt'), id='NT_187472.1', name='NT_187472.1', description='NT_187472.1 Homo sapiens unplaced genomic scaffold, GRCh38.p14 Primary Assembly HSCHRUN_RANDOM_180', dbxrefs=[]), SeqRecord(seq=Seq('gatacagcattttggaaacactctttttgtaggatctgcaggtggatatttgga...agc'), id='NT_187473.1', name='NT_187473.1', description='NT_187473.1 Homo sapiens unplaced genomic scaffold, GRCh38.p14 Primary Assembly HSCHRUN_RANDOM_181', dbxrefs=[]), SeqRecord(seq=Seq('taacagagatgaacctttctttttacagagcagttttgaaacactctttttgtg...AGA'), id='NT_187474.1', name='NT_187474.1', description='NT_187474.1 Homo sapiens unplaced genomic scaffold, GRCh38.p14 Primary Assembly HSCHRUN_RANDOM_182', dbxrefs=[]), SeqRecord(seq=Seq('tggagcgctttgaggcctatgatgaaaaaggaaatatcttcccataaaaactag...taG'), id='NT_187475.1', name='NT_187475.1', description='NT_187475.1 Homo sapiens unplaced genomic scaffold, GRCh38.p14 Primary Assembly HSCHRUN_RANDOM_183', dbxrefs=[]), SeqRecord(seq=Seq('cacctgctctataaaagggaatattcacctctgtgacttgaatgcaaacatcac...aac'), id='NT_187476.1', name='NT_187476.1', description='NT_187476.1 Homo sapiens unplaced genomic scaffold, GRCh38.p14 Primary Assembly HSCHRUN_RANDOM_184', dbxrefs=[]), SeqRecord(seq=Seq('aatcccgtttccaacgaaatcctcaaagctatccaaatatccacttcagattcc...ttt'), id='NT_187477.1', name='NT_187477.1', description='NT_187477.1 Homo sapiens unplaced genomic scaffold, GRCh38.p14 Primary Assembly HSCHRUN_RANDOM_185', dbxrefs=[]), SeqRecord(seq=Seq('catagagcaggtttgaaacactctttctgtagtatctgcaagcggacgtttcaa...ctc'), id='NT_187478.1', name='NT_187478.1', description='NT_187478.1 Homo sapiens unplaced genomic scaffold, GRCh38.p14 Primary Assembly HSCHRUN_RANDOM_186', dbxrefs=[]), SeqRecord(seq=Seq('aagtggatatttggatagctttgaggatttcgttggaaacgggattacatataa...cct'), id='NT_187479.1', name='NT_187479.1', description='NT_187479.1 Homo sapiens unplaced genomic scaffold, GRCh38.p14 Primary Assembly HSCHRUN_RANDOM_187', dbxrefs=[]), SeqRecord(seq=Seq('gcttgcagatactacagaaagagtgtttcaaacctgctctatgaaagggaatgt...AAA'), id='NT_187480.1', name='NT_187480.1', description='NT_187480.1 Homo sapiens unplaced genomic scaffold, GRCh38.p14 Primary Assembly HSCHRUN_RANDOM_188', dbxrefs=[]), SeqRecord(seq=Seq('aaaactgctctgtcaaaaggaagattcaaatttgttactttgagtacacacatc...ggc'), id='NT_187481.1', name='NT_187481.1', description='NT_187481.1 Homo sapiens unplaced genomic scaffold, GRCh38.p14 Primary Assembly HSCHRUN_RANDOM_189', dbxrefs=[]), SeqRecord(seq=Seq('ctatccaaatatccacctgtagatcctacaaaaagagtgtttccaaatgctgta...aaa'), id='NT_187482.1', name='NT_187482.1', description='NT_187482.1 Homo sapiens unplaced genomic scaffold, GRCh38.p14 Primary Assembly HSCHRUN_RANDOM_190', dbxrefs=[]), SeqRecord(seq=Seq('gtccacttccaggtagtgcactgagtgtttcaaacctgctctataaaagggaac...TAG'), id='NT_187483.1', name='NT_187483.1', description='NT_187483.1 Homo sapiens unplaced genomic scaffold, GRCh38.p14 Primary Assembly HSCHRUN_RANDOM_191', dbxrefs=[]), SeqRecord(seq=Seq('tccaaagaaatcctcaaaggtatccaaatatctacttccagattctacaaaaag...gtc'), id='NT_187484.1', name='NT_187484.1', description='NT_187484.1 Homo sapiens unplaced genomic scaffold, GRCh38.p14 Primary Assembly HSCHRUN_RANDOM_192', dbxrefs=[]), SeqRecord(seq=Seq('atttgcgatgtgtgttctcaactaacagagttgaacctttgttttgatgcagca...CGT'), id='NT_187485.1', name='NT_187485.1', description='NT_187485.1 Homo sapiens unplaced genomic scaffold, GRCh38.p14 Primary Assembly HSCHRUN_RANDOM_193', dbxrefs=[]), SeqRecord(seq=Seq('CAAATGTCCACTcccaggtagtgcacagagtgtttcaaacctgctctatgaaag...ttc'), id='NT_187486.1', name='NT_187486.1', description='NT_187486.1 Homo sapiens unplaced genomic scaffold, GRCh38.p14 Primary Assembly HSCHRUN_RANDOM_194', dbxrefs=[]), SeqRecord(seq=Seq('tttcatagagcatgtttgaaacactctttctgtagtatctgaaaacggacattt...GTG'), id='NT_187487.1', name='NT_187487.1', description='NT_187487.1 Homo sapiens unplaced genomic scaffold, GRCh38.p14 Primary Assembly HSCHRUN_RANDOM_195', dbxrefs=[]), SeqRecord(seq=Seq('tacctggaagtggacatttggagcgctttgagcgctatgttgaaaagggaaata...ctt'), id='NT_187488.1', name='NT_187488.1', description='NT_187488.1 Homo sapiens unplaced genomic scaffold, GRCh38.p14 Primary Assembly HSCHRUN_RANDOM_196', dbxrefs=[]), SeqRecord(seq=Seq('aattctacaaaagagtgttgcaaaactgctcaatcaaaagagagtttcaactct...tgt'), id='NT_187489.1', name='NT_187489.1', description='NT_187489.1 Homo sapiens unplaced genomic scaffold, GRCh38.p14 Primary Assembly HSCHRUN_RANDOM_197', dbxrefs=[]), SeqRecord(seq=Seq('gatgtgtgcattcacctcacatagttgatcctttcttttgattagagGAGGctt...GAA'), id='NT_187490.1', name='NT_187490.1', description='NT_187490.1 Homo sapiens unplaced genomic scaffold, GRCh38.p14 Primary Assembly HSCHRUN_RANDOM_198', dbxrefs=[]), SeqRecord(seq=Seq('gcacacatcacaaagaagtttctcagaatgcttccatgtagtttttatgtgaag...AGT'), id='NT_187491.1', name='NT_187491.1', description='NT_187491.1 Homo sapiens unplaced genomic scaffold, GRCh38.p14 Primary Assembly HSCHRUN_RANDOM_199', dbxrefs=[]), SeqRecord(seq=Seq('aaaactagacagaagcattctcagaagcgactttgtgatgtgtgcattctactc...TGA'), id='NT_187492.1', name='NT_187492.1', description='NT_187492.1 Homo sapiens unplaced genomic scaffold, GRCh38.p14 Primary Assembly HSCHRUN_RANDOM_200', dbxrefs=[]), SeqRecord(seq=Seq('caaacagtgtttcaaaagtgctcaataaaaaaaaggttcaactctgtgagatga...cta'), id='NT_187493.1', name='NT_187493.1', description='NT_187493.1 Homo sapiens unplaced genomic scaffold, GRCh38.p14 Primary Assembly HSCHRUN_RANDOM_201', dbxrefs=[]), SeqRecord(seq=Seq('gaacctttcttttgattgagcagttttgaaacactctttttgaagaatctgcaa...cct'), id='NT_187494.1', name='NT_187494.1', description='NT_187494.1 Homo sapiens unplaced genomic scaffold, GRCh38.p14 Primary Assembly HSCHRUN_RANDOM_202', dbxrefs=[]), SeqRecord(seq=Seq('AAggatatatcttcccataaaaactaaacagaagcattctaagaaacttgttCA...AAA'), id='NT_187495.1', name='NT_187495.1', description='NT_187495.1 Homo sapiens unplaced genomic scaffold, GRCh38.p14 Primary Assembly HSCHRUN_RANDOM_203', dbxrefs=[]), SeqRecord(seq=Seq('ATGggtttttggtgtagatgtccttctggttgttagttttccttctaacagaca...GAC'), id='NT_187496.1', name='NT_187496.1', description='NT_187496.1 Homo sapiens unplaced genomic scaffold, GRCh38.p14 Primary Assembly HSCHRUN_RANDOM_204', dbxrefs=[]), SeqRecord(seq=Seq('GAATTCCTCGTTCACACAGTTTCTTAAGCTTCCTGGGATGCGACCTGTGATGGC...TTC'), id='NT_113901.1', name='NT_113901.1', description='NT_113901.1 Homo sapiens unplaced genomic scaffold, GRCh38.p14 Primary Assembly HSCHRUN_RANDOM_CTG1', dbxrefs=[]), SeqRecord(seq=Seq('GAATTCTACCTGTGGGACAAACATTGAGACCTTTGTAACATTGTTCTGGAAtgc...ttc'), id='NT_167213.1', name='NT_167213.1', description='NT_167213.1 Homo sapiens unplaced genomic scaffold, GRCh38.p14 Primary Assembly HSCHRUN_RANDOM_CTG10', dbxrefs=[]), SeqRecord(seq=Seq('GAATTCaatacttaaacataaaacctaataaaattcttagaagtaaACATAAGG...TTC'), id='NT_167214.1', name='NT_167214.1', description='NT_167214.1 Homo sapiens unplaced genomic scaffold, GRCh38.p14 Primary Assembly HSCHRUN_RANDOM_CTG11', dbxrefs=[]), SeqRecord(seq=Seq('GAATTCTGTTGATGATGGATGTGAGAGTGGTGAAGCCCTGCGGGATGATGTAGA...ttc'), id='NT_167218.1', name='NT_167218.1', description='NT_167218.1 Homo sapiens unplaced genomic scaffold, GRCh38.p14 Primary Assembly HSCHRUN_RANDOM_CTG16', dbxrefs=[]), SeqRecord(seq=Seq('gtctctaataaaaatacaaaaaaattagccaggcgtgggggagggctcctgtaa...ata'), id='NT_187497.1', name='NT_187497.1', description='NT_187497.1 Homo sapiens unplaced genomic scaffold, GRCh38.p14 Primary Assembly HSCHRUN_RANDOM_CTG17', dbxrefs=[]), SeqRecord(seq=Seq('gatctttcttttgatagagcagttctgaaaaacactttttgttgaatctgcaag...atc'), id='NT_167220.1', name='NT_167220.1', description='NT_167220.1 Homo sapiens unplaced genomic scaffold, GRCh38.p14 Primary Assembly HSCHRUN_RANDOM_CTG19', dbxrefs=[]), SeqRecord(seq=Seq('GAATTCAGTGAATGAGCCAAGATTCTCCAGAAACCGCTCAGCTTTGCAGTGATA...TTC'), id='NT_167208.1', name='NT_167208.1', description='NT_167208.1 Homo sapiens unplaced genomic scaffold, GRCh38.p14 Primary Assembly HSCHRUN_RANDOM_CTG2', dbxrefs=[]), SeqRecord(seq=Seq('GATCTTTTCATCCTTGTTTTTCTACTAGCTCTCCTTCTCCAAATACACTGACTT...ATC'), id='NT_187498.1', name='NT_187498.1', description='NT_187498.1 Homo sapiens unplaced genomic scaffold, GRCh38.p14 Primary Assembly HSCHRUN_RANDOM_CTG20', dbxrefs=[]), SeqRecord(seq=Seq('GAATTCAGAATTAAGTCTGATttgtaaaaatttgaaatcataattATGCTAGTA...TTC'), id='NT_187499.1', name='NT_187499.1', description='NT_187499.1 Homo sapiens unplaced genomic scaffold, GRCh38.p14 Primary Assembly HSCHRUN_RANDOM_CTG21', dbxrefs=[]), SeqRecord(seq=Seq('GATCTTTATAAGAGAATGAGGTAGGAGAGTCAGAATTAGAGAAAGTGATGTGGT...ATC'), id='NT_187500.1', name='NT_187500.1', description='NT_187500.1 Homo sapiens unplaced genomic scaffold, GRCh38.p14 Primary Assembly HSCHRUN_RANDOM_CTG22', dbxrefs=[]), SeqRecord(seq=Seq('GAATTCAAGAATGCACGTTGTATTAAACCAGGTAAAACATAACCAGACCAGATT...TTC'), id='NT_187501.1', name='NT_187501.1', description='NT_187501.1 Homo sapiens unplaced genomic scaffold, GRCh38.p14 Primary Assembly HSCHRUN_RANDOM_CTG23', dbxrefs=[]), SeqRecord(seq=Seq('GATCCAATTATTCCAAATTGTATTTAACTTTTGTAACTGAGTGACTGCAGTTCT...atc'), id='NT_187502.1', name='NT_187502.1', description='NT_187502.1 Homo sapiens unplaced genomic scaffold, GRCh38.p14 Primary Assembly HSCHRUN_RANDOM_CTG24', dbxrefs=[]), SeqRecord(seq=Seq('gatcctttggaggagaagaggcgttctggtttttggaattttcagcctttttgc...ATC'), id='NT_187503.1', name='NT_187503.1', description='NT_187503.1 Homo sapiens unplaced genomic scaffold, GRCh38.p14 Primary Assembly HSCHRUN_RANDOM_CTG25', dbxrefs=[]), SeqRecord(seq=Seq('GAATTCCAATTGTTGTCTATGCAGGCCTACCAGATTTCTAACATCTTTGAGCTA...TTC'), id='NT_187504.1', name='NT_187504.1', description='NT_187504.1 Homo sapiens unplaced genomic scaffold, GRCh38.p14 Primary Assembly HSCHRUN_RANDOM_CTG26', dbxrefs=[]), SeqRecord(seq=Seq('GAATTCTCaagagatctgcttgtttaaaagtggtagcacttcccccttcactct...TTC'), id='NT_187505.1', name='NT_187505.1', description='NT_187505.1 Homo sapiens unplaced genomic scaffold, GRCh38.p14 Primary Assembly HSCHRUN_RANDOM_CTG27', dbxrefs=[]), SeqRecord(seq=Seq('GAATTCCTAGTTTCTGAGTCTTATTTTTCCCCTGATTCAAGAAAACTGTGAATT...TTC'), id='NT_187506.1', name='NT_187506.1', description='NT_187506.1 Homo sapiens unplaced genomic scaffold, GRCh38.p14 Primary Assembly HSCHRUN_RANDOM_CTG28', dbxrefs=[]), SeqRecord(seq=Seq('GAACACCTAAACGCCCTAAATTCTTTCTTTACTCCATTctgctcctgctcattc...CAG'), id='NT_187508.1', name='NT_187508.1', description='NT_187508.1 Homo sapiens unplaced genomic scaffold, GRCh38.p14 Primary Assembly HSCHRUN_RANDOM_CTG30', dbxrefs=[]), SeqRecord(seq=Seq('GCATAGTCAAGTTTGCAAACCACTGCTCTCGAGTTTTAATTGACATTAAGTAGA...GAA'), id='NT_187509.1', name='NT_187509.1', description='NT_187509.1 Homo sapiens unplaced genomic scaffold, GRCh38.p14 Primary Assembly HSCHRUN_RANDOM_CTG33', dbxrefs=[]), SeqRecord(seq=Seq('TTAAACGGTTGTTTCACTGCGGGGAAAAGAGTATCCCAAGCTCCTCTCCTCTGG...AGG'), id='NT_187510.1', name='NT_187510.1', description='NT_187510.1 Homo sapiens unplaced genomic scaffold, GRCh38.p14 Primary Assembly HSCHRUN_RANDOM_CTG34', dbxrefs=[]), SeqRecord(seq=Seq('acgatctcactgtgtcacccaggttggagtgcggtgcacaatctgagctcacat...tat'), id='NT_187511.1', name='NT_187511.1', description='NT_187511.1 Homo sapiens unplaced genomic scaffold, GRCh38.p14 Primary Assembly HSCHRUN_RANDOM_CTG35', dbxrefs=[]), SeqRecord(seq=Seq('GTTTTTGAActgctaaataaaaagaaaggttcatctctgtgagacgaatgcaca...caa'), id='NT_187512.1', name='NT_187512.1', description='NT_187512.1 Homo sapiens unplaced genomic scaffold, GRCh38.p14 Primary Assembly HSCHRUN_RANDOM_CTG36', dbxrefs=[]), SeqRecord(seq=Seq('GAATTCAGTGCAATTCAAAACAGTAATTTGTGGGAAAAATTAGATATGCAGATA...TTC'), id='NT_167209.1', name='NT_167209.1', description='NT_167209.1 Homo sapiens unplaced genomic scaffold, GRCh38.p14 Primary Assembly HSCHRUN_RANDOM_CTG4', dbxrefs=[]), SeqRecord(seq=Seq('GAATTCTCCAGAGACATGGAGGCATGTTATCTAAGTGCAATGGAGAACATGCAT...TTC'), id='NT_187513.1', name='NT_187513.1', description='NT_187513.1 Homo sapiens unplaced genomic scaffold, GRCh38.p14 Primary Assembly HSCHRUN_RANDOM_CTG42', dbxrefs=[]), SeqRecord(seq=Seq('caattcaattctattccattccattccattccattccactcgtgttgattcatt...TTC'), id='NT_167211.2', name='NT_167211.2', description='NT_167211.2 Homo sapiens unplaced genomic scaffold, GRCh38.p14 Primary Assembly HSCHRUN_RANDOM_CTG6', dbxrefs=[]), SeqRecord(seq=Seq('GAATTCATGTAAAGAAAGACCATGGGTGTTTGTACTGGATTTAGTATTCATCAT...TTC'), id='NT_113889.1', name='NT_113889.1', description='NT_113889.1 Homo sapiens unplaced genomic scaffold, GRCh38.p14 Primary Assembly HSCHRUN_RANDOM_CTG9', dbxrefs=[]), SeqRecord(seq=Seq('TCTGCATTGGTTATTTTAGTTAgccattcttctaatttttttttcaatgttttt...TTC'), id='NW_012132914.1', name='NW_012132914.1', description='NW_012132914.1 Homo sapiens chromosome 1 genomic patch of type FIX, GRCh38.p14 PATCHES HG1342_HG2282_PATCH', dbxrefs=[]), SeqRecord(seq=Seq('GAATTCCTTGTTAGGAAGTGTGTTTAAAGTTAATATGATAAAAAAGAGGCAACA...TTC'), id='NW_015495298.1', name='NW_015495298.1', description='NW_015495298.1 Homo sapiens chromosome 1 genomic patch of type NOVEL, GRCh38.p14 PATCHES HSCHR1_5_CTG3', dbxrefs=[]), SeqRecord(seq=Seq('gatcacctgaggtcaggagttcgagaccagcttggctaacatggtgaaaccctg...ATC'), id='NW_025791756.1', name='NW_025791756.1', description='NW_025791756.1 Homo sapiens chromosome 1 genomic patch of type FIX, GRCh38.p14 PATCHES HG1343_HG173_HG459_PATCH', dbxrefs=[]), SeqRecord(seq=Seq('CAGCAGCTCATATATGCTCATTTCCATAGCCTCAGTATTAGGTCTATTCTCAGT...CTT'), id='NW_011332688.1', name='NW_011332688.1', description='NW_011332688.1 Homo sapiens chromosome 1 genomic patch of type FIX, GRCh38.p14 PATCHES HG2095_PATCH', dbxrefs=[]), SeqRecord(seq=Seq('GATccgctcacctctgcctcccaaagtgctgggattataggattttttttttaa...ATC'), id='NW_014040926.1', name='NW_014040926.1', description='NW_014040926.1 Homo sapiens chromosome 1 genomic patch of type NOVEL, GRCh38.p14 PATCHES HSCHR1_4_CTG3', dbxrefs=[]), SeqRecord(seq=Seq('acacacacacacacacacaaaagagccTTCTAtaggaagaagatgccatctaga...atg'), id='NW_009646195.1', name='NW_009646195.1', description='NW_009646195.1 Homo sapiens chromosome 1 genomic patch of type FIX, GRCh38.p14 PATCHES HG2058_PATCH', dbxrefs=[]), SeqRecord(seq=Seq('CCTCCTACTTCAGCCCCCAAAGCACttggattataggtatgagccaccagaGGT...TAC'), id='NW_018654706.1', name='NW_018654706.1', description='NW_018654706.1 Homo sapiens chromosome 1 genomic patch of type NOVEL, GRCh38.p14 PATCHES HSCHR1_8_CTG3', dbxrefs=[]), SeqRecord(seq=Seq('AAATCTGGCCTTTTCAGGGTTGAATGTCTGGGAATGGCCTGAACAGCTGGGTGT...CTG'), id='NW_019805487.1', name='NW_019805487.1', description='NW_019805487.1 Homo sapiens chromosome 1 genomic patch of type FIX, GRCh38.p14 PATCHES HG460_PATCH', dbxrefs=[]), SeqRecord(seq=Seq('CAGTATATTGAAAAAAGTCTGTGTAAaatggacccatgcagttcaaaaccatgt...TTC'), id='NW_009646194.1', name='NW_009646194.1', description='NW_009646194.1 Homo sapiens chromosome 1 genomic patch of type FIX, GRCh38.p14 PATCHES HG986_PATCH', dbxrefs=[]), SeqRecord(seq=Seq('GTGTTTGTATGTTTGGAGGAGTGCGGAGATACCTACTCTACTTTCAGAGCTCTT...AAT'), id='NW_018654707.1', name='NW_018654707.1', description='NW_018654707.1 Homo sapiens chromosome 1 genomic patch of type NOVEL, GRCh38.p14 PATCHES HSCHR1_9_CTG3', dbxrefs=[]), SeqRecord(seq=Seq('TTATTTGCACAAGATAATTTTGCCTGCATAGTAAGGAATTGACTACAGGTGGAT...ttc'), id='NW_014040925.1', name='NW_014040925.1', description='NW_014040925.1 Homo sapiens chromosome 1 genomic patch of type NOVEL, GRCh38.p14 PATCHES HSCHR1_3_CTG3', dbxrefs=[]), SeqRecord(seq=Seq('cttttggcaacaccctcacagacacacccaggaacaatactttgcatgtttcaa...aGA'), id='NW_017852928.1', name='NW_017852928.1', description='NW_017852928.1 Homo sapiens chromosome 1 genomic patch of type NOVEL, GRCh38.p14 PATCHES HSCHR1_6_CTG3', dbxrefs=[]), SeqRecord(seq=Seq('CATCTTTTCCCTATGGAGGGGACTGTGGTATTAGAGTAGAAAGACTAAGGACTT...GTG'), id='NW_009646196.1', name='NW_009646196.1', description='NW_009646196.1 Homo sapiens chromosome 1 genomic patch of type FIX, GRCh38.p14 PATCHES HG2104_PATCH', dbxrefs=[]), SeqRecord(seq=Seq('Gaattcaagaagagaaaaagaaacaaccccattaaaaactgggcaaaggacatg...TTC'), id='NW_025791753.1', name='NW_025791753.1', description='NW_025791753.1 Homo sapiens chromosome 1 genomic patch of type NOVEL, GRCh38.p14 PATCHES HSCHR1_12_CTG3', dbxrefs=[]), SeqRecord(seq=Seq('ATtctatggagagagaaagagatcctGTTCAATGGGGGTAATGTAGAATCGGGA...CCA'), id='NW_025791758.1', name='NW_025791758.1', description='NW_025791758.1 Homo sapiens chromosome 1 genomic patch of type FIX, GRCh38.p14 PATCHES HG2515_PATCH', dbxrefs=[]), SeqRecord(seq=Seq('ATATTTAAAGAGACAGCCCATCTATCCAAAAACATTAGTCAACTATTACTAGAT...ATG'), id='NW_025791759.1', name='NW_025791759.1', description='NW_025791759.1 Homo sapiens chromosome 1 genomic patch of type FIX, GRCh38.p14 PATCHES HG2577_PATCH', dbxrefs=[]), SeqRecord(seq=Seq('tcttttaaaagtattatagTTCAATAACCCTGACAATCTCCCAGGACAAACTAC...TTC'), id='NW_025791754.1', name='NW_025791754.1', description='NW_025791754.1 Homo sapiens chromosome 1 genomic patch of type NOVEL, GRCh38.p14 PATCHES HSCHR1_5_CTG31', dbxrefs=[]), SeqRecord(seq=Seq('CAGTTGTTGGGTTCTTATGAATGAGACTAAGACCTTGGAGTAGCTCGACATTAA...ATA'), id='NW_011332687.1', name='NW_011332687.1', description='NW_011332687.1 Homo sapiens chromosome 1 genomic patch of type FIX, GRCh38.p14 PATCHES HG1832_PATCH', dbxrefs=[]), SeqRecord(seq=Seq('GGGTCAAAGGTGGGAGTCCCCGGGCCCTAGTGGTGGATGTGGCCAATGGTCCCC...AAA'), id='NW_018654708.1', name='NW_018654708.1', description='NW_018654708.1 Homo sapiens chromosome 1 genomic patch of type FIX, GRCh38.p14 PATCHES HG2002_PATCH', dbxrefs=[]), SeqRecord(seq=Seq('CAtttatgaatatatcacaatttattcattcatcttttgatagccatttgaatt...TTC'), id='NW_014040927.1', name='NW_014040927.1', description='NW_014040927.1 Homo sapiens chromosome 1 genomic patch of type NOVEL, GRCh38.p14 PATCHES HSCHR1_5_CTG32_1', dbxrefs=[]), SeqRecord(seq=Seq('agtcaataataatttaattgtacattttaaaataatttaaagggtgtaattgga...TTC'), id='NW_025791757.1', name='NW_025791757.1', description='NW_025791757.1 Homo sapiens chromosome 1 genomic patch of type FIX, GRCh38.p14 PATCHES HG2571_PATCH', dbxrefs=[]), SeqRecord(seq=Seq('CACTGTGAGTCCAACATGGTTCTCCAAACTTACACATTATCTCATCAACCTACA...TAA'), id='NW_025791755.1', name='NW_025791755.1', description='NW_025791755.1 Homo sapiens chromosome 1 genomic patch of type NOVEL, GRCh38.p14 PATCHES HSCHR1_6_CTG31', dbxrefs=[]), SeqRecord(seq=Seq('AGTTTACAAAGTGGCTATTCATCTTCCAAGGAGGGATAGAATGAAGGAGCtaaa...ACT'), id='NW_021159988.1', name='NW_021159988.1', description='NW_021159988.1 Homo sapiens chromosome 2 genomic patch of type FIX, GRCh38.p14 PATCHES HG1384_PATCH', dbxrefs=[]), SeqRecord(seq=Seq('CTAGGGGAGGGGGGCTTGGGAAGTggcaaaagaaggaaagacatgggaacacag...TAA'), id='NW_025791767.1', name='NW_025791767.1', description='NW_025791767.1 Homo sapiens chromosome 2 genomic patch of type FIX, GRCh38.p14 PATCHES HG2231_HG2496_PATCH', dbxrefs=[]), SeqRecord(seq=Seq('gaattcaacagcatattaaacTGATTATACACCGTGTCCAACTGTGTTTATTCC...CTA'), id='NW_025791768.1', name='NW_025791768.1', description='NW_025791768.1 Homo sapiens chromosome 2 genomic patch of type FIX, GRCh38.p14 PATCHES HG2140_PATCH', dbxrefs=[]), SeqRecord(seq=Seq('GAATTCTAAAATCCAGAAAACATCAAAGACAAGGAGCTTCCAGAGCAGATTACC...CTA'), id='NW_025791766.1', name='NW_025791766.1', description='NW_025791766.1 Homo sapiens chromosome 2 genomic patch of type FIX, GRCh38.p14 PATCHES HG2052_PATCH', dbxrefs=[]), SeqRecord(seq=Seq('gaattcaccagtgaagctatctggccctggacttttctttgtttggAAGTTTTT...GAT'), id='NW_025791763.1', name='NW_025791763.1', description='NW_025791763.1 Homo sapiens chromosome 2 genomic patch of type NOVEL, GRCh38.p14 PATCHES HSCHR2_6_CTG1', dbxrefs=[]), SeqRecord(seq=Seq('AAACCTTCATTAACTTCAGTGTAACATAATACCATAAGTGATGTTTCCTGTTAT...ttc'), id='NW_012132915.1', name='NW_012132915.1', description='NW_012132915.1 Homo sapiens chromosome 2 genomic patch of type FIX, GRCh38.p14 PATCHES HG2290_PATCH', dbxrefs=[]), SeqRecord(seq=Seq('GAATTCTATGAAGGCTTAGAGTGGTAAGGAAGCtgtagaagaaaagtttgaagc...AAT'), id='NW_025791760.1', name='NW_025791760.1', description='NW_025791760.1 Homo sapiens chromosome 2 genomic patch of type NOVEL, GRCh38.p14 PATCHES HSCHR2_10_CTG7_2', dbxrefs=[]), SeqRecord(seq=Seq('GAATTCAATGTGGGTTAAACCCTTTTGGTTCTTGCTCAGACATCGCTAGCAAAT...TCT'), id='NW_025791765.1', name='NW_025791765.1', description='NW_025791765.1 Homo sapiens chromosome 2 genomic patch of type FIX, GRCh38.p14 PATCHES HG2275_PATCH', dbxrefs=[]), SeqRecord(seq=Seq('GAATTCATAAGGGCCGCAGACCTCTAGAAGGAAGGCTGACTGAAGCGACCAGTC...GAA'), id='NW_018654709.1', name='NW_018654709.1', description='NW_018654709.1 Homo sapiens chromosome 2 genomic patch of type NOVEL, GRCh38.p14 PATCHES HSCHR2_7_CTG7_2', dbxrefs=[]), SeqRecord(seq=Seq('AGGCGTGGCTCAGCACCTTGAAGCCGAGAGGCTTTGTGATCCGATTTACATTTT...TAA'), id='NW_025791762.1', name='NW_025791762.1', description='NW_025791762.1 Homo sapiens chromosome 2 genomic patch of type NOVEL, GRCh38.p14 PATCHES HSCHR2_12_CTG7_2', dbxrefs=[]), SeqRecord(seq=Seq('CCCTTTTTGAACAGAAGCGTCTGCAGCGATTATCCTGTGCTTGCTCCACTATTG...TTC'), id='NW_025791761.1', name='NW_025791761.1', description='NW_025791761.1 Homo sapiens chromosome 2 genomic patch of type NOVEL, GRCh38.p14 PATCHES HSCHR2_11_CTG7_2', dbxrefs=[]), SeqRecord(seq=Seq('ATAATAGATTCTTGACCAATTTTAAGTCATTAATATTACAATTTAAAACAGAAT...TTC'), id='NW_025791764.1', name='NW_025791764.1', description='NW_025791764.1 Homo sapiens chromosome 2 genomic patch of type FIX, GRCh38.p14 PATCHES HG2494_PATCH', dbxrefs=[]), SeqRecord(seq=Seq('AATATTTAAATATGGGTTTTAAGGTCAAACTTAAGTTGTCCCATTTGCATCTGC...ACT'), id='NW_015495299.1', name='NW_015495299.1', description='NW_015495299.1 Homo sapiens chromosome 2 genomic patch of type NOVEL, GRCh38.p14 PATCHES HSCHR2_6_CTG7_2', dbxrefs=[]), SeqRecord(seq=Seq('gatggagaccatcctggctaacatggtgaaacctcatctactaaaaatacaaaa...AGT'), id='NW_018654710.1', name='NW_018654710.1', description='NW_018654710.1 Homo sapiens chromosome 2 genomic patch of type NOVEL, GRCh38.p14 PATCHES HSCHR2_8_CTG7_2', dbxrefs=[]), SeqRecord(seq=Seq('AGAGGACTGTGGCCACTAGCTCTGCAAATCTGAATGAAATTTGTGCCTGCAGGG...AGT'), id='NW_011332690.1', name='NW_011332690.1', description='NW_011332690.1 Homo sapiens chromosome 2 genomic patch of type FIX, GRCh38.p14 PATCHES HG2232_PATCH', dbxrefs=[]), SeqRecord(seq=Seq('CGTAGGGTGGGAGTGTGTGTCATGGCGGCTCCGTCTCCGGCTGGCTCATGGGCA...GAA'), id='NW_021159987.1', name='NW_021159987.1', description='NW_021159987.1 Homo sapiens chromosome 2 genomic patch of type FIX, GRCh38.p14 PATCHES HG721_PATCH', dbxrefs=[]), SeqRecord(seq=Seq('GAATTCTTCCCCCAGATCCTCACAGGCTGCTCTGCTCAGCCCCAGGTCTCCACC...ACC'), id='NW_011332689.1', name='NW_011332689.1', description='NW_011332689.1 Homo sapiens chromosome 2 genomic patch of type FIX, GRCh38.p14 PATCHES HG2233_PATCH', dbxrefs=[]), SeqRecord(seq=Seq('TAAGACTACCCTTTTGAGATCTACTCTAGAGATGTACTCATTGAtcttgttttc...ttc'), id='NW_017363813.1', name='NW_017363813.1', description='NW_017363813.1 Homo sapiens chromosome 3 genomic patch of type FIX, GRCh38.p14 PATCHES HG2236_PATCH', dbxrefs=[]), SeqRecord(seq=Seq('ACCAGTGAATCCATCTAGGGCTAGgtctggtgctttctgttttgaaaagTTATT...ATT'), id='NW_025791770.1', name='NW_025791770.1', description='NW_025791770.1 Homo sapiens chromosome 3 genomic patch of type FIX, GRCh38.p14 PATCHES HG2077_PATCH', dbxrefs=[]), SeqRecord(seq=Seq('GCTCATgtgtcacgaagttctcatgctgtggttttcagctccatcgggtcattt...TTC'), id='NW_025791771.1', name='NW_025791771.1', description='NW_025791771.1 Homo sapiens chromosome 3 genomic patch of type FIX, GRCh38.p14 PATCHES HG2069_PATCH', dbxrefs=[]), SeqRecord(seq=Seq('CTAGATTGGAGCCtacaacagaaaaagaatgcttaaataaacttttaaaagtct...TTC'), id='NW_009646197.1', name='NW_009646197.1', description='NW_009646197.1 Homo sapiens chromosome 3 genomic patch of type FIX, GRCh38.p14 PATCHES HG2066_PATCH', dbxrefs=[]), SeqRecord(seq=Seq('CTAGACAGTCTATTGGAATGTTCCATTCTGATATGGAAATGGAGGGGGAAAGGG...TTC'), id='NW_012132916.1', name='NW_012132916.1', description='NW_012132916.1 Homo sapiens chromosome 3 genomic patch of type FIX, GRCh38.p14 PATCHES HG2235_PATCH', dbxrefs=[]), SeqRecord(seq=Seq('GATAGACTAAATCTGCAAGACCATGAAGGCAGGGCGGGATGCTCTATGGGCTGA...TTC'), id='NW_011332691.1', name='NW_011332691.1', description='NW_011332691.1 Homo sapiens chromosome 3 genomic patch of type FIX, GRCh38.p14 PATCHES HG126_PATCH', dbxrefs=[]), SeqRecord(seq=Seq('ctctcacctgccttctgctcttAGGCTCCGCTAGATTGCAAATGACCTGCTTTC...TAG'), id='NW_021159989.1', name='NW_021159989.1', description='NW_021159989.1 Homo sapiens chromosome 3 genomic patch of type NOVEL, GRCh38.p14 PATCHES HSCHR3_5_CTG1', dbxrefs=[]), SeqRecord(seq=Seq('CAGTTATCCCTTCCCAGACTTCTGAACTGCAGAAACTATGATATACTAAATGGC...AGA'), id='NW_018654711.1', name='NW_018654711.1', description='NW_018654711.1 Homo sapiens chromosome 3 genomic patch of type NOVEL, GRCh38.p14 PATCHES HSCHR3_4_CTG1', dbxrefs=[]), SeqRecord(seq=Seq('AAATAatcaattgcagattctacaaaaagagtatttcaacctgctctgtcaaga...AAA'), id='NW_012132917.1', name='NW_012132917.1', description='NW_012132917.1 Homo sapiens chromosome 3 genomic patch of type FIX, GRCh38.p14 PATCHES HG2237_PATCH', dbxrefs=[]), SeqRecord(seq=Seq('tgccttttccaccataggcctcaaacggcgctaaatatccccttggaaattcta...gtc'), id='NW_009646198.1', name='NW_009646198.1', description='NW_009646198.1 Homo sapiens chromosome 3 genomic patch of type FIX, GRCh38.p14 PATCHES HG2022_PATCH', dbxrefs=[]), SeqRecord(seq=Seq('CTCATAGACAGTGTAAAATTCCTAAGTCTTGATTgccatatcattttatttttg...CTA'), id='NW_019805491.1', name='NW_019805491.1', description='NW_019805491.1 Homo sapiens chromosome 3 genomic patch of type FIX, GRCh38.p14 PATCHES HG2133_PATCH', dbxrefs=[]), SeqRecord(seq=Seq('CACTCTGTTTTGCAGAAAAGATTCTGTGGATTAATACAGAAGCACCAGCAACAC...AGC'), id='NW_019805492.1', name='NW_019805492.1', description='NW_019805492.1 Homo sapiens chromosome 3 genomic patch of type NOVEL, GRCh38.p14 PATCHES HSCHR3_6_CTG2_1', dbxrefs=[]), SeqRecord(seq=Seq('aattcaacaacacattaaaaagatcattcatcataaccaagtgggatttaccat...CCA'), id='NW_019805490.1', name='NW_019805490.1', description='NW_019805490.1 Homo sapiens chromosome 3 genomic patch of type NOVEL, GRCh38.p14 PATCHES HSCHR3_9_CTG2_1', dbxrefs=[]), SeqRecord(seq=Seq('ATGTcagctgtggtggtggtggcaggttGGGTGAATCCGATCTCAGGTCCCCAA...TTC'), id='NW_019805489.1', name='NW_019805489.1', description='NW_019805489.1 Homo sapiens chromosome 3 genomic patch of type NOVEL, GRCh38.p14 PATCHES HSCHR3_8_CTG2_1', dbxrefs=[]), SeqRecord(seq=Seq('GAGGTAACATTAATTCCATTTAATAGATTAATAAATTGAGGCTCAAAGATTTGA...AAT'), id='NW_019805488.1', name='NW_019805488.1', description='NW_019805488.1 Homo sapiens chromosome 3 genomic patch of type NOVEL, GRCh38.p14 PATCHES HSCHR3_7_CTG2_1', dbxrefs=[]), SeqRecord(seq=Seq('GTACAGTCTGAAGATACGTTCCCATAATAGTGGCTGCTTGGCAACAGGAACATG...ACA'), id='NW_025791769.1', name='NW_025791769.1', description='NW_025791769.1 Homo sapiens chromosome 3 genomic patch of type FIX, GRCh38.p14 PATCHES HG2264_PATCH', dbxrefs=[]), SeqRecord(seq=Seq('TCAACTGCTTTAGTGGAGATAGGGCTGTTCAGGTTATTAGTTCTTCTTGAGTGA...atc'), id='NW_021159990.1', name='NW_021159990.1', description='NW_021159990.1 Homo sapiens chromosome 4 genomic patch of type FIX, GRCh38.p14 PATCHES HG699_PATCH', dbxrefs=[]), SeqRecord(seq=Seq('ACTCATGCTACAGAAACCGATCGAGCTCCACTGGGCAGGGCGCTTGGGATGTGT...TAT'), id='NW_021159993.1', name='NW_021159993.1', description='NW_021159993.1 Homo sapiens chromosome 4 genomic patch of type FIX, GRCh38.p14 PATCHES HG1298_PATCH', dbxrefs=[]), SeqRecord(seq=Seq('GTATTTATTTTATCTCCATTATACATTTTTGCATTCCTCTCATCTACTTCATTT...TTC'), id='NW_013171799.1', name='NW_013171799.1', description='NW_013171799.1 Homo sapiens chromosome 4 genomic patch of type NOVEL, GRCh38.p14 PATCHES HSCHR4_2_CTG4', dbxrefs=[]), SeqRecord(seq=Seq('GAATTCTGGTAGTATGTTGACCCTGGCAAGAGATATTTGCCTAAAATATGCTGT...ggt'), id='NW_025791774.1', name='NW_025791774.1', description='NW_025791774.1 Homo sapiens chromosome 4 genomic patch of type FIX, GRCh38.p14 PATCHES HG287_PATCH', dbxrefs=[]), SeqRecord(seq=Seq('TTTAGGTTACTAAGCTCGTAATTAAAAGTCTTCACTAATGACATGGTAATTGTT...AAA'), id='NW_021159992.1', name='NW_021159992.1', description='NW_021159992.1 Homo sapiens chromosome 4 genomic patch of type FIX, GRCh38.p14 PATCHES HG1299_PATCH', dbxrefs=[]), SeqRecord(seq=Seq('tctagggcaggggcaaaatgccaccaatctctCTTCTAAAGCATAGAatgagtg...cCA'), id='NW_021159994.1', name='NW_021159994.1', description='NW_021159994.1 Homo sapiens chromosome 4 genomic patch of type FIX, GRCh38.p14 PATCHES HG1296_PATCH', dbxrefs=[]), SeqRecord(seq=Seq('caaaagagacaaagaaggccattacataatggtaaagggatcaattcaacagga...TTC'), id='NW_021159991.1', name='NW_021159991.1', description='NW_021159991.1 Homo sapiens chromosome 4 genomic patch of type FIX, GRCh38.p14 PATCHES HG2525_PATCH', dbxrefs=[]), SeqRecord(seq=Seq('GAATTCCTGTCAAACAACCTTGTATCAGCCCACTCCTGGTTTCCTTTTGCCTGT...GTA'), id='NW_021159995.1', name='NW_021159995.1', description='NW_021159995.1 Homo sapiens chromosome 4 genomic patch of type FIX, GRCh38.p14 PATCHES HG705_PATCH', dbxrefs=[]), SeqRecord(seq=Seq('GAATTCAGTCTGTAACTTGGTTCCATTGAACATAACTAGAAAAGGGAAGGGGAT...tat'), id='NW_013171800.1', name='NW_013171800.1', description='NW_013171800.1 Homo sapiens chromosome 4 genomic patch of type NOVEL, GRCh38.p14 PATCHES HSCHR4_8_CTG12', dbxrefs=[]), SeqRecord(seq=Seq('CAATTTACAAAGTTCTAGAATGTTGTATTATCCAGATACTTATTGTCCTTAAAC...ATG'), id='NW_013171801.1', name='NW_013171801.1', description='NW_013171801.1 Homo sapiens chromosome 4 genomic patch of type NOVEL, GRCh38.p14 PATCHES HSCHR4_9_CTG12', dbxrefs=[]), SeqRecord(seq=Seq('GAATTCAGGAGAAGCATAACAGCTCAAGGTTTCTCATGAGGTTGCACTGAAGTC...ACA'), id='NW_025791772.1', name='NW_025791772.1', description='NW_025791772.1 Homo sapiens chromosome 4 genomic patch of type NOVEL, GRCh38.p14 PATCHES HSCHR4_2_CTG8_1', dbxrefs=[]), SeqRecord(seq=Seq('GAATTCTACAGGGGCACCTGTGACCTTGACCAGCTCCTTTATTATGTTGAATCT...CAC'), id='NW_017363814.1', name='NW_017363814.1', description='NW_017363814.1 Homo sapiens chromosome 4 genomic patch of type NOVEL, GRCh38.p14 PATCHES HSCHR4_12_CTG12', dbxrefs=[]), SeqRecord(seq=Seq('GACCAAAAACTcaaattttagcattttaataAGTAATGACTTAAAAGCATTAAA...TGT'), id='NW_025791773.1', name='NW_025791773.1', description='NW_025791773.1 Homo sapiens chromosome 4 genomic patch of type FIX, GRCh38.p14 PATCHES HG2155_PATCH', dbxrefs=[]), SeqRecord(seq=Seq('ctcctacctcagcctcccaagtagctgggactacaggtgtacaacaccatgtct...AGA'), id='NW_015495301.1', name='NW_015495301.1', description='NW_015495301.1 Homo sapiens chromosome 4 genomic patch of type NOVEL, GRCh38.p14 PATCHES HSCHR4_11_CTG12', dbxrefs=[]), SeqRecord(seq=Seq('ctcctacctcagcctcccaagtagctgggactacaggtgtacaacaccatgtct...tag'), id='NW_015495300.1', name='NW_015495300.1', description='NW_015495300.1 Homo sapiens chromosome 4 genomic patch of type FIX, GRCh38.p14 PATCHES HG2023_PATCH', dbxrefs=[]), SeqRecord(seq=Seq('cgagaccatcctggctaacacagtgaaaacccttctctactaaaaatacaagaa...atc'), id='NW_025791777.1', name='NW_025791777.1', description='NW_025791777.1 Homo sapiens chromosome 5 genomic patch of type FIX, GRCh38.p14 PATCHES HG2405_PATCH', dbxrefs=[]), SeqRecord(seq=Seq('CTTCTAAATACTCAAAGCTGGagaaaaccacttttttttttttggactagaaaa...AAC'), id='NW_018654712.1', name='NW_018654712.1', description='NW_018654712.1 Homo sapiens chromosome 5 genomic patch of type NOVEL, GRCh38.p14 PATCHES HSCHR5_9_CTG1', dbxrefs=[]), SeqRecord(seq=Seq('TGGCTTCTATACTTTTCAACAACATTCCTCGTGTCTTTATCTTAGGTGTGCCCT...TTC'), id='NW_025791776.1', name='NW_025791776.1', description='NW_025791776.1 Homo sapiens chromosome 5 genomic patch of type FIX, GRCh38.p14 PATCHES HG2476_PATCH', dbxrefs=[]), SeqRecord(seq=Seq('TCTCTCTGGCTCTCCTTGAGTATTTGCTCTGATGAAACAAGCTAGGGAGGTCCA...tTA'), id='NW_009646199.1', name='NW_009646199.1', description='NW_009646199.1 Homo sapiens chromosome 5 genomic patch of type NOVEL, GRCh38.p14 PATCHES HSCHR5_7_CTG1', dbxrefs=[]), SeqRecord(seq=Seq('gaattcagtaaagtttcagaatacaaaatcaatgtacacaaatcaatagcaTTG...TTC'), id='NW_016107297.1', name='NW_016107297.1', description='NW_016107297.1 Homo sapiens chromosome 5 genomic patch of type NOVEL, GRCh38.p14 PATCHES HSCHR5_8_CTG1', dbxrefs=[]), SeqRecord(seq=Seq('CTGAGAATAATAGCTTCCAGcgccatccatgtccctgcaaaggacatgatctca...CAG'), id='NW_025791779.1', name='NW_025791779.1', description='NW_025791779.1 Homo sapiens chromosome 5 genomic patch of type NOVEL, GRCh38.p14 PATCHES HSCHR5_10_CTG1', dbxrefs=[]), SeqRecord(seq=Seq('ACTGGAAGTCTTGCTTCCGTTCTCCTTCACTAAATAAAAATCTACTCATCTCTG...tgg'), id='NW_021159996.1', name='NW_021159996.1', description='NW_021159996.1 Homo sapiens chromosome 5 genomic patch of type FIX, GRCh38.p14 PATCHES HG1395_PATCH', dbxrefs=[]), SeqRecord(seq=Seq('AAACTGATGAGAAACTTGATGAATGTAAGAAATGtaggaaaatatataaagtta...TTC'), id='NW_025791778.1', name='NW_025791778.1', description='NW_025791778.1 Homo sapiens chromosome 5 genomic patch of type FIX, GRCh38.p14 PATCHES HG2308_PATCH', dbxrefs=[]), SeqRecord(seq=Seq('TGAAGGTTTGGCACAATGGGATGAAGGAATAGACAAGGAGCAAGAATACGAGCT...GCC'), id='NW_016107298.1', name='NW_016107298.1', description='NW_016107298.1 Homo sapiens chromosome 5 genomic patch of type FIX, GRCh38.p14 PATCHES HG30_PATCH', dbxrefs=[]), SeqRecord(seq=Seq('CTGgacgtgagctgctgagacggcacccgcgtgagtgtcgcagtttccacaccg...gtt'), id='NW_025791775.1', name='NW_025791775.1', description='NW_025791775.1 Homo sapiens chromosome 5 genomic patch of type FIX, GRCh38.p14 PATCHES HG1046_PATCH', dbxrefs=[]), SeqRecord(seq=Seq('AAGTTACCAGCAGGGTTAGTTCCTGGTGAAGGCTCTCTTCCTAGCCTGCAGacg...TTT'), id='NW_018654713.1', name='NW_018654713.1', description='NW_018654713.1 Homo sapiens chromosome 6 genomic patch of type FIX, GRCh38.p14 PATCHES HG2057_PATCH', dbxrefs=[]), SeqRecord(seq=Seq('AAAACAGTATATTGAGTGGTGGACAGTATTTCACCATTGGTACAAGCAGCACGT...ctg'), id='NW_013171803.1', name='NW_013171803.1', description='NW_013171803.1 Homo sapiens chromosome 6 genomic patch of type NOVEL, GRCh38.p14 PATCHES HSCHR6_1_CTG10', dbxrefs=[]), SeqRecord(seq=Seq('cacccacctcggcctcccaaagtgctgggattacaggtatgagccaccgcgcct...TTC'), id='NW_025791780.1', name='NW_025791780.1', description='NW_025791780.1 Homo sapiens chromosome 6 genomic patch of type NOVEL, GRCh38.p14 PATCHES HSCHR6_1_CTG1', dbxrefs=[]), SeqRecord(seq=Seq('GATCTAGCTTATTGGATTGATATAGTAGTCAGCAATAAGTGGTAGCTATCATTA...GTA'), id='NW_012132918.1', name='NW_012132918.1', description='NW_012132918.1 Homo sapiens chromosome 6 genomic patch of type FIX, GRCh38.p14 PATCHES HG1651_PATCH', dbxrefs=[]), SeqRecord(seq=Seq('GAATTCCATAATAAAGACTACTGGGAgatctggctagccatatgcagaaaattg...TTC'), id='NW_009646200.1', name='NW_009646200.1', description='NW_009646200.1 Homo sapiens chromosome 6 genomic patch of type FIX, GRCh38.p14 PATCHES HG2128_PATCH', dbxrefs=[]), SeqRecord(seq=Seq('AAAAAAAATATTTGACCCATCTCGTCTCTACCCTGAATTTCCCTGAGATTGAGA...atc'), id='NW_013171802.1', name='NW_013171802.1', description='NW_013171802.1 Homo sapiens chromosome 6 genomic patch of type FIX, GRCh38.p14 PATCHES HG2072_PATCH', dbxrefs=[]), SeqRecord(seq=Seq('TCAAGGCATCAGCctctaataaataaacaaaaaacagatcCAAAGTAGACAGCA...TTT'), id='NW_017363815.1', name='NW_017363815.1', description='NW_017363815.1 Homo sapiens chromosome 6 genomic patch of type FIX, GRCh38.p14 PATCHES HG2121_PATCH', dbxrefs=[]), SeqRecord(seq=Seq('AGATTTTGGAAAAACATTCACACTATGTTCCAAAATGACTTtgtaatttacatt...TCC'), id='NW_021159997.1', name='NW_021159997.1', description='NW_021159997.1 Homo sapiens chromosome 6 genomic patch of type FIX, GRCh38.p14 PATCHES HG563_PATCH', dbxrefs=[]), SeqRecord(seq=Seq('GAATTCCTTGTTCCCAATGGTACAAGGGATGAAATAAATGGCAGATAGTAGGAG...AGG'), id='NW_021159998.1', name='NW_021159998.1', description='NW_021159998.1 Homo sapiens chromosome 7 genomic patch of type FIX, GRCh38.p14 PATCHES HG1309_PATCH', dbxrefs=[]), SeqRecord(seq=Seq('TCATATCTAGGCTGTATACAAAGATGTTGTTCAGAGCAGATTGACAGTGAATTC...TAT'), id='NW_019805493.1', name='NW_019805493.1', description='NW_019805493.1 Homo sapiens chromosome 7 genomic patch of type NOVEL, GRCh38.p14 PATCHES HSCHR7_3_CTG1', dbxrefs=[]), SeqRecord(seq=Seq('GAATTCCCTTCACGTGCCACATAAAGTAGTAAGAATCACTGGTTGTGAAATTGT...AAG'), id='NW_025791781.1', name='NW_025791781.1', description='NW_025791781.1 Homo sapiens chromosome 7 genomic patch of type NOVEL, GRCh38.p14 PATCHES HSCHR7_4_CTG1', dbxrefs=[]), SeqRecord(seq=Seq('GAATTCACCTACttgctaaaatgtatttgtaacccCAAAAATCAATACTCGTGG...taa'), id='NW_017852929.1', name='NW_017852929.1', description='NW_017852929.1 Homo sapiens chromosome 7 genomic patch of type FIX, GRCh38.p14 PATCHES HG2088_PATCH', dbxrefs=[]), SeqRecord(seq=Seq('AAGCTTTTATGAAAACCTGATACAAGAATAAGGGAAAGGAGATATGCTATACTT...CTC'), id='NW_017852930.1', name='NW_017852930.1', description='NW_017852930.1 Homo sapiens chromosome 7 genomic patch of type FIX, GRCh38.p14 PATCHES HG2266_PATCH', dbxrefs=[]), SeqRecord(seq=Seq('GAATTCCTAGAAGCCTTAAGAGGCTGCCCAGCGTTGGAAGTTCGTATCCCCAAG...TGT'), id='NW_018654714.1', name='NW_018654714.1', description='NW_018654714.1 Homo sapiens chromosome 7 genomic patch of type FIX, GRCh38.p14 PATCHES HG708_PATCH', dbxrefs=[]), SeqRecord(seq=Seq('tgtggggtggggggaggggggagggatagcattaggagatatacctaatgctaa...TAG'), id='NW_018654715.1', name='NW_018654715.1', description='NW_018654715.1 Homo sapiens chromosome 7 genomic patch of type NOVEL, GRCh38.p14 PATCHES HSCHR7_3_CTG4_4', dbxrefs=[]), SeqRecord(seq=Seq('CCATAGAAGCAAATTTGTGTATGTGGGTGGGAACTaggatattttatttgtttg...AAT'), id='NW_012132919.1', name='NW_012132919.1', description='NW_012132919.1 Homo sapiens chromosome 7 genomic patch of type FIX, GRCh38.p14 PATCHES HG2239_PATCH', dbxrefs=[]), SeqRecord(seq=Seq('CTTCCCTCCAGGATCTTGTAGTTCAAGAATACATTGCTCTATTACATACagcaa...ttc'), id='NW_025791785.1', name='NW_025791785.1', description='NW_025791785.1 Homo sapiens chromosome 8 genomic patch of type FIX, GRCh38.p14 PATCHES HG2267_PATCH', dbxrefs=[]), SeqRecord(seq=Seq('ctgacctcaggggatctgcctgcctcggcctcccaaagtgctgggattacaggt...TTC'), id='NW_018654717.1', name='NW_018654717.1', description='NW_018654717.1 Homo sapiens chromosome 8 genomic patch of type FIX, GRCh38.p14 PATCHES HG76_PATCH', dbxrefs=[]), SeqRecord(seq=Seq('TTTTGAGATTCCTTCATATTCAGCACTTGGCTGTATTCAACTTCATATTCAGCT...TTC'), id='NW_017852932.1', name='NW_017852932.1', description='NW_017852932.1 Homo sapiens chromosome 8 genomic patch of type FIX, GRCh38.p14 PATCHES HG2068_PATCH', dbxrefs=[]), SeqRecord(seq=Seq('TTCTATCTTGTCATTGTCAATAGTGAGCAGCTACTTTATCCAGAAATTTTGGCA...ttc'), id='NW_025791782.1', name='NW_025791782.1', description='NW_025791782.1 Homo sapiens chromosome 8 genomic patch of type FIX, GRCh38.p14 PATCHES HG2176_PATCH', dbxrefs=[]), SeqRecord(seq=Seq('TGGGGGgctcagccccccacccggccagccgccccgtccgggaggtggggggcg...ttc'), id='NW_017852931.1', name='NW_017852931.1', description='NW_017852931.1 Homo sapiens chromosome 8 genomic patch of type FIX, GRCh38.p14 PATCHES HG2067_PATCH', dbxrefs=[]), SeqRecord(seq=Seq('ACTGAGGTTTCTTGGAATATAGgttcaaaacaaaaatggactGCTACTGCCCTA...gac'), id='NW_025791784.1', name='NW_025791784.1', description='NW_025791784.1 Homo sapiens chromosome 8 genomic patch of type FIX, GRCh38.p14 PATCHES HG2408_PATCH', dbxrefs=[]), SeqRecord(seq=Seq('TTCaaaaaaatgatactttttaGCGAAAAAGCGTTAGATAGCATAATTATCCAA...TTC'), id='NW_019805494.1', name='NW_019805494.1', description='NW_019805494.1 Homo sapiens chromosome 8 genomic patch of type NOVEL, GRCh38.p14 PATCHES HSCHR8_7_CTG7', dbxrefs=[]), SeqRecord(seq=Seq('ATTTAGGAAAAGATCTAGAGAAGTCAAGGTGGGGCCCGGAGGGGATGGGATCAG...TGG'), id='NW_025791786.1', name='NW_025791786.1', description='NW_025791786.1 Homo sapiens chromosome 8 genomic patch of type FIX, GRCh38.p14 PATCHES HG2031_PATCH', dbxrefs=[]), SeqRecord(seq=Seq('CCTCGGGGGGAGACCAGGTGCTGTGGCCCACGTGGGCATCGGTGCAGGGCTGGC...GCT'), id='NW_018654716.1', name='NW_018654716.1', description='NW_018654716.1 Homo sapiens chromosome 8 genomic patch of type FIX, GRCh38.p14 PATCHES HG2419_PATCH', dbxrefs=[]), SeqRecord(seq=Seq('atagctcactgcagccttgaactcctgggctcaagtgatcctccccactcagcc...AGG'), id='NW_025791783.1', name='NW_025791783.1', description='NW_025791783.1 Homo sapiens chromosome 8 genomic patch of type FIX, GRCh38.p14 PATCHES HG1047_PATCH', dbxrefs=[]), SeqRecord(seq=Seq('gctaatttttttttcttttttactttttgtagagacagggtctcattatgttgc...TTC'), id='NW_013171804.1', name='NW_013171804.1', description='NW_013171804.1 Homo sapiens chromosome 9 genomic patch of type NOVEL, GRCh38.p14 PATCHES HSCHR9_1_CTG6', dbxrefs=[]), SeqRecord(seq=Seq('TCTCACTTATACAGATACAATAAGAATTTAGTAGACTGCTCATCTGTTTCTTTT...TTC'), id='NW_013171805.1', name='NW_013171805.1', description='NW_013171805.1 Homo sapiens chromosome 9 genomic patch of type NOVEL, GRCh38.p14 PATCHES HSCHR9_1_CTG7', dbxrefs=[]), SeqRecord(seq=Seq('GAATTCACACTATCTATGGGCCTGAGAAATACCAGGATGGAAATTAGCCTCTGG...TTC'), id='NW_025791789.1', name='NW_025791789.1', description='NW_025791789.1 Homo sapiens chromosome 9 genomic patch of type FIX, GRCh38.p14 PATCHES HG1206_PATCH', dbxrefs=[]), SeqRecord(seq=Seq('TCCAGTGACCCTGGCCGTGGATGCTGACTCCCGACCTGAATTCCTTTGGGGGCT...TTC'), id='NW_025791787.1', name='NW_025791787.1', description='NW_025791787.1 Homo sapiens chromosome 9 genomic patch of type FIX, GRCh38.p14 PATCHES HG2158_PATCH', dbxrefs=[]), SeqRecord(seq=Seq('AGTGAACAGAGCATAAGGAATTTATGGGGTGCCATCAGGTAGACCAATACATGC...ttc'), id='NW_025791788.1', name='NW_025791788.1', description='NW_025791788.1 Homo sapiens chromosome 9 genomic patch of type FIX, GRCh38.p14 PATCHES HG1012_PATCH', dbxrefs=[]), SeqRecord(seq=Seq('ACAAGTCTTCTTTAGTTTCAGTATGGAGTCTCACACATCTTCTTTGGTGTTAAC...TTC'), id='NW_009646201.1', name='NW_009646201.1', description='NW_009646201.1 Homo sapiens chromosome 9 genomic patch of type FIX, GRCh38.p14 PATCHES HG2030_PATCH', dbxrefs=[]), SeqRecord(seq=Seq('ATGGGAGGGTCGGGTTGGGTGTCATCTTTCAGGCCACAGGCCCTGGCCCCAACG...TGG'), id='NW_021159999.1', name='NW_021159999.1', description='NW_021159999.1 Homo sapiens chromosome 9 genomic patch of type FIX, GRCh38.p14 PATCHES HG613_PATCH', dbxrefs=[]), SeqRecord(seq=Seq('TCCTTTAGAACAGTTTACCTGTAACCTGATTGGGAAAGAGGTGAAGAGAATTTT...TTC'), id='NW_021160000.1', name='NW_021160000.1', description='NW_021160000.1 Homo sapiens chromosome 10 genomic patch of type FIX, GRCh38.p14 PATCHES HG545_PATCH', dbxrefs=[]), SeqRecord(seq=Seq('GAAttcaatggagtggagtggagtggaatggaattgaatggagtggaatggaat...AGC'), id='NW_011332694.1', name='NW_011332694.1', description='NW_011332694.1 Homo sapiens chromosome 10 genomic patch of type FIX, GRCh38.p14 PATCHES HG2244_HG2245_PATCH', dbxrefs=[]), SeqRecord(seq=Seq('TCCCCATTCCTTCCCAGCTTCCTGAGGCCTAGCTCCTCCATGAgctggggaggg...TTC'), id='NW_021160001.1', name='NW_021160001.1', description='NW_021160001.1 Homo sapiens chromosome 10 genomic patch of type FIX, GRCh38.p14 PATCHES HG1277_PATCH', dbxrefs=[]), SeqRecord(seq=Seq('TTTATTTGTGAGAAAATGATTCTTCTATCCTTCACAAGGAGTAGGAAACATCAT...TTC'), id='NW_013171806.1', name='NW_013171806.1', description='NW_013171806.1 Homo sapiens chromosome 10 genomic patch of type NOVEL, GRCh38.p14 PATCHES HSCHR10_1_CTG6', dbxrefs=[]), SeqRecord(seq=Seq('CCCTTTAGAGGTGACTTTGCATATCTCACCAGGATTCTTTGGTGTTGACTTCAT...TTC'), id='NW_009646202.1', name='NW_009646202.1', description='NW_009646202.1 Homo sapiens chromosome 10 genomic patch of type FIX, GRCh38.p14 PATCHES HG2191_PATCH', dbxrefs=[]), SeqRecord(seq=Seq('CTTCTAGGTATCTTTCCCGGGCAAACATATATACATGAGAAAACATGTACATGG...TTC'), id='NW_013171807.1', name='NW_013171807.1', description='NW_013171807.1 Homo sapiens chromosome 10 genomic patch of type FIX, GRCh38.p14 PATCHES HG2334_PATCH', dbxrefs=[]), SeqRecord(seq=Seq('CCCCTAGAGCATTTAAACAGGAGCCAGTGCATTGGAGCACAGTGTATATTGACT...TTC'), id='NW_025791790.1', name='NW_025791790.1', description='NW_025791790.1 Homo sapiens chromosome 10 genomic patch of type FIX, GRCh38.p14 PATCHES HG2576_PATCH', dbxrefs=[]), SeqRecord(seq=Seq('ACTCTTCATGATCAGCTTCTCCTGGGGATTAGAAAATCCACAGCCTAAAGCCat...GAC'), id='NW_011332693.1', name='NW_011332693.1', description='NW_011332693.1 Homo sapiens chromosome 10 genomic patch of type FIX, GRCh38.p14 PATCHES HG2242_HG2243_PATCH', dbxrefs=[]), SeqRecord(seq=Seq('CACTCAAGAAATGTGGACTGAGAAGAACTTTCCAGAGAGAGCCCAGGGAACAGG...gtg'), id='NW_011332692.1', name='NW_011332692.1', description='NW_011332692.1 Homo sapiens chromosome 10 genomic patch of type FIX, GRCh38.p14 PATCHES HG2241_PATCH', dbxrefs=[]), SeqRecord(seq=Seq('GATCCTCCAGTTGATCCTACCACAGATGGTGCAGAAGGGGCTCTCGGGCAGATG...CCT'), id='NW_015148966.2', name='NW_015148966.2', description='NW_015148966.2 Homo sapiens chromosome 11 genomic patch of type FIX, GRCh38.p14 PATCHES HG107_HG2565_PATCH', dbxrefs=[]), SeqRecord(seq=Seq('aagcttctgcctggacattcaggtgtTTCCgtaaatgttctgaaattgaggcgg...TTC'), id='NW_025791792.1', name='NW_025791792.1', description='NW_025791792.1 Homo sapiens chromosome 11 genomic patch of type FIX, GRCh38.p14 PATCHES HG152_PATCH', dbxrefs=[]), SeqRecord(seq=Seq('GAATTCTCAAAACATAACAataaaaaacccccaaaacccaATAAAGCAAAGGGT...TGA'), id='NW_021160004.1', name='NW_021160004.1', description='NW_021160004.1 Homo sapiens chromosome 11 genomic patch of type FIX, GRCh38.p14 PATCHES HG28_PATCH', dbxrefs=[]), SeqRecord(seq=Seq('GAATTCAAGAGCAAATATCCATGGTTTTTAAATCTCTTAAGTTTCAAGCGGAAG...TCT'), id='NW_025791794.1', name='NW_025791794.1', description='NW_025791794.1 Homo sapiens chromosome 11 genomic patch of type FIX, GRCh38.p14 PATCHES HG2578_PATCH', dbxrefs=[]), SeqRecord(seq=Seq('GAATTCTTTGACTATGTGAATTCTGAGGGATAATAAACCAATAGTTGAGAACCT...ATG'), id='NW_011332695.1', name='NW_011332695.1', description='NW_011332695.1 Homo sapiens chromosome 11 genomic patch of type NOVEL, GRCh38.p14 PATCHES HSCHR11_1_CTG1_2', dbxrefs=[]), SeqRecord(seq=Seq('tcaaccagcctggccaacatggtgaaaccctgtctctactaaaagtacaaaaat...TTT'), id='NW_021160006.1', name='NW_021160006.1', description='NW_021160006.1 Homo sapiens chromosome 11 genomic patch of type FIX, GRCh38.p14 PATCHES HG2111_PATCH', dbxrefs=[]), SeqRecord(seq=Seq('GAAttcaacacagacacacatatccCTTCAAAAACTTTTATTTGTATCAACAGT...TGT'), id='NW_019805496.1', name='NW_019805496.1', description='NW_019805496.1 Homo sapiens chromosome 11 genomic patch of type FIX, GRCh38.p14 PATCHES HG2114_PATCH', dbxrefs=[]), SeqRecord(seq=Seq('TCTGATGATCTTGGAAGTGCAGAAGCAGGCTCCAGTGTTCCAATAGCTCCACAT...TTC'), id='NW_019805495.1', name='NW_019805495.1', description='NW_019805495.1 Homo sapiens chromosome 11 genomic patch of type FIX, GRCh38.p14 PATCHES HG2060_PATCH', dbxrefs=[]), SeqRecord(seq=Seq('TAcatatcacttttaaaaaatactaccaATTTTATATCAACATTTTCAGGgatt...GTG'), id='NW_017363816.1', name='NW_017363816.1', description='NW_017363816.1 Homo sapiens chromosome 11 genomic patch of type FIX, GRCh38.p14 PATCHES HG1708_PATCH', dbxrefs=[]), SeqRecord(seq=Seq('GAATTCATTCACTACTGTCAGATTGTGTTTGTCCATTCAAGTAATTCAGGGAAC...TTC'), id='NW_025791793.1', name='NW_025791793.1', description='NW_025791793.1 Homo sapiens chromosome 11 genomic patch of type FIX, GRCh38.p14 PATCHES HG2568_PATCH', dbxrefs=[]), SeqRecord(seq=Seq('GAATTCTTTTTCAAGtgaatcagggatttcttcttggtttgaatCCATTGCTAG...TTC'), id='NW_019805498.1', name='NW_019805498.1', description='NW_019805498.1 Homo sapiens chromosome 11 genomic patch of type NOVEL, GRCh38.p14 PATCHES HSCHR11_1_CTG3_1', dbxrefs=[]), SeqRecord(seq=Seq('TGGAGAGGGAACAGATCTCAGGGGAGAGTGGGTTTTGGAAGGGCCGAGTGTGAG...TCG'), id='NW_021160005.1', name='NW_021160005.1', description='NW_021160005.1 Homo sapiens chromosome 11 genomic patch of type FIX, GRCh38.p14 PATCHES HG2115_PATCH', dbxrefs=[]), SeqRecord(seq=Seq('gatcatttgagatcaggagttcaagaccagcctgaccaacatggtgaaacccta...aga'), id='NW_021160003.1', name='NW_021160003.1', description='NW_021160003.1 Homo sapiens chromosome 11 genomic patch of type FIX, GRCh38.p14 PATCHES HG1445_PATCH', dbxrefs=[]), SeqRecord(seq=Seq('gagctcttttagggcaggcctggtggtgacaaaatctctcagcatttgcttgtc...GAG'), id='NW_019805497.1', name='NW_019805497.1', description='NW_019805497.1 Homo sapiens chromosome 11 genomic patch of type NOVEL, GRCh38.p14 PATCHES HSCHR11_2_CTG8', dbxrefs=[]), SeqRecord(seq=Seq('GAATTCAGAAGTGTGTGGTAATCTCTCTTGAGAATTTGGTACCTATCTGATAGG...TTC'), id='NW_013171808.1', name='NW_013171808.1', description='NW_013171808.1 Homo sapiens chromosome 11 genomic patch of type FIX, GRCh38.p14 PATCHES HG2116_PATCH', dbxrefs=[]), SeqRecord(seq=Seq('atttatcagttctaacagtttttttttttatgtcagtGTCTAAGTTTATCTAGG...TTG'), id='NW_021160002.1', name='NW_021160002.1', description='NW_021160002.1 Homo sapiens chromosome 11 genomic patch of type FIX, GRCh38.p14 PATCHES HG1521_PATCH', dbxrefs=[]), SeqRecord(seq=Seq('GAATTCCAGGCAAAAGTCCTACCAACATTCTTATCAATGATCTTATGCAATAGC...TGT'), id='NW_025791791.1', name='NW_025791791.1', description='NW_025791791.1 Homo sapiens chromosome 11 genomic patch of type NOVEL, GRCh38.p14 PATCHES HSCHR11_2_CTG3_1', dbxrefs=[]), SeqRecord(seq=Seq('AGTTTTAGAAGTGCGTTTGAAGTGCCTGTGGGCTACCCAAGTAAAGACATCCAG...TTC'), id='NW_009646203.1', name='NW_009646203.1', description='NW_009646203.1 Homo sapiens chromosome 11 genomic patch of type FIX, GRCh38.p14 PATCHES HG2217_PATCH', dbxrefs=[]), SeqRecord(seq=Seq('CTCGGCTtactggaagctctgcctcccgggttcaagcgattcttctgcctcacc...GCT'), id='NW_013171809.1', name='NW_013171809.1', description='NW_013171809.1 Homo sapiens chromosome 12 genomic patch of type NOVEL, GRCh38.p14 PATCHES HSCHR12_2_CTG1', dbxrefs=[]), SeqRecord(seq=Seq('TTGTTCAAAAGCCTCTGAGGAAGAAGGATCAGGCTTCCAGGCTTTATTTGCTCC...GCA'), id='NW_018654718.1', name='NW_018654718.1', description='NW_018654718.1 Homo sapiens chromosome 12 genomic patch of type FIX, GRCh38.p14 PATCHES HG1815_PATCH', dbxrefs=[]), SeqRecord(seq=Seq('gcttgagcccaggaggtcaaggttgcagtgatcatgccactgtactccagcctg...ATG'), id='NW_021160008.1', name='NW_021160008.1', description='NW_021160008.1 Homo sapiens chromosome 12 genomic patch of type FIX, GRCh38.p14 PATCHES HG1398_PATCH', dbxrefs=[]), SeqRecord(seq=Seq('TTGCTCcttggctacaaacctgtacagcaagTAACTGTACTGAATATCATAGCC...CAG'), id='NW_011332696.1', name='NW_011332696.1', description='NW_011332696.1 Homo sapiens chromosome 12 genomic patch of type FIX, GRCh38.p14 PATCHES HG1362_PATCH', dbxrefs=[]), SeqRecord(seq=Seq('CTCTATTATgtcattgcatttttcagctctagtgtctctgcttcattcttttta...TTC'), id='NW_009646204.1', name='NW_009646204.1', description='NW_009646204.1 Homo sapiens chromosome 12 genomic patch of type FIX, GRCh38.p14 PATCHES HG23_PATCH', dbxrefs=[]), SeqRecord(seq=Seq('CCTTGCAGAGAGAGTAGTAAATACAAAGGTTGCAAAGTGGGAACAAACTTGGGA...ACC'), id='NW_025791795.1', name='NW_025791795.1', description='NW_025791795.1 Homo sapiens chromosome 12 genomic patch of type FIX, GRCh38.p14 PATCHES HG2554_PATCH', dbxrefs=[]), SeqRecord(seq=Seq('TGTGAATCATGGAAGGACAGAAGAATTGAGCAATGTTATATGTACAAAACTAAG...GGC'), id='NW_018654720.1', name='NW_018654720.1', description='NW_018654720.1 Homo sapiens chromosome 12 genomic patch of type NOVEL, GRCh38.p14 PATCHES HSCHR12_8_CTG2_1', dbxrefs=[]), SeqRecord(seq=Seq('ttatacaccaatagcagacaaacagagagctaaatcatgagtgaattcccattc...att'), id='NW_015148967.1', name='NW_015148967.1', description='NW_015148967.1 Homo sapiens chromosome 12 genomic patch of type FIX, GRCh38.p14 PATCHES HG2063_PATCH', dbxrefs=[]), SeqRecord(seq=Seq('AATTCCTCAACCTCCAAAACTATGTATATTTTCAGCTTGATCAACTATCCTTAA...TCG'), id='NW_018654719.1', name='NW_018654719.1', description='NW_018654719.1 Homo sapiens chromosome 12 genomic patch of type FIX, GRCh38.p14 PATCHES HG2047_PATCH', dbxrefs=[]), SeqRecord(seq=Seq('CAGTGACAACTACAGACCCTTTCCCCCagaataacacacacacatatgtgtata...ATA'), id='NW_011332697.1', name='NW_011332697.1', description='NW_011332697.1 Homo sapiens chromosome 12 genomic patch of type FIX, GRCh38.p14 PATCHES HG2247_PATCH', dbxrefs=[]), SeqRecord(seq=Seq('AAGTTACTATGTCTGGCCTTCAAAACAAATTcaatagaaatgaataaatataat...GGC'), id='NW_019805499.1', name='NW_019805499.1', description='NW_019805499.1 Homo sapiens chromosome 12 genomic patch of type NOVEL, GRCh38.p14 PATCHES HSCHR12_9_CTG2_1', dbxrefs=[]), SeqRecord(seq=Seq('tcctgacctcgtgatccgcctgcctcggcctcctgaagtgctgggatttcaggc...ATC'), id='NW_021160007.1', name='NW_021160007.1', description='NW_021160007.1 Homo sapiens chromosome 12 genomic patch of type FIX, GRCh38.p14 PATCHES HG2246_HG2248_HG2276_PATCH', dbxrefs=[]), SeqRecord(seq=Seq('GGGAAAAGGCGGGAAACAAATACAGACCTGACCATGGAGGGTTTGTGTTTCATG...GGC'), id='NW_021160012.1', name='NW_021160012.1', description='NW_021160012.1 Homo sapiens chromosome 13 genomic patch of type FIX, GRCh38.p14 PATCHES HG2509_PATCH', dbxrefs=[]), SeqRecord(seq=Seq('GAATTCATTCCGACTAAAACGGGTCAGCAAACCAGTTCCAggttctcatctgta...TTC'), id='NW_011332699.1', name='NW_011332699.1', description='NW_011332699.1 Homo sapiens chromosome 13 genomic patch of type FIX, GRCh38.p14 PATCHES HG2291_PATCH', dbxrefs=[]), SeqRecord(seq=Seq('tttgtttttttcccagacattttgtttctttcccagGTCTTTCATATTAAAGAT...ttc'), id='NW_013171810.1', name='NW_013171810.1', description='NW_013171810.1 Homo sapiens chromosome 13 genomic patch of type NOVEL, GRCh38.p14 PATCHES HSCHR13_1_CTG7', dbxrefs=[]), SeqRecord(seq=Seq('CTTTCTGATTTTTTAAGCACGTGTATGATATATAAAATTTCTAAGAACTTATTT...tat'), id='NW_021160009.1', name='NW_021160009.1', description='NW_021160009.1 Homo sapiens chromosome 13 genomic patch of type FIX, GRCh38.p14 PATCHES HG1817_1_PATCH', dbxrefs=[]), SeqRecord(seq=Seq('atttatatatatctatatatttatatatctatatatatttatatatatctatat...GAT'), id='NW_009646205.1', name='NW_009646205.1', description='NW_009646205.1 Homo sapiens chromosome 13 genomic patch of type FIX, GRCh38.p14 PATCHES HG2216_PATCH', dbxrefs=[]), SeqRecord(seq=Seq('CCATATACACTACATGGTGTCCTCGTTTTTAACATCTTATATTACTATGGTACA...TGC'), id='NW_011332700.1', name='NW_011332700.1', description='NW_011332700.1 Homo sapiens chromosome 13 genomic patch of type FIX, GRCh38.p14 PATCHES HG2249_PATCH', dbxrefs=[]), SeqRecord(seq=Seq('gaacagcatggggaaactacccccatgattaaTCACCCCCcatgaggtccctcc...TGT'), id='NW_013171811.1', name='NW_013171811.1', description='NW_013171811.1 Homo sapiens chromosome 13 genomic patch of type NOVEL, GRCh38.p14 PATCHES HSCHR13_1_CTG8', dbxrefs=[]), SeqRecord(seq=Seq('ATCTGTGGCTTGCTCATCCATTTGGCAAGGGGACAACTTTGAGGCTTCTATCTG...AAA'), id='NW_021160010.1', name='NW_021160010.1', description='NW_021160010.1 Homo sapiens chromosome 13 genomic patch of type FIX, GRCh38.p14 PATCHES HG1523_PATCH', dbxrefs=[]), SeqRecord(seq=Seq('AACAAGGAAGAACTGATACTCGCGAGCAGGTCCTTCAGATGTGGGCGCTTCTCT...AAT'), id='NW_021160011.1', name='NW_021160011.1', description='NW_021160011.1 Homo sapiens chromosome 13 genomic patch of type FIX, GRCh38.p14 PATCHES HG1524_PATCH', dbxrefs=[]), SeqRecord(seq=Seq('AGGCTCCTCTCGTCCTCGTAGCCTAGTGGTCTCTCAATAGCTTTACAAAGGCTG...CCA'), id='NW_011332698.1', name='NW_011332698.1', description='NW_011332698.1 Homo sapiens chromosome 13 genomic patch of type FIX, GRCh38.p14 PATCHES HG2288_HG2289_PATCH', dbxrefs=[]), SeqRecord(seq=Seq('GTGCATGGTCCATGAACACATATTTCCAGCTCCTACCTCTCCTCTAAAATTTAG...GGC'), id='NW_021160013.1', name='NW_021160013.1', description='NW_021160013.1 Homo sapiens chromosome 14 genomic patch of type FIX, GRCh38.p14 PATCHES HG2510_PATCH', dbxrefs=[]), SeqRecord(seq=Seq('AtatcattcatttaacaagtcCTGTTTTTCACTGAGTACCTCCCATTTGCCAGG...TTC'), id='NW_025791796.1', name='NW_025791796.1', description='NW_025791796.1 Homo sapiens chromosome 14 genomic patch of type FIX, GRCh38.p14 PATCHES HG2526_HG2573_PATCH', dbxrefs=[]), SeqRecord(seq=Seq('ATGTCAAAACTTagtccccagtgcaacagtgttatGAGGCAGGacatttaggag...ttc'), id='NW_018654722.1', name='NW_018654722.1', description='NW_018654722.1 Homo sapiens chromosome 14 genomic patch of type FIX, GRCh38.p14 PATCHES HG1_PATCH', dbxrefs=[]), SeqRecord(seq=Seq('GGAGAACTTATTTTGACTTTGATAttgtttatcttctttaaatATGTACTTAGt...TTC'), id='NW_021160014.1', name='NW_021160014.1', description='NW_021160014.1 Homo sapiens chromosome 14 genomic patch of type NOVEL, GRCh38.p14 PATCHES HSCHR14_9_CTG1', dbxrefs=[]), SeqRecord(seq=Seq('GGCTGCAGGTGCATCCAGGAGGGTGGGGATCCTGCCTGCTCCATGGAATACACA...gta'), id='NW_018654721.1', name='NW_018654721.1', description='NW_018654721.1 Homo sapiens chromosome 14 genomic patch of type NOVEL, GRCh38.p14 PATCHES HSCHR14_8_CTG1', dbxrefs=[]), SeqRecord(seq=Seq('TGTAGATCTACATAAGCCAGGCCAGGGCACAAACGTTACAGAATGGCAAGGAGG...TTC'), id='NW_011332701.1', name='NW_011332701.1', description='NW_011332701.1 Homo sapiens chromosome 15 genomic patch of type FIX, GRCh38.p14 PATCHES HG2139_PATCH', dbxrefs=[]), SeqRecord(seq=Seq('GCCTTCAAGTCCAGCGTCGCAAGCATGGCAATACCCCTTCTCTACTAATGTTCA...ACG'), id='NW_021160018.1', name='NW_021160018.1', description='NW_021160018.1 Homo sapiens chromosome 15 genomic patch of type FIX, GRCh38.p14 PATCHES HG2511_PATCH', dbxrefs=[]), SeqRecord(seq=Seq('caaacctgctctatgaacgggaatgttcagctctgtgagttgaatgcaaacatc...TTC'), id='NW_021160017.1', name='NW_021160017.1', description='NW_021160017.1 Homo sapiens chromosome 15 genomic patch of type FIX, GRCh38.p14 PATCHES HG2365_PATCH', dbxrefs=[]), SeqRecord(seq=Seq('ACTAACGAACCCATCTGGGCTTGGCGCTTACTGATTTGAaggttatttgttgtt...TTC'), id='NW_012132920.1', name='NW_012132920.1', description='NW_012132920.1 Homo sapiens chromosome 15 genomic patch of type NOVEL, GRCh38.p14 PATCHES HSCHR15_6_CTG8', dbxrefs=[]), SeqRecord(seq=Seq('CAGCCCAtgaagactcttttttttttgagatggagctgctatgccgcccaggct...TTC'), id='NW_025791798.1', name='NW_025791798.1', description='NW_025791798.1 Homo sapiens chromosome 15 genomic patch of type NOVEL, GRCh38.p14 PATCHES HSCHR15_9_CTG8', dbxrefs=[]), SeqRecord(seq=Seq('AACCAGTTATCAGATGGAAGGCCAAGGAAGCTTGGGGAGGGCTACTGAGGGGAT...CTA'), id='NW_021160016.1', name='NW_021160016.1', description='NW_021160016.1 Homo sapiens chromosome 15 genomic patch of type FIX, GRCh38.p14 PATCHES HG2198_PATCH', dbxrefs=[]), SeqRecord(seq=Seq('agagagagaaaggaaggaaggaaggaaggagagagagaaggaagggagggaggg...TTC'), id='NW_025791797.1', name='NW_025791797.1', description='NW_025791797.1 Homo sapiens chromosome 15 genomic patch of type FIX, GRCh38.p14 PATCHES HG2280_PATCH', dbxrefs=[]), SeqRecord(seq=Seq('tggtgtgtgttgttcccctccatgtacccacgtgtttgtgctgatggtctccta...CTG'), id='NW_021160015.1', name='NW_021160015.1', description='NW_021160015.1 Homo sapiens chromosome 15 genomic patch of type FIX, GRCh38.p14 PATCHES HG2499_PATCH', dbxrefs=[]), SeqRecord(seq=Seq('TCCTTTTCCCCAGTGCACTGCCATAGAGATCCCTTTGGAGAAGGCTGGGAAAAG...cgt'), id='NW_025791799.1', name='NW_025791799.1', description='NW_025791799.1 Homo sapiens chromosome 16 genomic patch of type FIX, GRCh38.p14 PATCHES HG401_PATCH', dbxrefs=[]), SeqRecord(seq=Seq('GTGTCCAGGCCTGGAAAGCGCCCAGCTGCTACTGAGGCCAGGGCTGCAGCcagg...ATA'), id='NW_013171812.1', name='NW_013171812.1', description='NW_013171812.1 Homo sapiens chromosome 16 genomic patch of type NOVEL, GRCh38.p14 PATCHES HSCHR16_5_CTG1', dbxrefs=[]), SeqRecord(seq=Seq('TTTGACATTTATGTAGTGTAGATGTAGTGTGTGGGTTATCAGATGGTGATCTCT...TTC'), id='NW_019805500.1', name='NW_019805500.1', description='NW_019805500.1 Homo sapiens chromosome 16 genomic patch of type FIX, GRCh38.p14 PATCHES HG2263_PATCH', dbxrefs=[]), SeqRecord(seq=Seq('TTTGTTCTCAAGTCCCATTTTaccttcttaaaaattattgaggcaTCTGAAGAG...TTC'), id='NW_017852933.1', name='NW_017852933.1', description='NW_017852933.1 Homo sapiens chromosome 16 genomic patch of type FIX, GRCh38.p14 PATCHES HG926_PATCH', dbxrefs=[]), SeqRecord(seq=Seq('TACTTTACAGTGTGATGGAGGGAGTGGCAGCAGCCTCCAGTAAGATGGGCTTTG...cca'), id='NW_021160019.1', name='NW_021160019.1', description='NW_021160019.1 Homo sapiens chromosome 16 genomic patch of type FIX, GRCh38.p14 PATCHES HG2471_PATCH', dbxrefs=[]), SeqRecord(seq=Seq('TTATCCAGCCTTATATTCATGTCTATGGCAGCTCCATAGAGAGATACAAACACC...TTC'), id='NW_013171813.1', name='NW_013171813.1', description='NW_013171813.1 Homo sapiens chromosome 16 genomic patch of type NOVEL, GRCh38.p14 PATCHES HSCHR16_4_CTG3_1', dbxrefs=[]), SeqRecord(seq=Seq('ACACTGGGGAGAAACCTTTCGAGTGTCCGGAATGTGGAAAAGCTTTCACCCACC...CTA'), id='NW_018654723.1', name='NW_018654723.1', description='NW_018654723.1 Homo sapiens chromosome 16 genomic patch of type NOVEL, GRCh38.p14 PATCHES HSCHR16_5_CTG3_1', dbxrefs=[]), SeqRecord(seq=Seq('CAAACAAAGTTCACACCTATTACCTTTGCCAGCAGTGagttaagtattattatt...TTC'), id='NW_012132921.1', name='NW_012132921.1', description='NW_012132921.1 Homo sapiens chromosome 16 genomic patch of type NOVEL, GRCh38.p14 PATCHES HSCHR16_3_CTG3_1', dbxrefs=[]), SeqRecord(seq=Seq('ATACATGCTACCTTATGTGAAAAATGGATCTtagcagatgtaattaaattaagg...ttc'), id='NW_025791800.1', name='NW_025791800.1', description='NW_025791800.1 Homo sapiens chromosome 16 genomic patch of type FIX, GRCh38.p14 PATCHES HG405_PATCH', dbxrefs=[]), SeqRecord(seq=Seq('ACATTCAGAGGCTTCTCGACATTCCCTTTAGAAGGGAAGGTTTATGTGCAAAGG...tat'), id='NW_017363817.1', name='NW_017363817.1', description='NW_017363817.1 Homo sapiens chromosome 17 genomic patch of type FIX, GRCh38.p14 PATCHES HG2285_HG106_HG2252_PATCH', dbxrefs=[]), SeqRecord(seq=Seq('TTCAAGAGAGACggtgtttttctcttcttggagggaaggaggaattattgttaa...TTC'), id='NW_021160020.1', name='NW_021160020.1', description='NW_021160020.1 Homo sapiens chromosome 17 genomic patch of type FIX, GRCh38.p14 PATCHES HG2087_PATCH', dbxrefs=[]), SeqRecord(seq=Seq('ATACATACAGGAAGTACAACATATTGAGcagaataaatagaataaataaacatC...TTC'), id='NW_016107299.1', name='NW_016107299.1', description='NW_016107299.1 Homo sapiens chromosome 17 genomic patch of type FIX, GRCh38.p14 PATCHES HG2046_PATCH', dbxrefs=[]), SeqRecord(seq=Seq('CTGAGTGTCATCTGCTTGGTCTACGAGCTCAGCTTTCTGATGCCATTTATTTGT...TCC'), id='NW_017363819.1', name='NW_017363819.1', description='NW_017363819.1 Homo sapiens chromosome 17 genomic patch of type NOVEL, GRCh38.p14 PATCHES HSCHR17_3_CTG1', dbxrefs=[]), SeqRecord(seq=Seq('ATTCCATTACACCATATtgctgtgcgtgtgtgtgcacgtgtgtgcttGCGCCCG...TTC'), id='NW_025791803.1', name='NW_025791803.1', description='NW_025791803.1 Homo sapiens chromosome 17 genomic patch of type FIX, GRCh38.p14 PATCHES HG2407_PATCH', dbxrefs=[]), SeqRecord(seq=Seq('TTTTTCTCAGCGTGGaacgtccctgagaaagagaatgcgcacctaggggtaggt...ATC'), id='NW_025791801.1', name='NW_025791801.1', description='NW_025791801.1 Homo sapiens chromosome 17 genomic patch of type NOVEL, GRCh38.p14 PATCHES HSCHR17_13_CTG4', dbxrefs=[]), SeqRecord(seq=Seq('AGACATTTACCCCATCCTAACAGAACCATAGTCTCAGACTTAGTTCAGATAATT...TTC'), id='NW_017363818.1', name='NW_017363818.1', description='NW_017363818.1 Homo sapiens chromosome 17 genomic patch of type NOVEL, GRCh38.p14 PATCHES HSCHR17_11_CTG4', dbxrefs=[]), SeqRecord(seq=Seq('AGATATTCAGATATTCAGACCTTAAGAATGCACTTTATCCTTATCACAAAGCAG...ccc'), id='NW_019805501.1', name='NW_019805501.1', description='NW_019805501.1 Homo sapiens chromosome 17 genomic patch of type NOVEL, GRCh38.p14 PATCHES HSCHR17_12_CTG4', dbxrefs=[]), SeqRecord(seq=Seq('tagtagtgacagggtttcaccatgttggtcaggctggtcttgaactcctgacct...TTC'), id='NW_025791806.1', name='NW_025791806.1', description='NW_025791806.1 Homo sapiens chromosome 17 genomic patch of type FIX, GRCh38.p14 PATCHES HG2580_PATCH', dbxrefs=[]), SeqRecord(seq=Seq('ATCCTTTTCAGTGATCCGTCCACCAGAATATCCTACTTTGCCTGGGTCATTTCA...TTC'), id='NW_025791802.1', name='NW_025791802.1', description='NW_025791802.1 Homo sapiens chromosome 17 genomic patch of type FIX, GRCh38.p14 PATCHES HG2118_PATCH', dbxrefs=[]), SeqRecord(seq=Seq('AATCGGAGCTGCAGAAGAGACAAGCATTTCCAAACTGGCACCCGCTCCGAGCCC...gat'), id='NW_025791805.1', name='NW_025791805.1', description='NW_025791805.1 Homo sapiens chromosome 17 genomic patch of type FIX, GRCh38.p14 PATCHES HG1369_PATCH', dbxrefs=[]), SeqRecord(seq=Seq('ctcaggtgatccgcccgccttggcttcccaaagtgctgggattacaggtgtgag...TTC'), id='NW_021160021.1', name='NW_021160021.1', description='NW_021160021.1 Homo sapiens chromosome 17 genomic patch of type FIX, GRCh38.p14 PATCHES HG1320_PATCH', dbxrefs=[]), SeqRecord(seq=Seq('CCCGTCTCCTCGGCGCCCCGCCCCTCTGATCTCCTCTCCTCGGGGCCCCGCCCC...ggt'), id='NW_025791804.1', name='NW_025791804.1', description='NW_025791804.1 Homo sapiens chromosome 17 genomic patch of type FIX, GRCh38.p14 PATCHES HG2251_PATCH', dbxrefs=[]), SeqRecord(seq=Seq('ACTTGAGAAGCtatctagtcctgggcttttctttgttgggaggtttttaaATTC...GTT'), id='NW_019805503.1', name='NW_019805503.1', description='NW_019805503.1 Homo sapiens chromosome 18 genomic patch of type NOVEL, GRCh38.p14 PATCHES HSCHR18_1_CTG1', dbxrefs=[]), SeqRecord(seq=Seq('CTAAAACTTACTAGCATGAAGTCAACCCTGAGGCTGGAGAGAGTTCTATGGGCT...ttc'), id='NW_014040928.1', name='NW_014040928.1', description='NW_014040928.1 Homo sapiens chromosome 18 genomic patch of type NOVEL, GRCh38.p14 PATCHES HSCHR18_5_CTG1_1', dbxrefs=[]), SeqRecord(seq=Seq('TTCCCTGAGTAGCTAAGGAACACTATGTAAATCACTTTCCATCCCACCTGCCAA...TTC'), id='NW_019805502.1', name='NW_019805502.1', description='NW_019805502.1 Homo sapiens chromosome 18 genomic patch of type FIX, GRCh38.p14 PATCHES HG2412_PATCH', dbxrefs=[]), SeqRecord(seq=Seq('TCTGCCTCTGCCACCGCCGCCATTGGCAAGAAAGCATCAAtgtccttgctggct...ttC'), id='NW_013171814.1', name='NW_013171814.1', description='NW_013171814.1 Homo sapiens chromosome 18 genomic patch of type FIX, GRCh38.p14 PATCHES HG2213_PATCH', dbxrefs=[]), SeqRecord(seq=Seq('AAAATGTAGTATAGAGAGGATGTGTGAGATGaatatttctaaaacataatGATG...gaG'), id='NW_018654724.1', name='NW_018654724.1', description='NW_018654724.1 Homo sapiens chromosome 18 genomic patch of type FIX, GRCh38.p14 PATCHES HG2442_PATCH', dbxrefs=[]), SeqRecord(seq=Seq('tcctgacctcgtgatccacctacctcggcctcccaaagtgttgggattaaaggc...TTC'), id='NW_025791809.1', name='NW_025791809.1', description='NW_025791809.1 Homo sapiens chromosome 19 genomic patch of type FIX, GRCh38.p14 PATCHES HG2469_PATCH', dbxrefs=[]), SeqRecord(seq=Seq('CATGggacagacagggaaactgaggcctgaggtTGCAAGTGGCGAAAGTGGCAG...GCT'), id='NW_025791810.1', name='NW_025791810.1', description='NW_025791810.1 Homo sapiens chromosome 19 genomic patch of type NOVEL, GRCh38.p14 PATCHES HSCHR19_6_CTG2', dbxrefs=[]), SeqRecord(seq=Seq('TTCAGGCAGAGCCTGTCTCCAGGGACTAGGCTTGGGCATTTGGGATGAGCCCTG...ttt'), id='NW_025791807.1', name='NW_025791807.1', description='NW_025791807.1 Homo sapiens chromosome 19 genomic patch of type FIX, GRCh38.p14 PATCHES HG2461_PATCH', dbxrefs=[]), SeqRecord(seq=Seq('GCTGGCTTTACTGAGAAGGAAGGACGCAGGTGGTTGGAACTACCCCCATCAaac...ctt'), id='NW_021160022.1', name='NW_021160022.1', description='NW_021160022.1 Homo sapiens chromosome 19 genomic patch of type FIX, GRCh38.p14 PATCHES HG109_PATCH', dbxrefs=[]), SeqRecord(seq=Seq('ttggaccagaaaaaaaaaaaaaaaaaaaaaatatatatatatatatatatatat...CTT'), id='NW_014040929.1', name='NW_014040929.1', description='NW_014040929.1 Homo sapiens chromosome 19 genomic patch of type FIX, GRCh38.p14 PATCHES HG26_PATCH', dbxrefs=[]), SeqRecord(seq=Seq('aacagaatgagaccctgtctcataataataataataataataataataataatt...CTT'), id='NW_025791808.1', name='NW_025791808.1', description='NW_025791808.1 Homo sapiens chromosome 19 genomic patch of type FIX, GRCh38.p14 PATCHES HG2569_PATCH', dbxrefs=[]), SeqRecord(seq=Seq('CGCATttattccctttctccttccctccctcccttcctttcttttatacAGAAA...ATC'), id='NW_009646206.1', name='NW_009646206.1', description='NW_009646206.1 Homo sapiens chromosome 19 genomic patch of type FIX, GRCh38.p14 PATCHES HG2021_PATCH', dbxrefs=[]), SeqRecord(seq=Seq('GAATTCCCCATGAGTCCTGTGACCTCAGCCCACACGGGGACCTACAGGTGCTAC...AGG'), id='NW_016107300.1', name='NW_016107300.1', description='NW_016107300.1 Homo sapiens chromosome 19 genomic patch of type NOVEL, GRCh38.p14 PATCHES HSCHR19KIR_0019-4656-A_CTG3_1', dbxrefs=[]), SeqRecord(seq=Seq('GAATTCCCCATGAGTCCTGTGACCTCAGCCCACACGGGGACCTACAGGTGCTAC...gta'), id='NW_016107301.1', name='NW_016107301.1', description='NW_016107301.1 Homo sapiens chromosome 19 genomic patch of type NOVEL, GRCh38.p14 PATCHES HSCHR19KIR_CA01-TA01_1_CTG3_1', dbxrefs=[]), SeqRecord(seq=Seq('GAATTCCCCATGAGTCCTGTGACCTCAGCCCACACGGGGACCTACAGGTGCTAC...CTG'), id='NW_016107302.1', name='NW_016107302.1', description='NW_016107302.1 Homo sapiens chromosome 19 genomic patch of type NOVEL, GRCh38.p14 PATCHES HSCHR19KIR_CA01-TA01_2_CTG3_1', dbxrefs=[]), SeqRecord(seq=Seq('GAATTCCCCATGAGTCCTGTGACCTCAGCCCACACGGGGACCTACAGGTGCTAC...TAG'), id='NW_016107303.1', name='NW_016107303.1', description='NW_016107303.1 Homo sapiens chromosome 19 genomic patch of type NOVEL, GRCh38.p14 PATCHES HSCHR19KIR_CA01-TB04_CTG3_1', dbxrefs=[]), SeqRecord(seq=Seq('GAATTCCCCATGAGTCCTGTGACCTCAGCCCACACGGGGACCTACAGGTGCTAC...TTC'), id='NW_016107304.1', name='NW_016107304.1', description='NW_016107304.1 Homo sapiens chromosome 19 genomic patch of type NOVEL, GRCh38.p14 PATCHES HSCHR19KIR_CA01-TB01_CTG3_1', dbxrefs=[]), SeqRecord(seq=Seq('GAATTCCCCATGAGTCCTGTGACCTCAGCCCACACGGGGACCTACAGGTGCTAC...gcg'), id='NW_016107305.1', name='NW_016107305.1', description='NW_016107305.1 Homo sapiens chromosome 19 genomic patch of type NOVEL, GRCh38.p14 PATCHES HSCHR19KIR_HG2394_CTG3_1', dbxrefs=[]), SeqRecord(seq=Seq('GAATTCCCCATGAGTCCTGTGACCTCAGCCCACACGGGGACCTACAGGTGCTAC...tCA'), id='NW_016107306.1', name='NW_016107306.1', description='NW_016107306.1 Homo sapiens chromosome 19 genomic patch of type NOVEL, GRCh38.p14 PATCHES HSCHR19KIR_502960008-2_CTG3_1', dbxrefs=[]), SeqRecord(seq=Seq('GAATTCCCCATGAGTCCTGTGACCTCAGCCCACACGGGGACCTACAGGTGCTAC...ttt'), id='NW_016107307.1', name='NW_016107307.1', description='NW_016107307.1 Homo sapiens chromosome 19 genomic patch of type NOVEL, GRCh38.p14 PATCHES HSCHR19KIR_502960008-1_CTG3_1', dbxrefs=[]), SeqRecord(seq=Seq('GAATTCCCCATGAGTCCTGTGACCTCAGCCCACACGGGGACCTACAGGTGCTAC...TAA'), id='NW_016107308.1', name='NW_016107308.1', description='NW_016107308.1 Homo sapiens chromosome 19 genomic patch of type NOVEL, GRCh38.p14 PATCHES HSCHR19KIR_0010-5217-AB_CTG3_1', dbxrefs=[]), SeqRecord(seq=Seq('GAATTCCCCATGAGTCCTGTGACCTCAGCCCACACGGGGACCTACAGGTGCTAC...CCG'), id='NW_016107309.1', name='NW_016107309.1', description='NW_016107309.1 Homo sapiens chromosome 19 genomic patch of type NOVEL, GRCh38.p14 PATCHES HSCHR19KIR_7191059-1_CTG3_1', dbxrefs=[]), SeqRecord(seq=Seq('GAATTCCCCATGAGTCCTGTGACCTCAGCCCACACGGGGACCTACAGGTGCTAC...ccg'), id='NW_016107310.1', name='NW_016107310.1', description='NW_016107310.1 Homo sapiens chromosome 19 genomic patch of type NOVEL, GRCh38.p14 PATCHES HSCHR19KIR_0019-4656-B_CTG3_1', dbxrefs=[]), SeqRecord(seq=Seq('GAATTCCCCATGAGTCCTGTGACCTCAGCCCACACGGGGACCTACAGGTGCTAC...ggc'), id='NW_016107311.1', name='NW_016107311.1', description='NW_016107311.1 Homo sapiens chromosome 19 genomic patch of type NOVEL, GRCh38.p14 PATCHES HSCHR19KIR_CA04_CTG3_1', dbxrefs=[]), SeqRecord(seq=Seq('GAATTCCCCATGAGTCCTGTGACCTCAGCCCACACGGGGACCTACAGGTGCTAC...TTG'), id='NW_016107313.1', name='NW_016107313.1', description='NW_016107313.1 Homo sapiens chromosome 19 genomic patch of type NOVEL, GRCh38.p14 PATCHES HSCHR19KIR_7191059-2_CTG3_1', dbxrefs=[]), SeqRecord(seq=Seq('GAATTCCCCATGAGTCCTGTGACCTCAGCCCACACGGGGACCTACAGGTGCTAC...gtg'), id='NW_016107314.1', name='NW_016107314.1', description='NW_016107314.1 Homo sapiens chromosome 19 genomic patch of type NOVEL, GRCh38.p14 PATCHES HSCHR19KIR_HG2396_CTG3_1', dbxrefs=[]), SeqRecord(seq=Seq('GAATTCCATTCTAGCACTTGTGAGCATGTGTCTTTGCACCAGTcatgtcttcta...ggg'), id='NW_016107312.1', name='NW_016107312.1', description='NW_016107312.1 Homo sapiens chromosome 19 genomic patch of type NOVEL, GRCh38.p14 PATCHES HSCHR19KIR_HG2393_CTG3_1', dbxrefs=[]), SeqRecord(seq=Seq('AAGTGACAATTGAAGCCGTAGAAATAGGTAAACTCTCTGAGGCAAGAATATAGA...ATC'), id='NW_025791811.1', name='NW_025791811.1', description='NW_025791811.1 Homo sapiens chromosome 20 genomic patch of type FIX, GRCh38.p14 PATCHES HG2225_PATCH', dbxrefs=[]), SeqRecord(seq=Seq('AATTAATATTAATCTTACGCAACATGAAGGAGACTGTCATTTTTGTAAGGTAAA...GTT'), id='NW_025791812.1', name='NW_025791812.1', description='NW_025791812.1 Homo sapiens chromosome 20 genomic patch of type FIX, GRCh38.p14 PATCHES HG410_PATCH', dbxrefs=[]), SeqRecord(seq=Seq('TGAGGTCCTGCTACTAGTTATTCTGTCTCTGTAGTAGttggatggctggatcat...ATC'), id='NW_021160023.1', name='NW_021160023.1', description='NW_021160023.1 Homo sapiens chromosome 21 genomic patch of type FIX, GRCh38.p14 PATCHES HG2513_PATCH', dbxrefs=[]), SeqRecord(seq=Seq('ttcccgccttggccttccaagtaagtgggattacaggcttgtgccacagTGGTT...tga'), id='NW_025791813.1', name='NW_025791813.1', description='NW_025791813.1 Homo sapiens chromosome 21 genomic patch of type FIX, GRCh38.p14 PATCHES HG2219_PATCH', dbxrefs=[]), SeqRecord(seq=Seq('ATGCTTCTAAGAAGATGAAAATAATCTGtccttattatatatatacatttccaT...atc'), id='NW_025791814.1', name='NW_025791814.1', description='NW_025791814.1 Homo sapiens chromosome 21 genomic patch of type FIX, GRCh38.p14 PATCHES HG2265_PATCH', dbxrefs=[]), SeqRecord(seq=Seq('GATCAACTGGGGTCATCCGGGTGGGCCCCAGGTGGCATTGCAAGGTTCGCACAA...ACT'), id='NW_025791815.1', name='NW_025791815.1', description='NW_025791815.1 Homo sapiens chromosome 21 genomic patch of type FIX, GRCh38.p14 PATCHES HG2521_PATCH', dbxrefs=[]), SeqRecord(seq=Seq('TATCACATGGTAAGCGGGATGTCACTCAGGCCACGGGTAAATTATTTACAAGAC...GGC'), id='NW_021160026.1', name='NW_021160026.1', description='NW_021160026.1 Homo sapiens chromosome 22 genomic patch of type FIX, GRCh38.p14 PATCHES HG2512_PATCH', dbxrefs=[]), SeqRecord(seq=Seq('tgcctatctcagcctcccaaagtgctgggattacaggtgtgggccaccgcaccc...TTC'), id='NW_021160024.1', name='NW_021160024.1', description='NW_021160024.1 Homo sapiens chromosome 22 genomic patch of type FIX, GRCh38.p14 PATCHES HG1485_PATCH', dbxrefs=[]), SeqRecord(seq=Seq('atcacttgagcccaggagttcaagactggcctgggcgcggtggctcacgccagc...ATC'), id='NW_009646207.1', name='NW_009646207.1', description='NW_009646207.1 Homo sapiens chromosome 22 genomic patch of type NOVEL, GRCh38.p14 PATCHES HSCHR22_4_CTG1', dbxrefs=[]), SeqRecord(seq=Seq('taatttcttacacctgtctttactgcagtctctgaacataaattgtgaagattt...ATC'), id='NW_014040930.1', name='NW_014040930.1', description='NW_014040930.1 Homo sapiens chromosome 22 genomic patch of type NOVEL, GRCh38.p14 PATCHES HSCHR22_6_CTG1', dbxrefs=[]), SeqRecord(seq=Seq('TAATAAAACGCATTTCAAAAGACCCTATGAGGTCTGTGCCGCGTTGGTCCCTAT...ATC'), id='NW_014040931.1', name='NW_014040931.1', description='NW_014040931.1 Homo sapiens chromosome 22 genomic patch of type NOVEL, GRCh38.p14 PATCHES HSCHR22_7_CTG1', dbxrefs=[]), SeqRecord(seq=Seq('CCCTGCCTCCAACAAAGAGCATAGGCCAATTCTTCTTGAGAAACTGGACTTTTA...ATC'), id='NW_009646208.1', name='NW_009646208.1', description='NW_009646208.1 Homo sapiens chromosome 22 genomic patch of type NOVEL, GRCh38.p14 PATCHES HSCHR22_5_CTG1', dbxrefs=[]), SeqRecord(seq=Seq('CATACTTGCATAGCATTTGgctaggtatagaattctagattggaaatattttct...ATC'), id='NW_015148968.1', name='NW_015148968.1', description='NW_015148968.1 Homo sapiens chromosome 22 genomic patch of type NOVEL, GRCh38.p14 PATCHES HSCHR22_8_CTG1', dbxrefs=[]), SeqRecord(seq=Seq('ctgtgtgtgcacacgtgtgtgtgcatgcacgcgtCTGCACCTGGGCAGGACCTG...ATG'), id='NW_021160025.1', name='NW_021160025.1', description='NW_021160025.1 Homo sapiens chromosome 22 genomic patch of type FIX, GRCh38.p14 PATCHES HG494_PATCH', dbxrefs=[]), SeqRecord(seq=Seq('gaaaatatttttgtgatcttgtggtaggcaaagattttttagaGTGAACCCAAA...atc'), id='NW_015148969.2', name='NW_015148969.2', description='NW_015148969.2 Homo sapiens chromosome 22 genomic patch of type FIX, GRCh38.p14 PATCHES HG1311_HG2539_PATCH', dbxrefs=[]), SeqRecord(seq=Seq('aagcaatcctccagcctcagcctctcaagtaggcatgtaccgccacacccagct...ttc'), id='NW_017363820.1', name='NW_017363820.1', description='NW_017363820.1 Homo sapiens chromosome X genomic patch of type NOVEL, GRCh38.p14 PATCHES HSCHRX_3_CTG7', dbxrefs=[]), SeqRecord(seq=Seq('TACTCTAACCTATTTTCAACACCCAAACATATActcatttaaaacaattttaat...AAA'), id='NW_021160031.1', name='NW_021160031.1', description='NW_021160031.1 Homo sapiens chromosome X genomic patch of type FIX, GRCh38.p14 PATCHES HG1466_PATCH', dbxrefs=[]), SeqRecord(seq=Seq('cactttttaaaaacttttattattattattattattattgagataatgtctggc...TTC'), id='NW_025791820.1', name='NW_025791820.1', description='NW_025791820.1 Homo sapiens chromosome X genomic patch of type NOVEL, GRCh38.p14 PATCHES HSCHRX_3_CTG3', dbxrefs=[]), SeqRecord(seq=Seq('ATCCATTTCttttaagttgtcaaatttatgtgtgTAGTGTTGTTTAAAGTATTC...CTA'), id='NW_021160028.1', name='NW_021160028.1', description='NW_021160028.1 Homo sapiens chromosome X genomic patch of type FIX, GRCh38.p14 PATCHES HG1506_PATCH', dbxrefs=[]), SeqRecord(seq=Seq('TGTCTTTatttcttgcaggagtgaggtatCACATTACGGTTTTGATTctcattt...atc'), id='NW_025791816.1', name='NW_025791816.1', description='NW_025791816.1 Homo sapiens chromosome X genomic patch of type FIX, GRCh38.p14 PATCHES HG2527_PATCH', dbxrefs=[]), SeqRecord(seq=Seq('atggggacagtttcccccatgctgttctcatcatagtgaggaagttctcacaag...AAT'), id='NW_021160029.1', name='NW_021160029.1', description='NW_021160029.1 Homo sapiens chromosome X genomic patch of type FIX, GRCh38.p14 PATCHES HG1507_PATCH', dbxrefs=[]), SeqRecord(seq=Seq('TCACTTGTTTGTGGAAtccaaaatagtcaaactcatagaagcagagagtagaat...tgc'), id='NW_025791817.1', name='NW_025791817.1', description='NW_025791817.1 Homo sapiens chromosome X genomic patch of type FIX, GRCh38.p14 PATCHES HG2541_PATCH', dbxrefs=[]), SeqRecord(seq=Seq('gaaaagaagaagtcaaattatccttgttcgttgatgatatgatcttatatttag...aaa'), id='NW_021160027.1', name='NW_021160027.1', description='NW_021160027.1 Homo sapiens chromosome X genomic patch of type FIX, GRCh38.p14 PATCHES HG439_PATCH', dbxrefs=[]), SeqRecord(seq=Seq('CTCAACTTGGCAACAGTCAACTCCAGGAGCCTGTTACAAGTTCGTCTAACAGGG...TTC'), id='NW_025791819.1', name='NW_025791819.1', description='NW_025791819.1 Homo sapiens chromosome X genomic patch of type NOVEL, GRCh38.p14 PATCHES HSCHRX_2_CTG14', dbxrefs=[]), SeqRecord(seq=Seq('tgctgctataaacatgcatgtgcaagtatctttcttgaataatgacttattttc...AAG'), id='NW_021160030.1', name='NW_021160030.1', description='NW_021160030.1 Homo sapiens chromosome X genomic patch of type FIX, GRCh38.p14 PATCHES HG1509_PATCH', dbxrefs=[]), SeqRecord(seq=Seq('CCTACAACAtcataagaaaaagagagaaaatccaatagaaaaatggacaaaaga...GCA'), id='NW_025791818.1', name='NW_025791818.1', description='NW_025791818.1 Homo sapiens chromosome X genomic patch of type NOVEL, GRCh38.p14 PATCHES HSCHRX_1_CTG14', dbxrefs=[]), SeqRecord(seq=Seq('tcccagctaattttgtattttaagtagagacagggtttcaccatgctttccagg...GAA'), id='NW_018654725.1', name='NW_018654725.1', description='NW_018654725.1 Homo sapiens chromosome Y genomic patch of type FIX, GRCh38.p14 PATCHES HG1531_PATCH', dbxrefs=[]), SeqRecord(seq=Seq('GAATTCTCAAATGCAACTTTTGGGTGCTCTATCTGCCTCCCTTATAAAAGACCC...GGA'), id='NW_025791821.1', name='NW_025791821.1', description='NW_025791821.1 Homo sapiens chromosome Y genomic patch of type FIX, GRCh38.p14 PATCHES HG1532_PATCH', dbxrefs=[]), SeqRecord(seq=Seq('GAATTCAATTGCCAGGCAGAACATGCACGGCACTCCAGGACTGGCAGTTAAAAA...TGG'), id='NW_018654726.1', name='NW_018654726.1', description='NW_018654726.1 Homo sapiens chromosome Y genomic patch of type FIX, GRCh38.p14 PATCHES HG1535_PATCH', dbxrefs=[]), SeqRecord(seq=Seq('CACGGCCTCCAAAtttgctgggattccaggcctgagccaagatacatatttttg...ttc'), id='NW_009646209.1', name='NW_009646209.1', description='NW_009646209.1 Homo sapiens chromosome Y genomic patch of type FIX, GRCh38.p14 PATCHES HG2062_PATCH', dbxrefs=[]), SeqRecord(seq=Seq('GTACTGGAGGCCTGGACGGGCCTCACTCCATTCTTAGGGAGCGGCTGCTCCTGG...GTG'), id='NT_187515.1', name='NT_187515.1', description='NT_187515.1 Homo sapiens chromosome 1 genomic scaffold, GRCh38.p14 alternate locus group ALT_REF_LOCI_1 HSCHR1_1_CTG3', dbxrefs=[]), SeqRecord(seq=Seq('GAATTCACTCCTGGTCCAATGAAGCCATTTCCTGGCATGGCCAAAGATCAGGAA...TTC'), id='NT_187517.1', name='NT_187517.1', description='NT_187517.1 Homo sapiens chromosome 1 genomic scaffold, GRCh38.p14 alternate locus group ALT_REF_LOCI_1 HSCHR1_2_CTG3', dbxrefs=[]), SeqRecord(seq=Seq('CCAGCCAGAATACCACATGCATTTAGCTGTTctgtctccttaggctcctcttga...ATC'), id='NT_187514.1', name='NT_187514.1', description='NT_187514.1 Homo sapiens chromosome 1 genomic scaffold, GRCh38.p14 alternate locus group ALT_REF_LOCI_1 HSCHR1_1_CTG11', dbxrefs=[]), SeqRecord(seq=Seq('CTGAACTCTCAATCACATTTAGCGAGACGCTTTTCTAAAGGAATCCTCTAAAGC...ATC'), id='NT_187520.1', name='NT_187520.1', description='NT_187520.1 Homo sapiens chromosome 1 genomic scaffold, GRCh38.p14 alternate locus group ALT_REF_LOCI_1 HSCHR1_4_CTG31', dbxrefs=[]), SeqRecord(seq=Seq('CTATAATCCCAGcttgttgggaggccaaggcaggaggatcacttgaagcccagg...TTC'), id='NW_003315905.1', name='NW_003315905.1', description='NW_003315905.1 Homo sapiens chromosome 1 genomic scaffold, GRCh38.p14 alternate locus group ALT_REF_LOCI_1 HSCHR1_1_CTG31', dbxrefs=[]), SeqRecord(seq=Seq('CATCCCTCGATCCCAGGAGCCTAGCCGCACACTCTGCTCCCAGAACTTGGAACC...TTC'), id='NW_003315906.1', name='NW_003315906.1', description='NW_003315906.1 Homo sapiens chromosome 1 genomic scaffold, GRCh38.p14 alternate locus group ALT_REF_LOCI_1 HSCHR1_2_CTG31', dbxrefs=[]), SeqRecord(seq=Seq('CATGAAGGAGTAAGGTGTGTAGTAAATAAATCATAGACTGTTAATTCTGAGGGT...TTC'), id='NW_003315907.2', name='NW_003315907.2', description='NW_003315907.2 Homo sapiens chromosome 1 genomic scaffold, GRCh38.p14 alternate locus group ALT_REF_LOCI_1 HSCHR1_3_CTG31', dbxrefs=[]), SeqRecord(seq=Seq('cagagtgagtgagtgagtgagtgagagtgTAAACAGGTGACTCCAGCCCAGTGT...gta'), id='NT_187521.1', name='NT_187521.1', description='NT_187521.1 Homo sapiens chromosome 1 genomic scaffold, GRCh38.p14 alternate locus group ALT_REF_LOCI_1 HSCHR1_4_CTG32_1', dbxrefs=[]), SeqRecord(seq=Seq('ccaggctggagtgtagtggtggcactatcacagctcactgcagcctcgatctcg...TTC'), id='NT_187519.1', name='NT_187519.1', description='NT_187519.1 Homo sapiens chromosome 1 genomic scaffold, GRCh38.p14 alternate locus group ALT_REF_LOCI_1 HSCHR1_3_CTG32_1', dbxrefs=[]), SeqRecord(seq=Seq('gggaggccgaggcaggtggatcacgaggtcaggagatcgagaccatcctggcta...TTC'), id='NT_187516.1', name='NT_187516.1', description='NT_187516.1 Homo sapiens chromosome 1 genomic scaffold, GRCh38.p14 alternate locus group ALT_REF_LOCI_1 HSCHR1_1_CTG32_1', dbxrefs=[]), SeqRecord(seq=Seq('CACTGTGAGTCCAACATGGTTCTCCAAACTTACACATTATCTCATCAACCTACA...TTC'), id='NT_187518.1', name='NT_187518.1', description='NT_187518.1 Homo sapiens chromosome 1 genomic scaffold, GRCh38.p14 alternate locus group ALT_REF_LOCI_1 HSCHR1_2_CTG32_1', dbxrefs=[]), SeqRecord(seq=Seq('gtgcgtgtgtgtatgtctgtatatgtgtgtgcatgtgcgtgtgtttTTTGTGGC...atc'), id='NT_187525.1', name='NT_187525.1', description='NT_187525.1 Homo sapiens chromosome 2 genomic scaffold, GRCh38.p14 alternate locus group ALT_REF_LOCI_1 HSCHR2_2_CTG1', dbxrefs=[]), SeqRecord(seq=Seq('ATTATCTGtgatctaaaaatattattttcttgtatgtctttaaaaattattatg...GCA'), id='NT_187526.1', name='NT_187526.1', description='NT_187526.1 Homo sapiens chromosome 2 genomic scaffold, GRCh38.p14 alternate locus group ALT_REF_LOCI_1 HSCHR2_3_CTG1', dbxrefs=[]), SeqRecord(seq=Seq('GATCCTATGAAGTTCTAATTTTCCCAAAACCTAGAGGAAACATGTGCTTTGACA...TCA'), id='NT_187529.1', name='NT_187529.1', description='NT_187529.1 Homo sapiens chromosome 2 genomic scaffold, GRCh38.p14 alternate locus group ALT_REF_LOCI_1 HSCHR2_4_CTG1', dbxrefs=[]), SeqRecord(seq=Seq('GCACTTTCTTTCAAACCCTCTGTTGCTTGCCTTGCCGTTTGCTTCTCCCTCTGA...ATC'), id='NT_187522.1', name='NT_187522.1', description='NT_187522.1 Homo sapiens chromosome 2 genomic scaffold, GRCh38.p14 alternate locus group ALT_REF_LOCI_1 HSCHR2_1_CTG1', dbxrefs=[]), SeqRecord(seq=Seq('AGTCCTTATAGCAACCCTATCATTAACCTGActacacagatgagaaaactgaga...ttc'), id='NW_003315908.1', name='NW_003315908.1', description='NW_003315908.1 Homo sapiens chromosome 2 genomic scaffold, GRCh38.p14 alternate locus group ALT_REF_LOCI_1 HSCHR2_1_CTG5', dbxrefs=[]), SeqRecord(seq=Seq('GAATTCGATgtttccaatcaattccattcaatgatgctTCCATTCGAGGCTGTC...CAG'), id='NT_187524.1', name='NT_187524.1', description='NT_187524.1 Homo sapiens chromosome 2 genomic scaffold, GRCh38.p14 alternate locus group ALT_REF_LOCI_1 HSCHR2_1_CTG7', dbxrefs=[]), SeqRecord(seq=Seq('TGAGATAGACACAAAGAACTTATTATTCGCAGCAATAGCACTAGGCAGAATATC...GAT'), id='NT_187531.1', name='NT_187531.1', description='NT_187531.1 Homo sapiens chromosome 2 genomic scaffold, GRCh38.p14 alternate locus group ALT_REF_LOCI_1 HSCHR2_5_CTG7_2', dbxrefs=[]), SeqRecord(seq=Seq('GATCACACCAGCCtcctagtcagttctgatgagagaaTCTGGATACCTTAGTTG...AGA'), id='NT_187530.1', name='NT_187530.1', description='NT_187530.1 Homo sapiens chromosome 2 genomic scaffold, GRCh38.p14 alternate locus group ALT_REF_LOCI_1 HSCHR2_4_CTG7_2', dbxrefs=[]), SeqRecord(seq=Seq('GAATTCAATAGAAAATAACTTTGCAGAATAAAATCTCAGGTGTGTTTTTTTAGT...tAT'), id='NT_187528.1', name='NT_187528.1', description='NT_187528.1 Homo sapiens chromosome 2 genomic scaffold, GRCh38.p14 alternate locus group ALT_REF_LOCI_1 HSCHR2_3_CTG7_2', dbxrefs=[]), SeqRecord(seq=Seq('ataaacacacacagacatatatatcacacacatacagacacaccaCATAACATA...TAT'), id='NW_003571033.2', name='NW_003571033.2', description='NW_003571033.2 Homo sapiens chromosome 2 genomic scaffold, GRCh38.p14 alternate locus group ALT_REF_LOCI_1 HSCHR2_2_CTG7_2', dbxrefs=[]), SeqRecord(seq=Seq('aaaatataaaagattagattttattttctaaagtgaCCTTGTTCCACATTCCAG...CCC'), id='NW_003315909.1', name='NW_003315909.1', description='NW_003315909.1 Homo sapiens chromosome 2 genomic scaffold, GRCh38.p14 alternate locus group ALT_REF_LOCI_1 HSCHR2_1_CTG7_2', dbxrefs=[]), SeqRecord(seq=Seq('GAATTCCAAATTGTGGGTAACAAGGCCTCTCTAATTTGGCTAAAATTCCTTGCA...CAG'), id='NT_187527.1', name='NT_187527.1', description='NT_187527.1 Homo sapiens chromosome 2 genomic scaffold, GRCh38.p14 alternate locus group ALT_REF_LOCI_1 HSCHR2_3_CTG15', dbxrefs=[]), SeqRecord(seq=Seq('GAATTCTTCCCAAAGTCAGCTCTCTCACGCCACTACCTGGAATGCCTGGTTGAG...GCT'), id='NT_187523.1', name='NT_187523.1', description='NT_187523.1 Homo sapiens chromosome 2 genomic scaffold, GRCh38.p14 alternate locus group ALT_REF_LOCI_1 HSCHR2_1_CTG15', dbxrefs=[]), SeqRecord(seq=Seq('GAATTCAGTGTGCAAAGATGCTATTAGGTGGAGAGGAAATGGGGAAGGGAGcca...TGA'), id='NW_003871060.2', name='NW_003871060.2', description='NW_003871060.2 Homo sapiens chromosome 3 genomic scaffold, GRCh38.p14 alternate locus group ALT_REF_LOCI_1 HSCHR3_1_CTG1', dbxrefs=[]), SeqRecord(seq=Seq('ACTCCAATGTATTGCTAAAGGTGGTCGTATAAACCATTCTGTTTGCAATCTCCT...TTC'), id='NT_187535.1', name='NT_187535.1', description='NT_187535.1 Homo sapiens chromosome 3 genomic scaffold, GRCh38.p14 alternate locus group ALT_REF_LOCI_1 HSCHR3_3_CTG1', dbxrefs=[]), SeqRecord(seq=Seq('caggagttcgagacctgcctggccaacatggtgaaaccctgtctctactaaaaa...ATG'), id='NT_187537.1', name='NT_187537.1', description='NT_187537.1 Homo sapiens chromosome 3 genomic scaffold, GRCh38.p14 alternate locus group ALT_REF_LOCI_1 HSCHR3_4_CTG2_1', dbxrefs=[]), SeqRecord(seq=Seq('TCACTAATTTTCCATCTGAAGATGTACTTGACAATGATCTTACATGCACAATCT...CTA'), id='NW_003315913.1', name='NW_003315913.1', description='NW_003315913.1 Homo sapiens chromosome 3 genomic scaffold, GRCh38.p14 alternate locus group ALT_REF_LOCI_1 HSCHR3_1_CTG2_1', dbxrefs=[]), SeqRecord(seq=Seq('GAATTCAGgtgtaaagaaaaacaacaggCATTCAAGAAATACTGTACCCCTGAG...GCA'), id='NT_187533.1', name='NT_187533.1', description='NT_187533.1 Homo sapiens chromosome 3 genomic scaffold, GRCh38.p14 alternate locus group ALT_REF_LOCI_1 HSCHR3_2_CTG2_1', dbxrefs=[]), SeqRecord(seq=Seq('taataaagtaataaaaggaaattcataatgggtaaagaaaatcaaatgtataca...TTC'), id='NT_187536.1', name='NT_187536.1', description='NT_187536.1 Homo sapiens chromosome 3 genomic scaffold, GRCh38.p14 alternate locus group ALT_REF_LOCI_1 HSCHR3_3_CTG2_1', dbxrefs=[]), SeqRecord(seq=Seq('GAATTCTATATTGGCCCTGGCTTTCTTTCTGGGGGCGTTTCTGAGTCACAGTAT...GTG'), id='NT_187538.1', name='NT_187538.1', description='NT_187538.1 Homo sapiens chromosome 3 genomic scaffold, GRCh38.p14 alternate locus group ALT_REF_LOCI_1 HSCHR3_5_CTG2_1', dbxrefs=[]), SeqRecord(seq=Seq('CATTATAATAAAAACCTTTAAATGCTCTGAGTGCCCAGCGTCAGCATGGTGATA...ATT'), id='NT_187532.1', name='NT_187532.1', description='NT_187532.1 Homo sapiens chromosome 3 genomic scaffold, GRCh38.p14 alternate locus group ALT_REF_LOCI_1 HSCHR3_1_CTG3', dbxrefs=[]), SeqRecord(seq=Seq('GATCCATGAAGATACGTGAGGTCTCTTGCTGCTAGAGAGCGGTGCCAGTGTTGT...TGT'), id='NT_187534.1', name='NT_187534.1', description='NT_187534.1 Homo sapiens chromosome 3 genomic scaffold, GRCh38.p14 alternate locus group ALT_REF_LOCI_1 HSCHR3_2_CTG3', dbxrefs=[]), SeqRecord(seq=Seq('GAATTCCTAGAAACTGTTTTCCTTGTCTGCGGCCATTGTGCTGCTGCTACACAA...CAT'), id='NT_187539.1', name='NT_187539.1', description='NT_187539.1 Homo sapiens chromosome 3 genomic scaffold, GRCh38.p14 alternate locus group ALT_REF_LOCI_1 HSCHR3_9_CTG3', dbxrefs=[]), SeqRecord(seq=Seq('GAATTCATGACATAAACTTCATGAACGGACTTAACACACAGCATGTTCTATCAA...TTC'), id='NT_187540.1', name='NT_187540.1', description='NT_187540.1 Homo sapiens chromosome 4 genomic scaffold, GRCh38.p14 alternate locus group ALT_REF_LOCI_1 HSCHR4_1_CTG4', dbxrefs=[]), SeqRecord(seq=Seq('GAATTCCACTGCTGTAATTGTAAGTAAAAGTTCACTATTGTTGTCTAtgtcctc...gtt'), id='NW_003315915.1', name='NW_003315915.1', description='NW_003315915.1 Homo sapiens chromosome 4 genomic scaffold, GRCh38.p14 alternate locus group ALT_REF_LOCI_1 HSCHR4_1_CTG6', dbxrefs=[]), SeqRecord(seq=Seq('cagatatttacagaactgtctagccaacaactgcagaatatacattctattcat...agg'), id='NT_187541.1', name='NT_187541.1', description='NT_187541.1 Homo sapiens chromosome 4 genomic scaffold, GRCh38.p14 alternate locus group ALT_REF_LOCI_1 HSCHR4_1_CTG8_1', dbxrefs=[]), SeqRecord(seq=Seq('GTCATATGgtagtctatttttaatttctttaggaaacTCCATACAGTTTTTCAT...CTG'), id='NT_167250.2', name='NT_167250.2', description='NT_167250.2 Homo sapiens chromosome 4 genomic scaffold, GRCh38.p14 alternate locus group ALT_REF_LOCI_1 HSCHR4_1_CTG9', dbxrefs=[]), SeqRecord(seq=Seq('CTCCATTCTCCAAAAcattgagaaaatgaatttctattgtttaagccacccagt...TTC'), id='NT_187544.1', name='NT_187544.1', description='NT_187544.1 Homo sapiens chromosome 4 genomic scaffold, GRCh38.p14 alternate locus group ALT_REF_LOCI_1 HSCHR4_4_CTG12', dbxrefs=[]), SeqRecord(seq=Seq('GAATTCTCCCGTTTCAAGAATAATCtgagttttggaaaaaaaaaaaaaaagaaa...CAT'), id='NW_003315914.1', name='NW_003315914.1', description='NW_003315914.1 Homo sapiens chromosome 4 genomic scaffold, GRCh38.p14 alternate locus group ALT_REF_LOCI_1 HSCHR4_1_CTG12', dbxrefs=[]), SeqRecord(seq=Seq('TTTTCATGATGCCTGTCACATTCTGAAATGGAATGCAGTtaatttctctccttc...GGT'), id='NT_187542.1', name='NT_187542.1', description='NT_187542.1 Homo sapiens chromosome 4 genomic scaffold, GRCh38.p14 alternate locus group ALT_REF_LOCI_1 HSCHR4_2_CTG12', dbxrefs=[]), SeqRecord(seq=Seq('GAATTCCATTCAATCCATACCTGCATGTGCCTACCGTGAGTGAGGCTCTGAAAC...TTT'), id='NT_187545.1', name='NT_187545.1', description='NT_187545.1 Homo sapiens chromosome 4 genomic scaffold, GRCh38.p14 alternate locus group ALT_REF_LOCI_1 HSCHR4_5_CTG12', dbxrefs=[]), SeqRecord(seq=Seq('GAATTCCTgaactgttaaaaataataactctTGTTTGTGTCATTctccaaagtt...atc'), id='NT_187543.1', name='NT_187543.1', description='NT_187543.1 Homo sapiens chromosome 4 genomic scaffold, GRCh38.p14 alternate locus group ALT_REF_LOCI_1 HSCHR4_3_CTG12', dbxrefs=[]), SeqRecord(seq=Seq('GAATTCCATACCACAATCAGGCAGGATTTATTCTAGGTATGCACGGCTGGCTCA...CTG'), id='NT_187550.1', name='NT_187550.1', description='NT_187550.1 Homo sapiens chromosome 5 genomic scaffold, GRCh38.p14 alternate locus group ALT_REF_LOCI_1 HSCHR5_5_CTG1', dbxrefs=[]), SeqRecord(seq=Seq('AAAACCTCACTGGTGGCTTGACATGGTATTAATCAAGGAGAATGTTTGTTTCAT...TTC'), id='NT_187548.1', name='NT_187548.1', description='NT_187548.1 Homo sapiens chromosome 5 genomic scaffold, GRCh38.p14 alternate locus group ALT_REF_LOCI_1 HSCHR5_4_CTG1', dbxrefs=[]), SeqRecord(seq=Seq('GAATTCATTGTGGGCGTGATCGCTGATTCCATATTTGAAGGCAGCGTTTGGTTT...GAG'), id='NT_187547.1', name='NT_187547.1', description='NT_187547.1 Homo sapiens chromosome 5 genomic scaffold, GRCh38.p14 alternate locus group ALT_REF_LOCI_1 HSCHR5_3_CTG1', dbxrefs=[]), SeqRecord(seq=Seq('GAATTCCTTAAATTACTAACTTGCTAGAAGATTTTTTAATGAATCATTGTTGAA...TAA'), id='NW_003315920.1', name='NW_003315920.1', description='NW_003315920.1 Homo sapiens chromosome 5 genomic scaffold, GRCh38.p14 alternate locus group ALT_REF_LOCI_1 HSCHR5_1_CTG1', dbxrefs=[]), SeqRecord(seq=Seq('AAGCTTGAGtgtctttctaaaaatattgaaGTTCCTCTCCAGCATTTGAGATTA...CTT'), id='NW_003571036.1', name='NW_003571036.1', description='NW_003571036.1 Homo sapiens chromosome 5 genomic scaffold, GRCh38.p14 alternate locus group ALT_REF_LOCI_1 HSCHR5_2_CTG1', dbxrefs=[]), SeqRecord(seq=Seq('CACCAGACTAAGGATTGTAGAGGATACAATTAATTGGTAGCCTCAGTCTTCTCC...TTC'), id='NT_187551.1', name='NT_187551.1', description='NT_187551.1 Homo sapiens chromosome 5 genomic scaffold, GRCh38.p14 alternate locus group ALT_REF_LOCI_1 HSCHR5_6_CTG1', dbxrefs=[]), SeqRecord(seq=Seq('ACAATACTATATATAACCTAAGCATTATCACAGAACgtaatgtaactttttttt...atc'), id='NW_003315917.2', name='NW_003315917.2', description='NW_003315917.2 Homo sapiens chromosome 5 genomic scaffold, GRCh38.p14 alternate locus group ALT_REF_LOCI_1 HSCHR5_2_CTG1_1', dbxrefs=[]), SeqRecord(seq=Seq('AAGCTTGTGGGTAAGATGTAGgttctggagccaggctgcctgggctaGAATTTT...aat'), id='NW_003315918.1', name='NW_003315918.1', description='NW_003315918.1 Homo sapiens chromosome 5 genomic scaffold, GRCh38.p14 alternate locus group ALT_REF_LOCI_1 HSCHR5_3_CTG1_1', dbxrefs=[]), SeqRecord(seq=Seq('ATCGTCCTAAAGAAGCATGAGTTCCTCAAAGCAGAATCTGTGCCTCATCCACCT...act'), id='NT_187549.1', name='NT_187549.1', description='NT_187549.1 Homo sapiens chromosome 5 genomic scaffold, GRCh38.p14 alternate locus group ALT_REF_LOCI_1 HSCHR5_4_CTG1_1', dbxrefs=[]), SeqRecord(seq=Seq('GAATTCCATTCTGAGTACGTCTATTTTGGCATGTACCAAAAGAAGAGCTCTTCT...TTA'), id='NW_003315919.1', name='NW_003315919.1', description='NW_003315919.1 Homo sapiens chromosome 5 genomic scaffold, GRCh38.p14 alternate locus group ALT_REF_LOCI_1 HSCHR5_1_CTG5', dbxrefs=[]), SeqRecord(seq=Seq('TCCCCTTccctcagcctctggcaaccactattctactttctgtttctatgaatt...CTT'), id='NT_187546.1', name='NT_187546.1', description='NT_187546.1 Homo sapiens chromosome 5 genomic scaffold, GRCh38.p14 alternate locus group ALT_REF_LOCI_1 HSCHR5_2_CTG5', dbxrefs=[]), SeqRecord(seq=Seq('TGGCTGTAGGAAACCAGGTCTTTCCCTCCCAAGGGAGGTGAACTACAAGCTTCT...act'), id='NT_167244.2', name='NT_167244.2', description='NT_167244.2 Homo sapiens chromosome 6 genomic scaffold, GRCh38.p14 alternate locus group ALT_REF_LOCI_1 HSCHR6_MHC_APD_CTG1', dbxrefs=[]), SeqRecord(seq=Seq('GAGACATGAAAACccatacaaaggatcaatgaaaccAGAGTtagttctttgaaa...TTC'), id='NT_187555.1', name='NT_187555.1', description='NT_187555.1 Homo sapiens chromosome 6 genomic scaffold, GRCh38.p14 alternate locus group ALT_REF_LOCI_1 HSCHR6_1_CTG7', dbxrefs=[]), SeqRecord(seq=Seq('ACAATATACACAGAGCCCAGGAATTATTTCACATTGCCTAAATTACAAAGTTTG...CAG'), id='NT_187554.1', name='NT_187554.1', description='NT_187554.1 Homo sapiens chromosome 6 genomic scaffold, GRCh38.p14 alternate locus group ALT_REF_LOCI_1 HSCHR6_1_CTG6', dbxrefs=[]), SeqRecord(seq=Seq('GATCATTCTTATCATATTTTTTGGAAACATCTGAAATGAATGGAGCACTCCCTT...GGT'), id='NW_003315921.1', name='NW_003315921.1', description='NW_003315921.1 Homo sapiens chromosome 6 genomic scaffold, GRCh38.p14 alternate locus group ALT_REF_LOCI_1 HSCHR6_1_CTG2', dbxrefs=[]), SeqRecord(seq=Seq('TTAACTagaatcatgttttaaaaaattgatattaaaTGTGACACTTCAGAGCTA...ATC'), id='NT_187556.1', name='NT_187556.1', description='NT_187556.1 Homo sapiens chromosome 6 genomic scaffold, GRCh38.p14 alternate locus group ALT_REF_LOCI_1 HSCHR6_1_CTG8', dbxrefs=[]), SeqRecord(seq=Seq('GATCCTTATTAAGTTTAGTAAATTTTTGTAAAGTATCCAATGCAGCAACGCATG...ggT'), id='NT_187557.1', name='NT_187557.1', description='NT_187557.1 Homo sapiens chromosome 6 genomic scaffold, GRCh38.p14 alternate locus group ALT_REF_LOCI_1 HSCHR6_1_CTG9', dbxrefs=[]), SeqRecord(seq=Seq('ACGCTGGGGGGAAACGCCTGCAGCTGGCTCTTCCGGGCATCACTGAATTCCATG...GGC'), id='NW_004166862.2', name='NW_004166862.2', description='NW_004166862.2 Homo sapiens chromosome 6 genomic scaffold, GRCh38.p14 alternate locus group ALT_REF_LOCI_1 HSCHR6_1_CTG3', dbxrefs=[]), SeqRecord(seq=Seq('TCCCGCCTTTGTTCTCGGGTCGCCCCTCTCGCTGGTGGCGCTCCGAGAGAGCAG...act'), id='NT_187552.1', name='NT_187552.1', description='NT_187552.1 Homo sapiens chromosome 6 genomic scaffold, GRCh38.p14 alternate locus group ALT_REF_LOCI_1 HSCHR6_1_CTG4', dbxrefs=[]), SeqRecord(seq=Seq('GCTGGGGACGATCACAAAGCCTCTCTGGTGCCCGGCCAGCGACAGGGACCCTCG...ATC'), id='NT_187553.1', name='NT_187553.1', description='NT_187553.1 Homo sapiens chromosome 6 genomic scaffold, GRCh38.p14 alternate locus group ALT_REF_LOCI_1 HSCHR6_1_CTG5', dbxrefs=[]), SeqRecord(seq=Seq('CCCCAACCTGAACAAGGAAGGCCAAACTGATTCCCCAGGTCTGCCGTGCTCGGG...GAG'), id='NT_187558.1', name='NT_187558.1', description='NT_187558.1 Homo sapiens chromosome 7 genomic scaffold, GRCh38.p14 alternate locus group ALT_REF_LOCI_1 HSCHR7_1_CTG1', dbxrefs=[]), SeqRecord(seq=Seq('gatcacagctcactgcagccctgtcCTCCTGACCTCCTGTAATGAACAGGACCA...gtg'), id='NT_187561.1', name='NT_187561.1', description='NT_187561.1 Homo sapiens chromosome 7 genomic scaffold, GRCh38.p14 alternate locus group ALT_REF_LOCI_1 HSCHR7_2_CTG4_4', dbxrefs=[]), SeqRecord(seq=Seq('ATTTCAAATACGAtggattcattcaacaaattattgAGTACATACCACGTCCAT...TTC'), id='NT_187559.1', name='NT_187559.1', description='NT_187559.1 Homo sapiens chromosome 7 genomic scaffold, GRCh38.p14 alternate locus group ALT_REF_LOCI_1 HSCHR7_1_CTG4_4', dbxrefs=[]), SeqRecord(seq=Seq('CACTTTTTATTTCGACTTTTTGTAACACGTATTTGACTGTAGTTTCAGATATTC...aat'), id='NW_003315922.2', name='NW_003315922.2', description='NW_003315922.2 Homo sapiens chromosome 7 genomic scaffold, GRCh38.p14 alternate locus group ALT_REF_LOCI_1 HSCHR7_1_CTG6', dbxrefs=[]), SeqRecord(seq=Seq('GATCCCACAAATAGGTgaaaacatgtgatgtttgtctttatatgcctgacttat...ttc'), id='NT_187562.1', name='NT_187562.1', description='NT_187562.1 Homo sapiens chromosome 7 genomic scaffold, GRCh38.p14 alternate locus group ALT_REF_LOCI_1 HSCHR7_2_CTG6', dbxrefs=[]), SeqRecord(seq=Seq('GAATTCTTAATTGCATAAGACAGCCCCACACATTGCAGGACATGCTGCTGTCCT...TAT'), id='NT_187564.1', name='NT_187564.1', description='NT_187564.1 Homo sapiens chromosome 7 genomic scaffold, GRCh38.p14 alternate locus group ALT_REF_LOCI_1 HSCHR7_3_CTG6', dbxrefs=[]), SeqRecord(seq=Seq('GGATCTTGGCAGAGCCCTCACCATCTACCCATGCATACTGGGTCTTGGCAGAGC...CAG'), id='NT_187563.1', name='NT_187563.1', description='NT_187563.1 Homo sapiens chromosome 7 genomic scaffold, GRCh38.p14 alternate locus group ALT_REF_LOCI_1 HSCHR7_2_CTG7', dbxrefs=[]), SeqRecord(seq=Seq('CTCAGAGGGGCTGAGGCAACGGGAAGACCCACAGCTGTGAGACACGAGACCGCA...TTC'), id='NT_187560.1', name='NT_187560.1', description='NT_187560.1 Homo sapiens chromosome 7 genomic scaffold, GRCh38.p14 alternate locus group ALT_REF_LOCI_1 HSCHR7_1_CTG7', dbxrefs=[]), SeqRecord(seq=Seq('CATCCACTGCctgaaataaattacatttatagcCTAATTAACAGTGGTTTTCCA...TTC'), id='NT_187572.1', name='NT_187572.1', description='NT_187572.1 Homo sapiens chromosome 8 genomic scaffold, GRCh38.p14 alternate locus group ALT_REF_LOCI_1 HSCHR8_4_CTG1', dbxrefs=[]), SeqRecord(seq=Seq('CAAACAACCCAGGAATAATTCAGGAAATGACGAGAAACATATTTCACAGTGTTA...TTC'), id='NT_187568.1', name='NT_187568.1', description='NT_187568.1 Homo sapiens chromosome 8 genomic scaffold, GRCh38.p14 alternate locus group ALT_REF_LOCI_1 HSCHR8_2_CTG1', dbxrefs=[]), SeqRecord(seq=Seq('CGTGTTTGCAGATGTCACCTGTAATGGGGAGATTCTTAAATGGGACACATAGGC...CTT'), id='NT_187565.1', name='NT_187565.1', description='NT_187565.1 Homo sapiens chromosome 8 genomic scaffold, GRCh38.p14 alternate locus group ALT_REF_LOCI_1 HSCHR8_1_CTG1', dbxrefs=[]), SeqRecord(seq=Seq('TCTAACGAGATGGGGTGCAGCGTTCTAACGAGACGGGGTGCAGCGTCCGTTTGG...TTC'), id='NT_187576.1', name='NT_187576.1', description='NT_187576.1 Homo sapiens chromosome 8 genomic scaffold, GRCh38.p14 alternate locus group ALT_REF_LOCI_1 HSCHR8_8_CTG1', dbxrefs=[]), SeqRecord(seq=Seq('agctttcttctttcctcagccGGGAGGATTGCTGTCCTCCTCTTTATcattctc...TTC'), id='NT_187570.1', name='NT_187570.1', description='NT_187570.1 Homo sapiens chromosome 8 genomic scaffold, GRCh38.p14 alternate locus group ALT_REF_LOCI_1 HSCHR8_3_CTG1', dbxrefs=[]), SeqRecord(seq=Seq('agtttgctagtattttgttgaagatttttgcatctgtgttcataaaggatattg...CTT'), id='NT_187577.1', name='NT_187577.1', description='NT_187577.1 Homo sapiens chromosome 8 genomic scaffold, GRCh38.p14 alternate locus group ALT_REF_LOCI_1 HSCHR8_9_CTG1', dbxrefs=[]), SeqRecord(seq=Seq('AAAGCGTGGGTTgcaaagaagctcagtgagatcaacacaaagttgaaaatcaac...TTC'), id='NT_187566.1', name='NT_187566.1', description='NT_187566.1 Homo sapiens chromosome 8 genomic scaffold, GRCh38.p14 alternate locus group ALT_REF_LOCI_1 HSCHR8_1_CTG6', dbxrefs=[]), SeqRecord(seq=Seq('ATAATTATAGATGAGAgcaattgcttctttttttgttcttaccTTCATTTCAGT...TTC'), id='NT_187567.1', name='NT_187567.1', description='NT_187567.1 Homo sapiens chromosome 8 genomic scaffold, GRCh38.p14 alternate locus group ALT_REF_LOCI_1 HSCHR8_1_CTG7', dbxrefs=[]), SeqRecord(seq=Seq('ATTTAGGAAAAGATCTAGAGAAGTCAAGGTGGGGCCCGGAGGGGATGGGATCAG...TTC'), id='NT_187574.1', name='NT_187574.1', description='NT_187574.1 Homo sapiens chromosome 8 genomic scaffold, GRCh38.p14 alternate locus group ALT_REF_LOCI_1 HSCHR8_5_CTG7', dbxrefs=[]), SeqRecord(seq=Seq('CGGCCAGAGGGTCCGAGGGACACACAGGAGCACTGTGCCCGCCATGGGCGCTCC...GGC'), id='NT_187575.1', name='NT_187575.1', description='NT_187575.1 Homo sapiens chromosome 8 genomic scaffold, GRCh38.p14 alternate locus group ALT_REF_LOCI_1 HSCHR8_6_CTG7', dbxrefs=[]), SeqRecord(seq=Seq('CGTTGACTAAGAAGTGTTTAGAGGGAGAGCAGGGGCTTTAAAACAATATCTGCA...TTC'), id='NT_187573.1', name='NT_187573.1', description='NT_187573.1 Homo sapiens chromosome 8 genomic scaffold, GRCh38.p14 alternate locus group ALT_REF_LOCI_1 HSCHR8_4_CTG7', dbxrefs=[]), SeqRecord(seq=Seq('CCAGCCCCGACTGCACACAGGACTGGACTCTGCATTCTAGAACACTTCTGCCCA...TTC'), id='NT_187571.1', name='NT_187571.1', description='NT_187571.1 Homo sapiens chromosome 8 genomic scaffold, GRCh38.p14 alternate locus group ALT_REF_LOCI_1 HSCHR8_3_CTG7', dbxrefs=[]), SeqRecord(seq=Seq('CTTGTGTCTGTCCTAAGCTCAGCCCACCACCAGTTTGTAGGAATTCCATGCCCC...atc'), id='NT_187569.1', name='NT_187569.1', description='NT_187569.1 Homo sapiens chromosome 8 genomic scaffold, GRCh38.p14 alternate locus group ALT_REF_LOCI_1 HSCHR8_2_CTG7', dbxrefs=[]), SeqRecord(seq=Seq('TCGTAACCCAGCAAACCAAACAGCCCAAACcaaatcaaataaatttttttcttt...ttc'), id='NW_003315928.1', name='NW_003315928.1', description='NW_003315928.1 Homo sapiens chromosome 9 genomic scaffold, GRCh38.p14 alternate locus group ALT_REF_LOCI_1 HSCHR9_1_CTG1', dbxrefs=[]), SeqRecord(seq=Seq('AACCCTCTGTGCCCGTTTCCTCCtgtataaaatggagacaatgatAATACAGGA...TTC'), id='NW_003315929.1', name='NW_003315929.1', description='NW_003315929.1 Homo sapiens chromosome 9 genomic scaffold, GRCh38.p14 alternate locus group ALT_REF_LOCI_1 HSCHR9_1_CTG2', dbxrefs=[]), SeqRecord(seq=Seq('AAACACTGAGGGCAGGAAAAGATGGATGTCTGTGCTCTAGCAATCAGGTAAGAA...TTC'), id='NW_003315930.1', name='NW_003315930.1', description='NW_003315930.1 Homo sapiens chromosome 9 genomic scaffold, GRCh38.p14 alternate locus group ALT_REF_LOCI_1 HSCHR9_1_CTG3', dbxrefs=[]), SeqRecord(seq=Seq('TTACTGCAGCCTGTGAAGGCCAGAGCAAGAGGCGTGGCCGTGGAAAGTGCAGGA...ata'), id='NW_003315931.1', name='NW_003315931.1', description='NW_003315931.1 Homo sapiens chromosome 9 genomic scaffold, GRCh38.p14 alternate locus group ALT_REF_LOCI_1 HSCHR9_1_CTG4', dbxrefs=[]), SeqRecord(seq=Seq('ctttttaaaaatgtttttattaaacatttataaaaacatatttttattaaagtt...gaa'), id='NT_187578.1', name='NT_187578.1', description='NT_187578.1 Homo sapiens chromosome 9 genomic scaffold, GRCh38.p14 alternate locus group ALT_REF_LOCI_1 HSCHR9_1_CTG5', dbxrefs=[]), SeqRecord(seq=Seq('CCTAACCAGTTACTTAATTTATGTGGTCCTTAAGATGAAAACAGATCAGATCTT...AAA'), id='NW_003315934.1', name='NW_003315934.1', description='NW_003315934.1 Homo sapiens chromosome 10 genomic scaffold, GRCh38.p14 alternate locus group ALT_REF_LOCI_1 HSCHR10_1_CTG1', dbxrefs=[]), SeqRecord(seq=Seq('aatggaatcatcatccaatggaaactaatggaatcaacatcgaatggaatcgaa...TCC'), id='NT_187579.1', name='NT_187579.1', description='NT_187579.1 Homo sapiens chromosome 10 genomic scaffold, GRCh38.p14 alternate locus group ALT_REF_LOCI_1 HSCHR10_1_CTG3', dbxrefs=[]), SeqRecord(seq=Seq('GATAACTAAAAGTGCTTGTTACAATGTCTCaacttataatttataaatataatt...TTC'), id='NW_003315935.1', name='NW_003315935.1', description='NW_003315935.1 Homo sapiens chromosome 10 genomic scaffold, GRCh38.p14 alternate locus group ALT_REF_LOCI_1 HSCHR10_1_CTG2', dbxrefs=[]), SeqRecord(seq=Seq('CTGACCAGGCCTCCTCCAAACCATCCAGGTCATCAGAGACAAGGAGAGTCTGAG...TTC'), id='NT_187586.1', name='NT_187586.1', description='NT_187586.1 Homo sapiens chromosome 11 genomic scaffold, GRCh38.p14 alternate locus group ALT_REF_LOCI_1 HSCHR11_1_CTG8', dbxrefs=[]), SeqRecord(seq=Seq('AATTCACCGAGATAAGCGGAGGTTTTGGTCAACGTTCCATCAGCGTGTAAAGGG...TTC'), id='NT_187584.1', name='NT_187584.1', description='NT_187584.1 Homo sapiens chromosome 11 genomic scaffold, GRCh38.p14 alternate locus group ALT_REF_LOCI_1 HSCHR11_1_CTG6', dbxrefs=[]), SeqRecord(seq=Seq('GAATTCACAAGTGTTTCCAGAGGAAGTTGTGTGAAAGGTGGCTAGAGGACCAGA...TAG'), id='NT_187585.1', name='NT_187585.1', description='NT_187585.1 Homo sapiens chromosome 11 genomic scaffold, GRCh38.p14 alternate locus group ALT_REF_LOCI_1 HSCHR11_1_CTG7', dbxrefs=[]), SeqRecord(seq=Seq('GAATTCTTTGACTATGTGAATTCTGAGGGATAATAAACCAATAGTTGAGAACCT...ATG'), id='NT_187583.1', name='NT_187583.1', description='NT_187583.1 Homo sapiens chromosome 11 genomic scaffold, GRCh38.p14 alternate locus group ALT_REF_LOCI_1 HSCHR11_1_CTG5', dbxrefs=[]), SeqRecord(seq=Seq('GAAttcccttctcttttatttttgaaaatagtttcaGGAGGCTTGTTATTAATT...CTT'), id='NW_003315936.1', name='NW_003315936.1', description='NW_003315936.1 Homo sapiens chromosome 11 genomic scaffold, GRCh38.p14 alternate locus group ALT_REF_LOCI_1 HSCHR11_1_CTG1_1', dbxrefs=[]), SeqRecord(seq=Seq('GAATTCATTCACTACTGTCAGATTGTGTTTGTCCATTCAAGTAATTCAGGGAAC...AAA'), id='NW_003871073.1', name='NW_003871073.1', description='NW_003871073.1 Homo sapiens chromosome 11 genomic scaffold, GRCh38.p14 alternate locus group ALT_REF_LOCI_1 HG142_HG150_NOVEL_TEST', dbxrefs=[]), SeqRecord(seq=Seq('CTTTTAGTATATATTTTCCATAAGAGCAATTCTCAAATTCCTTTATTTGTGGTA...TTC'), id='NW_003871074.1', name='NW_003871074.1', description='NW_003871074.1 Homo sapiens chromosome 11 genomic scaffold, GRCh38.p14 alternate locus group ALT_REF_LOCI_1 HG151_NOVEL_TEST', dbxrefs=[]), SeqRecord(seq=Seq('TAATAAACCATAACTGTAACCATTACAACTTTCAGTGGGTTGTTGAAATGGAGG...CAT'), id='NT_187582.1', name='NT_187582.1', description='NT_187582.1 Homo sapiens chromosome 11 genomic scaffold, GRCh38.p14 alternate locus group ALT_REF_LOCI_1 HSCHR11_1_CTG3', dbxrefs=[]), SeqRecord(seq=Seq('agtaggaggaggaggaggaggagataatTAAGCTATTACCATCTCAAATAAACA...GCT'), id='NT_187581.1', name='NT_187581.1', description='NT_187581.1 Homo sapiens chromosome 11 genomic scaffold, GRCh38.p14 alternate locus group ALT_REF_LOCI_1 HSCHR11_1_CTG2', dbxrefs=[]), SeqRecord(seq=Seq('ctaaccctaaccctaaccctaaccctaaccctaaccctaaccctaaccctaacc...AGA'), id='NW_003571049.1', name='NW_003571049.1', description='NW_003571049.1 Homo sapiens chromosome 12 genomic scaffold, GRCh38.p14 alternate locus group ALT_REF_LOCI_1 HSCHR12_1_CTG1', dbxrefs=[]), SeqRecord(seq=Seq('ACTATGAAAATGCCCTCTACTCTTGATAGTTGATATTAGGATATTAATTTCTAT...ATA'), id='NW_003571050.1', name='NW_003571050.1', description='NW_003571050.1 Homo sapiens chromosome 12 genomic scaffold, GRCh38.p14 alternate locus group ALT_REF_LOCI_1 HSCHR12_2_CTG2', dbxrefs=[]), SeqRecord(seq=Seq('ctgaccccttgcacttcccgggtgaggcaatgccttgccctgcttcagctcatg...aac'), id='NT_187588.1', name='NT_187588.1', description='NT_187588.1 Homo sapiens chromosome 12 genomic scaffold, GRCh38.p14 alternate locus group ALT_REF_LOCI_1 HSCHR12_5_CTG2', dbxrefs=[]), SeqRecord(seq=Seq('AATTCTCCTTGGGATACTAGTGTGTGAGTACAGGGTTACTTCTCCCTAGCTAAC...ATC'), id='NW_003315938.1', name='NW_003315938.1', description='NW_003315938.1 Homo sapiens chromosome 12 genomic scaffold, GRCh38.p14 alternate locus group ALT_REF_LOCI_1 HSCHR12_1_CTG2', dbxrefs=[]), SeqRecord(seq=Seq('TCTTTCTTTGTATATGGAAGAATTTAACTCTGTGTTCCATAATGTCTAAATACT...TTC'), id='NT_187587.1', name='NT_187587.1', description='NT_187587.1 Homo sapiens chromosome 12 genomic scaffold, GRCh38.p14 alternate locus group ALT_REF_LOCI_1 HSCHR12_4_CTG2', dbxrefs=[]), SeqRecord(seq=Seq('AATTCAGGGGAGAAAAAGATGACAGGAGCTAAATTTGGATCTTTCTCATAAATA...ATG'), id='NW_003315939.2', name='NW_003315939.2', description='NW_003315939.2 Homo sapiens chromosome 12 genomic scaffold, GRCh38.p14 alternate locus group ALT_REF_LOCI_1 HSCHR12_1_CTG2_1', dbxrefs=[]), SeqRecord(seq=Seq('catttttgaatttttattatcatCCAATATTGAGAGCTCTAATTATGATTTTAT...cgc'), id='NW_003315941.1', name='NW_003315941.1', description='NW_003315941.1 Homo sapiens chromosome 12 genomic scaffold, GRCh38.p14 alternate locus group ALT_REF_LOCI_1 HSCHR12_2_CTG2_1', dbxrefs=[]), SeqRecord(seq=Seq('GAATTCAGTCACAAGGCTacatctagctgcaagggaggctgggaaacgTCACCT...AGA'), id='NW_003315942.2', name='NW_003315942.2', description='NW_003315942.2 Homo sapiens chromosome 12 genomic scaffold, GRCh38.p14 alternate locus group ALT_REF_LOCI_1 HSCHR12_3_CTG2_1', dbxrefs=[]), SeqRecord(seq=Seq('CTTTTCTTGTTGTTTTAGATCCTTGTAGTCAACCTCTTGTTTGTGAATTTCAGG...ACA'), id='NT_187590.1', name='NT_187590.1', description='NT_187590.1 Homo sapiens chromosome 12 genomic scaffold, GRCh38.p14 alternate locus group ALT_REF_LOCI_1 HSCHR12_6_CTG2_1', dbxrefs=[]), SeqRecord(seq=Seq('TGTGTGGTGTGAAAGTAGACAGACAACCAGGTAAACAAataggcatggctgtgt...TGA'), id='NW_003315940.1', name='NW_003315940.1', description='NW_003315940.1 Homo sapiens chromosome 12 genomic scaffold, GRCh38.p14 alternate locus group ALT_REF_LOCI_1 HSCHR12_4_CTG2_1', dbxrefs=[]), SeqRecord(seq=Seq('CTTTATATCTTTTAGATGCTATTCCGTCATCAGattatttataagtattttctc...AGA'), id='NT_187589.1', name='NT_187589.1', description='NT_187589.1 Homo sapiens chromosome 12 genomic scaffold, GRCh38.p14 alternate locus group ALT_REF_LOCI_1 HSCHR12_5_CTG2_1', dbxrefs=[]), SeqRecord(seq=Seq('CACTGCTGCTTGTGGGTTGTGTGATATACGTGCATATATGCGTGcatctgtgtg...CCT'), id='NT_187591.1', name='NT_187591.1', description='NT_187591.1 Homo sapiens chromosome 12 genomic scaffold, GRCh38.p14 alternate locus group ALT_REF_LOCI_1 HSCHR12_7_CTG2_1', dbxrefs=[]), SeqRecord(seq=Seq('GTTGGTTTTTGGATTGTGAATCAGTGACTGATCAGTCCTTGTTTTCAAGTTGTG...ACC'), id='NT_187594.1', name='NT_187594.1', description='NT_187594.1 Homo sapiens chromosome 13 genomic scaffold, GRCh38.p14 alternate locus group ALT_REF_LOCI_1 HSCHR13_1_CTG3', dbxrefs=[]), SeqRecord(seq=Seq('GAATTCATTATTTTAGCTCTAACTGCAGAAGAAAATGTTCTTCCACAAGGACAG...TAC'), id='NT_187593.1', name='NT_187593.1', description='NT_187593.1 Homo sapiens chromosome 13 genomic scaffold, GRCh38.p14 alternate locus group ALT_REF_LOCI_1 HSCHR13_1_CTG2', dbxrefs=[]), SeqRecord(seq=Seq('TGGAACCAATTGATCccataaagcaactacacaattgAGACAACAAAGCAACTA...GGC'), id='NT_187597.1', name='NT_187597.1', description='NT_187597.1 Homo sapiens chromosome 13 genomic scaffold, GRCh38.p14 alternate locus group ALT_REF_LOCI_1 HSCHR13_1_CTG6', dbxrefs=[]), SeqRecord(seq=Seq('AATAGCATAAATAACTTACATAGCAGACACTATATGTGACCGAATCTTACTTTC...TTC'), id='NT_187595.1', name='NT_187595.1', description='NT_187595.1 Homo sapiens chromosome 13 genomic scaffold, GRCh38.p14 alternate locus group ALT_REF_LOCI_1 HSCHR13_1_CTG4', dbxrefs=[]), SeqRecord(seq=Seq('GTAGGGACGACCTAGATGGAATCGGAGGGCATTGGGAGCATTCAGCACAGAGGC...TTC'), id='NT_187592.1', name='NT_187592.1', description='NT_187592.1 Homo sapiens chromosome 13 genomic scaffold, GRCh38.p14 alternate locus group ALT_REF_LOCI_1 HSCHR13_1_CTG1', dbxrefs=[]), SeqRecord(seq=Seq('TACCCATGGCGATGAGGAGTACCCATGGCGATGAGGACCCATGGCGATGAGGAG...AAT'), id='NT_187596.1', name='NT_187596.1', description='NT_187596.1 Homo sapiens chromosome 13 genomic scaffold, GRCh38.p14 alternate locus group ALT_REF_LOCI_1 HSCHR13_1_CTG5', dbxrefs=[]), SeqRecord(seq=Seq('ACTATCCTAAAAAAATGGCTACGATAAATGGGATAAAAAGATGTTTTAATCAGT...GAA'), id='NT_187598.1', name='NT_187598.1', description='NT_187598.1 Homo sapiens chromosome 14 genomic scaffold, GRCh38.p14 alternate locus group ALT_REF_LOCI_1 HSCHR14_1_CTG1', dbxrefs=[]), SeqRecord(seq=Seq('CAGGGAAGAGTGTGAGGAATGGGGATCTGGACAGAGGAAAGggcacgtgcaaag...TGA'), id='NT_187601.1', name='NT_187601.1', description='NT_187601.1 Homo sapiens chromosome 14 genomic scaffold, GRCh38.p14 alternate locus group ALT_REF_LOCI_1 HSCHR14_7_CTG1', dbxrefs=[]), SeqRecord(seq=Seq('ATTGCTGTCAGACCTGacttataagaaatgttaaataaagtcctttatgcagaa...TTC'), id='NT_187599.1', name='NT_187599.1', description='NT_187599.1 Homo sapiens chromosome 14 genomic scaffold, GRCh38.p14 alternate locus group ALT_REF_LOCI_1 HSCHR14_2_CTG1', dbxrefs=[]), SeqRecord(seq=Seq('TACACCAGCAGAGACCTCCCTGCCCTGCGGCCACCAGGAATCCATGCAGCGTGC...TTC'), id='NT_187600.1', name='NT_187600.1', description='NT_187600.1 Homo sapiens chromosome 14 genomic scaffold, GRCh38.p14 alternate locus group ALT_REF_LOCI_1 HSCHR14_3_CTG1', dbxrefs=[]), SeqRecord(seq=Seq('GAATTCTTTGTCTGACAAAATTACCAATGGTGCTTACATAAGCAATAGCCTACA...TTC'), id='NT_187602.1', name='NT_187602.1', description='NT_187602.1 Homo sapiens chromosome 15 genomic scaffold, GRCh38.p14 alternate locus group ALT_REF_LOCI_1 HSCHR15_1_CTG1', dbxrefs=[]), SeqRecord(seq=Seq('GAATTCCTAAtctcctatttatttatatttttgtgaattgGAATTAACCCTTTA...caa'), id='NT_187604.1', name='NT_187604.1', description='NT_187604.1 Homo sapiens chromosome 15 genomic scaffold, GRCh38.p14 alternate locus group ALT_REF_LOCI_1 HSCHR15_3_CTG3', dbxrefs=[]), SeqRecord(seq=Seq('GAATTCAGCCACATGTGGGTGGGACGCGGAGATCAGAGGCAAGCACAAGCACTT...TTC'), id='NT_187603.1', name='NT_187603.1', description='NT_187603.1 Homo sapiens chromosome 15 genomic scaffold, GRCh38.p14 alternate locus group ALT_REF_LOCI_1 HSCHR15_1_CTG3', dbxrefs=[]), SeqRecord(seq=Seq('TTTTTTGGAAGGTAGACACTGGACTCCTGGAAGGACATGCACTGTGGAAGCCTC...TTC'), id='NW_003315943.1', name='NW_003315943.1', description='NW_003315943.1 Homo sapiens chromosome 15 genomic scaffold, GRCh38.p14 alternate locus group ALT_REF_LOCI_1 HSCHR15_1_CTG8', dbxrefs=[]), SeqRecord(seq=Seq('GAATTCTTGGCCATGGTCTTGAGGAGAGAGACCCTGGGGTCTCAGACTGCCATA...CTT'), id='NT_187605.1', name='NT_187605.1', description='NT_187605.1 Homo sapiens chromosome 15 genomic scaffold, GRCh38.p14 alternate locus group ALT_REF_LOCI_1 HSCHR15_3_CTG8', dbxrefs=[]), SeqRecord(seq=Seq('AGAACATTCACCCTTCCTGGTATTACTGGACCCAGGGACCTGCAGGGATTGGTA...TTC'), id='NW_003315944.2', name='NW_003315944.2', description='NW_003315944.2 Homo sapiens chromosome 15 genomic scaffold, GRCh38.p14 alternate locus group ALT_REF_LOCI_1 HSCHR15_2_CTG8', dbxrefs=[]), SeqRecord(seq=Seq('GAATTCcagaagcagaagagaaagaaacaggagaaatatttgaaacaataatga...ttc'), id='NT_187606.1', name='NT_187606.1', description='NT_187606.1 Homo sapiens chromosome 15 genomic scaffold, GRCh38.p14 alternate locus group ALT_REF_LOCI_1 HSCHR15_5_CTG8', dbxrefs=[]), SeqRecord(seq=Seq('CCGCCAAAGGAGAAGCTGCCTTCCCGGGGAAGGGGCAGAGAGGGGCCGGCGGGC...GCT'), id='NT_187610.1', name='NT_187610.1', description='NT_187610.1 Homo sapiens chromosome 16 genomic scaffold, GRCh38.p14 alternate locus group ALT_REF_LOCI_1 HSCHR16_CTG2', dbxrefs=[]), SeqRecord(seq=Seq('gtatggtggcgcacgcctctaatccctgctactcgggaggctgaggcaggggaa...ATC'), id='NT_187609.1', name='NT_187609.1', description='NT_187609.1 Homo sapiens chromosome 16 genomic scaffold, GRCh38.p14 alternate locus group ALT_REF_LOCI_1 HSCHR16_4_CTG1', dbxrefs=[]), SeqRecord(seq=Seq('CAAGTGTGGGAAGAGCtataaaaggaagaaacaggcctggcgcggtggctcacg...cca'), id='NT_187608.1', name='NT_187608.1', description='NT_187608.1 Homo sapiens chromosome 16 genomic scaffold, GRCh38.p14 alternate locus group ALT_REF_LOCI_1 HSCHR16_3_CTG1', dbxrefs=[]), SeqRecord(seq=Seq('CAGCTCTGCCACTGACCCTGACCTCCAGTGCAGGTTACTGAACCcgcctgagcc...TTC'), id='NT_187607.1', name='NT_187607.1', description='NT_187607.1 Homo sapiens chromosome 16 genomic scaffold, GRCh38.p14 alternate locus group ALT_REF_LOCI_1 HSCHR16_1_CTG1', dbxrefs=[]), SeqRecord(seq=Seq('GAATTCCTCTGGGGTGGTCTGATGGCTTGTCCATGCCCAAGAAGGAGGCGACAG...TTC'), id='NW_003315945.1', name='NW_003315945.1', description='NW_003315945.1 Homo sapiens chromosome 16 genomic scaffold, GRCh38.p14 alternate locus group ALT_REF_LOCI_1 HSCHR16_1_CTG3_1', dbxrefs=[]), SeqRecord(seq=Seq('GAATTCTCATTAGTAAGTGTAGTAGGCATGAGATAAATAGAAAATCATCATTAA...TGT'), id='NW_003315946.1', name='NW_003315946.1', description='NW_003315946.1 Homo sapiens chromosome 16 genomic scaffold, GRCh38.p14 alternate locus group ALT_REF_LOCI_1 HSCHR16_2_CTG3_1', dbxrefs=[]), SeqRecord(seq=Seq('GATCATGCAGCTCTTCCAGGCCCACTGCTTCTTCCTGTCCACTAGGCCACAGCC...CCA'), id='NW_003315952.3', name='NW_003315952.3', description='NW_003315952.3 Homo sapiens chromosome 17 genomic scaffold, GRCh38.p14 alternate locus group ALT_REF_LOCI_1 HSCHR17_1_CTG1', dbxrefs=[]), SeqRecord(seq=Seq('aggtgtgagccaccacgcctggccaattaactcgatttttttttttttttgaga...TTC'), id='NT_187613.1', name='NT_187613.1', description='NT_187613.1 Homo sapiens chromosome 17 genomic scaffold, GRCh38.p14 alternate locus group ALT_REF_LOCI_1 HSCHR17_2_CTG2', dbxrefs=[]), SeqRecord(seq=Seq('cacctcccgggttcatgccattctcctgcctcagcctcccaagtagctgggact...TTC'), id='NT_187611.1', name='NT_187611.1', description='NT_187611.1 Homo sapiens chromosome 17 genomic scaffold, GRCh38.p14 alternate locus group ALT_REF_LOCI_1 HSCHR17_1_CTG2', dbxrefs=[]), SeqRecord(seq=Seq('AGGAATCCCAGCTATTCTTGGCCAGACAGCAGGAGCTTTGGGAATGCCTCGTGT...CTT'), id='NT_187614.1', name='NT_187614.1', description='NT_187614.1 Homo sapiens chromosome 17 genomic scaffold, GRCh38.p14 alternate locus group ALT_REF_LOCI_1 HSCHR17_7_CTG4', dbxrefs=[]), SeqRecord(seq=Seq('AATTTCATATGACGCAAGCATATTTTAAATAGAGTAACCAAAACAAATAGATTC...ttc'), id='NW_003871091.1', name='NW_003871091.1', description='NW_003871091.1 Homo sapiens chromosome 17 genomic scaffold, GRCh38.p14 alternate locus group ALT_REF_LOCI_1 HSCHR17_4_CTG4', dbxrefs=[]), SeqRecord(seq=Seq('CAAGAAACTCACTCTCTGGTGGGCAGCAAGACAATTATGACATTCCTTTGTGCC...AGT'), id='NW_003871092.1', name='NW_003871092.1', description='NW_003871092.1 Homo sapiens chromosome 17 genomic scaffold, GRCh38.p14 alternate locus group ALT_REF_LOCI_1 HSCHR17_5_CTG4', dbxrefs=[]), SeqRecord(seq=Seq('GATCATCCACAGCTTAACACCCATAGGAAATGGTCCCCTGAGAGACACAGAGGA...TCT'), id='NW_003315953.2', name='NW_003315953.2', description='NW_003315953.2 Homo sapiens chromosome 17 genomic scaffold, GRCh38.p14 alternate locus group ALT_REF_LOCI_1 HSCHR17_1_CTG4', dbxrefs=[]), SeqRecord(seq=Seq('TTTCTAGCACCTAGCAGACATGGCCCATTTGACACACTTGGCAAATGTTCCTGA...TTC'), id='NT_167251.2', name='NT_167251.2', description='NT_167251.2 Homo sapiens chromosome 17 genomic scaffold, GRCh38.p14 alternate locus group ALT_REF_LOCI_1 HSCHR17_1_CTG5', dbxrefs=[]), SeqRecord(seq=Seq('CAATGTTTTCTGTTATATGAGTGATTAAAGTAATTTGACCTTTGACTGGAGGGC...tTC'), id='NW_003315954.1', name='NW_003315954.1', description='NW_003315954.1 Homo sapiens chromosome 17 genomic scaffold, GRCh38.p14 alternate locus group ALT_REF_LOCI_1 HSCHR17_2_CTG4', dbxrefs=[]), SeqRecord(seq=Seq('ttttagaaatatttatttaggccgggtgtggtggctcacgcctgtaatcgcagc...TTA'), id='NT_187615.1', name='NT_187615.1', description='NT_187615.1 Homo sapiens chromosome 17 genomic scaffold, GRCh38.p14 alternate locus group ALT_REF_LOCI_1 HSCHR17_8_CTG4', dbxrefs=[]), SeqRecord(seq=Seq('AGATATTCAGATATTCAGACCTTAAGAATGCACTTTATCCTTATCACAAAGCAG...ccc'), id='NT_187616.1', name='NT_187616.1', description='NT_187616.1 Homo sapiens chromosome 17 genomic scaffold, GRCh38.p14 alternate locus group ALT_REF_LOCI_1 HSCHR17_9_CTG4', dbxrefs=[]), SeqRecord(seq=Seq('CTATACAGTACCAAGGGAGGATGGTGCATTAGTCCATCCTCATTCTGctaataa...TTC'), id='NW_003315955.1', name='NW_003315955.1', description='NW_003315955.1 Homo sapiens chromosome 17 genomic scaffold, GRCh38.p14 alternate locus group ALT_REF_LOCI_1 HSCHR17_3_CTG4', dbxrefs=[]), SeqRecord(seq=Seq('GATCAGAGGGGTGGGGCGCCGAGGAGACGGAGATCCAGAGGGGCGGGGCGCCGA...GTC'), id='NT_187612.1', name='NT_187612.1', description='NT_187612.1 Homo sapiens chromosome 17 genomic scaffold, GRCh38.p14 alternate locus group ALT_REF_LOCI_1 HSCHR17_1_CTG9', dbxrefs=[]), SeqRecord(seq=Seq('GAATTCCTTAGAGAGAACTTTGCTCCctacataaaaaacaaacaaacaaaaccc...CTT'), id='NT_187618.1', name='NT_187618.1', description='NT_187618.1 Homo sapiens chromosome 18 genomic scaffold, GRCh38.p14 alternate locus group ALT_REF_LOCI_1 HSCHR18_4_CTG1_1', dbxrefs=[]), SeqRecord(seq=Seq('TGTTTTTTGGACCAGTCtgaaaatcattctattataatgaCTATTAAATTCATT...TTC'), id='NW_003315956.1', name='NW_003315956.1', description='NW_003315956.1 Homo sapiens chromosome 18 genomic scaffold, GRCh38.p14 alternate locus group ALT_REF_LOCI_1 HSCHR18_1_CTG1_1', dbxrefs=[]), SeqRecord(seq=Seq('GAATTccctaaaaccagacaaaatatttgtagaaaaattaatatttaacctTAG...TAA'), id='NW_003315959.1', name='NW_003315959.1', description='NW_003315959.1 Homo sapiens chromosome 18 genomic scaffold, GRCh38.p14 alternate locus group ALT_REF_LOCI_1 HSCHR18_2_CTG1_1', dbxrefs=[]), SeqRecord(seq=Seq('AACATCAAGGTGGTTACCAAGTAATGGAGAGCCATCAGCAACACTTAGTTTTTA...tTC'), id='NW_003315960.1', name='NW_003315960.1', description='NW_003315960.1 Homo sapiens chromosome 18 genomic scaffold, GRCh38.p14 alternate locus group ALT_REF_LOCI_1 HSCHR18_2_CTG2', dbxrefs=[]), SeqRecord(seq=Seq('gaattcactcactatcatgataaaagcatgaagaaatcttcccccatgatccaa...AGT'), id='NW_003315957.1', name='NW_003315957.1', description='NW_003315957.1 Homo sapiens chromosome 18 genomic scaffold, GRCh38.p14 alternate locus group ALT_REF_LOCI_1 HSCHR18_1_CTG2', dbxrefs=[]), SeqRecord(seq=Seq('AGTGAGTCACCATCCCCTTCATTGTGTCACCGTCCCCCTCAGTGTGTCACCATC...TTC'), id='NW_003315958.1', name='NW_003315958.1', description='NW_003315958.1 Homo sapiens chromosome 18 genomic scaffold, GRCh38.p14 alternate locus group ALT_REF_LOCI_1 HSCHR18_1_CTG2_1', dbxrefs=[]), SeqRecord(seq=Seq('TGGTTCTCCTCCCTGTAGACTTTGCAGCCAGACTCTTCGATGAAAAACTGTCCT...TTC'), id='NW_003315961.1', name='NW_003315961.1', description='NW_003315961.1 Homo sapiens chromosome 18 genomic scaffold, GRCh38.p14 alternate locus group ALT_REF_LOCI_1 HSCHR18_2_CTG2_1', dbxrefs=[]), SeqRecord(seq=Seq('cagggctcaagcaatcctcccacctctgcttcctgaagtgctaggattataggc...TTC'), id='NT_187617.1', name='NT_187617.1', description='NT_187617.1 Homo sapiens chromosome 18 genomic scaffold, GRCh38.p14 alternate locus group ALT_REF_LOCI_1 HSCHR18_3_CTG2_1', dbxrefs=[]), SeqRecord(seq=Seq('ACCCCCTCCGGCCTCCCCGCCccctccaggcccccagcccccgACCCCCAGCCC...AGG'), id='NT_187622.1', name='NT_187622.1', description='NT_187622.1 Homo sapiens chromosome 19 genomic scaffold, GRCh38.p14 alternate locus group ALT_REF_LOCI_1 HSCHR19_5_CTG2', dbxrefs=[]), SeqRecord(seq=Seq('CCAGCTGCCCCCACTGGGGGTCTGTGGAATGGACGGTCCATGGCACCTGCCCCA...ACC'), id='NT_187621.1', name='NT_187621.1', description='NT_187621.1 Homo sapiens chromosome 19 genomic scaffold, GRCh38.p14 alternate locus group ALT_REF_LOCI_1 HSCHR19_4_CTG2', dbxrefs=[]), SeqRecord(seq=Seq('GTTTACCCTTAAAGGTATTGTGTGCgtgtcttttcttctcccctcatGTGTTTC...ttc'), id='NW_003315962.1', name='NW_003315962.1', description='NW_003315962.1 Homo sapiens chromosome 19 genomic scaffold, GRCh38.p14 alternate locus group ALT_REF_LOCI_1 HSCHR19_1_CTG2', dbxrefs=[]), SeqRecord(seq=Seq('ccagtgggtcttgactctaaccagcttgccattctgtgtcttttaattggggca...tga'), id='NW_003315964.2', name='NW_003315964.2', description='NW_003315964.2 Homo sapiens chromosome 19 genomic scaffold, GRCh38.p14 alternate locus group ALT_REF_LOCI_1 HSCHR19_2_CTG2', dbxrefs=[]), SeqRecord(seq=Seq('GAATTCTGATCTAGCTTCTCTAAAAGTTACTGTGGAGGATTAAAGATACCAAAT...CTT'), id='NW_003315965.1', name='NW_003315965.1', description='NW_003315965.1 Homo sapiens chromosome 19 genomic scaffold, GRCh38.p14 alternate locus group ALT_REF_LOCI_1 HSCHR19_3_CTG2', dbxrefs=[]), SeqRecord(seq=Seq('CAGCTAACAAAGTAACACCAATATGGTACCCAGGTCGCATAAGCACTCAAGTGT...TTC'), id='NW_003315963.1', name='NW_003315963.1', description='NW_003315963.1 Homo sapiens chromosome 19 genomic scaffold, GRCh38.p14 alternate locus group ALT_REF_LOCI_1 HSCHR19_1_CTG3_1', dbxrefs=[]), SeqRecord(seq=Seq('tcctgacctcgtgatccacctacctcggcctcccaaagtgttgggattaaaggc...GTC'), id='NT_187619.1', name='NT_187619.1', description='NT_187619.1 Homo sapiens chromosome 19 genomic scaffold, GRCh38.p14 alternate locus group ALT_REF_LOCI_1 HSCHR19_2_CTG3_1', dbxrefs=[]), SeqRecord(seq=Seq('GaattccagcctcggtgacagagtgagaccctgtctccaaaaaaagtatGGTTT...TTC'), id='NT_187620.1', name='NT_187620.1', description='NT_187620.1 Homo sapiens chromosome 19 genomic scaffold, GRCh38.p14 alternate locus group ALT_REF_LOCI_1 HSCHR19_3_CTG3_1', dbxrefs=[]), SeqRecord(seq=Seq('TGTCAGTTGCTTGGTGTGGTGAAGCAATGAGAGTGTTTTTTTCGGGGGAGGAGG...CTT'), id='NW_003571054.1', name='NW_003571054.1', description='NW_003571054.1 Homo sapiens chromosome 19 genomic scaffold, GRCh38.p14 alternate locus group ALT_REF_LOCI_1 HSCHR19LRC_COX1_CTG3_1', dbxrefs=[]), SeqRecord(seq=Seq('GAGACTCAACCCCCTACTCCCTCCCAAGACACCTCTGGCCAATGAGGAATGGAT...atc'), id='NW_003315966.2', name='NW_003315966.2', description='NW_003315966.2 Homo sapiens chromosome 20 genomic scaffold, GRCh38.p14 alternate locus group ALT_REF_LOCI_1 HSCHR20_1_CTG1', dbxrefs=[]), SeqRecord(seq=Seq('TTTGATGCCTTTCTAGGGCAGGCTGGCCGCCTGCATTATTGATGGCTGTTCTGC...ATC'), id='NT_187623.1', name='NT_187623.1', description='NT_187623.1 Homo sapiens chromosome 20 genomic scaffold, GRCh38.p14 alternate locus group ALT_REF_LOCI_1 HSCHR20_1_CTG2', dbxrefs=[]), SeqRecord(seq=Seq('CTACACttttaaatagttaattttaGGTTGCACAAGTCTCACCTCAATTTTAGA...GGG'), id='NT_187625.1', name='NT_187625.1', description='NT_187625.1 Homo sapiens chromosome 20 genomic scaffold, GRCh38.p14 alternate locus group ALT_REF_LOCI_1 HSCHR20_1_CTG4', dbxrefs=[]), SeqRecord(seq=Seq('GATAGCGGGGAGATAGCATCGGGGGGATAGTGTGGGGGATAGTGGGGGGATAGT...ATC'), id='NT_187624.1', name='NT_187624.1', description='NT_187624.1 Homo sapiens chromosome 20 genomic scaffold, GRCh38.p14 alternate locus group ALT_REF_LOCI_1 HSCHR20_1_CTG3', dbxrefs=[]), SeqRecord(seq=Seq('gatcattagtggctactatgagcaactctgtgccaataaattggaaactctaga...CCA'), id='NW_003315967.2', name='NW_003315967.2', description='NW_003315967.2 Homo sapiens chromosome 21 genomic scaffold, GRCh38.p14 alternate locus group ALT_REF_LOCI_1 HSCHR21_1_CTG1_1', dbxrefs=[]), SeqRecord(seq=Seq('gaattcaaaatagctgttttttgtttgtttttttggcttttttttttttttttt...AGC'), id='NT_187628.1', name='NT_187628.1', description='NT_187628.1 Homo sapiens chromosome 21 genomic scaffold, GRCh38.p14 alternate locus group ALT_REF_LOCI_1 HSCHR21_8_CTG1_1', dbxrefs=[]), SeqRecord(seq=Seq('GAATTCCATGCCTCTGTTCATCTTCTTCCTGCTAGTTAGAACATCCTTCCCACC...ATC'), id='NT_187627.1', name='NT_187627.1', description='NT_187627.1 Homo sapiens chromosome 21 genomic scaffold, GRCh38.p14 alternate locus group ALT_REF_LOCI_1 HSCHR21_6_CTG1_1', dbxrefs=[]), SeqRecord(seq=Seq('ACTAGTGAGTACTtgccatatttgtatttttgtgcctTGTTTATTTTACTAACG...TAT'), id='NW_003315968.2', name='NW_003315968.2', description='NW_003315968.2 Homo sapiens chromosome 21 genomic scaffold, GRCh38.p14 alternate locus group ALT_REF_LOCI_1 HSCHR21_2_CTG1_1', dbxrefs=[]), SeqRecord(seq=Seq('TTGTAAATTTGAGATACAAAGCCATACTTTTTCACAATAAGCCTGTAAGTGAGA...GTA'), id='NW_003315969.2', name='NW_003315969.2', description='NW_003315969.2 Homo sapiens chromosome 21 genomic scaffold, GRCh38.p14 alternate locus group ALT_REF_LOCI_1 HSCHR21_3_CTG1_1', dbxrefs=[]), SeqRecord(seq=Seq('CACTTGGCTTCACGTCTTGAGCAATCTGCATATGCCTCCTCCCTAGGCCTCCTC...AGT'), id='NW_003315970.2', name='NW_003315970.2', description='NW_003315970.2 Homo sapiens chromosome 21 genomic scaffold, GRCh38.p14 alternate locus group ALT_REF_LOCI_1 HSCHR21_4_CTG1_1', dbxrefs=[]), SeqRecord(seq=Seq('GCGTAAACCAATCCACTGATTTCGACCACTGATGCCTAGCACAGTCTCACTGTC...CAG'), id='NT_187626.1', name='NT_187626.1', description='NT_187626.1 Homo sapiens chromosome 21 genomic scaffold, GRCh38.p14 alternate locus group ALT_REF_LOCI_1 HSCHR21_5_CTG2', dbxrefs=[]), SeqRecord(seq=Seq('CAATAAGTCATATGATCAATGCAATTCAAACATTAAACTCATCAGTCCCAAGTC...TTC'), id='NT_187629.1', name='NT_187629.1', description='NT_187629.1 Homo sapiens chromosome 22 genomic scaffold, GRCh38.p14 alternate locus group ALT_REF_LOCI_1 HSCHR22_1_CTG3', dbxrefs=[]), SeqRecord(seq=Seq('AATGTCATTTATGCTTGCTGAGTCCTGTGTAAGCCCCAAAGCCAAGCTTTTGCA...cAG'), id='NT_187632.1', name='NT_187632.1', description='NT_187632.1 Homo sapiens chromosome 22 genomic scaffold, GRCh38.p14 alternate locus group ALT_REF_LOCI_1 HSCHR22_1_CTG6', dbxrefs=[]), SeqRecord(seq=Seq('AAGCTTCAGCGTGCATCAGACACCTGAAACTCTAGCCACAGTTGCAGGGTCCCC...CTT'), id='NT_187633.1', name='NT_187633.1', description='NT_187633.1 Homo sapiens chromosome 22 genomic scaffold, GRCh38.p14 alternate locus group ALT_REF_LOCI_1 HSCHR22_1_CTG7', dbxrefs=[]), SeqRecord(seq=Seq('cgcccccaccttggcctcccaaagtgctaggatcacagtcatgagccaccgtgc...atc'), id='NT_187630.1', name='NT_187630.1', description='NT_187630.1 Homo sapiens chromosome 22 genomic scaffold, GRCh38.p14 alternate locus group ALT_REF_LOCI_1 HSCHR22_1_CTG4', dbxrefs=[]), SeqRecord(seq=Seq('AGCCAGGAATCTGGATTTTTGTGTGAAATCCCCTGACCTGTTAGTGTTGGCAat...ATG'), id='NT_187631.1', name='NT_187631.1', description='NT_187631.1 Homo sapiens chromosome 22 genomic scaffold, GRCh38.p14 alternate locus group ALT_REF_LOCI_1 HSCHR22_1_CTG5', dbxrefs=[]), SeqRecord(seq=Seq('AAAGGagccttctggtgggttcattgAGTTCTGCCTCCAAAGCACACACCCAGC...GTA'), id='NW_003315972.2', name='NW_003315972.2', description='NW_003315972.2 Homo sapiens chromosome 22 genomic scaffold, GRCh38.p14 alternate locus group ALT_REF_LOCI_1 HSCHR22_1_CTG2', dbxrefs=[]), SeqRecord(seq=Seq('TGGCTACATGCGCCTGGTGGTACGCGAGTTGGAGAGCCAGTTGCAGGACGCACG...ccc'), id='NW_003315971.2', name='NW_003315971.2', description='NW_003315971.2 Homo sapiens chromosome 22 genomic scaffold, GRCh38.p14 alternate locus group ALT_REF_LOCI_1 HSCHR22_1_CTG1', dbxrefs=[]), SeqRecord(seq=Seq('GAGAGTCCGGAACGCCGCCTCGGGGGCTTGACTCCAGCCCCGGGGATCGAGAAC...TTC'), id='NT_187634.1', name='NT_187634.1', description='NT_187634.1 Homo sapiens chromosome X genomic scaffold, GRCh38.p14 alternate locus group ALT_REF_LOCI_1 HSCHRX_1_CTG3', dbxrefs=[]), SeqRecord(seq=Seq('gatccttgaggaatggccacactgtcttccacaatggttgaaccagtttacact...CAA'), id='NT_187635.1', name='NT_187635.1', description='NT_187635.1 Homo sapiens chromosome X genomic scaffold, GRCh38.p14 alternate locus group ALT_REF_LOCI_1 HSCHRX_2_CTG12', dbxrefs=[]), SeqRecord(seq=Seq('CACTGTGAGTCCAACATGGTTCTCCAAACTTACACATTATCTCATCAACCTACA...TTC'), id='NT_187646.1', name='NT_187646.1', description='NT_187646.1 Homo sapiens chromosome 1 genomic scaffold, GRCh38.p14 alternate locus group ALT_REF_LOCI_2 HSCHR1_ALT2_1_CTG32_1', dbxrefs=[]), SeqRecord(seq=Seq('AAGCTTATTCTCAAAGTCCTTAACTTACATCTATCAAGGTCATTTTTTGCTATC...TTC'), id='NT_187648.1', name='NT_187648.1', description='NT_187648.1 Homo sapiens chromosome 2 genomic scaffold, GRCh38.p14 alternate locus group ALT_REF_LOCI_2 HSCHR2_2_CTG7', dbxrefs=[]), SeqRecord(seq=Seq('GAATTCTTCCCAAAGTCAGCTCTCTCACGCCACTACCTGGAATGCCTGGTTGAG...GCT'), id='NT_187647.1', name='NT_187647.1', description='NT_187647.1 Homo sapiens chromosome 2 genomic scaffold, GRCh38.p14 alternate locus group ALT_REF_LOCI_2 HSCHR2_2_CTG15', dbxrefs=[]), SeqRecord(seq=Seq('GAATTCTTCCCTGAGACTTTGTCTCTCTGAGTATCATCTTGCCAACTATCTAGG...ATG'), id='NT_187649.1', name='NT_187649.1', description='NT_187649.1 Homo sapiens chromosome 3 genomic scaffold, GRCh38.p14 alternate locus group ALT_REF_LOCI_2 HSCHR3_3_CTG3', dbxrefs=[]), SeqRecord(seq=Seq('GAATTCCTgaactgttaaaaataataactctTGTTTGTGTCATTctccaaagtt...GAA'), id='NT_187650.1', name='NT_187650.1', description='NT_187650.1 Homo sapiens chromosome 4 genomic scaffold, GRCh38.p14 alternate locus group ALT_REF_LOCI_2 HSCHR4_6_CTG12', dbxrefs=[]), SeqRecord(seq=Seq('TCAATGATCAAACCAAAGCAATTATATttgattctgaattttaaaagattagtc...atc'), id='NT_187651.1', name='NT_187651.1', description='NT_187651.1 Homo sapiens chromosome 5 genomic scaffold, GRCh38.p14 alternate locus group ALT_REF_LOCI_2 HSCHR5_1_CTG1_1', dbxrefs=[]), SeqRecord(seq=Seq('TCCCCTTccctcagcctctggcaaccactattctactttctgtttctatgaatt...TTA'), id='NT_187652.1', name='NT_187652.1', description='NT_187652.1 Homo sapiens chromosome 5 genomic scaffold, GRCh38.p14 alternate locus group ALT_REF_LOCI_2 HSCHR5_3_CTG5', dbxrefs=[]), SeqRecord(seq=Seq('ATGATGAATCAAGGCAAAAACAAGGCCACTGCATAATTGTAACTGAACATAGAC...ttc'), id='NT_113891.3', name='NT_113891.3', description='NT_113891.3 Homo sapiens chromosome 6 genomic scaffold, GRCh38.p14 alternate locus group ALT_REF_LOCI_2 HSCHR6_MHC_COX_CTG1', dbxrefs=[]), SeqRecord(seq=Seq('ctaaccctaaccctaaccctaaccctaaccctaaccctaaccctaaccctaacc...GAG'), id='NT_187653.1', name='NT_187653.1', description='NT_187653.1 Homo sapiens chromosome 7 genomic scaffold, GRCh38.p14 alternate locus group ALT_REF_LOCI_2 HSCHR7_2_CTG1', dbxrefs=[]), SeqRecord(seq=Seq('CACACAGCTGATGGTTAGAAGAGAGcctatattattaaaaaaagaaaaatgtaa...CTT'), id='NT_187655.1', name='NT_187655.1', description='NT_187655.1 Homo sapiens chromosome 8 genomic scaffold, GRCh38.p14 alternate locus group ALT_REF_LOCI_2 HSCHR8_6_CTG1', dbxrefs=[]), SeqRecord(seq=Seq('GCTGTTTTCCAGACTTCCTCTTAGGTGGCCGTGGAGCAGCTGGGGACCTACAGG...ATT'), id='NT_187654.1', name='NT_187654.1', description='NT_187654.1 Homo sapiens chromosome 8 genomic scaffold, GRCh38.p14 alternate locus group ALT_REF_LOCI_2 HSCHR8_5_CTG1', dbxrefs=[]), SeqRecord(seq=Seq('gatccgcccgcttcggcctcccaaagtgctgggattacaggtgtgcgccaccgt...TGA'), id='NT_187656.1', name='NT_187656.1', description='NT_187656.1 Homo sapiens chromosome 11 genomic scaffold, GRCh38.p14 alternate locus group ALT_REF_LOCI_2 HSCHR11_2_CTG1', dbxrefs=[]), SeqRecord(seq=Seq('AATTCACCGAGATAAGCGGAGGTTTTGGTCAACGTTCCATCAGCGTGTAAAGGG...TTC'), id='NT_187657.1', name='NT_187657.1', description='NT_187657.1 Homo sapiens chromosome 11 genomic scaffold, GRCh38.p14 alternate locus group ALT_REF_LOCI_2 HSCHR11_2_CTG1_1', dbxrefs=[]), SeqRecord(seq=Seq('ACTATGAAAATGCCCTCTACTCTTGATAGTTGATATTAGGATATTAATTTCTAT...cag'), id='NT_187658.1', name='NT_187658.1', description='NT_187658.1 Homo sapiens chromosome 12 genomic scaffold, GRCh38.p14 alternate locus group ALT_REF_LOCI_2 HSCHR12_3_CTG2', dbxrefs=[]), SeqRecord(seq=Seq('GCAATGAgtcgagactgcaccactgcactccaagcctgggtgacaaagtgacac...TTC'), id='NT_187659.1', name='NT_187659.1', description='NT_187659.1 Homo sapiens chromosome 15 genomic scaffold, GRCh38.p14 alternate locus group ALT_REF_LOCI_2 HSCHR15_2_CTG3', dbxrefs=[]), SeqRecord(seq=Seq('TGTAGATCTACATAAGCCAGGCCAGGGCACAAACGTTACAGAATGGCAAGGAGG...TTC'), id='NT_187660.1', name='NT_187660.1', description='NT_187660.1 Homo sapiens chromosome 15 genomic scaffold, GRCh38.p14 alternate locus group ALT_REF_LOCI_2 HSCHR15_4_CTG8', dbxrefs=[]), SeqRecord(seq=Seq('TGGTGTTTTCCGAGCTTGGCCTAAGGACTCTGTTCTTGAAGCTCTGTCTGTATA...ATG'), id='NT_187662.1', name='NT_187662.1', description='NT_187662.1 Homo sapiens chromosome 17 genomic scaffold, GRCh38.p14 alternate locus group ALT_REF_LOCI_2 HSCHR17_2_CTG1', dbxrefs=[]), SeqRecord(seq=Seq('aggtgtgagccaccacgcctggccaattaactcgatttttttttttttttgaga...TGC'), id='NT_187664.1', name='NT_187664.1', description='NT_187664.1 Homo sapiens chromosome 17 genomic scaffold, GRCh38.p14 alternate locus group ALT_REF_LOCI_2 HSCHR17_3_CTG2', dbxrefs=[]), SeqRecord(seq=Seq('TAATCTGTCATGTTAACTCAGACATAGCTATTGAAAGTTAAAGTTCAGTGCATC...TTC'), id='NT_187661.1', name='NT_187661.1', description='NT_187661.1 Homo sapiens chromosome 17 genomic scaffold, GRCh38.p14 alternate locus group ALT_REF_LOCI_2 HSCHR17_10_CTG4', dbxrefs=[]), SeqRecord(seq=Seq('CAAGAAACTCACTCTCTGGTGGGCAGCAAGACAATTATGACATTCCTTTGTGCC...TAA'), id='NW_003871093.1', name='NW_003871093.1', description='NW_003871093.1 Homo sapiens chromosome 17 genomic scaffold, GRCh38.p14 alternate locus group ALT_REF_LOCI_2 HSCHR17_6_CTG4', dbxrefs=[]), SeqRecord(seq=Seq('TTTCTAGCACCTAGCAGACATGGCCCATTTGACACACTTGGCAAATGTTCCTGA...ggt'), id='NT_187663.1', name='NT_187663.1', description='NT_187663.1 Homo sapiens chromosome 17 genomic scaffold, GRCh38.p14 alternate locus group ALT_REF_LOCI_2 HSCHR17_2_CTG5', dbxrefs=[]), SeqRecord(seq=Seq('AGTGAGTCACCATCCCCTTCATTGTGTCACCGTCCCCCTCAGTGTGTCACCATC...TAA'), id='NT_187665.1', name='NT_187665.1', description='NT_187665.1 Homo sapiens chromosome 18 genomic scaffold, GRCh38.p14 alternate locus group ALT_REF_LOCI_2 HSCHR18_ALT21_CTG2_1', dbxrefs=[]), SeqRecord(seq=Seq('TGGTTCTCCTCCCTGTAGACTTTGCAGCCAGACTCTTCGATGAAAAACTGTCCT...TTC'), id='NT_187666.1', name='NT_187666.1', description='NT_187666.1 Homo sapiens chromosome 18 genomic scaffold, GRCh38.p14 alternate locus group ALT_REF_LOCI_2 HSCHR18_ALT2_CTG2_1', dbxrefs=[]), SeqRecord(seq=Seq('TGTCAGTTGCTTGGTGTGGTGAAGCAATGAGAGTGTTTTTTTCGGGGGAGGAGG...CTT'), id='NW_003571055.2', name='NW_003571055.2', description='NW_003571055.2 Homo sapiens chromosome 19 genomic scaffold, GRCh38.p14 alternate locus group ALT_REF_LOCI_2 HSCHR19LRC_COX2_CTG3_1', dbxrefs=[]), SeqRecord(seq=Seq('TGGCTACATGCGCCTGGTGGTACGCGAGTTGGAGAGCCAGTTGCAGGACGCACG...GAA'), id='NW_004504305.1', name='NW_004504305.1', description='NW_004504305.1 Homo sapiens chromosome 22 genomic scaffold, GRCh38.p14 alternate locus group ALT_REF_LOCI_2 HSCHR22_2_CTG1', dbxrefs=[]), SeqRecord(seq=Seq('AGAGATAGGGGTTTTtccgtgctggccaggctggtctcaaactcccgaactcag...TTC'), id='NT_187667.1', name='NT_187667.1', description='NT_187667.1 Homo sapiens chromosome X genomic scaffold, GRCh38.p14 alternate locus group ALT_REF_LOCI_2 HSCHRX_2_CTG3', dbxrefs=[]), SeqRecord(seq=Seq('GAATTCTTCCCTGAGACTTTGTCTCTCTGAGTATCATCTTGCCAACTATCTAGG...ATG'), id='NT_187678.1', name='NT_187678.1', description='NT_187678.1 Homo sapiens chromosome 3 genomic scaffold, GRCh38.p14 alternate locus group ALT_REF_LOCI_3 HSCHR3_4_CTG3', dbxrefs=[]), SeqRecord(seq=Seq('GAATtcactaccaaaaaaaacaatttaaaaatccaccaccactaccattaCCTT...atc'), id='NT_187679.1', name='NT_187679.1', description='NT_187679.1 Homo sapiens chromosome 4 genomic scaffold, GRCh38.p14 alternate locus group ALT_REF_LOCI_3 HSCHR4_7_CTG12', dbxrefs=[]), SeqRecord(seq=Seq('TGGCTGTAGGAAACCAGGTCTTTCCCTCCCAAGGGAGGTGAACTACAAGCTTCT...gcc'), id='NT_167245.2', name='NT_167245.2', description='NT_167245.2 Homo sapiens chromosome 6 genomic scaffold, GRCh38.p14 alternate locus group ALT_REF_LOCI_3 HSCHR6_MHC_DBB_CTG1', dbxrefs=[]), SeqRecord(seq=Seq('TTATGCTTTCACCTTCATCAGTGCAGCTAAGGAGATTCTGACTAGAATGGAGGT...CGT'), id='NT_187680.1', name='NT_187680.1', description='NT_187680.1 Homo sapiens chromosome 8 genomic scaffold, GRCh38.p14 alternate locus group ALT_REF_LOCI_3 HSCHR8_7_CTG1', dbxrefs=[]), SeqRecord(seq=Seq('gatccgcccgcttcggcctcccaaagtgctgggattacaggtgtgcgccaccgt...ATC'), id='NT_187681.1', name='NT_187681.1', description='NT_187681.1 Homo sapiens chromosome 11 genomic scaffold, GRCh38.p14 alternate locus group ALT_REF_LOCI_3 HSCHR11_3_CTG1', dbxrefs=[]), SeqRecord(seq=Seq('TGTCAGTTGCTTGGTGTGGTGAAGCAATGAGAGTGTTTTTTTCGGGGGAGGAGG...CTT'), id='NW_003571056.2', name='NW_003571056.2', description='NW_003571056.2 Homo sapiens chromosome 19 genomic scaffold, GRCh38.p14 alternate locus group ALT_REF_LOCI_3 HSCHR19LRC_LRC_I_CTG3_1', dbxrefs=[]), SeqRecord(seq=Seq('TGGCTACATGCGCCTGGTGGTACGCGAGTTGGAGAGCCAGTTGCAGGACGCACG...ATC'), id='NT_187682.1', name='NT_187682.1', description='NT_187682.1 Homo sapiens chromosome 22 genomic scaffold, GRCh38.p14 alternate locus group ALT_REF_LOCI_3 HSCHR22_3_CTG1', dbxrefs=[]), SeqRecord(seq=Seq('GAATTCTTCCCTGAGACTTTGTCTCTCTGAGTATCATCTTGCCAACTATCTAGG...ATG'), id='NT_187688.1', name='NT_187688.1', description='NT_187688.1 Homo sapiens chromosome 3 genomic scaffold, GRCh38.p14 alternate locus group ALT_REF_LOCI_4 HSCHR3_5_CTG3', dbxrefs=[]), SeqRecord(seq=Seq('TGGCTGTAGGAAACCAGGTCTTTCCCTCCCAAGGGAGGTGAACTACAAGCTTCT...gcc'), id='NT_167246.2', name='NT_167246.2', description='NT_167246.2 Homo sapiens chromosome 6 genomic scaffold, GRCh38.p14 alternate locus group ALT_REF_LOCI_4 HSCHR6_MHC_MANN_CTG1', dbxrefs=[]), SeqRecord(seq=Seq('TGTCAGTTGCTTGGTGTGGTGAAGCAATGAGAGTGTTTTTTTCGGGGGAGGAGG...CTT'), id='NW_003571057.2', name='NW_003571057.2', description='NW_003571057.2 Homo sapiens chromosome 19 genomic scaffold, GRCh38.p14 alternate locus group ALT_REF_LOCI_4 HSCHR19LRC_LRC_J_CTG3_1', dbxrefs=[]), SeqRecord(seq=Seq('CATTATAATAAAAACCTTTAAATGCTCTGAGTGCCCAGCGTCAGCATGGTGATA...ATT'), id='NT_187689.1', name='NT_187689.1', description='NT_187689.1 Homo sapiens chromosome 3 genomic scaffold, GRCh38.p14 alternate locus group ALT_REF_LOCI_5 HSCHR3_6_CTG3', dbxrefs=[]), SeqRecord(seq=Seq('TGGCTGTAGGAAACCAGGTCTTTCCCTCCCAAGGGAGGTGAACTACAAGCTTCT...GCC'), id='NT_167247.2', name='NT_167247.2', description='NT_167247.2 Homo sapiens chromosome 6 genomic scaffold, GRCh38.p14 alternate locus group ALT_REF_LOCI_5 HSCHR6_MHC_MCF_CTG1', dbxrefs=[]), SeqRecord(seq=Seq('TGTCAGTTGCTTGGTGTGGTGAAGCAATGAGAGTGTTTTTTTCGGGGGAGGAGG...CTT'), id='NW_003571058.2', name='NW_003571058.2', description='NW_003571058.2 Homo sapiens chromosome 19 genomic scaffold, GRCh38.p14 alternate locus group ALT_REF_LOCI_5 HSCHR19LRC_LRC_S_CTG3_1', dbxrefs=[]), SeqRecord(seq=Seq('GAATTCTTCCCTGAGACTTTGTCTCTCTGAGTATCATCTTGCCAACTATCTAGG...ATG'), id='NT_187690.1', name='NT_187690.1', description='NT_187690.1 Homo sapiens chromosome 3 genomic scaffold, GRCh38.p14 alternate locus group ALT_REF_LOCI_6 HSCHR3_7_CTG3', dbxrefs=[]), SeqRecord(seq=Seq('TGGCTGTAGGAAACCAGGTCTTTCCCTCCCAAGGGAGGTGAACTACAAGCTTCT...gcc'), id='NT_167248.2', name='NT_167248.2', description='NT_167248.2 Homo sapiens chromosome 6 genomic scaffold, GRCh38.p14 alternate locus group ALT_REF_LOCI_6 HSCHR6_MHC_QBL_CTG1', dbxrefs=[]), SeqRecord(seq=Seq('TGTCAGTTGCTTGGTGTGGTGAAGCAATGAGAGTGTTTTTTTCGGGGGAGGAGG...CTT'), id='NW_003571059.2', name='NW_003571059.2', description='NW_003571059.2 Homo sapiens chromosome 19 genomic scaffold, GRCh38.p14 alternate locus group ALT_REF_LOCI_6 HSCHR19LRC_LRC_T_CTG3_1', dbxrefs=[]), SeqRecord(seq=Seq('GAATTCTTCCCTGAGACTTTGTCTCTCTGAGTATCATCTTGCCAACTATCTAGG...ATG'), id='NT_187691.1', name='NT_187691.1', description='NT_187691.1 Homo sapiens chromosome 3 genomic scaffold, GRCh38.p14 alternate locus group ALT_REF_LOCI_7 HSCHR3_8_CTG3', dbxrefs=[]), SeqRecord(seq=Seq('TACAAGATTGTGGAATTCACAATCTGGTATTAATCAAAAACtggcaaatcaaat...gcc'), id='NT_167249.2', name='NT_167249.2', description='NT_167249.2 Homo sapiens chromosome 6 genomic scaffold, GRCh38.p14 alternate locus group ALT_REF_LOCI_7 HSCHR6_MHC_SSTO_CTG1', dbxrefs=[]), SeqRecord(seq=Seq('TGTCAGTTGCTTGGTGTGGTGAAGCAATGAGAGTGTTTTTTTCGGGGGAGGAGG...CTT'), id='NW_003571060.1', name='NW_003571060.1', description='NW_003571060.1 Homo sapiens chromosome 19 genomic scaffold, GRCh38.p14 alternate locus group ALT_REF_LOCI_7 HSCHR19LRC_PGF1_CTG3_1', dbxrefs=[]), SeqRecord(seq=Seq('gaattcagtttcttcctggttcagtcttgagagggtgtatgtgtccaggaattt...TGT'), id='NT_187692.1', name='NT_187692.1', description='NT_187692.1 Homo sapiens chromosome 6 genomic scaffold, GRCh38.p14 alternate locus group ALT_REF_LOCI_8 HSCHR6_8_CTG1', dbxrefs=[]), SeqRecord(seq=Seq('TGTCAGTTGCTTGGTGTGGTGAAGCAATGAGAGTGTTTTTTTCGGGGGAGGAGG...CTT'), id='NW_003571061.2', name='NW_003571061.2', description='NW_003571061.2 Homo sapiens chromosome 19 genomic scaffold, GRCh38.p14 alternate locus group ALT_REF_LOCI_8 HSCHR19LRC_PGF2_CTG3_1', dbxrefs=[]), SeqRecord(seq=Seq('TGTCAGTTGCTTGGTGTGGTGAAGCAATGAGAGTGTTTTTTTCGGGGGAGGAGG...CTT'), id='NT_187693.1', name='NT_187693.1', description='NT_187693.1 Homo sapiens chromosome 19 genomic scaffold, GRCh38.p14 alternate locus group ALT_REF_LOCI_9 HSCHR19_4_CTG3_1', dbxrefs=[]), SeqRecord(seq=Seq('ACTGAGATAGAAATTATGCAAGAGAAGCACAGCAGAAACAACTAGAATGGGGAC...TTC'), id='NT_187636.1', name='NT_187636.1', description='NT_187636.1 Homo sapiens chromosome 19 genomic scaffold, GRCh38.p14 alternate locus group ALT_REF_LOCI_10 HSCHR19KIR_FH15_B_HAP_CTG3_1', dbxrefs=[]), SeqRecord(seq=Seq('CCCCACACTGTCCCTGTAGTTCTAGTGAGTTTCCCAGACTCTgatgtctcaatt...TTC'), id='NT_187637.1', name='NT_187637.1', description='NT_187637.1 Homo sapiens chromosome 19 genomic scaffold, GRCh38.p14 alternate locus group ALT_REF_LOCI_11 HSCHR19KIR_G085_A_HAP_CTG3_1', dbxrefs=[]), SeqRecord(seq=Seq('aaaaatacaaaaaattagccgggcgtggtggcgggcgcctgtagtcccagctac...TTC'), id='NT_187638.1', name='NT_187638.1', description='NT_187638.1 Homo sapiens chromosome 19 genomic scaffold, GRCh38.p14 alternate locus group ALT_REF_LOCI_12 HSCHR19KIR_G085_BA1_HAP_CTG3_1', dbxrefs=[]), SeqRecord(seq=Seq('tcccagccgggcgtggtggctcatgcctgtaatcccagtactttgggaggccga...TTC'), id='NT_187639.1', name='NT_187639.1', description='NT_187639.1 Homo sapiens chromosome 19 genomic scaffold, GRCh38.p14 alternate locus group ALT_REF_LOCI_13 HSCHR19KIR_G248_A_HAP_CTG3_1', dbxrefs=[]), SeqRecord(seq=Seq('ACACTTAGAAATATGTTACAGAGCTgtagtaagcaaaacagcatgacaTTGGCA...TTC'), id='NT_187640.1', name='NT_187640.1', description='NT_187640.1 Homo sapiens chromosome 19 genomic scaffold, GRCh38.p14 alternate locus group ALT_REF_LOCI_14 HSCHR19KIR_G248_BA2_HAP_CTG3_1', dbxrefs=[]), SeqRecord(seq=Seq('ACCACTCTTGGCTCATCGCACTGATAGTGGCTCCACATCTCTCTGGGGTGGAGT...TTC'), id='NT_187641.1', name='NT_187641.1', description='NT_187641.1 Homo sapiens chromosome 19 genomic scaffold, GRCh38.p14 alternate locus group ALT_REF_LOCI_15 HSCHR19KIR_GRC212_AB_HAP_CTG3_1', dbxrefs=[]), SeqRecord(seq=Seq('TCTACTTTCCTGGTAAATTTCAAGTATAGAGTACAGTATTGTCAACCATAGTGG...TTC'), id='NT_187642.1', name='NT_187642.1', description='NT_187642.1 Homo sapiens chromosome 19 genomic scaffold, GRCh38.p14 alternate locus group ALT_REF_LOCI_16 HSCHR19KIR_GRC212_BA1_HAP_CTG3_1', dbxrefs=[]), SeqRecord(seq=Seq('TCTACTCTCCCATGCTTGCctcggcagcacatatactaaaattggaacgataca...TTC'), id='NT_187643.1', name='NT_187643.1', description='NT_187643.1 Homo sapiens chromosome 19 genomic scaffold, GRCh38.p14 alternate locus group ALT_REF_LOCI_17 HSCHR19KIR_LUCE_A_HAP_CTG3_1', dbxrefs=[]), SeqRecord(seq=Seq('ATGCTTGCctcggcagcacatatactaaaattggaacgatacagagaaAACTAG...TTC'), id='NT_187644.1', name='NT_187644.1', description='NT_187644.1 Homo sapiens chromosome 19 genomic scaffold, GRCh38.p14 alternate locus group ALT_REF_LOCI_18 HSCHR19KIR_LUCE_BDEL_HAP_CTG3_1', dbxrefs=[]), SeqRecord(seq=Seq('TCTACTCTCCCATGCTTGCctcggcagcacatatactaaaattggaacgataca...TTC'), id='NT_187645.1', name='NT_187645.1', description='NT_187645.1 Homo sapiens chromosome 19 genomic scaffold, GRCh38.p14 alternate locus group ALT_REF_LOCI_19 HSCHR19KIR_RSH_A_HAP_CTG3_1', dbxrefs=[]), SeqRecord(seq=Seq('CTTTCTCCATAATTTTTGTGTGCGATGCCCACTGTCTTGAGACTTGAAGGtata...TTC'), id='NT_187668.1', name='NT_187668.1', description='NT_187668.1 Homo sapiens chromosome 19 genomic scaffold, GRCh38.p14 alternate locus group ALT_REF_LOCI_20 HSCHR19KIR_RSH_BA2_HAP_CTG3_1', dbxrefs=[]), SeqRecord(seq=Seq('TCTACTCTCCCATGCTTGCctcggcagcacatatactaaaattggaacgataca...TTC'), id='NT_187669.1', name='NT_187669.1', description='NT_187669.1 Homo sapiens chromosome 19 genomic scaffold, GRCh38.p14 alternate locus group ALT_REF_LOCI_21 HSCHR19KIR_T7526_A_HAP_CTG3_1', dbxrefs=[]), SeqRecord(seq=Seq('cacgaggtcaggagatcgagaccatcctggctaacacagtgaaaccccgtctct...TTC'), id='NT_187670.1', name='NT_187670.1', description='NT_187670.1 Homo sapiens chromosome 19 genomic scaffold, GRCh38.p14 alternate locus group ALT_REF_LOCI_22 HSCHR19KIR_T7526_BDEL_HAP_CTG3_1', dbxrefs=[]), SeqRecord(seq=Seq('ACCAGGAAACAGCCTAGGAACACTGCATGCATACCTTTAATCTACAGTAAAGGt...TTC'), id='NT_187671.1', name='NT_187671.1', description='NT_187671.1 Homo sapiens chromosome 19 genomic scaffold, GRCh38.p14 alternate locus group ALT_REF_LOCI_23 HSCHR19KIR_ABC08_A1_HAP_CTG3_1', dbxrefs=[]), SeqRecord(seq=Seq('GAATTCCCCATGAGTCCTGTGACCTCAGCCCACACGGGGACCTACAGGTGCTAC...GAG'), id='NT_187672.1', name='NT_187672.1', description='NT_187672.1 Homo sapiens chromosome 19 genomic scaffold, GRCh38.p14 alternate locus group ALT_REF_LOCI_24 HSCHR19KIR_ABC08_AB_HAP_C_P_CTG3_1', dbxrefs=[]), SeqRecord(seq=Seq('ATCTACTCTCCCATGCTTGCctcggcagcacatatactaaaattggaacgatac...TTC'), id='NT_187673.1', name='NT_187673.1', description='NT_187673.1 Homo sapiens chromosome 19 genomic scaffold, GRCh38.p14 alternate locus group ALT_REF_LOCI_25 HSCHR19KIR_ABC08_AB_HAP_T_P_CTG3_1', dbxrefs=[]), SeqRecord(seq=Seq('ACGGTGGTCCTCGGGATTCTGCTGCTTTAGGATTGGCACAGCTAGAGAAGTCCC...TTC'), id='NT_187674.1', name='NT_187674.1', description='NT_187674.1 Homo sapiens chromosome 19 genomic scaffold, GRCh38.p14 alternate locus group ALT_REF_LOCI_26 HSCHR19KIR_FH05_A_HAP_CTG3_1', dbxrefs=[]), SeqRecord(seq=Seq('CACGACATGAGGCTCCATCCCACATGGCAGCGTTGGGTCCACACCTCTGCACAC...TTC'), id='NT_187675.1', name='NT_187675.1', description='NT_187675.1 Homo sapiens chromosome 19 genomic scaffold, GRCh38.p14 alternate locus group ALT_REF_LOCI_27 HSCHR19KIR_FH05_B_HAP_CTG3_1', dbxrefs=[]), SeqRecord(seq=Seq('aaaaaaaaaagttctaaaagttGTGACTTGGGTGTGGCAGATTGTGACATACTG...TTC'), id='NT_187676.1', name='NT_187676.1', description='NT_187676.1 Homo sapiens chromosome 19 genomic scaffold, GRCh38.p14 alternate locus group ALT_REF_LOCI_28 HSCHR19KIR_FH06_A_HAP_CTG3_1', dbxrefs=[]), SeqRecord(seq=Seq('CACAGACAGTGTCTCCTTCTCTCCTAGGAGCCCACAGAAAACCCACTCTCTCAG...TTC'), id='NT_187677.1', name='NT_187677.1', description='NT_187677.1 Homo sapiens chromosome 19 genomic scaffold, GRCh38.p14 alternate locus group ALT_REF_LOCI_29 HSCHR19KIR_FH06_BA1_HAP_CTG3_1', dbxrefs=[]), SeqRecord(seq=Seq('ACTGTTAAAATCTAGTAAGAGTCGCTTCTTCAGCACCTGCTCAAAGTTCTCAGC...TTC'), id='NT_187683.1', name='NT_187683.1', description='NT_187683.1 Homo sapiens chromosome 19 genomic scaffold, GRCh38.p14 alternate locus group ALT_REF_LOCI_30 HSCHR19KIR_FH08_A_HAP_CTG3_1', dbxrefs=[]), SeqRecord(seq=Seq('TCTACTCTCCCATGCTTGCctcggcagcacatatactaaaattggaacgataca...TTC'), id='NT_187684.1', name='NT_187684.1', description='NT_187684.1 Homo sapiens chromosome 19 genomic scaffold, GRCh38.p14 alternate locus group ALT_REF_LOCI_31 HSCHR19KIR_FH08_BAX_HAP_CTG3_1', dbxrefs=[]), SeqRecord(seq=Seq('tttctttcttttttttttttttgtggtgaggacccttaagatctactctcccag...TTC'), id='NT_187685.1', name='NT_187685.1', description='NT_187685.1 Homo sapiens chromosome 19 genomic scaffold, GRCh38.p14 alternate locus group ALT_REF_LOCI_32 HSCHR19KIR_FH13_A_HAP_CTG3_1', dbxrefs=[]), SeqRecord(seq=Seq('TGTGGTGAGGACCCTTAAGATCTACTCtcccagccgggcgtggtggctcatgcc...TTC'), id='NT_187686.1', name='NT_187686.1', description='NT_187686.1 Homo sapiens chromosome 19 genomic scaffold, GRCh38.p14 alternate locus group ALT_REF_LOCI_33 HSCHR19KIR_FH13_BA2_HAP_CTG3_1', dbxrefs=[]), SeqRecord(seq=Seq('TCTACTCTCCCATGCTTGCctcggcagcacatatactaaaattggaacgataca...TTC'), id='NT_187687.1', name='NT_187687.1', description='NT_187687.1 Homo sapiens chromosome 19 genomic scaffold, GRCh38.p14 alternate locus group ALT_REF_LOCI_34 HSCHR19KIR_FH15_A_HAP_CTG3_1', dbxrefs=[]), SeqRecord(seq=Seq('GATCTATCTGTATCTCCACAGGTGATTGGAAGTAGGGGTGAGGTGGGGGATTTG...TTC'), id='NT_113949.2', name='NT_113949.2', description='NT_113949.2 Homo sapiens chromosome 19 genomic scaffold, GRCh38.p14 alternate locus group ALT_REF_LOCI_35 HSCHR19KIR_RP5_B_HAP_CTG3_1', dbxrefs=[]), SeqRecord(seq=Seq('GATCACAGGTCTATCACCCTATTAACCACTCACGGGAGCTCTCCATGCATTTGG...ATG'), id='NC_012920.1', name='NC_012920.1', description='NC_012920.1 Homo sapiens mitochondrion, complete genome', dbxrefs=[])]\n"
     ]
    }
   ],
   "source": [
    "# Biopython parses the file into a list of SeqRecord objects\n",
    "seqs = list(SeqIO.parse(\"/work/GRCh38_latest_genomic.fna\", \"fasta\"))\n",
    "print(seqs) "
   ]
  },
  {
   "cell_type": "code",
   "execution_count": 3,
   "id": "a1a1fa38-d282-4bfc-a9de-3cf5cbdef6d8",
   "metadata": {
    "scrolled": true,
    "tags": []
   },
   "outputs": [
    {
     "name": "stdout",
     "output_type": "stream",
     "text": [
      "Record id: NC_000001.11\n",
      "Record id: NT_187361.1\n",
      "Record id: NT_187362.1\n",
      "Record id: NT_187363.1\n",
      "Record id: NT_187364.1\n",
      "Record id: NT_187365.1\n",
      "Record id: NT_187366.1\n",
      "Record id: NT_187367.1\n",
      "Record id: NT_187368.1\n",
      "Record id: NT_187369.1\n",
      "Record id: NC_000002.12\n",
      "Record id: NT_187370.1\n",
      "Record id: NT_187371.1\n",
      "Record id: NC_000003.12\n",
      "Record id: NT_167215.1\n",
      "Record id: NC_000004.12\n",
      "Record id: NT_113793.3\n",
      "Record id: NC_000005.10\n",
      "Record id: NT_113948.1\n",
      "Record id: NC_000006.12\n",
      "Record id: NC_000007.14\n",
      "Record id: NC_000008.11\n",
      "Record id: NC_000009.12\n",
      "Record id: NT_187372.1\n",
      "Record id: NT_187373.1\n",
      "Record id: NT_187374.1\n",
      "Record id: NT_187375.1\n",
      "Record id: NC_000010.11\n",
      "Record id: NC_000011.10\n",
      "Record id: NC_000012.12\n",
      "Record id: NC_000013.11\n",
      "Record id: NC_000014.9\n",
      "Record id: NT_113796.3\n",
      "Record id: NT_167219.1\n",
      "Record id: NT_187377.1\n",
      "Record id: NT_113888.1\n",
      "Record id: NT_187378.1\n",
      "Record id: NT_187379.1\n",
      "Record id: NT_187380.1\n",
      "Record id: NT_187381.1\n",
      "Record id: NC_000015.10\n",
      "Record id: NT_187382.1\n",
      "Record id: NC_000016.10\n",
      "Record id: NT_187383.1\n",
      "Record id: NC_000017.11\n",
      "Record id: NT_113930.2\n",
      "Record id: NT_187384.1\n",
      "Record id: NT_187385.1\n",
      "Record id: NC_000018.10\n",
      "Record id: NC_000019.10\n",
      "Record id: NC_000020.11\n",
      "Record id: NC_000021.9\n",
      "Record id: NC_000022.11\n",
      "Record id: NT_187386.1\n",
      "Record id: NT_187387.1\n",
      "Record id: NT_187388.1\n",
      "Record id: NT_187390.1\n",
      "Record id: NT_187391.1\n",
      "Record id: NT_187392.1\n",
      "Record id: NT_187393.1\n",
      "Record id: NT_187394.1\n",
      "Record id: NC_000023.11\n",
      "Record id: NC_000024.10\n",
      "Record id: NT_187395.1\n",
      "Record id: NT_187396.1\n",
      "Record id: NT_187397.1\n",
      "Record id: NT_187398.1\n",
      "Record id: NT_187399.1\n",
      "Record id: NT_187400.1\n",
      "Record id: NT_187401.1\n",
      "Record id: NT_187402.1\n",
      "Record id: NT_187403.1\n",
      "Record id: NT_187404.1\n",
      "Record id: NT_187405.1\n",
      "Record id: NT_187406.1\n",
      "Record id: NT_187407.1\n",
      "Record id: NT_187408.1\n",
      "Record id: NT_187409.1\n",
      "Record id: NT_187410.1\n",
      "Record id: NT_187411.1\n",
      "Record id: NT_187412.1\n",
      "Record id: NT_187413.1\n",
      "Record id: NT_187414.1\n",
      "Record id: NT_187415.1\n",
      "Record id: NT_187416.1\n",
      "Record id: NT_187417.1\n",
      "Record id: NT_187418.1\n",
      "Record id: NT_187419.1\n",
      "Record id: NT_187420.1\n",
      "Record id: NT_187421.1\n",
      "Record id: NT_187422.1\n",
      "Record id: NT_187423.1\n",
      "Record id: NT_187424.1\n",
      "Record id: NT_187425.1\n",
      "Record id: NT_187426.1\n",
      "Record id: NT_187427.1\n",
      "Record id: NT_187428.1\n",
      "Record id: NT_187429.1\n",
      "Record id: NT_187430.1\n",
      "Record id: NT_187431.1\n",
      "Record id: NT_187432.1\n",
      "Record id: NT_187433.1\n",
      "Record id: NT_187434.1\n",
      "Record id: NT_187435.1\n",
      "Record id: NT_187436.1\n",
      "Record id: NT_187437.1\n",
      "Record id: NT_187438.1\n",
      "Record id: NT_187439.1\n",
      "Record id: NT_187440.1\n",
      "Record id: NT_187441.1\n",
      "Record id: NT_187442.1\n",
      "Record id: NT_187443.1\n",
      "Record id: NT_187444.1\n",
      "Record id: NT_187445.1\n",
      "Record id: NT_187446.1\n",
      "Record id: NT_187447.1\n",
      "Record id: NT_187448.1\n",
      "Record id: NT_187449.1\n",
      "Record id: NT_187450.1\n",
      "Record id: NT_187451.1\n",
      "Record id: NT_187452.1\n",
      "Record id: NT_187453.1\n",
      "Record id: NT_187454.1\n",
      "Record id: NT_187455.1\n",
      "Record id: NT_187456.1\n",
      "Record id: NT_187457.1\n",
      "Record id: NT_187458.1\n",
      "Record id: NT_187459.1\n",
      "Record id: NT_187460.1\n",
      "Record id: NT_187461.1\n",
      "Record id: NT_187462.1\n",
      "Record id: NT_187463.1\n",
      "Record id: NT_187464.1\n",
      "Record id: NT_187465.1\n",
      "Record id: NT_187466.1\n",
      "Record id: NT_187467.1\n",
      "Record id: NT_187468.1\n",
      "Record id: NT_187469.1\n",
      "Record id: NT_187470.1\n",
      "Record id: NT_187471.1\n",
      "Record id: NT_187472.1\n",
      "Record id: NT_187473.1\n",
      "Record id: NT_187474.1\n",
      "Record id: NT_187475.1\n",
      "Record id: NT_187476.1\n",
      "Record id: NT_187477.1\n",
      "Record id: NT_187478.1\n",
      "Record id: NT_187479.1\n",
      "Record id: NT_187480.1\n",
      "Record id: NT_187481.1\n",
      "Record id: NT_187482.1\n",
      "Record id: NT_187483.1\n",
      "Record id: NT_187484.1\n",
      "Record id: NT_187485.1\n",
      "Record id: NT_187486.1\n",
      "Record id: NT_187487.1\n",
      "Record id: NT_187488.1\n",
      "Record id: NT_187489.1\n",
      "Record id: NT_187490.1\n",
      "Record id: NT_187491.1\n",
      "Record id: NT_187492.1\n",
      "Record id: NT_187493.1\n",
      "Record id: NT_187494.1\n",
      "Record id: NT_187495.1\n",
      "Record id: NT_187496.1\n",
      "Record id: NT_113901.1\n",
      "Record id: NT_167213.1\n",
      "Record id: NT_167214.1\n",
      "Record id: NT_167218.1\n",
      "Record id: NT_187497.1\n",
      "Record id: NT_167220.1\n",
      "Record id: NT_167208.1\n",
      "Record id: NT_187498.1\n",
      "Record id: NT_187499.1\n",
      "Record id: NT_187500.1\n",
      "Record id: NT_187501.1\n",
      "Record id: NT_187502.1\n",
      "Record id: NT_187503.1\n",
      "Record id: NT_187504.1\n",
      "Record id: NT_187505.1\n",
      "Record id: NT_187506.1\n",
      "Record id: NT_187508.1\n",
      "Record id: NT_187509.1\n",
      "Record id: NT_187510.1\n",
      "Record id: NT_187511.1\n",
      "Record id: NT_187512.1\n",
      "Record id: NT_167209.1\n",
      "Record id: NT_187513.1\n",
      "Record id: NT_167211.2\n",
      "Record id: NT_113889.1\n",
      "Record id: NW_012132914.1\n",
      "Record id: NW_015495298.1\n",
      "Record id: NW_025791756.1\n",
      "Record id: NW_011332688.1\n",
      "Record id: NW_014040926.1\n",
      "Record id: NW_009646195.1\n",
      "Record id: NW_018654706.1\n",
      "Record id: NW_019805487.1\n",
      "Record id: NW_009646194.1\n",
      "Record id: NW_018654707.1\n",
      "Record id: NW_014040925.1\n",
      "Record id: NW_017852928.1\n",
      "Record id: NW_009646196.1\n",
      "Record id: NW_025791753.1\n",
      "Record id: NW_025791758.1\n",
      "Record id: NW_025791759.1\n",
      "Record id: NW_025791754.1\n",
      "Record id: NW_011332687.1\n",
      "Record id: NW_018654708.1\n",
      "Record id: NW_014040927.1\n",
      "Record id: NW_025791757.1\n",
      "Record id: NW_025791755.1\n",
      "Record id: NW_021159988.1\n",
      "Record id: NW_025791767.1\n",
      "Record id: NW_025791768.1\n",
      "Record id: NW_025791766.1\n",
      "Record id: NW_025791763.1\n",
      "Record id: NW_012132915.1\n",
      "Record id: NW_025791760.1\n",
      "Record id: NW_025791765.1\n",
      "Record id: NW_018654709.1\n",
      "Record id: NW_025791762.1\n",
      "Record id: NW_025791761.1\n",
      "Record id: NW_025791764.1\n",
      "Record id: NW_015495299.1\n",
      "Record id: NW_018654710.1\n",
      "Record id: NW_011332690.1\n",
      "Record id: NW_021159987.1\n",
      "Record id: NW_011332689.1\n",
      "Record id: NW_017363813.1\n",
      "Record id: NW_025791770.1\n",
      "Record id: NW_025791771.1\n",
      "Record id: NW_009646197.1\n",
      "Record id: NW_012132916.1\n",
      "Record id: NW_011332691.1\n",
      "Record id: NW_021159989.1\n",
      "Record id: NW_018654711.1\n",
      "Record id: NW_012132917.1\n",
      "Record id: NW_009646198.1\n",
      "Record id: NW_019805491.1\n",
      "Record id: NW_019805492.1\n",
      "Record id: NW_019805490.1\n",
      "Record id: NW_019805489.1\n",
      "Record id: NW_019805488.1\n",
      "Record id: NW_025791769.1\n",
      "Record id: NW_021159990.1\n",
      "Record id: NW_021159993.1\n",
      "Record id: NW_013171799.1\n",
      "Record id: NW_025791774.1\n",
      "Record id: NW_021159992.1\n",
      "Record id: NW_021159994.1\n",
      "Record id: NW_021159991.1\n",
      "Record id: NW_021159995.1\n",
      "Record id: NW_013171800.1\n",
      "Record id: NW_013171801.1\n",
      "Record id: NW_025791772.1\n",
      "Record id: NW_017363814.1\n",
      "Record id: NW_025791773.1\n",
      "Record id: NW_015495301.1\n",
      "Record id: NW_015495300.1\n",
      "Record id: NW_025791777.1\n",
      "Record id: NW_018654712.1\n",
      "Record id: NW_025791776.1\n",
      "Record id: NW_009646199.1\n",
      "Record id: NW_016107297.1\n",
      "Record id: NW_025791779.1\n",
      "Record id: NW_021159996.1\n",
      "Record id: NW_025791778.1\n",
      "Record id: NW_016107298.1\n",
      "Record id: NW_025791775.1\n",
      "Record id: NW_018654713.1\n",
      "Record id: NW_013171803.1\n",
      "Record id: NW_025791780.1\n",
      "Record id: NW_012132918.1\n",
      "Record id: NW_009646200.1\n",
      "Record id: NW_013171802.1\n",
      "Record id: NW_017363815.1\n",
      "Record id: NW_021159997.1\n",
      "Record id: NW_021159998.1\n",
      "Record id: NW_019805493.1\n",
      "Record id: NW_025791781.1\n",
      "Record id: NW_017852929.1\n",
      "Record id: NW_017852930.1\n",
      "Record id: NW_018654714.1\n",
      "Record id: NW_018654715.1\n",
      "Record id: NW_012132919.1\n",
      "Record id: NW_025791785.1\n",
      "Record id: NW_018654717.1\n",
      "Record id: NW_017852932.1\n",
      "Record id: NW_025791782.1\n",
      "Record id: NW_017852931.1\n",
      "Record id: NW_025791784.1\n",
      "Record id: NW_019805494.1\n",
      "Record id: NW_025791786.1\n",
      "Record id: NW_018654716.1\n",
      "Record id: NW_025791783.1\n",
      "Record id: NW_013171804.1\n",
      "Record id: NW_013171805.1\n",
      "Record id: NW_025791789.1\n",
      "Record id: NW_025791787.1\n",
      "Record id: NW_025791788.1\n",
      "Record id: NW_009646201.1\n",
      "Record id: NW_021159999.1\n",
      "Record id: NW_021160000.1\n",
      "Record id: NW_011332694.1\n",
      "Record id: NW_021160001.1\n",
      "Record id: NW_013171806.1\n",
      "Record id: NW_009646202.1\n",
      "Record id: NW_013171807.1\n",
      "Record id: NW_025791790.1\n",
      "Record id: NW_011332693.1\n",
      "Record id: NW_011332692.1\n",
      "Record id: NW_015148966.2\n",
      "Record id: NW_025791792.1\n",
      "Record id: NW_021160004.1\n",
      "Record id: NW_025791794.1\n",
      "Record id: NW_011332695.1\n",
      "Record id: NW_021160006.1\n",
      "Record id: NW_019805496.1\n",
      "Record id: NW_019805495.1\n",
      "Record id: NW_017363816.1\n",
      "Record id: NW_025791793.1\n",
      "Record id: NW_019805498.1\n",
      "Record id: NW_021160005.1\n",
      "Record id: NW_021160003.1\n",
      "Record id: NW_019805497.1\n",
      "Record id: NW_013171808.1\n",
      "Record id: NW_021160002.1\n",
      "Record id: NW_025791791.1\n",
      "Record id: NW_009646203.1\n",
      "Record id: NW_013171809.1\n",
      "Record id: NW_018654718.1\n",
      "Record id: NW_021160008.1\n",
      "Record id: NW_011332696.1\n",
      "Record id: NW_009646204.1\n",
      "Record id: NW_025791795.1\n",
      "Record id: NW_018654720.1\n",
      "Record id: NW_015148967.1\n",
      "Record id: NW_018654719.1\n",
      "Record id: NW_011332697.1\n",
      "Record id: NW_019805499.1\n",
      "Record id: NW_021160007.1\n",
      "Record id: NW_021160012.1\n",
      "Record id: NW_011332699.1\n",
      "Record id: NW_013171810.1\n",
      "Record id: NW_021160009.1\n",
      "Record id: NW_009646205.1\n",
      "Record id: NW_011332700.1\n",
      "Record id: NW_013171811.1\n",
      "Record id: NW_021160010.1\n",
      "Record id: NW_021160011.1\n",
      "Record id: NW_011332698.1\n",
      "Record id: NW_021160013.1\n",
      "Record id: NW_025791796.1\n",
      "Record id: NW_018654722.1\n",
      "Record id: NW_021160014.1\n",
      "Record id: NW_018654721.1\n",
      "Record id: NW_011332701.1\n",
      "Record id: NW_021160018.1\n",
      "Record id: NW_021160017.1\n",
      "Record id: NW_012132920.1\n",
      "Record id: NW_025791798.1\n",
      "Record id: NW_021160016.1\n",
      "Record id: NW_025791797.1\n",
      "Record id: NW_021160015.1\n",
      "Record id: NW_025791799.1\n",
      "Record id: NW_013171812.1\n",
      "Record id: NW_019805500.1\n",
      "Record id: NW_017852933.1\n",
      "Record id: NW_021160019.1\n",
      "Record id: NW_013171813.1\n",
      "Record id: NW_018654723.1\n",
      "Record id: NW_012132921.1\n",
      "Record id: NW_025791800.1\n",
      "Record id: NW_017363817.1\n",
      "Record id: NW_021160020.1\n",
      "Record id: NW_016107299.1\n",
      "Record id: NW_017363819.1\n",
      "Record id: NW_025791803.1\n",
      "Record id: NW_025791801.1\n",
      "Record id: NW_017363818.1\n",
      "Record id: NW_019805501.1\n",
      "Record id: NW_025791806.1\n",
      "Record id: NW_025791802.1\n",
      "Record id: NW_025791805.1\n",
      "Record id: NW_021160021.1\n",
      "Record id: NW_025791804.1\n",
      "Record id: NW_019805503.1\n",
      "Record id: NW_014040928.1\n",
      "Record id: NW_019805502.1\n",
      "Record id: NW_013171814.1\n",
      "Record id: NW_018654724.1\n",
      "Record id: NW_025791809.1\n",
      "Record id: NW_025791810.1\n",
      "Record id: NW_025791807.1\n",
      "Record id: NW_021160022.1\n",
      "Record id: NW_014040929.1\n",
      "Record id: NW_025791808.1\n",
      "Record id: NW_009646206.1\n",
      "Record id: NW_016107300.1\n",
      "Record id: NW_016107301.1\n",
      "Record id: NW_016107302.1\n",
      "Record id: NW_016107303.1\n",
      "Record id: NW_016107304.1\n",
      "Record id: NW_016107305.1\n",
      "Record id: NW_016107306.1\n",
      "Record id: NW_016107307.1\n",
      "Record id: NW_016107308.1\n",
      "Record id: NW_016107309.1\n",
      "Record id: NW_016107310.1\n",
      "Record id: NW_016107311.1\n",
      "Record id: NW_016107313.1\n",
      "Record id: NW_016107314.1\n",
      "Record id: NW_016107312.1\n",
      "Record id: NW_025791811.1\n",
      "Record id: NW_025791812.1\n",
      "Record id: NW_021160023.1\n",
      "Record id: NW_025791813.1\n",
      "Record id: NW_025791814.1\n",
      "Record id: NW_025791815.1\n",
      "Record id: NW_021160026.1\n",
      "Record id: NW_021160024.1\n",
      "Record id: NW_009646207.1\n",
      "Record id: NW_014040930.1\n",
      "Record id: NW_014040931.1\n",
      "Record id: NW_009646208.1\n",
      "Record id: NW_015148968.1\n",
      "Record id: NW_021160025.1\n",
      "Record id: NW_015148969.2\n",
      "Record id: NW_017363820.1\n",
      "Record id: NW_021160031.1\n",
      "Record id: NW_025791820.1\n",
      "Record id: NW_021160028.1\n",
      "Record id: NW_025791816.1\n",
      "Record id: NW_021160029.1\n",
      "Record id: NW_025791817.1\n",
      "Record id: NW_021160027.1\n",
      "Record id: NW_025791819.1\n",
      "Record id: NW_021160030.1\n",
      "Record id: NW_025791818.1\n",
      "Record id: NW_018654725.1\n",
      "Record id: NW_025791821.1\n",
      "Record id: NW_018654726.1\n",
      "Record id: NW_009646209.1\n",
      "Record id: NT_187515.1\n",
      "Record id: NT_187517.1\n",
      "Record id: NT_187514.1\n",
      "Record id: NT_187520.1\n",
      "Record id: NW_003315905.1\n",
      "Record id: NW_003315906.1\n",
      "Record id: NW_003315907.2\n",
      "Record id: NT_187521.1\n",
      "Record id: NT_187519.1\n",
      "Record id: NT_187516.1\n",
      "Record id: NT_187518.1\n",
      "Record id: NT_187525.1\n",
      "Record id: NT_187526.1\n",
      "Record id: NT_187529.1\n",
      "Record id: NT_187522.1\n",
      "Record id: NW_003315908.1\n",
      "Record id: NT_187524.1\n",
      "Record id: NT_187531.1\n",
      "Record id: NT_187530.1\n",
      "Record id: NT_187528.1\n",
      "Record id: NW_003571033.2\n",
      "Record id: NW_003315909.1\n",
      "Record id: NT_187527.1\n",
      "Record id: NT_187523.1\n",
      "Record id: NW_003871060.2\n",
      "Record id: NT_187535.1\n",
      "Record id: NT_187537.1\n",
      "Record id: NW_003315913.1\n",
      "Record id: NT_187533.1\n",
      "Record id: NT_187536.1\n",
      "Record id: NT_187538.1\n",
      "Record id: NT_187532.1\n",
      "Record id: NT_187534.1\n",
      "Record id: NT_187539.1\n",
      "Record id: NT_187540.1\n",
      "Record id: NW_003315915.1\n",
      "Record id: NT_187541.1\n",
      "Record id: NT_167250.2\n",
      "Record id: NT_187544.1\n",
      "Record id: NW_003315914.1\n",
      "Record id: NT_187542.1\n",
      "Record id: NT_187545.1\n",
      "Record id: NT_187543.1\n",
      "Record id: NT_187550.1\n",
      "Record id: NT_187548.1\n",
      "Record id: NT_187547.1\n",
      "Record id: NW_003315920.1\n",
      "Record id: NW_003571036.1\n",
      "Record id: NT_187551.1\n",
      "Record id: NW_003315917.2\n",
      "Record id: NW_003315918.1\n",
      "Record id: NT_187549.1\n",
      "Record id: NW_003315919.1\n",
      "Record id: NT_187546.1\n",
      "Record id: NT_167244.2\n",
      "Record id: NT_187555.1\n",
      "Record id: NT_187554.1\n",
      "Record id: NW_003315921.1\n",
      "Record id: NT_187556.1\n",
      "Record id: NT_187557.1\n",
      "Record id: NW_004166862.2\n",
      "Record id: NT_187552.1\n",
      "Record id: NT_187553.1\n",
      "Record id: NT_187558.1\n",
      "Record id: NT_187561.1\n",
      "Record id: NT_187559.1\n",
      "Record id: NW_003315922.2\n",
      "Record id: NT_187562.1\n",
      "Record id: NT_187564.1\n",
      "Record id: NT_187563.1\n",
      "Record id: NT_187560.1\n",
      "Record id: NT_187572.1\n",
      "Record id: NT_187568.1\n",
      "Record id: NT_187565.1\n",
      "Record id: NT_187576.1\n",
      "Record id: NT_187570.1\n",
      "Record id: NT_187577.1\n",
      "Record id: NT_187566.1\n",
      "Record id: NT_187567.1\n",
      "Record id: NT_187574.1\n",
      "Record id: NT_187575.1\n",
      "Record id: NT_187573.1\n",
      "Record id: NT_187571.1\n",
      "Record id: NT_187569.1\n",
      "Record id: NW_003315928.1\n",
      "Record id: NW_003315929.1\n",
      "Record id: NW_003315930.1\n",
      "Record id: NW_003315931.1\n",
      "Record id: NT_187578.1\n",
      "Record id: NW_003315934.1\n",
      "Record id: NT_187579.1\n",
      "Record id: NW_003315935.1\n",
      "Record id: NT_187586.1\n",
      "Record id: NT_187584.1\n",
      "Record id: NT_187585.1\n",
      "Record id: NT_187583.1\n",
      "Record id: NW_003315936.1\n",
      "Record id: NW_003871073.1\n",
      "Record id: NW_003871074.1\n",
      "Record id: NT_187582.1\n",
      "Record id: NT_187581.1\n",
      "Record id: NW_003571049.1\n",
      "Record id: NW_003571050.1\n",
      "Record id: NT_187588.1\n",
      "Record id: NW_003315938.1\n",
      "Record id: NT_187587.1\n",
      "Record id: NW_003315939.2\n",
      "Record id: NW_003315941.1\n",
      "Record id: NW_003315942.2\n",
      "Record id: NT_187590.1\n",
      "Record id: NW_003315940.1\n",
      "Record id: NT_187589.1\n",
      "Record id: NT_187591.1\n",
      "Record id: NT_187594.1\n",
      "Record id: NT_187593.1\n",
      "Record id: NT_187597.1\n",
      "Record id: NT_187595.1\n",
      "Record id: NT_187592.1\n",
      "Record id: NT_187596.1\n",
      "Record id: NT_187598.1\n",
      "Record id: NT_187601.1\n",
      "Record id: NT_187599.1\n",
      "Record id: NT_187600.1\n",
      "Record id: NT_187602.1\n",
      "Record id: NT_187604.1\n",
      "Record id: NT_187603.1\n",
      "Record id: NW_003315943.1\n",
      "Record id: NT_187605.1\n",
      "Record id: NW_003315944.2\n",
      "Record id: NT_187606.1\n",
      "Record id: NT_187610.1\n",
      "Record id: NT_187609.1\n",
      "Record id: NT_187608.1\n",
      "Record id: NT_187607.1\n",
      "Record id: NW_003315945.1\n",
      "Record id: NW_003315946.1\n",
      "Record id: NW_003315952.3\n",
      "Record id: NT_187613.1\n",
      "Record id: NT_187611.1\n",
      "Record id: NT_187614.1\n",
      "Record id: NW_003871091.1\n",
      "Record id: NW_003871092.1\n",
      "Record id: NW_003315953.2\n",
      "Record id: NT_167251.2\n",
      "Record id: NW_003315954.1\n",
      "Record id: NT_187615.1\n",
      "Record id: NT_187616.1\n",
      "Record id: NW_003315955.1\n",
      "Record id: NT_187612.1\n",
      "Record id: NT_187618.1\n",
      "Record id: NW_003315956.1\n",
      "Record id: NW_003315959.1\n",
      "Record id: NW_003315960.1\n",
      "Record id: NW_003315957.1\n",
      "Record id: NW_003315958.1\n",
      "Record id: NW_003315961.1\n",
      "Record id: NT_187617.1\n",
      "Record id: NT_187622.1\n",
      "Record id: NT_187621.1\n",
      "Record id: NW_003315962.1\n",
      "Record id: NW_003315964.2\n",
      "Record id: NW_003315965.1\n",
      "Record id: NW_003315963.1\n",
      "Record id: NT_187619.1\n",
      "Record id: NT_187620.1\n",
      "Record id: NW_003571054.1\n",
      "Record id: NW_003315966.2\n",
      "Record id: NT_187623.1\n",
      "Record id: NT_187625.1\n",
      "Record id: NT_187624.1\n",
      "Record id: NW_003315967.2\n",
      "Record id: NT_187628.1\n",
      "Record id: NT_187627.1\n",
      "Record id: NW_003315968.2\n",
      "Record id: NW_003315969.2\n",
      "Record id: NW_003315970.2\n",
      "Record id: NT_187626.1\n",
      "Record id: NT_187629.1\n",
      "Record id: NT_187632.1\n",
      "Record id: NT_187633.1\n",
      "Record id: NT_187630.1\n",
      "Record id: NT_187631.1\n",
      "Record id: NW_003315972.2\n",
      "Record id: NW_003315971.2\n",
      "Record id: NT_187634.1\n",
      "Record id: NT_187635.1\n",
      "Record id: NT_187646.1\n",
      "Record id: NT_187648.1\n",
      "Record id: NT_187647.1\n",
      "Record id: NT_187649.1\n",
      "Record id: NT_187650.1\n",
      "Record id: NT_187651.1\n",
      "Record id: NT_187652.1\n",
      "Record id: NT_113891.3\n",
      "Record id: NT_187653.1\n",
      "Record id: NT_187655.1\n",
      "Record id: NT_187654.1\n",
      "Record id: NT_187656.1\n",
      "Record id: NT_187657.1\n",
      "Record id: NT_187658.1\n",
      "Record id: NT_187659.1\n",
      "Record id: NT_187660.1\n",
      "Record id: NT_187662.1\n",
      "Record id: NT_187664.1\n",
      "Record id: NT_187661.1\n",
      "Record id: NW_003871093.1\n",
      "Record id: NT_187663.1\n",
      "Record id: NT_187665.1\n",
      "Record id: NT_187666.1\n",
      "Record id: NW_003571055.2\n",
      "Record id: NW_004504305.1\n",
      "Record id: NT_187667.1\n",
      "Record id: NT_187678.1\n",
      "Record id: NT_187679.1\n",
      "Record id: NT_167245.2\n",
      "Record id: NT_187680.1\n",
      "Record id: NT_187681.1\n",
      "Record id: NW_003571056.2\n",
      "Record id: NT_187682.1\n",
      "Record id: NT_187688.1\n",
      "Record id: NT_167246.2\n",
      "Record id: NW_003571057.2\n",
      "Record id: NT_187689.1\n",
      "Record id: NT_167247.2\n",
      "Record id: NW_003571058.2\n",
      "Record id: NT_187690.1\n",
      "Record id: NT_167248.2\n",
      "Record id: NW_003571059.2\n",
      "Record id: NT_187691.1\n",
      "Record id: NT_167249.2\n",
      "Record id: NW_003571060.1\n",
      "Record id: NT_187692.1\n",
      "Record id: NW_003571061.2\n",
      "Record id: NT_187693.1\n",
      "Record id: NT_187636.1\n",
      "Record id: NT_187637.1\n",
      "Record id: NT_187638.1\n",
      "Record id: NT_187639.1\n",
      "Record id: NT_187640.1\n",
      "Record id: NT_187641.1\n",
      "Record id: NT_187642.1\n",
      "Record id: NT_187643.1\n",
      "Record id: NT_187644.1\n",
      "Record id: NT_187645.1\n",
      "Record id: NT_187668.1\n",
      "Record id: NT_187669.1\n",
      "Record id: NT_187670.1\n",
      "Record id: NT_187671.1\n",
      "Record id: NT_187672.1\n",
      "Record id: NT_187673.1\n",
      "Record id: NT_187674.1\n",
      "Record id: NT_187675.1\n",
      "Record id: NT_187676.1\n",
      "Record id: NT_187677.1\n",
      "Record id: NT_187683.1\n",
      "Record id: NT_187684.1\n",
      "Record id: NT_187685.1\n",
      "Record id: NT_187686.1\n",
      "Record id: NT_187687.1\n",
      "Record id: NT_113949.2\n",
      "Record id: NC_012920.1\n"
     ]
    }
   ],
   "source": [
    " # Loop over sequences view important attributes, which can be converted to strings\n",
    "for record in seqs:\n",
    "    print(\"Record id:\", record.id)"
   ]
  },
  {
   "cell_type": "code",
   "execution_count": null,
   "id": "d5db2ea0-70dc-472c-8374-1a8ada5842ae",
   "metadata": {},
   "outputs": [
    {
     "name": "stderr",
     "output_type": "stream",
     "text": [
      "IOPub data rate exceeded.\n",
      "The Jupyter server will temporarily stop sending output\n",
      "to the client in order to avoid crashing it.\n",
      "To change this limit, set the config variable\n",
      "`--ServerApp.iopub_data_rate_limit`.\n",
      "\n",
      "Current values:\n",
      "ServerApp.iopub_data_rate_limit=1000000.0 (bytes/sec)\n",
      "ServerApp.rate_limit_window=3.0 (secs)\n",
      "\n"
     ]
    }
   ],
   "source": [
    " # Loop over sequences view important attributes, which can be converted to strings\n",
    "for record in seqs:\n",
    "    print(\"Record id:\", record.id)\n",
    "    print(\"Record sequence:\", str(record.seq))"
   ]
  },
  {
   "cell_type": "code",
   "execution_count": 4,
   "id": "ef80081f-e6bd-4504-b54d-2c85c9d93b1a",
   "metadata": {
    "scrolled": true,
    "tags": []
   },
   "outputs": [
    {
     "name": "stdout",
     "output_type": "stream",
     "text": [
      "length of sequence is:  248956422\n",
      "length of sequence is:  175055\n",
      "length of sequence is:  32032\n",
      "length of sequence is:  127682\n",
      "length of sequence is:  66860\n",
      "length of sequence is:  40176\n",
      "length of sequence is:  42210\n",
      "length of sequence is:  176043\n",
      "length of sequence is:  40745\n",
      "length of sequence is:  41717\n",
      "length of sequence is:  242193529\n",
      "length of sequence is:  161471\n",
      "length of sequence is:  153799\n",
      "length of sequence is:  198295559\n",
      "length of sequence is:  155397\n",
      "length of sequence is:  190214555\n",
      "length of sequence is:  209709\n",
      "length of sequence is:  181538259\n",
      "length of sequence is:  92689\n",
      "length of sequence is:  170805979\n",
      "length of sequence is:  159345973\n",
      "length of sequence is:  145138636\n",
      "length of sequence is:  138394717\n",
      "length of sequence is:  40062\n",
      "length of sequence is:  38054\n",
      "length of sequence is:  176845\n",
      "length of sequence is:  39050\n",
      "length of sequence is:  133797422\n",
      "length of sequence is:  135086622\n",
      "length of sequence is:  133275309\n",
      "length of sequence is:  114364328\n",
      "length of sequence is:  107043718\n",
      "length of sequence is:  201709\n",
      "length of sequence is:  211173\n",
      "length of sequence is:  194050\n",
      "length of sequence is:  191469\n",
      "length of sequence is:  38115\n",
      "length of sequence is:  39555\n",
      "length of sequence is:  172810\n",
      "length of sequence is:  43739\n",
      "length of sequence is:  101991189\n",
      "length of sequence is:  448248\n",
      "length of sequence is:  90338345\n",
      "length of sequence is:  1872759\n",
      "length of sequence is:  83257441\n",
      "length of sequence is:  185591\n",
      "length of sequence is:  280839\n",
      "length of sequence is:  112551\n",
      "length of sequence is:  80373285\n",
      "length of sequence is:  58617616\n",
      "length of sequence is:  64444167\n",
      "length of sequence is:  46709983\n",
      "length of sequence is:  50818468\n",
      "length of sequence is:  150754\n",
      "length of sequence is:  41543\n",
      "length of sequence is:  179772\n",
      "length of sequence is:  42811\n",
      "length of sequence is:  181920\n",
      "length of sequence is:  103838\n",
      "length of sequence is:  99375\n",
      "length of sequence is:  73985\n",
      "length of sequence is:  156040895\n",
      "length of sequence is:  57227415\n",
      "length of sequence is:  37240\n",
      "length of sequence is:  2274\n",
      "length of sequence is:  2165\n",
      "length of sequence is:  1942\n",
      "length of sequence is:  1472\n",
      "length of sequence is:  21476\n",
      "length of sequence is:  4416\n",
      "length of sequence is:  1201\n",
      "length of sequence is:  1444\n",
      "length of sequence is:  2276\n",
      "length of sequence is:  998\n",
      "length of sequence is:  12399\n",
      "length of sequence is:  37690\n",
      "length of sequence is:  1179\n",
      "length of sequence is:  2646\n",
      "length of sequence is:  2489\n",
      "length of sequence is:  1029\n",
      "length of sequence is:  2145\n",
      "length of sequence is:  2321\n",
      "length of sequence is:  2140\n",
      "length of sequence is:  2043\n",
      "length of sequence is:  1445\n",
      "length of sequence is:  981\n",
      "length of sequence is:  1884\n",
      "length of sequence is:  1361\n",
      "length of sequence is:  392061\n",
      "length of sequence is:  1233\n",
      "length of sequence is:  1774\n",
      "length of sequence is:  3920\n",
      "length of sequence is:  92983\n",
      "length of sequence is:  112505\n",
      "length of sequence is:  4055\n",
      "length of sequence is:  2415\n",
      "length of sequence is:  2318\n",
      "length of sequence is:  2186\n",
      "length of sequence is:  1951\n",
      "length of sequence is:  1300\n",
      "length of sequence is:  22689\n",
      "length of sequence is:  138126\n",
      "length of sequence is:  5674\n",
      "length of sequence is:  8127\n",
      "length of sequence is:  6361\n",
      "length of sequence is:  5353\n",
      "length of sequence is:  3253\n",
      "length of sequence is:  1899\n",
      "length of sequence is:  2983\n",
      "length of sequence is:  2168\n",
      "length of sequence is:  993\n",
      "length of sequence is:  91309\n",
      "length of sequence is:  1202\n",
      "length of sequence is:  1599\n",
      "length of sequence is:  1400\n",
      "length of sequence is:  2969\n",
      "length of sequence is:  1553\n",
      "length of sequence is:  7046\n",
      "length of sequence is:  31033\n",
      "length of sequence is:  44474\n",
      "length of sequence is:  4685\n",
      "length of sequence is:  4513\n",
      "length of sequence is:  6504\n",
      "length of sequence is:  6158\n",
      "length of sequence is:  3041\n",
      "length of sequence is:  5796\n",
      "length of sequence is:  1652\n",
      "length of sequence is:  1040\n",
      "length of sequence is:  1368\n",
      "length of sequence is:  2699\n",
      "length of sequence is:  1048\n",
      "length of sequence is:  1428\n",
      "length of sequence is:  1428\n",
      "length of sequence is:  1026\n",
      "length of sequence is:  1121\n",
      "length of sequence is:  1803\n",
      "length of sequence is:  2855\n",
      "length of sequence is:  3530\n",
      "length of sequence is:  8320\n",
      "length of sequence is:  1048\n",
      "length of sequence is:  1045\n",
      "length of sequence is:  1298\n",
      "length of sequence is:  2387\n",
      "length of sequence is:  1537\n",
      "length of sequence is:  1143\n",
      "length of sequence is:  1880\n",
      "length of sequence is:  1216\n",
      "length of sequence is:  970\n",
      "length of sequence is:  1788\n",
      "length of sequence is:  1484\n",
      "length of sequence is:  1750\n",
      "length of sequence is:  1308\n",
      "length of sequence is:  1658\n",
      "length of sequence is:  971\n",
      "length of sequence is:  1930\n",
      "length of sequence is:  990\n",
      "length of sequence is:  4215\n",
      "length of sequence is:  1136\n",
      "length of sequence is:  2656\n",
      "length of sequence is:  1650\n",
      "length of sequence is:  1451\n",
      "length of sequence is:  2378\n",
      "length of sequence is:  2805\n",
      "length of sequence is:  7992\n",
      "length of sequence is:  7642\n",
      "length of sequence is:  182896\n",
      "length of sequence is:  179198\n",
      "length of sequence is:  161802\n",
      "length of sequence is:  179693\n",
      "length of sequence is:  157432\n",
      "length of sequence is:  15008\n",
      "length of sequence is:  164239\n",
      "length of sequence is:  210658\n",
      "length of sequence is:  168472\n",
      "length of sequence is:  41891\n",
      "length of sequence is:  66486\n",
      "length of sequence is:  198735\n",
      "length of sequence is:  93321\n",
      "length of sequence is:  158759\n",
      "length of sequence is:  148850\n",
      "length of sequence is:  150742\n",
      "length of sequence is:  62944\n",
      "length of sequence is:  40191\n",
      "length of sequence is:  36723\n",
      "length of sequence is:  79590\n",
      "length of sequence is:  71251\n",
      "length of sequence is:  137718\n",
      "length of sequence is:  186739\n",
      "length of sequence is:  176608\n",
      "length of sequence is:  161147\n",
      "length of sequence is:  467143\n",
      "length of sequence is:  278659\n",
      "length of sequence is:  1572686\n",
      "length of sequence is:  305542\n",
      "length of sequence is:  349938\n",
      "length of sequence is:  166200\n",
      "length of sequence is:  166136\n",
      "length of sequence is:  44955\n",
      "length of sequence is:  186494\n",
      "length of sequence is:  140355\n",
      "length of sequence is:  141019\n",
      "length of sequence is:  551020\n",
      "length of sequence is:  122022\n",
      "length of sequence is:  516764\n",
      "length of sequence is:  211934\n",
      "length of sequence is:  250447\n",
      "length of sequence is:  847441\n",
      "length of sequence is:  460100\n",
      "length of sequence is:  330031\n",
      "length of sequence is:  212205\n",
      "length of sequence is:  210426\n",
      "length of sequence is:  335159\n",
      "length of sequence is:  84043\n",
      "length of sequence is:  244725\n",
      "length of sequence is:  174385\n",
      "length of sequence is:  489404\n",
      "length of sequence is:  284971\n",
      "length of sequence is:  481245\n",
      "length of sequence is:  431782\n",
      "length of sequence is:  955087\n",
      "length of sequence is:  181658\n",
      "length of sequence is:  500581\n",
      "length of sequence is:  535251\n",
      "length of sequence is:  120381\n",
      "length of sequence is:  535088\n",
      "length of sequence is:  140361\n",
      "length of sequence is:  365499\n",
      "length of sequence is:  145975\n",
      "length of sequence is:  208149\n",
      "length of sequence is:  411654\n",
      "length of sequence is:  301310\n",
      "length of sequence is:  475876\n",
      "length of sequence is:  451168\n",
      "length of sequence is:  373699\n",
      "length of sequence is:  415308\n",
      "length of sequence is:  215443\n",
      "length of sequence is:  175849\n",
      "length of sequence is:  165718\n",
      "length of sequence is:  305979\n",
      "length of sequence is:  105527\n",
      "length of sequence is:  195063\n",
      "length of sequence is:  302885\n",
      "length of sequence is:  197752\n",
      "length of sequence is:  164041\n",
      "length of sequence is:  469342\n",
      "length of sequence is:  235734\n",
      "length of sequence is:  176674\n",
      "length of sequence is:  90922\n",
      "length of sequence is:  205691\n",
      "length of sequence is:  53476\n",
      "length of sequence is:  125549\n",
      "length of sequence is:  341066\n",
      "length of sequence is:  276109\n",
      "length of sequence is:  163749\n",
      "length of sequence is:  236512\n",
      "length of sequence is:  308682\n",
      "length of sequence is:  420675\n",
      "length of sequence is:  113364\n",
      "length of sequence is:  205407\n",
      "length of sequence is:  230434\n",
      "length of sequence is:  2101585\n",
      "length of sequence is:  135987\n",
      "length of sequence is:  208405\n",
      "length of sequence is:  139087\n",
      "length of sequence is:  362221\n",
      "length of sequence is:  302485\n",
      "length of sequence is:  89956\n",
      "length of sequence is:  508332\n",
      "length of sequence is:  673059\n",
      "length of sequence is:  34400\n",
      "length of sequence is:  242796\n",
      "length of sequence is:  82315\n",
      "length of sequence is:  383128\n",
      "length of sequence is:  320750\n",
      "length of sequence is:  268330\n",
      "length of sequence is:  245716\n",
      "length of sequence is:  139427\n",
      "length of sequence is:  73265\n",
      "length of sequence is:  254759\n",
      "length of sequence is:  172555\n",
      "length of sequence is:  464417\n",
      "length of sequence is:  142129\n",
      "length of sequence is:  468267\n",
      "length of sequence is:  589656\n",
      "length of sequence is:  680662\n",
      "length of sequence is:  179932\n",
      "length of sequence is:  429744\n",
      "length of sequence is:  6367528\n",
      "length of sequence is:  265876\n",
      "length of sequence is:  150302\n",
      "length of sequence is:  156998\n",
      "length of sequence is:  106905\n",
      "length of sequence is:  103072\n",
      "length of sequence is:  207371\n",
      "length of sequence is:  165120\n",
      "length of sequence is:  39290\n",
      "length of sequence is:  163882\n",
      "length of sequence is:  134099\n",
      "length of sequence is:  569668\n",
      "length of sequence is:  340717\n",
      "length of sequence is:  482250\n",
      "length of sequence is:  330164\n",
      "length of sequence is:  25408\n",
      "length of sequence is:  454963\n",
      "length of sequence is:  420164\n",
      "length of sequence is:  292944\n",
      "length of sequence is:  185507\n",
      "length of sequence is:  277797\n",
      "length of sequence is:  264545\n",
      "length of sequence is:  196262\n",
      "length of sequence is:  85284\n",
      "length of sequence is:  14347\n",
      "length of sequence is:  204999\n",
      "length of sequence is:  434831\n",
      "length of sequence is:  270122\n",
      "length of sequence is:  122722\n",
      "length of sequence is:  203552\n",
      "length of sequence is:  170928\n",
      "length of sequence is:  279644\n",
      "length of sequence is:  305244\n",
      "length of sequence is:  140877\n",
      "length of sequence is:  344606\n",
      "length of sequence is:  181167\n",
      "length of sequence is:  217075\n",
      "length of sequence is:  165419\n",
      "length of sequence is:  301637\n",
      "length of sequence is:  181958\n",
      "length of sequence is:  45257\n",
      "length of sequence is:  261194\n",
      "length of sequence is:  108875\n",
      "length of sequence is:  109323\n",
      "length of sequence is:  1046838\n",
      "length of sequence is:  192531\n",
      "length of sequence is:  541038\n",
      "length of sequence is:  211377\n",
      "length of sequence is:  104537\n",
      "length of sequence is:  174808\n",
      "length of sequence is:  315610\n",
      "length of sequence is:  64689\n",
      "length of sequence is:  86533\n",
      "length of sequence is:  154139\n",
      "length of sequence is:  297568\n",
      "length of sequence is:  409912\n",
      "length of sequence is:  356766\n",
      "length of sequence is:  168146\n",
      "length of sequence is:  7309\n",
      "length of sequence is:  35455\n",
      "length of sequence is:  148762\n",
      "length of sequence is:  123480\n",
      "length of sequence is:  158944\n",
      "length of sequence is:  65394\n",
      "length of sequence is:  206320\n",
      "length of sequence is:  399183\n",
      "length of sequence is:  722645\n",
      "length of sequence is:  690932\n",
      "length of sequence is:  264228\n",
      "length of sequence is:  171798\n",
      "length of sequence is:  4998962\n",
      "length of sequence is:  396515\n",
      "length of sequence is:  5500449\n",
      "length of sequence is:  2365364\n",
      "length of sequence is:  204007\n",
      "length of sequence is:  369264\n",
      "length of sequence is:  1154574\n",
      "length of sequence is:  97763\n",
      "length of sequence is:  87715\n",
      "length of sequence is:  59016\n",
      "length of sequence is:  480415\n",
      "length of sequence is:  1927115\n",
      "length of sequence is:  270967\n",
      "length of sequence is:  267463\n",
      "length of sequence is:  78609\n",
      "length of sequence is:  169136\n",
      "length of sequence is:  334997\n",
      "length of sequence is:  281919\n",
      "length of sequence is:  137908\n",
      "length of sequence is:  154723\n",
      "length of sequence is:  276292\n",
      "length of sequence is:  538541\n",
      "length of sequence is:  372839\n",
      "length of sequence is:  246895\n",
      "length of sequence is:  116753\n",
      "length of sequence is:  172609\n",
      "length of sequence is:  234878\n",
      "length of sequence is:  187626\n",
      "length of sequence is:  56695\n",
      "length of sequence is:  144689\n",
      "length of sequence is:  163186\n",
      "length of sequence is:  205101\n",
      "length of sequence is:  230843\n",
      "length of sequence is:  407387\n",
      "length of sequence is:  93070\n",
      "length of sequence is:  226166\n",
      "length of sequence is:  89211\n",
      "length of sequence is:  333754\n",
      "length of sequence is:  493165\n",
      "length of sequence is:  405389\n",
      "length of sequence is:  137818\n",
      "length of sequence is:  370917\n",
      "length of sequence is:  163926\n",
      "length of sequence is:  170206\n",
      "length of sequence is:  168131\n",
      "length of sequence is:  293522\n",
      "length of sequence is:  241058\n",
      "length of sequence is:  159285\n",
      "length of sequence is:  178197\n",
      "length of sequence is:  166713\n",
      "length of sequence is:  99845\n",
      "length of sequence is:  161095\n",
      "length of sequence is:  223118\n",
      "length of sequence is:  100553\n",
      "length of sequence is:  171263\n",
      "length of sequence is:  145691\n",
      "length of sequence is:  156965\n",
      "length of sequence is:  273725\n",
      "length of sequence is:  355731\n",
      "length of sequence is:  519485\n",
      "length of sequence is:  336752\n",
      "length of sequence is:  1020778\n",
      "length of sequence is:  189707\n",
      "length of sequence is:  412368\n",
      "length of sequence is:  461303\n",
      "length of sequence is:  156562\n",
      "length of sequence is:  155930\n",
      "length of sequence is:  174749\n",
      "length of sequence is:  153027\n",
      "length of sequence is:  145162\n",
      "length of sequence is:  12295\n",
      "length of sequence is:  101040\n",
      "length of sequence is:  188004\n",
      "length of sequence is:  17435\n",
      "length of sequence is:  330493\n",
      "length of sequence is:  28824\n",
      "length of sequence is:  68810\n",
      "length of sequence is:  68192\n",
      "length of sequence is:  140567\n",
      "length of sequence is:  403128\n",
      "length of sequence is:  294119\n",
      "length of sequence is:  14678\n",
      "length of sequence is:  619716\n",
      "length of sequence is:  48370\n",
      "length of sequence is:  865743\n",
      "length of sequence is:  209722\n",
      "length of sequence is:  101150\n",
      "length of sequence is:  354444\n",
      "length of sequence is:  256271\n",
      "length of sequence is:  109528\n",
      "length of sequence is:  185285\n",
      "length of sequence is:  182439\n",
      "length of sequence is:  110268\n",
      "length of sequence is:  366580\n",
      "length of sequence is:  50258\n",
      "length of sequence is:  911658\n",
      "length of sequence is:  425601\n",
      "length of sequence is:  165834\n",
      "length of sequence is:  136240\n",
      "length of sequence is:  70887\n",
      "length of sequence is:  223625\n",
      "length of sequence is:  120616\n",
      "length of sequence is:  143390\n",
      "length of sequence is:  133041\n",
      "length of sequence is:  138019\n",
      "length of sequence is:  110395\n",
      "length of sequence is:  110099\n",
      "length of sequence is:  96131\n",
      "length of sequence is:  123821\n",
      "length of sequence is:  174166\n",
      "length of sequence is:  161578\n",
      "length of sequence is:  173151\n",
      "length of sequence is:  109187\n",
      "length of sequence is:  224108\n",
      "length of sequence is:  180671\n",
      "length of sequence is:  173649\n",
      "length of sequence is:  248252\n",
      "length of sequence is:  113034\n",
      "length of sequence is:  205312\n",
      "length of sequence is:  162429\n",
      "length of sequence is:  184404\n",
      "length of sequence is:  220246\n",
      "length of sequence is:  376187\n",
      "length of sequence is:  111943\n",
      "length of sequence is:  586476\n",
      "length of sequence is:  158965\n",
      "length of sequence is:  164536\n",
      "length of sequence is:  119912\n",
      "length of sequence is:  205944\n",
      "length of sequence is:  244096\n",
      "length of sequence is:  126136\n",
      "length of sequence is:  179043\n",
      "length of sequence is:  195710\n",
      "length of sequence is:  82728\n",
      "length of sequence is:  226852\n",
      "length of sequence is:  164558\n",
      "length of sequence is:  1612928\n",
      "length of sequence is:  101241\n",
      "length of sequence is:  172708\n",
      "length of sequence is:  173459\n",
      "length of sequence is:  131892\n",
      "length of sequence is:  4672374\n",
      "length of sequence is:  175808\n",
      "length of sequence is:  152148\n",
      "length of sequence is:  124736\n",
      "length of sequence is:  870480\n",
      "length of sequence is:  75005\n",
      "length of sequence is:  185823\n",
      "length of sequence is:  197536\n",
      "length of sequence is:  271782\n",
      "length of sequence is:  157952\n",
      "length of sequence is:  209586\n",
      "length of sequence is:  158166\n",
      "length of sequence is:  119183\n",
      "length of sequence is:  1111570\n",
      "length of sequence is:  271455\n",
      "length of sequence is:  126434\n",
      "length of sequence is:  209988\n",
      "length of sequence is:  145606\n",
      "length of sequence is:  282736\n",
      "length of sequence is:  292436\n",
      "length of sequence is:  985506\n",
      "length of sequence is:  300230\n",
      "length of sequence is:  624492\n",
      "length of sequence is:  141812\n",
      "length of sequence is:  374415\n",
      "length of sequence is:  133535\n",
      "length of sequence is:  36640\n",
      "length of sequence is:  158983\n",
      "length of sequence is:  305841\n",
      "length of sequence is:  132244\n",
      "length of sequence is:  162988\n",
      "length of sequence is:  71551\n",
      "length of sequence is:  171286\n",
      "length of sequence is:  60032\n",
      "length of sequence is:  439082\n",
      "length of sequence is:  179254\n",
      "length of sequence is:  181496\n",
      "length of sequence is:  309802\n",
      "length of sequence is:  210133\n",
      "length of sequence is:  177092\n",
      "length of sequence is:  296895\n",
      "length of sequence is:  204059\n",
      "length of sequence is:  154407\n",
      "length of sequence is:  200998\n",
      "length of sequence is:  191409\n",
      "length of sequence is:  67707\n",
      "length of sequence is:  186169\n",
      "length of sequence is:  167313\n",
      "length of sequence is:  408271\n",
      "length of sequence is:  40090\n",
      "length of sequence is:  120804\n",
      "length of sequence is:  238139\n",
      "length of sequence is:  169178\n",
      "length of sequence is:  138655\n",
      "length of sequence is:  152874\n",
      "length of sequence is:  119498\n",
      "length of sequence is:  184319\n",
      "length of sequence is:  76061\n",
      "length of sequence is:  56134\n",
      "length of sequence is:  191684\n",
      "length of sequence is:  180306\n",
      "length of sequence is:  103832\n",
      "length of sequence is:  169134\n",
      "length of sequence is:  306913\n",
      "length of sequence is:  37287\n",
      "length of sequence is:  322166\n",
      "length of sequence is:  1511111\n",
      "length of sequence is:  180703\n",
      "length of sequence is:  1351393\n",
      "length of sequence is:  478999\n",
      "length of sequence is:  263054\n",
      "length of sequence is:  327382\n",
      "length of sequence is:  296527\n",
      "length of sequence is:  244917\n",
      "length of sequence is:  388773\n",
      "length of sequence is:  430880\n",
      "length of sequence is:  134193\n",
      "length of sequence is:  63982\n",
      "length of sequence is:  232857\n",
      "length of sequence is:  2659700\n",
      "length of sequence is:  192462\n",
      "length of sequence is:  89672\n",
      "length of sequence is:  375691\n",
      "length of sequence is:  391357\n",
      "length of sequence is:  196688\n",
      "length of sequence is:  2877074\n",
      "length of sequence is:  278131\n",
      "length of sequence is:  70345\n",
      "length of sequence is:  133151\n",
      "length of sequence is:  1821992\n",
      "length of sequence is:  223995\n",
      "length of sequence is:  235827\n",
      "length of sequence is:  108763\n",
      "length of sequence is:  90219\n",
      "length of sequence is:  178921\n",
      "length of sequence is:  111737\n",
      "length of sequence is:  289831\n",
      "length of sequence is:  164789\n",
      "length of sequence is:  198278\n",
      "length of sequence is:  104552\n",
      "length of sequence is:  167950\n",
      "length of sequence is:  159547\n",
      "length of sequence is:  167999\n",
      "length of sequence is:  61734\n",
      "length of sequence is:  52969\n",
      "length of sequence is:  385657\n",
      "length of sequence is:  170222\n",
      "length of sequence is:  188024\n",
      "length of sequence is:  155864\n",
      "length of sequence is:  43156\n",
      "length of sequence is:  233762\n",
      "length of sequence is:  987716\n",
      "length of sequence is:  128386\n",
      "length of sequence is:  118774\n",
      "length of sequence is:  58661\n",
      "length of sequence is:  183433\n",
      "length of sequence is:  63917\n",
      "length of sequence is:  166743\n",
      "length of sequence is:  143900\n",
      "length of sequence is:  201197\n",
      "length of sequence is:  74653\n",
      "length of sequence is:  116689\n",
      "length of sequence is:  82692\n",
      "length of sequence is:  259914\n",
      "length of sequence is:  186262\n",
      "length of sequence is:  304135\n",
      "length of sequence is:  263666\n",
      "length of sequence is:  101331\n",
      "length of sequence is:  96924\n",
      "length of sequence is:  162811\n",
      "length of sequence is:  284869\n",
      "length of sequence is:  144206\n",
      "length of sequence is:  162212\n",
      "length of sequence is:  214158\n",
      "length of sequence is:  161218\n",
      "length of sequence is:  162896\n",
      "length of sequence is:  378547\n",
      "length of sequence is:  1144418\n",
      "length of sequence is:  130957\n",
      "length of sequence is:  4795265\n",
      "length of sequence is:  190869\n",
      "length of sequence is:  136959\n",
      "length of sequence is:  318687\n",
      "length of sequence is:  106711\n",
      "length of sequence is:  214625\n",
      "length of sequence is:  572349\n",
      "length of sequence is:  196384\n",
      "length of sequence is:  5161414\n",
      "length of sequence is:  137721\n",
      "length of sequence is:  157099\n",
      "length of sequence is:  325800\n",
      "length of sequence is:  88070\n",
      "length of sequence is:  1423190\n",
      "length of sequence is:  174061\n",
      "length of sequence is:  157710\n",
      "length of sequence is:  729520\n",
      "length of sequence is:  74013\n",
      "length of sequence is:  274009\n",
      "length of sequence is:  166540\n",
      "length of sequence is:  555799\n",
      "length of sequence is:  4604811\n",
      "length of sequence is:  229282\n",
      "length of sequence is:  218612\n",
      "length of sequence is:  1064304\n",
      "length of sequence is:  176103\n",
      "length of sequence is:  163458\n",
      "length of sequence is:  4677643\n",
      "length of sequence is:  1091841\n",
      "length of sequence is:  197351\n",
      "length of sequence is:  4827813\n",
      "length of sequence is:  1066390\n",
      "length of sequence is:  164170\n",
      "length of sequence is:  4606388\n",
      "length of sequence is:  1002683\n",
      "length of sequence is:  165607\n",
      "length of sequence is:  4929269\n",
      "length of sequence is:  987100\n",
      "length of sequence is:  76752\n",
      "length of sequence is:  796479\n",
      "length of sequence is:  1066800\n",
      "length of sequence is:  248807\n",
      "length of sequence is:  170399\n",
      "length of sequence is:  157053\n",
      "length of sequence is:  171027\n",
      "length of sequence is:  204239\n",
      "length of sequence is:  209512\n",
      "length of sequence is:  155532\n",
      "length of sequence is:  170698\n",
      "length of sequence is:  184499\n",
      "length of sequence is:  170680\n",
      "length of sequence is:  205194\n",
      "length of sequence is:  170665\n",
      "length of sequence is:  184516\n",
      "length of sequence is:  190932\n",
      "length of sequence is:  123111\n",
      "length of sequence is:  170701\n",
      "length of sequence is:  198005\n",
      "length of sequence is:  282224\n",
      "length of sequence is:  187935\n",
      "length of sequence is:  189352\n",
      "length of sequence is:  186203\n",
      "length of sequence is:  200773\n",
      "length of sequence is:  170148\n",
      "length of sequence is:  215732\n",
      "length of sequence is:  170537\n",
      "length of sequence is:  177381\n",
      "length of sequence is:  16569\n"
     ]
    }
   ],
   "source": [
    "for record in seqs:\n",
    "    print(\"length of sequence is: \", len(record))"
   ]
  },
  {
   "cell_type": "code",
   "execution_count": 3,
   "id": "cde91667-f307-48b6-89c8-4666285f57c0",
   "metadata": {
    "tags": []
   },
   "outputs": [
    {
     "name": "stdout",
     "output_type": "stream",
     "text": [
      "NC_000001.11\n",
      "NC_012920.1\n"
     ]
    }
   ],
   "source": [
    "print(seqs[0].id)  # first record\n",
    "print(seqs[-1].id)  # last record"
   ]
  },
  {
   "cell_type": "code",
   "execution_count": 3,
   "id": "33f179ae-c5ef-49a0-bb64-2cf1c66b6933",
   "metadata": {},
   "outputs": [
    {
     "name": "stdout",
     "output_type": "stream",
     "text": [
      "ID: NC_000001.11\n",
      "Name: NC_000001.11\n",
      "Description: NC_000001.11 Homo sapiens chromosome 1, GRCh38.p14 Primary Assembly\n",
      "Number of features: 0\n",
      "Seq('NNNNNNNNNNNNNNNNNNNNNNNNNNNNNNNNNNNNNNNNNNNNNNNNNNNNNN...NNN')\n"
     ]
    }
   ],
   "source": [
    "print(seqs[0]) #1st sequence"
   ]
  },
  {
   "cell_type": "code",
   "execution_count": 4,
   "id": "fea28e5b-8c66-45bb-a178-4090a5fea0d9",
   "metadata": {},
   "outputs": [
    {
     "name": "stdout",
     "output_type": "stream",
     "text": [
      "ID: NT_187432.1\n",
      "Name: NT_187432.1\n",
      "Description: NT_187432.1 Homo sapiens unplaced genomic scaffold, GRCh38.p14 Primary Assembly HSCHRUN_RANDOM_136\n",
      "Number of features: 0\n",
      "Seq('AGGGCCTCAAAgcacgccaaatatccacttgcagatcctatgaaaagagtgttc...GAG')\n"
     ]
    }
   ],
   "source": [
    "print(seqs[100]) #100th sequence"
   ]
  },
  {
   "cell_type": "code",
   "execution_count": 6,
   "id": "d9239e3b-2742-4f1e-84f5-421f9c67e971",
   "metadata": {},
   "outputs": [
    {
     "name": "stdout",
     "output_type": "stream",
     "text": [
      "ID: NT_187422.1\n",
      "Name: NT_187422.1\n",
      "Description: NT_187422.1 Homo sapiens unplaced genomic scaffold, GRCh38.p14 Primary Assembly HSCHRUN_RANDOM_126\n",
      "Number of features: 0\n",
      "Seq('ggaatgttcaactctatgagttgaatgcaaacatcacaaagaaattctgagaat...att') ID: NT_113930.2\n",
      "Name: NT_113930.2\n",
      "Description: NT_113930.2 Homo sapiens chromosome 17 unlocalized genomic scaffold, GRCh38.p14 Primary Assembly HSCHR17_RANDOM_CTG3\n",
      "Number of features: 0\n",
      "Seq('gaattctatgtgagggagaaacactcagaacccagcagcagtgttctggaatcc...TGT') ID: NT_187452.1\n",
      "Name: NT_187452.1\n",
      "Description: NT_187452.1 Homo sapiens unplaced genomic scaffold, GRCh38.p14 Primary Assembly HSCHRUN_RANDOM_160\n",
      "Number of features: 0\n",
      "Seq('cttaaagtataataaaaaaagaaagtttcaaaactgctgtatcacaagataggt...TCC')\n"
     ]
    }
   ],
   "source": [
    "print(seqs[90], seqs[45], seqs[120])"
   ]
  },
  {
   "cell_type": "code",
   "execution_count": 3,
   "id": "86e8829e-3b43-4a5f-9b49-e5164c4c231c",
   "metadata": {},
   "outputs": [],
   "source": [
    "import pyspark"
   ]
  },
  {
   "cell_type": "code",
   "execution_count": 4,
   "id": "37f5b5c3-5af2-4fec-8edd-68b02a6c246b",
   "metadata": {},
   "outputs": [],
   "source": [
    "import os\n",
    "os.environ[\"PYARROW_IGNORE_TIMEZONE\"] = \"1\""
   ]
  },
  {
   "cell_type": "code",
   "execution_count": 5,
   "id": "18a1d85d-37b0-4a6c-a861-25c338f1ff06",
   "metadata": {},
   "outputs": [],
   "source": [
    "import pandas as pd\n",
    "import numpy as np\n",
    "import pyspark.pandas as ps\n",
    "from pyspark.sql import SparkSession\n",
    "from pyspark.sql.dataframe import DataFrame"
   ]
  },
  {
   "cell_type": "code",
   "execution_count": 9,
   "id": "9703ed23-b070-419b-9f5c-b1bb2565f0e8",
   "metadata": {},
   "outputs": [
    {
     "name": "stdout",
     "output_type": "stream",
     "text": [
      "Requirement already satisfied: matplotlib in /opt/conda/lib/python3.9/site-packages (3.5.2)\n",
      "Requirement already satisfied: pillow>=6.2.0 in /opt/conda/lib/python3.9/site-packages (from matplotlib) (9.1.1)\n",
      "Requirement already satisfied: packaging>=20.0 in /opt/conda/lib/python3.9/site-packages (from matplotlib) (21.3)\n",
      "Requirement already satisfied: pyparsing>=2.2.1 in /opt/conda/lib/python3.9/site-packages (from matplotlib) (3.0.9)\n",
      "Requirement already satisfied: kiwisolver>=1.0.1 in /opt/conda/lib/python3.9/site-packages (from matplotlib) (1.4.2)\n",
      "Requirement already satisfied: cycler>=0.10 in /opt/conda/lib/python3.9/site-packages (from matplotlib) (0.11.0)\n",
      "Requirement already satisfied: python-dateutil>=2.7 in /opt/conda/lib/python3.9/site-packages (from matplotlib) (2.8.2)\n",
      "Requirement already satisfied: fonttools>=4.22.0 in /opt/conda/lib/python3.9/site-packages (from matplotlib) (4.33.3)\n",
      "Requirement already satisfied: numpy>=1.17 in /opt/conda/lib/python3.9/site-packages (from matplotlib) (1.21.6)\n",
      "Requirement already satisfied: six>=1.5 in /opt/conda/lib/python3.9/site-packages (from python-dateutil>=2.7->matplotlib) (1.16.0)\n",
      "Note: you may need to restart the kernel to use updated packages.\n"
     ]
    }
   ],
   "source": [
    "pip install matplotlib"
   ]
  },
  {
   "cell_type": "code",
   "execution_count": 6,
   "id": "b249c89a-8e2d-4111-8c74-f1117e63eb8f",
   "metadata": {},
   "outputs": [],
   "source": [
    "import pylab\n",
    "from itertools import combinations"
   ]
  },
  {
   "cell_type": "code",
   "execution_count": 7,
   "id": "a89a8d58-84c4-42a8-a339-b08457ae2645",
   "metadata": {},
   "outputs": [
    {
     "name": "stdout",
     "output_type": "stream",
     "text": [
      "[SeqRecord(seq=Seq('NNNNNNNNNNNNNNNNNNNNNNNNNNNNNNNNNNNNNNNNNNNNNNNNNNNNNN...NNN'), id='NC_000001.11', name='NC_000001.11', description='NC_000001.11 Homo sapiens chromosome 1, GRCh38.p14 Primary Assembly', dbxrefs=[]), SeqRecord(seq=Seq('GAATTCAGCTGAGAAGAACAGGCAAGGACTTAGGAAATATTCCTTATTTGAAGG...TTC'), id='NT_187361.1', name='NT_187361.1', description='NT_187361.1 Homo sapiens chromosome 1 unlocalized genomic scaffold, GRCh38.p14 Primary Assembly HSCHR1_CTG1_UNLOCALIZED', dbxrefs=[]), SeqRecord(seq=Seq('AGGGGTCTGCTTAGAGAGGGTCTCATTAGTGGGGTCTAGTAGTGGGGTTTTGGT...TTC'), id='NT_187362.1', name='NT_187362.1', description='NT_187362.1 Homo sapiens chromosome 1 unlocalized genomic scaffold, GRCh38.p14 Primary Assembly HSCHR1_CTG2_UNLOCALIZED', dbxrefs=[]), SeqRecord(seq=Seq('gatcgagactatcctggctaacacggtgaaaccccgtctctactaaaaatacaa...ATC'), id='NT_187363.1', name='NT_187363.1', description='NT_187363.1 Homo sapiens chromosome 1 unlocalized genomic scaffold, GRCh38.p14 Primary Assembly HSCHR1_CTG3_UNLOCALIZED', dbxrefs=[]), SeqRecord(seq=Seq('gaattcattcgatgacgattccattcaattccgttcaatgattccattagattc...TTC'), id='NT_187364.1', name='NT_187364.1', description='NT_187364.1 Homo sapiens chromosome 1 unlocalized genomic scaffold, GRCh38.p14 Primary Assembly HSCHR1_CTG4_UNLOCALIZED', dbxrefs=[])]\n"
     ]
    }
   ],
   "source": [
    "genes = seqs[0:5]\n",
    "print(genes)"
   ]
  },
  {
   "cell_type": "code",
   "execution_count": 7,
   "id": "24448f52-d6d6-4b22-b9b2-f088187b3b18",
   "metadata": {},
   "outputs": [],
   "source": [
    "import pandas as pd\n",
    "from pyspark.sql import SQLContext, DataFrameWriter\n",
    "from pyspark.sql.types import *\n",
    "from pyspark import SparkContext"
   ]
  },
  {
   "cell_type": "code",
   "execution_count": 9,
   "id": "fd391103-2e60-469c-a48c-779a93657f53",
   "metadata": {},
   "outputs": [
    {
     "data": {
      "text/plain": [
       "SeqRecord(seq=Seq('ggaatgttcaactctatgagttgaatgcaaacatcacaaagaaattctgagaat...att'), id='NT_187422.1', name='NT_187422.1', description='NT_187422.1 Homo sapiens unplaced genomic scaffold, GRCh38.p14 Primary Assembly HSCHRUN_RANDOM_126', dbxrefs=[])"
      ]
     },
     "execution_count": 9,
     "metadata": {},
     "output_type": "execute_result"
    }
   ],
   "source": [
    "dna_1 = seqs[90]\n",
    "dna_1"
   ]
  },
  {
   "cell_type": "code",
   "execution_count": 24,
   "id": "c5804c55-b56a-4102-9379-c5d3f11de025",
   "metadata": {},
   "outputs": [
    {
     "data": {
      "text/plain": [
       "Bio.SeqRecord.SeqRecord"
      ]
     },
     "execution_count": 24,
     "metadata": {},
     "output_type": "execute_result"
    }
   ],
   "source": [
    "type(dna_1)"
   ]
  },
  {
   "cell_type": "code",
   "execution_count": 10,
   "id": "7289ede0-f446-464f-9b93-ce743294630d",
   "metadata": {},
   "outputs": [],
   "source": [
    "for record in seqs:\n",
    "    dna_2 = record\n",
    "    break"
   ]
  },
  {
   "cell_type": "code",
   "execution_count": 11,
   "id": "3c3e9c2f-c783-41e3-bec3-4dcd9f352e3c",
   "metadata": {},
   "outputs": [
    {
     "data": {
      "text/plain": [
       "SeqRecord(seq=Seq('NNNNNNNNNNNNNNNNNNNNNNNNNNNNNNNNNNNNNNNNNNNNNNNNNNNNNN...NNN'), id='NC_000001.11', name='NC_000001.11', description='NC_000001.11 Homo sapiens chromosome 1, GRCh38.p14 Primary Assembly', dbxrefs=[])"
      ]
     },
     "execution_count": 11,
     "metadata": {},
     "output_type": "execute_result"
    }
   ],
   "source": [
    "dna_2"
   ]
  },
  {
   "cell_type": "code",
   "execution_count": 12,
   "id": "e5f690d2-2d1e-45e5-a0b7-da86b035ed48",
   "metadata": {},
   "outputs": [
    {
     "data": {
      "text/plain": [
       "'NC_000001.11'"
      ]
     },
     "execution_count": 12,
     "metadata": {},
     "output_type": "execute_result"
    }
   ],
   "source": [
    "dna_2.id"
   ]
  },
  {
   "cell_type": "code",
   "execution_count": 13,
   "id": "46d188b3-238b-4538-98f4-cfd4dccfa2ab",
   "metadata": {},
   "outputs": [
    {
     "data": {
      "text/plain": [
       "Seq('NNNNNNNNNNNNNNNNNNNNNNNNNNNNNNNNNNNNNNNNNNNNNNNNNNNNNN...NNN')"
      ]
     },
     "execution_count": 13,
     "metadata": {},
     "output_type": "execute_result"
    }
   ],
   "source": [
    "dna_2.seq"
   ]
  },
  {
   "cell_type": "code",
   "execution_count": 14,
   "id": "0636372e-7b0c-441b-8980-2622ae25d1d5",
   "metadata": {},
   "outputs": [
    {
     "data": {
      "text/plain": [
       "SeqRecord(seq=Seq('GCCTTCAGAGTTACAAGGCTATATCAGTTTTCCACGATTGTTTCCCCTTTTTGT...CAG'), id='NT_187381.1', name='NT_187381.1', description='NT_187381.1 Homo sapiens chromosome 14 unlocalized genomic scaffold, GRCh38.p14 Primary Assembly HSCHR14_CTG8_UNLOCALIZED', dbxrefs=[])"
      ]
     },
     "execution_count": 14,
     "metadata": {},
     "output_type": "execute_result"
    }
   ],
   "source": [
    "seqs[39]"
   ]
  },
  {
   "cell_type": "code",
   "execution_count": 15,
   "id": "84b52058-c2f4-45a0-aed2-56a756ad96f4",
   "metadata": {},
   "outputs": [
    {
     "name": "stderr",
     "output_type": "stream",
     "text": [
      "/opt/conda/lib/python3.9/site-packages/Bio/Seq.py:2979: BiopythonWarning: Partial codon, len(sequence) not a multiple of three. Explicitly trim the sequence or add trailing N before translation. This may become an error in future.\n",
      "  warnings.warn(\n"
     ]
    },
    {
     "data": {
      "text/plain": [
       "SeqRecord(seq=Seq('AFRVTRLYQFSTIVSPFCCWLFPPLFYMFYFSFPLFSLLMGCKTSQHLKYR*K*...RLG'), id='<unknown id>', name='<unknown name>', description='<unknown description>', dbxrefs=[])"
      ]
     },
     "execution_count": 15,
     "metadata": {},
     "output_type": "execute_result"
    }
   ],
   "source": [
    "seqs[39].translate()"
   ]
  },
  {
   "cell_type": "code",
   "execution_count": 16,
   "id": "3631a896-afc1-4e8a-83a4-b9419f8b9456",
   "metadata": {},
   "outputs": [
    {
     "data": {
      "text/plain": [
       "Seq('tttctttcttttttttttttttgtggtgaggacccttaagatctactctcccag...TTC')"
      ]
     },
     "execution_count": 16,
     "metadata": {},
     "output_type": "execute_result"
    }
   ],
   "source": [
    "seqs[700].seq"
   ]
  },
  {
   "cell_type": "code",
   "execution_count": 21,
   "id": "2d47b78b-c1ef-4da1-8e12-ac76d3259332",
   "metadata": {
    "scrolled": true,
    "tags": []
   },
   "outputs": [
    {
     "name": "stdout",
     "output_type": "stream",
     "text": [
      "GCCTTCAGAGTACAAGGCTATATCAGTTTTCCACGATTGTTTCCCCTTTTTGTTGTTGGTTATTTCCacctttattttatatgttttacttctctttccccctattttctttattaatgggATGCAAGACTTCACAGCATTTGAAATATAGGTAAAAATGAGCTATCCTAACAAACTGGGACCTATTTATCAAGGAATAATCGGTCCTACCCATGAAAGATAAAACAGCACGGGAGACCAGAGACaaatttttttagtaaaatacattctctgaaagattttgaaaaagaagaggtggggaaagtgtgaaaggaaaataaaaacttgtgaTTTCAATTCATTATGtcatgaggggaaaaaaaaaactaaaagatgagtcatgcaagaaactgattttcctttcattcctaagaaaatagctacagataaaaggttaaatagtttcacagatagctactatttgttcatttttgaaacaGTGCAGGAGAACGACCTAATTTTCTATTTCCCTATGTGCTTCTTTTCCATTACAACATGTAAATTCTCATACGGTCCTTCTTTCCCCTCTAGCCAGCTTTTCCCTTTTATATATTGAAAGCTCTAAAAACCGTCCTTGGGAGAACGGCACTGACCACACACTGTTTCTGTgattacttttacttttcttccaggCATGTCCTAACTttggcaaaattaattttaatttgattgaCATCTGTCTCAGAAATCTTTGATTTGCACTAGGAAAGATGCCAAATTAGGAGCCAGTTACTGTAAAACTCAGCCATACCACTGTgcgtgcatgtgtgagtgtgtgtgtgtgtacatgtgtgctttaatttttgtgggctTTAAGCCATGTCGTTCTCTCTGTGAAGATACGATTTGGCGTGACCTTTGAATAgagaattctaaaataaataagagtcTCCTATGAATTCTGTGAAAATTTCTGGACTCACCAATGATCTTGACTGTGTCATTGCATCTGACAGTCCCAGGGAAGAGACTCTCTGGTGGTTTCATAAAATCTGTGCTTGGGTTCCCCCTGCAGATTACTGGGTATAGTGATGCCAAATCACTGTTTAAGAGACAATTTCAAAACATAAGATGCTGCTGAAAGAGCATTTTGAATCAGGGGACAGCCCCTTCATTGTGAGAGAGCGACATTGGGAGAATATGCTCTGTGAGCCCAAACAGCATCCTCTGCAGGGTGAGGGCAGAGCGGCAGGGCAAGCCCAGAGCCCACTCAACACAGATGTCAGCCCTGGAGCTGCTGCAGAGGAGTCTGAGGAGAAAAATTTTCCAGCACCTGAATTACACTTATTTCAAAAcgaaaatgcaattaaaaagttaaaaaaagtaattaagacacagtggcttacacctataatctgaGAAATTtgaggctgaggttggaagattacatgaacccaggagtttgagatcagcctgtgaAAAATAGTGaggcttcatttttatttctgaaaaaaaaattaacccaatgAGTCAATGAGAACcaaacttgaaaaaagaaaattttagagtTTTCATATATCTTAATAGTTGGAAGATgtagaacaaaaataattttatcaattcAATGTGTGCAAATACTGAGAGACACACTCATGCCCAGAATTCAACCTGCAGAGGGCAAAACCCAAAAAAATGTAGAGGTTGTTAATGTTCCATTTGAAGGTGAGATCATTTTGAGGACCATGTCCTGTGAGAGTCTGTTTCTCTATTAGAAGAGTTCTGTACTCATAAAGTTCTGGACATGCCAGGAGACAAATATCAGTAAACAAACATCAGAACTTGAACTTCAGCTTCCCACTGTGGCATTCTCCATGTGTCATCTCTCTAGTATTTCTCATGCTAGATCAGGTCTTTAGCTATGAAATATTCCTCCTAATTAATGTAAATAGCTTGAAGTCTACAgagttaaatatgtatattttctcctgtttttctcaGTTCTTCCCTCCCACAGCTCCAATATTCTCCACTGTTATCATCACCTTCTGTATTGCCATGCCCTGCAGGTTAAGGATTTGTTTCCATGACCGAGAGGAGGTACAGCTCCATGGAACTTTGGTGAGAACCTCtgttttgatttcatttcctctggGGCTCCACAAGTGCCTGTGGAAGCATGGTTTCAGTGGCTTGCCCCTGCAGGGTAGATAACTCCTTGATTCTGTAGTGCTAATGAGGGATTTGGTCTGACTGCATTTCAGAAGTATGggttctccttctctctcagaaAGACACTTTGGGAAAGGAAGATTATTCTGATTGTCCCCATTCTAGAACAAAGGGATTCAACTGGATAGGAATGCTGATAAAAGAAAACCTTtggccaaattaaatttaaaggagtttaattgagcaatggaTGATTCATGGATCAGGCAGACCCCCAATCACAGCAGATTCAAAGAGACTTCAGTGCAGCCACGTTGTGGAAgaagattaatatatttttttaaaaacgatgtccagaaatcagaagtgaggtacagaaaaagGTGGATTGGTTACAGGTGGGTGTTTGTCTATTtaaacacagtttgaacactcaagAGTGTATGAGTGGTTAAGGTATGGCTGCTGGAATTGGCCAAggctcagctattgttacaggtgcgtactcctaagttaggttttcaaccTTGTCCCCCTATTCAGGTAGGTTACAGTTGGTCCACAAGGATTCAAACAAAGAAGTagggagtccttctcaggccatatttaatTCACTTTATCAGTGCCCTTCAGCATATGGTTCCTGAGAATTTCACACTGCAACACGTTTACCACACTGGAATTTAAGCAATCCAACACGTTTGTAGCTTTATCTTGTAGCTTTATCTTTCTATATGTCATGTGGCAGCTTCTTGCCTCAGTTTAGCTAACACTGTGGCTTTGTTTCTCTCTACAGGAACTTGTTTCTCCCAAGATTTCCATgtttgtgaaaggaaaagaaatctttgggacccccaaatcactaagccaaagggaaaagtcaagctgaaaACTGTTTGGGGCAAACCcatctccatttttttccctaaaatgatAGCTACTAAGGTTTTAAAAAGCTACACACCTCCTTCAAAATTTGACCCAAAGAAGAACCCTTGTGGACCAAGGACAGAGTCATTTCTCTGCTCACATAAgtcaaatgcatatctgattgctacCTTTGCTCTACTGCTTTGCTAAGCCAGACTAAGGCCTACGTGAATATTCCTTTAATTGCACATTTAGTTAAAGGCTAatgagaaactcaaaagaatgcattTGTCTCATACCTACCTATGATCTGGAAGCTCTCTCCCCagttcaagttgtcctgcctttctgaatTAAATCAGtatacatcttacatatattaattaatgTCTTGTGTCTCCCTAaattgtataaaaccaagctgtgttctgccaccttgggcacatgtcgtcaggacttcctgaggctgtgtcactggCATGTCCTTAATCTTGGAAAATGAACTTCCTAAATCTATTGAGATTAGTCTCAGATACTCTTTGGTTTACAGGTTTGTTTTCTATCGCATAACTTCCATTAtctgaaatattaaagaaaatttgcCAAATAGCACATTCTCTTGTTTTTTGttgcaaaaagaaatatatttataaaatttatatacaatttataatcTATGCACATTACCAAACTGAGTAGCATATTTATTATTAAGACCCAGAGTAATGAATAATTCAAATACCAATTAGCAacttaatagaaaaacaaattatgctACATTTGTTTGCTGAAATGCTACCCAGTATTTATGAGAAACACATACAACATAAAAGGTTTAATTTCCACTATTTCTATTGAGAAAAATAAGCCAAATAGATAACAGTACATATCATATTATTCATTCTtataaattctagaaaataaaagctagtataaagaaatatgaaaacatcAGTAGTTTTATAAGGAAATggtagaagaaggaaggagaaaaaccaaaaaaaataatagacCAAGAGAAATGCTGAGGAGAGTTGACTTGTCACCttctttaaaatagagatttttttcaaagtttactATTGTACAGggtaaatatgtgaattttattatctgtcaattaaaactCATAAAATTTATTGCAAGTAAACAGCTAAAAACTTAGACAAAAAAGGGATGATAGGaaggaacaaataaatatgttaaatatcatATACACCAAATATTTATCTGCCTGACGCCTAGTTGTCTCTGTATTTTTAGGTAAATGCAGGAAAATTACACAGGTTCTCATGACAGGAAGTGGATTCTGCAAACCACACTAGGCCCATTTAGCTCTGTCCTAGAGTTGGTTCAGAGAGCAATTGAGGCCAGTTGTGAGGAGCATAGGCCCAGATACTGGGACTCACTCATGCCAGATATAAACCCATGAACACATACATAGCCCTTCCACGTGTAGGTTCACTTTTACATCTGTAAATGAAGAAACCACTGACtcttaaataacataatttatacacataggtaaaaataattaaaaatgtgataGTTGTTAAATGTTTATCACAGAACAATTTCAAAATAAGGCAGCATTTTCCCAAATACAATCATTGTCACCAAAATCCCCCAGGACGCTCTCATCTGCTCTTGGCCCTGCCCTCTCCTCAGGCGTCCCACCCCTGAGCTTGCTATGTAGTAGGAGACATGCAAATAGGGCCTTCCCTCTCCTGATGAAAAccagcccagccctgaccctgcAGCTCTGGGAGTGGAGCCCCAGCCTTGGGATTCCCAGGTGTTTTCATTCAGTGATCAGGACTGAACATACAGAACTCATCATGCAGTTTGTGCTGAGCTGGGTTTTCCTTGTtgctattttaaaagatgattcaTGGAGAACTACAGATGTTGAGTGTGAGTGGACATGAGTGAGCAAAACAGTGGGTATGTGTGGCAGTTTCTGACCTTGGTGTCTCTGTGTTTGCAGGTGTCCAGTGTGAGGTGCAGCTGGTGGAGTCTCGGGGAGTCTTGGTACAGCCTGGGGGGTCCCTGAGACTCTCCTGTGCAGCCTCTGGATTCACCGTCAGTAgcaatgagatgagctgggtcCGCCAGGCTCCAGGGAAGGGTCTGGAGTGGGTCTCATCCATTAGTGGTGGTAGCACATACTACGCAGACTCCAGGAAGGGCAGATTCACCATCTCCAGAGACAATTCCAAGAACACGCTGCATCTTCAAATGAACAGCCTGAGAGCTGAGGACACGGCTGTGTATTACTGTAAGAAAGACACAGTGAGGGGAGGTCATTGTGTGCCCAGACACAAACCTCCCTGCAGGAACGCTGGGGGGAAATCAGCGGCAGGGGGCGCTCAGGAGCCACTGATCAGAGTCAGCCCCGGAGGCAGGTGCAGATGGAGGCTGTTTCCTGTCAGGATGTGGGACTTCATCTTCTTCCAACAGTTTCTCTAATGAACCTCTCTAATTTTAGAATTCTGTGGTTCCTAATGTCATCTctacatattttcaaaagatCATTTTAATATGAGGGCATAACCTCTCATACACCAAATGCACATTGATGTTTACAAAGATGAAAAGTTCTCAACCATTGTCACCAGGATCGCAGTCCTGAGGAAGCTCATGGGTGCCTGATGAGTCTCCTCCATTCAGGCCCAGGACAGAAACCTCAGGGAGACTCCTGGACTAGAACGGCAGGGATTCTGATCACAGCCAAtagagaggctgagccagggtcAGTGTCCTGTAGGAGCTCACAGGGTTCAAGTCTGACCCTTCTCCTGACCCTAAAGCCAATCCGCATCAGCACTGATCTGGTGCTCCTTTTGCTCCCAATACATGTTCTTTCTTTGGAgtgtttgttttcccttttttatttgcttttctttcttcctgaaaaagAAACACATGGTCTCTGTGGTCTACACTCCAGGGCTCAAGGCATTTTCTTAGAACTCAGGCAAGGCTCAGGCTTGGCTACTGCAGTCACATGGGAGGGGCTGATGGGATTTCCTTCTCTCCCCATATTCTCAGGACCCTCCTCTGTGTTGTGTGTAGACACATCTGGGAATGCAACTGGCCATTAATAGTGAAGGGGATAAACTCATTTGATCAAAATGGGATGTGGATGTGGAATTAACCCTGTTCTATGCACACTGTCAGAGTCATCTTCTTCAGAAGTAGTGTTAGAAAGAGCTTGTGAAATTTATCGGCAACAAAATGGATCCCCTTGTGTTAAAACCCTAATGAATGAAGCTGGGGAAGGCCATGAAGGAGGGTTCTAACACACATATTCCTGATAAGAAGAACTATCATAAATAGACTCTGCACAGCCACAACCTTTTACACAGAGGCCACCACAGCCTTAAAAGATTTATTTCTCCAAGTAAATCTGCCCTGCAACTGCCTGTTCAACCTTACACCGCTATCTCAAAATAGCTGCTGTCACCCTCCTCATTTTTCcttaattctcttttttattattttttaaattatactttaagttctagggtacacgtgcacaaagtgcaggtttgttacatatgtatacatgtgccatgttggtttgctgcacccattaactcatcatttacattaggtatttctcctaatgctgtccctcccccttcccccaacccccctacaggccctggtgtgtgatgtttcccaccctgtgtccacatgttctcctTAATTCTCTATCTTCCTTTTCCTACCTGAATGTACccatacatattttaattgaaaCGCACAtcctagaaaaaatattattatgctttagagtctctttctgtctgttattCAGGTTGACATGACAAGCTACAGACGGACATGCCACTTTTCTGTGAGACATAGAGGATGACAGTTTTTGGAGATGTCTAGGAATATCCAATGTCCATAAGATCAGCCATCAATAAGTGCAGACTGGAGGTCCCAGAGAGAGGCGAAGCTGCTGAATCATCGTGGAATTTCATTTTctccagttctgctctgatggaATCAGGCACACCCGTTTTATCAATGACAATCTACCTAACCTAGAGTCAACTGATGACAGTATTAATATCATCTGTTAAGTAAATtcataactatatatatagtgagagagggagagagagagagacggagtctcgctgtgtcacccagggtggagtgcaatgtcatgatcttggctcactgcaacctctgtctccagagttcaagcatttctcctgtctcagcctcctcccagtatctgggaatacaggcacacaccaccatgtccggctaatttttgtatttttggtagagacggtgtttcaccacattggtcaggctggtctcaaactactgacctcagatgatccacccacctcagcctcccaaagtgctgggcttacaggggcaggccaccaagtccagctaatttttgtatttttagtagacactgggtttcacaatattggtctggctggtctcaaactcctgatctcagcctcccaaagtgctgggattaaagccgtgagctactgtgcccggtaACATCACCTATATTAATGTTGGATTGAATAACTACAAAGTCTACCCTAACCAAGTGTACCATCAAACTTACCATTACCCAGAGGGAAGAATCTTTAACATGAGATCTatattcttaaatgttttaaGGTGTAAAACTGACCACTATACAATCATCCAATTATGATTTTGCTAATGAGTTGTAGAAGTTGcatgtatattttggatattaacactTTTTCAGATGCACGGCTTGTAATTATattctcttattctgtaggttgGAATTTCTTCCACACTTTGCAGCATCTTTTTGTTGTGATGTAgttctgcttgttcaattctgCTTTTATTGTCTGTGCCTTTAATTTGAAATATAGgaaatcatcctttttttatattttaaattttagactacctgtgcacaacgtgcaggtttgttacatatgtatacatgtgccatgttggtgtgctgcacccagtaactcgtcatttaacattaggtatgtctcctaatactatccctctcccctccccacagcccacaacaggccccagtgtgtgatgttccccttactgtgtccatgtgttctcattgttcaattcccacctatgagtgagaacatgcggtgtttggttttttgtccttgcgatagactgctgagaatgatggtttccagcttcatccatgtccctacaaagggcatggtctcatcatttttcatggctgcatagtattccatggtgtatatgtgccacattttcttcatccagtctatcattgttggacatttgggttggttccaagtctatgctattgtgaatagtaccacaataaacatacgtgtgcatgtgtctttatagcagcatgatttataatcctttgggtatatacccagtaatgggatggctgggtcaaaagctatttctagttctagatccctgaggaatcgccacactgccttccacaatggttgaactagtttacagtcccaccaacagtgtaaaagtgttcctatttctccacatcctctccagcacctgctgtttcctgactttttaatgatcgccattctaactggtgtgagatggtatctcattgtggttttgatttgcatttctctgatgaccagtgatgatgagcattttttcatgtgtcttttggctgcataaatgtcttcttttgagaagtgtctgttcatatactttgcccactttttgatggggttgtttgcttttttcttgtaaacttgtttgagttcattgtagattctggacattagccctttgtcagatgagtagattgcaaaaattttgtcccattctgtaggttgcctgttcactctgatggtagtttcttttgctgtgcagaagctctttggttcaacatactcaaatgaatcaacataatccagcatataaacagaaccaatgacaaaaaccatatgattatctcaatagatgcagaaaaggcctttgacaaaattcaacaaccttcatgctaaaaactctcaataaattaggtattgatgggacgtatctcaaaataataagcgctatctatgacaaacccacagccaatatcatactgaatagacaaaacctggaagcattccctttgaaaactggcacaagacagggatgccctctctcaccactcctattcaacatagtgttggaagttctggccagggcaatcaggcaggagaaggaaataaagggtatttaattaggaaaagaggaagtcatattgtccctgtttgcagatgacatgattttatatctagaaaaccccattgtctcagcccaaaatctccttaagctgataggcaacttcagcaaagtctcaggatacaaaatcaatgtgcaaaaatcacaagcattcttatacaccaatcacagacaaacagccaaatcatgagtgaactcccattcacaagtgcttcaaagagaataaaatacctaggaatccaacttacaagggatgtgaaggacctctttaaggagaactacaaaccactgctcaatgaaataaaagaggatacaaacaaatggaagaacattccatgctcatgggtaggaagaatcaatatcgtgaaaatggccatactgcccaaggtaatttatagattcaatgccatccccatcaagctaccaatgactttcttcacagaattggaaaaacctactttaaagttcatatggaatcaaaaagagcccgtattgccaagtcaatcctaagccaaaagaacaaagctggacgcaccatgctacctgatttcaaactatacaacaacgctacagtaacaaaaacagcatggtactggtaccaaaacagagatatagaccaatgaaacagaacagagccctcagaaataatgccgcatatctacaaccatatgatgtttgacaaacctgacaaaaacaagaaatggggaaaggattccctatttaataaatggtgctgggaaaactggctagccatatgtagaaaggtgaaactggatcccttccttacaccttatacaaaaattaattcaagatggattaaagacttacatattagacctaaaaccataaaaaccctaggagaaaacctaggcaataccattcaggacataggcatgggcaaggacttcatgactaaaacaccaaaatcaagGGCAACAAAAgtccaaattgacaaatgggatctaatatGAAATTCTTAATGAGTTCTATAGTTATAAGTCCATTATTTCTCCTTATTAAAACTAATCTTTTTTGCTGAATGGGTGGAAGATGGTGGCTTCCctccaaaagaaaacatagttGGTTCTGTAAAGAGTTCACCCATTTCTTCCACTATAGGCCTGCCCTGGCATAATACAAGCTCCCAACTTAAGAACTTATGATTTTCCATCCATTGGAGAAGCCATCTTTTCCAtctattataaaaacagaagacACTTCATTAATATCACTCCCACTATAGGCTATGCCATATCCAGTGAGGTAGGATGGCTGACAGTGGTGCGAGTCCAAGTAATTGGTCAAGCACTGCTATGTGTGAAGAAACACCACAGCATACTCTACACTGTCACTCATGATATGGAATTGTTGCCTCCTCAGCAATGTAACTGAGCCCTTAATATGTGGCTTGGATGACAAGGCAATGCCAGCCTGCAGAGTGGAACCTGTTCTTCCTTCTGGGATTAACTAAAGGCCTGTGGCACTCATGGCTGGCCCTACTTTCCTTACAACTGGACGAAACGAAGCAACTGGATATGACCTTATATCCCAGGATGTAACTGTCCAAAGTGCCTTCTCTTTATGTCAACTGGAAAAGTGTGAAAGACAGACACTGTTCTCATAAACGGACATCCTAGTTGTTCTGCCCACTAGCCAGCTCTTCCCCCCAGGTGGCAGTCATAGATTTAGAATTGCAAGTAGAGGCCCTGGCTAAGCAAACCACCAGTCCCTTTAACAACACCTACCATGCCATCATCATTCTTACTGAAGAAACCTCACAGATTTGACAAGTGACACTATGAAGCTATATGACCCTAGGTATTGCAACTACAGCCAAAGGTAACACTTGTGTATTAATGAACACTGAATGTTGCATATATATACAAGATTAGTCCCACAATATAACTCAAGCTATGCAAGCATTAGATACCCATATTTCTGCTAGAGATGGATGCCCTCTCTCAGGACCCTGCGACAGCATGGTTTAGTTGACTTCCTAACACATGGAAGACTTTCATATATAGTAGAGCTGGTATTCTGTTCATTGCTATCTTCAGTTGCTATGGATTTTATTGCTATCTTGCACTTTAAGTGAGAATGTAATACTGACCTTCTCAAAAACTCCTAGGTCCTTGCACCATAATGCTCCAACGAACACCTACTGTAATTCCGGAGACTCCAGAATATTTCCAACTCCAGTTTAATGGATTCCCTTCCAATACATACAACCTATGCCCTTTCTAAAGAAGTAGCCAGAATGACTATGACACATGTTTTCCATAGAAACGAAATGGAATTTGACAGTGGGGAATGATATACAGGCAGCTtaatttcaaaatgcattttaaacttAGTATTTGaggttttaatattattttttatactccCTGAAACCTGAAATGTCACACTTACATTTTAATTCAGACTTAATAGCAACAAATAACCAGAACACATGAATTGCCTGTAATCTCTATACCTTGCATTgtaagccacatttcaagtgtaaCCTTACTTGTCAGCACAGTATGTTTACCACAGGCATAATTGCTTGTCCTGACTGTCCAGAAGGCAGGGTGGTATTAAGTATGCGGCCTCTGCTGCTGGGAAGTCTGGCTTTGTATACCGTCTCTGCCACTGCTAACTGGAGGACAATGGGCCAGTTACTTCCTGTAccccagttttctcatatgtaaagtAGGGTTGTTGTAAGAATGAAATTAGTTAATATTTAGTACCTAACAACTAATAGGCATTACATGGTAGCTATTCGTATTGCTATCGTCAGACAACACACAGGAGTCCATTGTTATTTTTACCCTCCCCCTCCAAACAAAATGTGTAAGACACTAGACATGGTAGCTCTGTAACGGGGTTCGTCATGTATTAAACTGTGTACCCAAATGATATGTCAAAGTCCTGACAACCAGCACTTCAGAACAcatccttatttggaaatatggtAGCTGGAGATGTTATTAGTGAAGATGAGGTCTTACTTGAGCAGGGCAGGCCCTCAATGTGGGAAGATGGGTGTCTTTCTAAGTacaaggaaatttggacacagagacagagacatacaGTGTGCCATATGACAGCAGAGGCAAAGATCAGAGTGGTGCAGCAGTAAACCAATGCATGTCCGGGATTACCAGTCACCTCCACAAGTGAGGAAAGGGCAAGGAAGAAGTCTCCTGAGTCTCAGAGGGAGTGCAGCCCAGCTCacacttgattttggacttctagtctctagaactgtgagagaatacagtCCTGTcatttttaagccacccagtttgtagtaTTTCATTTTGGCAGCCCTAGGATATTCATACAGAATTCTTCACCCAAAAGGAAGCACTCTTTCACACAAACAGTCAAAGTCCTGGATGACAGACAACCTGGAGACTGCAAACCTCCAAGGAATCAAAGGAAGTTCTATAAATTCTAGGGGCCCCATCTTTCAAAGGCTGCTCCTCAAGTCCACACACACACTTTGGAAGGAGAATCCTGCTCTTGGACATGGGATCCTTAGTGAGCCAACTGCCAATAATCCAACATCGTCATGAATTAAAGATCGCTGACATTTCCTCTTCACCAAGGGGAATTCTGTCAAGTAGTAAGTAAAACCCTTCTTCAGTAATCTCCACACCaaacagttctgcatggcttgggacgcctcaggaaacttataatcatggcagaagaaaaaggggaagcaaggcagtcatacatggtggcagaagagaggttaaacttttctgtctctcttgggTGTAAAGATATAATCTTGAGGCAAACAGCAGAATCAATTTTCTTACGCCTTGAAATAGACTCCACCTTTCTCCCTTTCACCATAAATATTCCCTTCACATTAATCTAACTTTATGTTTGCATCGAACTATGTGCCTTTTTGGAAGTTCCGGAAGCTAATTTGAGACAGATAGACAAAGTCGGGAGACCCTGATGCAGAATTCCAGAGGTGACTTCAATGTTGCTAGTTAACAACCCAGGCATTGCCCAGATGATGCCAGCCCAAGATCTAGGTGGACTGGGATGCCAGAGAGCTGCCAGAACAAGACGCACAGACCTGGTTCTCAGCCCAAATCTTGCATGCCTTTCTTaccaacttttccttttttaaacccCTGCCTTTCCTTCAAAATTCAAGTGGTTGCTTGGGATGGGAATGCGGTCACTTCCCCTTTACCATTATGGTTAATACAATAATCTTTGTACCAGATCTCTCTCTTGTTAATTGGATCCTGCAGGTGGCAGATTCCGGACCAGAGTGAGGTTAGAAACTGAATGCACATACTGGGTGGTTCACAGACACGGTGTTCTGTGAAGTTTATGGGTGGATTCCTGGGGAAGCCTGCAAGCCTGTTAGTGATTAGCAGAACCGCATCCAGCTACTGGGATCTGCACGCCAGGTGCCGTGAGCCCCTCACCATGTTCCCTGGTCCCAGCTGCCCGCGGATGGTTCAGCCTCGACAACGGGCTCGGTGTTCTGGGTGGTGGGAGAGCAAGGGGGCCCCTTGGGCAGCGTGCTACAGGGCTGTGAATCCAGGGGCCCACCCGGTGTTCCCTGTGGAGTCACTGAGGGAATGAGGGGCTTCTCAGGGCACAGAGCTGTAACGCCTTTGTGCAGTGGTGGCTGAATACAGTGACACTGGGCGCGTGGTGAGAAGCGGGGCAAGGTCAGTTCACTGAACCCTCCGCCCTGAGCCTCAGATGAGTCGGGGGTCCCCAGACAGGCCCGGCCTCTGCCCTGCGGCGGACACTGGAGCCTTTGCTGTGGCCGCCACCGAGGAGCCTTGACCTCAAAGCAGCGGGAACCTCTCTACCCACCTCGGAAACCTGAAGGCAGCGGCGGCCTCTCCCAGCCAGGACCTCGCCGGCATCCGGGTCTCCAGGCCCAACCCTGTACCACATAAAGGAAGTCCCCGCTGAGCTACCGGCGGGACACAGCGCCGTTGGGTGGGCGGGCGCGGCGGGGCGGGAAGCACCAGGGCAGCTGCCACAGAGATGCGCGGGGGCTGTCGGGAAGTGGGCGGTCCGGGAGACGCGGGGCTGATGGGACGTGGGCGGTCCGGGGACGCGCGGGGGATGGCGGGACGTCGGCGATCGGAGATGCCAGGGGGCAGCTGGGACGTGGGCGGTCTGGAGAGGCGCGGGGGCAGCTGAGATGCAGGTGGTCCGGGACGCGCGGGGGCTGGCGGGTTGTGGGCGGTCCAGGGATGCGAGGGGGCAGCTGGGACGTGGGAGTTCCGGGGACGCGTGGGGTCGCCAGGAAGCGGGGTCTAGGACTTAGATCCGCCTTCTCTTCAGGCCATGCAGCCCCGAAGCTCCGAATCCTGGGATGACTCCTGTCCATGTTGGAAGGGACCCTGCCAGTCCTGGCAAGGTTCAAAGGCCTTAGGGCAAGAAATGTTAGTAGAGTCCTGGAAGACGATGTGGGGAACGGGTAGCGGCCACCGGATGGTGATCGTTCTTCTACAAGACCTTGACATGGATGGGgagaaacagagaagaaccttccaaGTTTGTCCCACTGGACATGCCCACCACACTTTACCAGCCCTTTCTAGAAGGCCTGTGCGTAACACATGAAAAAGCTCTGCTCGACCTTTCCCTgaccttttaaaagaaaacatttgctgcATCTAATCCGCCTAGATATAAGGAGGTTCCCAAATGTATGACAGAGTCAGAAAATTACATGTCTTGTAAGTTACCATGTGCTTGTCTTTTGTTTTCcgttttttttcgtttttttgttttttgtttttgagacggagtctcactctgtcgcccaggctggagtgcagtggcaggatcttggctcactgcaacctctgcttcctgagtttcAACAAttgtgctgcctcagcctcccgagtagcttggattacaagtgtgcaccaccacgcctggctaatttttgtagtttttagtagagatggggttttgccacgttggccaggctggtcttgaactcctgacctcaggtgagccacccaccttggcctctcaaagtgctgggattacaggtgtgagccaccgtgcctggccgtaaGTTAccatgtgctttttaaaaaaatcatagcaaAGGGGTGTCTTCTGGAAATGACATTTTGAAATGGTGTTATTAGACCACCCCTGGAAGGGACACAGTAACCACACGTCCACGTTCGTTCAGTGGGTGAGAGGACATGGAGGGGAGACCTGGGCAGGAAGGGAAGAGGGTTCCATGCCAGGCTGCTCATATTTAGAAGACATTTTCATATCATTGTCATTGTTTTCTTGTGTGCGTTTTATTCCTCGCTATTGTATACATCATTGGAAATTCTAAGTATTCTTTTGAAATATCTAGTCTTTCTAGATGTTCTGAAGTGCCTGATGTATGTTAAAATTACAGgtggtaaaataataaattttgtaaatatctttttgttaaaattcatatgcagggttttattttattttgatgttggtggggggtggggaggatggcCAAATCCCTGCTTGATCAACACACATTGCGTTTGTGCTCTGGttcaggggaggagagaggaggagaaagtgcAGACTTCCAGGCCTCTGTGCGCACCGGGAGGAGAGATTAATGATCATCTCttctgtctgtgtgtttgttttatttatctatggATATCCTGTGTATAAAGGATGAACAAGTCCTATTTATAACATCTAATCTTTTCAGGTGTTAAGTTGCCAGTGTATGACGGAAGTAGCGTTATTAAACGAACGCAGCTTGTACATATtgtgttaaaattcataaaaagcCAGTCTTCTGAAAAGAACCCTTGGGCCCTCCCTCCGCAGCCTCCGGCGCCAGCTGCAGGAAGACCTGGCCAGGGGAAGGCGGGCGGCACAAGCTGCTGCTGGCTGTGGGGAAGGCGGTGGAGCCCAGGCCTCCACAGGCTCCCCACAGGCTCCCCACAGGCTCGCGCGGCTCTGGTCGCTGGGCTCCGCACGGGCCGCGTGGGGGCGCCTGCTGGGAGCGAGGAGGCGCCATCCTGGCTCGCCTGCTCCAGGAGGACGCTCTGGGCCTGCGCAGATGCAGTTCTCCAGGATGGGCGCGGGCGCTGGGGGCCGCGCTCCTTGGGCTGCTGCGCCTCCACTGAGCCGCCTGGGTGTGAGGACCTCGCGCCGGCGCCTCCGGGAAGGACGCGGAGCCGCCGCGGCCGAGCCCAGGGCTGCAGCTGCTGCCCGACGCCCGCGAGAAGGCCCTTCCGCCACCGCCCGCGGGTTCGAACTTGGAGCAGCTGCTGCCAGCTGAGGCGCCAGCGGCGTCGGGAGCTCCTCAGAGTCAGTGTTTTGTGCTGGATTCGGCATGTCCTCTGAAAACTCGGGAATTTGTCACTGAAATGGTGACAGGAGGTGAGAAGTTTTTTTAGACGTTGCCTTCGCTGACCGGGCGCCGGGCtcaggcctggaatcccagcactttgggaggccgaggcgggcggatcgcttgagctccgGAGGTGGAGAAGCTGCCTTCGTGGTAACTGTGGTCTTAAGTTCAGCTGAGAACGATAAATGGCTTTTCCTTGAATTGGCTGCTTTTGTGATTTCTCTCAGGCTCATCTTTCGTCAGTTAAAAATCCAGTGGTAGGTGTAGCTTAGAGACGggaaatttttggttttgttttggctACACGTAAgtcttggaaattattttcttttacgtTCCAATGTGAGCAAATCCAGAAGGATGTCAGATTAAACACCGAATTTAACAaattcagccgggcacggtggctcacgcctggaatcccagcactttgagaggccgaggcgggtggatgatgaggtcaggagtttgagaacagcctgaccaacatagtgaaactccgtctctactaaaaatacaaaaattagccgggcgtggttgtgcgcgcctgtaatcccagctactcaggaggctgaggcaggagaatcgccgagattgcgccactgcactcagcctgggcgacagagcgagacttcgtctcaaaaaaacaaaaaaaaaaatcaatcattggAATACTGTTGTTCATTACAATTAATGAACGTTTGATACACGCATAAACGCACTAAATTCACAAGtacatataagtaaaataagccaaaaaaaaaaactacatccTGTATGATGACACTTTTATACATTCTACAGAATAGAAACTGAAGTGACATGAAGGTCGGGAGTTGAATGGAGAAAAGgtgagagaaaagagggaggaaggcgTTGcaagagaataagagaaaatgttGAGGGTAATTGATTTGTTTTCTATCTTAataatggtgatggttacatCAATAATTTCCAAATTGTACATTTTGTGTGttaattagaattttatattattcaagctattacaaataaataccTGTATAAATTTCTTAGGGACGGTGTAAGGGAGATGGATAAATCACATAAAAAGTCAGATATTTCTGAATGTACAATGAATAACCCTTAGCTCTATCTCTATTTTTTGGTAATTCTAAAATGCagcagttttttttaatgtttttattacaaGAAGGGTTTCTTCAAACCACACCAGGTATGCGTAACTCTGGGATAAAGTTGGCTAAGGGAGCTGTGGGATCCGGTGGAGAGGAGCACAGGTCCCGATCCTGGAGACCATTCTTGTCACATGTGAGCTCCTGGACACATCTCATAGCTCCCTCATGCTTCTGGGTTTACATTCACATCTGTAAATGGAGGACCAATGGGCATCTGCCTCTAACAATGTATTTTCGTGTGTTAAGATAATGTATGCTAAATGTTTACCACAGCACAATCTTTTActaagaaattacattttttccaaatattatcATTGTCTTCAAGCCCCACCACCCACTAGAAAACTTCATCTGCTCTGTGCCTTGCCCTGTCCTCAGACATCCTGCCCAAGAGACTTCTATATAGTAGGAGACATGCAAATAGTTCCCTCCCTCTGCTGATGAAAACCAGCCCAGCCTTGACCCTGCAGCTCTGGGAGAGGAGCTCAAGTGCCAGGATTCCCAGGTGTTTTCACTTGGTGATCAGAACTTAACACAGAGGACTCACCATGTTGtttgggctgagctgggctttCCTTGTTACTATTTTAAGAGGTGATTCATGAAGAACTACAGATATTGTTTGTGAGTGGATATTAGAGAAACAGTGGATATGTGTGGCAGTTGCTGACCAGGATTTCTCTGTGTTTGCAGGTGTGCAGTATGAGGTGCAGCTggtagagtctttttttttttttttttcactttttagcgAACATCCATGGGTTACAAAATAATGGGTTGGCTTTTCTTCCAACACTTTACAGACACCATCAATTTTCCTCTTGCTTATAAGGTTTTAACCAGAAGAATGCTGTCATCATCTTTCCTGTTCTTTTAGAAGGAATGCCCCCTCAACTCATCTCCACTTGTCTGCATGTATTTctatttgtctttggttttcagcagttttaaTAAGATTCacctaaatgtgtgtgtgtgtgtcgaggGGTGTTATGCTATTGTTCTGTGTTCTCTGAGATGCATGGATTCACCGTTTACTCTGTCTCCATTTTTgtgaaaacaattagaaaaaaagtcaGTGTGAGCCTAGAAACAAGCCTCCCTGAAGTGGGCACTGGACCACCTGGGGGCGCTCAGGACCCACTGAGCACAAGAGCCAGCCCCAGGGCAGGTGCAGAGGGGTGTTAAGGTCTGGTTTCCTGTCAGCCCTGTGGCTTCCTCTCCATAAAACAGTTTCCTTTGTGGCACATCTCTGGATTCCTTatcctttttttcctgtgaagtctgaagaagaaacatttgtcgtaacaagagaaaaactttcTCATATGCACCAAAGGCAGAGTCACCTACAGTCATTTACTCCTGTTTCTGAATGTCAATAAGGTGTCAATGCTTCTGAAGTTAATCAGCTAAATCTATAAAAGGTGCGGTGTTTAACTCAGCATGGCAGCCCAGCTCAACAGAACTCCAAGGGCCAGTGAGCAAGCAGGCAGGATAAAGTGCATGCTGGGCATTGGGGCAGAGGGAGTTAGCATCCAGTGCAAGAGAAGAAAGCCCCCGTGGTGGTCATTGTCAGGACTCCAAGCCCACAGTTCCAATTGTAGGTGATACTGGGCAAAGGAAGAGAGACCCCACCAATGGTTAGTGTGGATTTCGAGTCTGATGGTTCCACACTCACACTCCAGGTgaatatgaaaacatttattaactCTATTTTTGAGGTGTCTGCTGAGAGCAGCACAGGCCTCTCAAGAAATTTCAAACTGGAATTTCCTCAGTAGACAGGAAAGGAGGCTGGCTCAGGGCTTTATAATGATttggtggtggggttgggggtgcgTTTCTACTCAGGAGAAGGAGATTGTGTGATTTAAACCTCACAGGGGCATCAGATAAGGGAGCTTCTGTGATTTCTTACTAGATTTACCACATGCAGGGGAtaaggaggaggaagaataaACCTTAATTCGTCAGCAACGAGGCACCAAAAATAGGACCTGACGCTTTATTCTCCCTAGCAGCTTAAGAAAATgagtgaaaaagagagagaagagtccACTATGTGTGAAAAGCAAACAggtctaaagaaaataaaaattttattactgtaagcacataataaaaagaaagagaagaatgaatgAGACAGGCAGGGGTGCTGAATCAATGTCCTGAGTGGGGCCTTTTCATTATCCACAGTTATCAGTTAATTCTGAAGGTCTCAGGTCAGCTTCCTGCTTCAAAATATCACAGGCCCTTACAGTATATGTGAAAATCCTCGGTTTGTCGTTCTTCACTAAAGTAGCCTTATAATTAGATGTACTTCTGAATTTAATCTTCAGTtgtgttaaataaaaaaataacacaatCTACAATTTAGGAAAGTGAGAGTTTATTTTTATCAAGGGTTACAGCCATCCCATATGCTGGAAAGCATAGCTTTTGGTAAAGACGAGAGAAAGGCACTCCCAGGAAGAAGGGGTTGGGCAGAAGCTTTATGCTGAAGGGTTTGGCTAAACAGACATAATCAACAGGTTACAGGAGGGGCTACTGATGTTCATGGAGGTGGTCCTCACACATGCATACTGAATAAACATTCCTGTAACGTATGACCCCTGTTCACTTACCAGTGGAGACTTAGCATTTAAATTCATTACAGTCAGGCTCTATGTGCCAATAGCAGAAGCAGAAACACAAAGGCACTCAGGGTGCAGCCTCTGTAAACGGCCAGAGCCAGGCCATGGTGAGTGGTCTCTGATCAGGAGAAAGGTCCTGATATCACTCTAGTGTTCAATCAAAGCTGGGGTTATGGCTTGTGGAACAGGGGTCAGTTCATCAGGGGATGGGCTGCAATTGTCTTCATAGTGCTTGTCTCAGTGCCGGTGCTTACTGAGCCACTAGAGAAAACGAATAACCTATTGGCAGTTAGAAGACAGTTTACCTTTTAAGTGTGGGAGTGAGTGGCAGAACCCTTGCCTGACATGGCTttaggtcttgtttataatttgacATCTTATTGCCACAGAGATTCTGTTCTGTCATTCttttgatctctattttaacattagtgTTGGTCATTGTCGTGTCTAAACCGCAAAGGGGAGTGAGTGTAAGAGGCACGTCTGATCTTGTCATGGCTGGGATCTCAGTTTTTAGGCTTTTCTGGAGTCCCTTAGATGAACAGATGGACTATTTAGTCAGTTGGGGcacttaggattttatttttggtttacagttcaTAAATATGAACCCTAGTATTGACATTGTGCATATTCACTGCTGTGTTGTGGTTAAAATTACCTGGTAAGATTCCCTTCAAAGCAGTTCAAGAGCAATATTCTACCGTGATGTTTCTTCCAGTAAATACCATTCCCTGTTTTAATGTCATTAGAGGCTATTGAAAAGATGTAGGAAAATGATAGCTTAATCTGTCGATGACTGGAGTGGGTAAGTTACAGTCATCACTTTCAATACTTTGTCATGCGTGCATGTAATAGGAAGAGGTGAGCACCGGGGGTAAATCTCTAAATGTATGCGCCTTCCAGCCACCAAATCATAAGGTGATAACTGATGTCTCACTGAGGGACTTGACTATAATGCTCTAGTGCTAGGGAGAGAAACTTTGGCCAAGGAAGTTCAAGATTTTCTTAAGGTTTTGACAAGTTTAGTTCAAGTATGACAATTTTCTTCAACATTTTCAGAAGATTGTGTTTGGGAATGATGCTGAGTTATATAAGTAATGCTAATGCCTTCTGTGTTTAGATAATATTATAAACAAGACTGTTTGGTATAATGACCCAGTACAATATGTATACTTTTAGTTGTTACGcgatttcattttcctttaggaCTTTACTTTCTGAGTTACATGAGTCAGGTCCCTAAAATATAGGCGTGCATCTGAAATTTATTCttctgttgagaatttttacgTGCTCCAGAAgatgtgagaaacttctttgcgtgAAGAGCATCCCAAAGTCAGGCACTCCTGTAAAACATGTACTTAATCCTTGTCTTTGGCTTATTGATGGGCTCTGTTGACTACAATAACTTCTGTCATGCTGGCTGACTTGACATCAGGTAGAGGAACAGATTCTGAATGCACTACTCAATTGAGTGCATAACCTCCAGTTTTGTTACTGATGTATGATTCATCAGAGATGTTACTAGATCAAGGATTTCAATCGGAATCTAATCTAAAAGATGTGAATAAACTTTCCTAATTTAGATAGTATTACTGTGAGCACACTGCTAGTATTCAGCCATGTCTCCTGTCTGTCACACTGAATTCACGCTAACTTTGACCTAAAAGTTAACACTTGTTCTAATgttcaaatatgttatttttattttaatgtctctaGATTATTATGTGTGGCTATTTTAGCCAAGAGTGAAGGAAAGCAAGGTTAACTgactaaaaatgagaaaaagcacAACCTAATGTAATGGAAGTCAGGGCATCAGCATCTCCAGGCTTGTCTATTTCTAGAGTTCATGCAACCAGgggatttcttttctcatttttacacAAAGAAACACCCAAATTGTCCGTTTCATCTCCCATTGACTCTTATCATCTGTCTCTGTCAGTTTGCTTAGAATTTTGGCCTCCAGCTgaatccaagttgctgcaaaaacatgatttcattcatttttacagctgcatggtattccactgtgtataagtaccacgttttcttttttcagtctatAACTGATCGGCATTTAGTTTTATTATATGTCTTTGGTACTGTGAATAGCACAGTGATACACACGTGAGTTGATGTGTCTTTTTGTTCCAATGATTGGTTTTCTCTTggacatatacccagtaatgagattgctgaggggaatggtagctctgttttaaattctttgagaaatctccagattgATTTCAACAGTGCTTGGGCCAAATTATATTTTCACCAAAAGTGTGTAAGTGGTCCCTTATCTCTATAGCCTTGCCTGCATCTGTTAATTTCTGATCTTTCAGTGATAGCAGTTCTGACATATGTGAGAAAGTATATCATTTGGTTTTGATTCGCACTTATCTGATGACTGAATATGCTGAGCATTTTTATAGGTTAGTTGGCCACTTCTATGTTTGTATTTGAGAAGTTTCTGTGcatgtcctttctccatttttaatgCGGTTATTTGGTTTATGCTGGTGATTAAGTTCCCTATGAATTACCACCTTACATACACTAAGATAATCagcattcaaaaaagaaaaatgaatagaaaaacatAACCACTTGTAGGTATAGACATACTGAATTTGGAATGGTCATGGCTTGCATGTTGGTATTGAAATGGGACAGCAACTTTGGAAAATGGTCTTCACAGAAAACCTCATAAATGTAGCTAGTGTCACCACTCACAGAAGTAGATGGAGAAtacaactcaagtgtccatcgaCTGCCAGAGGGATGAAGACGCCGCGGTGCGTCTGTGCATCTGTAACCCACAGGGATGAAGACGCTGTGGTGCTTTAAAAAGGAGTGAAGCACTGACATAGGCTGCAACTCGGATGGGCCTTGTAAACATTGGGTGAGTGAACTGAGGGAGACACGGAAGTCTACATCCTGAATTGTCCTATTGACATGAAGTATGCAGAGGAGGAAAATCCCTAGAGACAGATCACAGGGGGTGAGTGGAGGGGAAATGGAGAGTGACGCTTAATGGAgctgaggttttcttttctgtgatgaaaatgttcccaAACCAAATACTGGTGATATTTGCACAACATTGCAAATGTGTAAAGTATCACTGACCCGTACACTTAATCGTGgctaaaattgtaaattttatgtcatgtgtaTCTCAACACAATAGAAATGAgcaccacattttgtttagtGACTCAACAACAATAACATTTAGGTTTAAATTCTGGATTCCCCAACAGAACCAGTGCTTCCTGCTGGAGCTGGATCCATCAGCCCCCAGGGAAGGGACTGGAGTGGGTCAGGTGCACAGGTCATGAAGGGAGCACAAATTCTAACCCACTCCTCAAGAGTCCAGTCACCACCTCCAGATCTATGTCCAAAAACAGCTCTTCGTATGGCTGAGTGACATTAGCAACAAGCACACAaccatgtttgtttttttgttttgttttggtgtgtgtgtgtgtgtttttgatagagtcttgtgtcacccaggctggagtgcagtggggcaatcaatcttggctcactacgagctccacctcctgggttcaagtgattctccagcctcagcctccaagtagcttggactgcaggcactcaccaccacacctggctaatttttgtatttttagtagagacaaggtttcactatgttggccaggctggtcttgaactcctgaccttctgatccacccgactcggcctccaaaagtgctgggattacaagtataagccactgtacccagccacaAACAAGTATTTTTAAGCAAAAGACACAGTGAAGAGACTTCAGTATGAGCCCACACACAAACCTTCCTGTGGGAGTTTACAGAACAGCAGTGGGTGCTGAGGACAGAAGCCAGCACCCAGGAACCAGCAGGGAAACCCAGGGGGCATTTGGCACCGCCTGAAGGCTCAGGACCGTTGTGGGGCTCAGTGGTCAGGCAGGCTCAAGGTTCAGCCTCAGAGCAGGTGTAGCAGGCGGGGAAAGGCTCTGAAGACGGAGTTTAGTGTCACCTTCTCATTTCCACCACTAAACACCCTCCAGCACATCTAGCAGGCGGGGAAAGGCTCTGAAGACGGAGTTTAGTGTCACCTTCTCATTTCCACCACTAAACACCCTCCAGCACATCTAATTCTAATCTAATGTATGGGTGTTCATGTGTTTAGAGAATATTATTTATGTTATGAATCTATAGCCATCTGTGGGTGCATCAAGTTAACCTCTTCAACCTATGTGGACCCTGTTCATTAGGAATAAGTCCTTGTATTTGAGGACCTCACAAATTAATAATTATGTAGAATCACTTTCTTTTTcagtctcctttccttcctctttctttctttctcactcacACACTGACAAACACACGGGGTGCCATAACATTAATTACCTGATGTATTAAAGAATATTGATTCATTTGCAACTTGACCAGTTTAGCTGTTGTTCATGTTGTTGTAAGATCAGGAACATGTTTCTCAGCTGTGTACTCCTCTAAGCTGAGCAGCAGCTTTATTTGAAATACacagaaactgaaaacaatccaaatattaATCAGCACCTTCATAAGTAAACAAATTGTGGAAAAGTCATTTATTGGGATAGTACCCACTACTACAATCAGTAAATGTTGGATACGATCAACAGCATGGTTCAATTCACAAGTACATATGATGAGTATAGTGAGCCAAAGCACATACATATGATTCCGTTTTATAAACTGTACAAAGTGAATACTCATTGGAAATTACATAACAAAGATCACTAACTGACTTCTCCATAGTAAGAGAAGCGAAGGTATAGGAGGAGAAATTgcgagagacaaagagaaaattgagAGGCgaattcatttgttttctctgtgtaTGGTCATTAGGTCAATGTTTGTCAAATGGTGAACATATTGTGTGAAGATTATATGTCAGTATTACCTCATTaaagttattataaataaaagtctAATGTGGTagaaaaagatgaagagagaaataaaaataatacaagaaaagtcATGAACTCCTGAATGAATTAACCCTTAGTTTTTCTCTATTACTTACAAAAACACCAAGATACAGCCAAATAATATCACGATATCATTATAAGAAGAGTGTTTTGTAAACCTCACTGGGAATTTCTAGCTCTTTCCTAGAGTTAATTTTGGGAACAGTTGGATCCAATTGTGAGAAACGCAGGCCGGACACTGAGACTGGCTCTTATGAGATGTGAGCTCTTGTCTATGTCACATGGTCCCTCCATACTTGGGGGTTTACATTCACATCTGTAAATGAAGGAAACATTGACTCTCAAAGAACATATTTCATGTGCATGTAAAAGTATGAATGCTAATGAGAATTAATTACTTATGAAGTATAATCACCCACATCCACTCTTGGACACAGCCCACTCTGAGGCATCCGTTACAGAACTCATTATATAGTAGGAGACATGCAAATAGGGTCCTCCCTCTGCTGATGAAAAccagcccagccctgaccctgcAGCTCTGGGAAAGGAGCCCCAGCCCTGAGATTCCCAGGTGTTTCCATTCGGTGATCAGCACTGAACACAGAACTCACCATGGAGTTTGGACTGAGCTGGGTTTTCCTTGTTGCTATTTTAAAAGGTGATTCATGGATAAATAGAGATGTTGAGTGTGAGTGAACATGAGTGAGAGAAACAGTGGATATGTGTGGCAGTGTCTGACCAGGGTGTCTCTGTGTTTGCAGGTGTCCAGTGTGAAGTGCAGCTGGTGGAGTCTGGGGGAGTCGTGGTACAGCCTGGGGGGTCCCTGAGACTCTCCTGTGCAGCCTCTGGATTCACCTTTGATGATTATGCCATGCACTGGGTCCGTCAAGCTCCGGGGAAGGGTCTGGAGTGGGTCTCTCTTATTAGTTGGGATGGTGGTAGCACCTACTATGCAGACTCTGTGAAGGGTCGATTCACCATCTCCAGAGACAACAGCAAAAACTCCCTGTATCTGCAAATGAACAGTCTGAGAGCTGAGGACACCGCCTTGTATTACTGTGCAAAAGATACACAGTGAGGAGAAGTCAGTGAGAGCCCAGACAAAAACCTCCCTGCAGGAAGACAGGAGGGGCCTGGGCTGCAGAGGCCGCTCAAGACACACTGAGCATAGGGTTAACTCTGGGACAAGTTGCTCAGGAAGGTTAAGAGCTGGTTTCCTTTCAGAGTCTTCACAATTTCTCCATCTAACAGTTTCCTCAGGAACCCTGTCTAGATCTGTGATCTGGATCTGCTGAAACTGCCTGTGTCACCTTCCTCACCTGTGATTTTGGGGGAGCTGATTGTGGACACTCCAGTGTGTGGGATTTCTTGATGACAGCAATTGTGTCTTCTGTCTAGGCATGTCTAGGGCTGGCCATCAGGAAGGGCAGGCTGGAATTTTTGGAAAGAGGCGCACCTGCCATCCACCAGGAaattttgttgtcttttgttCTGCTAGAATTAAATCAGACACACCAAGGTTAACTAGCACTATCTTCCTAGCTCGAGAAACTTGATAGCAAGCTTGAATAACACTTGTATGAAACCATCAGAGCAACACCTAGAATAGTGTCTGATTTAATAATTGAGACTATGGTCTAGCCAAGGAGACACATAAAACGTGATTTCCAAGGTTggttcatattttatatttatcaataGAATCTGGCTGGTATTATAAACAGCTTTGCCAAAATATGTGTGTTAGTGTTGGTCTTCGGAGAAGCAAACTCTGTGACTGGATTAGCTTCGTGTACAGTTTCCTTCGTGTACAGTTTCCCTGTCCACTCTTCTGAGAGGAAATGCAGAGGTGGTGGAAGGGGTCTGGGGTAGCTGAATGCATGTGAGGGAAGTCGGTCCCTGagtgaaggagaaagggaggaggactGGGTGGAACTTTCCTAAACTTCTGTGTTGTTCTATGAAGGTCCAGCAAGGTCACTGAATCAGAGTCGTGTCACAGTTTCCCATCGGGGACCCAGTGACTCCCAGCAGTGGCTCTGCTCAGATCAGCGCAGAGCTTGTTCATCTCCTAAGAGTGGAGCACAGGACGTGGCTCCAGCACCAGCCATGGCATGGAAGATAGAGAGCAGCCCTGGGTGCCTGGGTCAGGTGCATTGTGCTCCCTgcaggtggagggagggaagtgCTGACTCAGGGCCCAGAGACTGTGGGTTCTATACAGAACATACACTTTTACTTCATTTCTGTGGATGACATAGAAACAAACATGCAGTCTGTAAACAATGGTGATTCCTACATTTGCCCCAGTTGCTTTATTCCTTGATTCTGCAGAATGTCCTGGCACAGAATTGCCTTTCTCATGTGAAATTGTGATGTGTGTTCAGGATGTGTGATCCCTACTTTCATTGTTTTCCTCCATGTACAGAGCTCCTAAATAGAGTACAGCTGACCCTCCTTCTACACTGTTCCTCTCCTCCCCACAGGAAGAGCAGATAATTACCTGAGGCTGAATCTGAGGTGGGATCTGTCCTCTGAACCTCAGAGCCTGCAGAGACCCCCAGCTGCAGATTCATGGAGTCAGGTGTTTGTACATGTGGGAACCTTGAGCTGTTCTTTTGTCAGTGAACACTCCTTAGAACTAATTGTGGGTTCAGAATTAGGACACCCATTGATCTATCACACCTCAGCTCATTCTGCCACTCAGAATCTCCAGAAATTCAGGAAATGGTTGAATGTACATTTTTGTGacaaatttttctcatttcacttaGTTGTGAGTTTTGTTAGCAGAAAGTGCTACCATTTATGGGTCCCAAACTGATGAAGCTCATTTGCTTCAACAGAAGTTAGGAGGCTCCTAAAACTTCTCATCATCCCCTCTCTCTGCACTTCATGTGAAATTCAGTTTTACCTGGAATTCTGGTGTGTTGGTTTAGCCAGATTTCCCCATCCTCCATGTCTGATTTTCCTGGGTATCTGATCAGTTTCCTTGCCCTTCACCATACCTCGGTGACGTCTAATCACCCTGGCCCAACATCAAGAATTCTGGCAGGTTGGTTTAAGCAGGATTTGCTGTGCCCCTGATGTTTCCTCTCAGTAATTTTCCATCTTCCGGACCCCACCCTGCTGCTTGGCTTTAaatccccacatttcctttctgcatttGGAGTTCAGCTGAATCTCTCTCCTCACTGCAAAACACCATTGCCCTGATCCCAACACCTACCATGAGGACCCTGGATAAAGTCTTCCTTACTGTGCTGGAACAAGTGTCTTtacttgatattttttctttaataaatctaCCTTTAGTGCTTCCTAAGTTGCTCAAGGAACCTCAAAAAGTAAGATAAGTGCGATTATCCAttttactgtgtgtgtatgtgtgaatttcAATTTCCATGTGTGGTGTCCAGAAGTCCTGAGCACAAACAGTTTTGCTTCTCTGTCCAATTCTTTGCTTCTGAAACCCAAGAGTCATCCCAACATTGGTAAATTGGCgatttgtttttactatttagTGACTGACATATTTCACTTAACCTGAAGCTTCACAAAGACAGTGATGAAAAGTAGATAGAGGACTTGTTTGGAAATGCCAGATTTAGGGTAGACTTTACCACCCACGTGTGTCTGGAGATCTCCTTAGGATTCCAAGAACAGGGTGGTTTTTTTCCACCACAGGACAAGGATGAGAACCTCCAAGCTGTGATGATAAAGGACAGGCAGGGCCATGTGTGGACAAGGACGGGCTGCTGCCACGTCCAGAGTGTTCTCTCCTAGCAACGCCGCCATCTCCTTCCTCACACTGTGGTATTTGTCAGATGGGAAACATGCCTAGAATTTATCTTTGACATATGGATGGAAGCCCAGGCTAGAGGCATTTGACAGCTTATTTCTGAACCTCCTTCTTTAAGGAATGCCCAGATCCCTTGCTCTGCTTCTTGGTTCTTAACCCCTTTAGCTCCCTTCCGCTCCTGCGCCCATGCACTGCCTCTTTACGGCCACTTCCCCACACCCTTCACTGTAGCACCATTTTCTTGGGCTCCTTGGAAATATCACAGCTTTGGTTTAACTCACAGATCAGGCACACTCATGGGCCCCTCCAGAGGCTCTCGATTTCCCTCCCTCAGGCTCCTCCTTGGGGTCCTAACTTGGCCATCTCTATTCTCTCTTCTGAGCCTGACCATCCACAATCCATCCCAGCTGGACTTGTGTATAGCAGTGGGTTAACTCAGCAGGTATGAATTGTTCAAACCCTGCACattcctaaaaaataaataactaaaaaaaaacaacttttgttcatttattgCTGTTACCTACTGTGATGAGATCTCCGAGTCCATAAAATATTGCACCTGATAACAGTGTCTGTGGATGTCTGTAGCCTTGGGACATGCGGTACAAGTTTAATCACAGTGATTTATAGTGAATGTCTACTTTTGTTTTGCTGGAGAGGGCTGTCGTCTGAGTATTGTGGTCAGTTCCCCAGGTGTTCCATGGTCTATGATTCATTCCCCAAACACAGCCCTGGACAAGAAAGCTCAACGGCACTCCCCTTGTTGTCAACACTTCACACAAGCCATCTTACCTCACAGCTGAACAATTACACATGTGTAGAAGGCTCCACTGTGAGAGGACCCCTGAGAGCTTGTGCCTGGATTCTCCAGGGCTTCACTCCTTGTGCCTTTTgtctttgcttattttaaattgtatcatTTTGCTGTAATAAACTGTTCCTGTGAATAGAACAGTTATGAGTCCTATGTTTTTACTGATTTTTCAGCCTACAGGTGGCAGATGAGAACTCTCAACACAGTTGTGTTAGAAGAAGGATTTCCTAGAGAGACCCTGACTCAATGATGATACATGGCTGAAGCATTGCATGGAAAACGTAAGTGTTCAGGTATGGAATGGCAAAATTTGATACCTGGGGAGTGACAGAATACTACAGTCTATTACAGCAGCTGAGCTGAAATCGGTTTCTGGAGGTAAATGGGATTTAGAAATTATAAATCCAACTCCCAAGGAGCTTGGCTCTGTTGATACATAATGAAATGTGAAATGATTAGAAATAGCCTAAATAATGCAATTTCCATCTGTGAGAACTAAGTGAAAATCCAGGAGAGAGTTGGCAGGGAGAGGGATACTGCACCAACCTCAGATTTTGACCATTTTCATTTAGGGCTGATGGGCTCATGACCACTAGAGTTAGCAATTACACTGTGATAAAAGATAAAAGCTTCACAAACTCTACCCACCCAGAAGGTGGCTCAGGTGGTGAAATGGGGAGAGTAAGGCATGAAACGACTGAAATATGGGAGGATAGTGAGATGGGTTCTCTCTTTTTGAGTTTTATCTTTTgcttctttaataatttttgttaatcTGGATTTGGAGAATGACTAGTATAAAAGTGGATTCTGTTTTGAGTCCCTTAGAATGGAGGAGAATGTGTGGGCCAATGTTGTGCCCAGAGACTACTACGGAACAATAGTAAATGAATGTACATGACCCAAACACAAAGCTTTGTGGTTGCTGATGGGAGAGCTGCACTGCCCTGGCCTACTGGATAACAGCTTCTCCAAAGTGTATTTACCCTGACAATGGAGATTGCCTTtctcttttaagtgaaaaaaatggaaCACTACAATAAAGTAGTGGTaatgctgtgtgtgtatgtataagaCATTCTGGAGTGGGTTTGTGATAATTGGGATATGTATCACTTATCCTTTtgtttgtatacatttatggggtgaAAGTGccgttttgttacatggatatattgttgAGGGATAAAATCTGGGCTTTGAGTATAGTCATCATCTGGATGGTGtatattgtacccattaagtaactTCTCATCCCACATGCCACTCCCACCCTCCCAACCTTCCAAGTCTCCAATATTTCTTATTCCACACTCTATATCcatgtgtacatattatttagctctcacttatataTGACATGTGGTATTCAACTTTATTCTTCTGAGTTCTTTAACTTAAGATAGTGGCCTACAGTTTCATCCATGCTACTGGAAAATACATAATTTCATTCCTTGTCTATTATTGAGTAGTaattaaatgtgtatatgtacatacacatgtatagtGCGTGTAtgtgtggggatgtgtgtgtacatatatgtatatgtatgaacATATACAACTGTTTCCTTTATCTAACCATTTACTAATAGAAACTTAGTTTGGtaccatgtatttgctattgtgaatagagcagcaataaacatataaatgcaGGCATCTATCTGATATAATAATTTATCTTcccttgggtagatacccagtagtgggactgctgaatGAAATATTAGTTCCAATATTAATTATTTGcaaaatctccatactgttttccatagagcttatagtaatttacatttccactagcagtgtataagcactcctgcttctctgcatccttactagcatctgttttgttttgttccatttttctttttgactttttaacagtagctgttctgactggtataagatggtatctcactgtgtctttaaattgcatttttctgatgattaatgtcattgattattttttcatatgctggttgatgtttttttgtcttttgaaaaataaacgtTGTAgtaatttgctcatttttaatgtggttatttgtaggtttttgtgttgcttttgtttcttatagtttctaaatattagctctttgtcagatacagagtttaaaaatagttttatccCATCCTGTACACTTTCTGTTAAgttttttggttatttgttttgCTGTTCAGATGCTTTGCTTCTTATTTGTATTAAGTCCAAAtggtctattttgttttttattctgtttacttttaaagttgtagtcatgaattctttgcctaggacAATCTCCAGAACAATATTTCCTAGAATAGCATCTGCAACTTTCAGACTCTCAGGTCTCCCagttaagtcttttatccatatTGGCTTAATTTTGGATATAGTGAGAGATacgggtccagttttattctgctGCAAATGGCTGTTCAGTTTTTCCTGCACAATTTATTTAACAAGGTGACCTGTTCCCAGTGTATgctttttgtctagtttttcacAGTCAGTTTGGCTGCAGGCATTTgactttatttatgaaatatctattctgttccactcaTCTATGGCTTTCTGCTAGATTGTTACTTGTGTATAATAATACTACTggtttttgtatgcttttttcatttattctaaaactttactgaattaactCATCAATTCTAGGAGTATTTTGAAagaatattagttttttttaagtacaaaatcatattatcagcaaacacaaagagtttgacttcctcttttccaattcgagtccctttctttctttctcttgcctaatttctctggctaggatttcAAGTTCTATATTGattaagagtggtgaaagtgggcatccttgacgTGTTCTGAGTCTTAGGAGGAATACTTTCAACATATTcctattcagtataatgttgttTCGGAGTTTGAAGGTGATTTATGGAGAATGAGAGATGTTGAGTGCGAGTGGACATGAGTGAGAGAAACAGTGGATATGTGCGGCCGTTTCTGACCAGGGTGTCTCTGTGTTTGCAGGCGTCCAGCATGAGGCGCAGCtggtggaggctgggggaggcTTGGTACAGCCTGGGTAGGTCCCTGAGACTCTCATTTGCAGCTTCTGGATTCACCTTCAGTGACTTCTGGATGCACTGGATCCGCCAGGCTTCTGGGAAAGGGCTGGAGTGGGTTGGCCGTATTAGAACCAAACGTAACAGTTACACGACGGAATGCGCTGCATCTGTGAAAGGCAGGTTCACCATCTCAAGAGATGATTCAAAGAACACACTGTATATGCAAATGAATACCCTGAAAACCAAGTACACGGCCATCTATTACTGTACTAGAGACACAGTGAGGGGAGGTTAACCTGGGCCCATACACAAATCTCCCTGCAGGGGCGCGCAGGGCCAACTGGGGGCGCTCGGGACCCACTGAGGACGGGACAGGTGGGCGGGTGCAGGGGGAGGTTTCCTTTATCAGCTGCAGGAGGCGGGTTTGTTTTTGCAGGAATCTGGAGCCTTATGAGGTTTTGATATTTTACTATGCTTAtttatcatgattttttaaaattgggatttgtgttttagtaatttttaaatttatatgtaggggtatttttaaaaattaagttttagggtacatgtgcacaatgtgcaggttagttacatatgtatacatgtgccatgttggtgtgctgcacccattaactcgtcacttaacattaggtatatctcctaatgctatccctctcccctccccccaccccacaacaggccccggtgtgtgatgttccccttcctgtgtccatgtgttctcattgttcaattcccacctatgagtgagaacatgcagtgtttagtttgtttgtccttgcgatagtttgctgagaatgatggtttccagcttcatccatgtccctacaaatgacatgaactcatcattttttatggctgcatagtattccatggtgtttatgtgccacattttcttaatccagtctatcattgttggacatttgggttggttccaagtctttgctattgtgaatagtgccacaataaacatacgtgtccatgtgtctttatagcagcatgatttacaatcctttgggtatatacccagtaatgggatggctgggtcaaatggtatttctagttctagatccctgaggaatcgccacactgacttccacaatggttgaactagtttacagtcccaccaacagtgtaaaagtgttcctatttctccacatcctctccagcacctgttgtttcctgactttttaatgatcgccattctaactggtgtgagatggtatctcattgttgttttgatttgcatttctctgatggccagtgatgatgagcattttttcatgtgtcttttggctgcataaatgtcttcttttgagaagtgtctgttcatgtccttcgcccacttgttgatggggatatttgtttttttcttgtaaatttgtttgagttcattgtagattctggatattagccctttgtcagatgaataggttgcaaaaatttcctcccattctgtaggttgcctgttcactctgatggtagtttcttttgctgtgcagaagctctttagtttaattagatcccatttgtcaattttggcttttgttgccattgcttttggtgttttagacatgaagtccttgcccatgcctatgtcccgaatggtattgcctaggttttcttctagggtttttatggttttaggtctaacgtttaagtctttaatccatcttgaattaatttttgcataaggcgtaaggaagggatccagtttcagctttctacatatggctagccagttttcccagcaccatttattaaatagggaatcctttccccattgcttgtttttgtcaggtttgtcaaagatcagatagttgtagatatgcggcattatttctgaaggctctgttgtgttccattggtctgtatctctgttttggtaccagtaccgtgctgttttggttactgtagacttgtagtatagtttgaagtcaggtagcttgatgcctccagctttgttcttttggcttaggattgacttggcaatgcaggctcttttttggttccatatgaactttaaagtagttttttccaattctgtgaagaaagtcattgctagcttgatggggatggcattgaatctataaattacctggggcagtatggccattttcacgatattgattcttcctacccatgagcatggaatgttcttccatttgtttgtatcctcttttatttccttgagcagtggtttgtagttctccttgaagaggtccttcacatctcttgtaagttggattcctaggtattttattctctttgaagcacttgtgaatgggagttcactcatgatttggctctctgtttgtctgctattggtgtataagaatgcttgtgatttttgcacattgattttgtatcctgagactttgctgaaactGCTTATccgcttaaggagattttgggctgagacgatggggttttctagatatacaatcatgtcatctccaaacaggaacaatttgacttcctcttttcctaattgaatgccctttatttccttctcctgcctgattgccctggccagaacttccaacactatgttgaataggagtggtgagagagggcatccctgtcttgtgccagttttcaaagggaatgcttccagtttttgtccattcagtatggtattggctgtgggtttgtcatagacagctcttattattttgagatacatcccatcagtacctaatttattgagagtttttagcatgaagggttgttgaattttgtcaaaggcgttttctgcatgtattgagataatcatgtggtttttgtctttggttctgtttatatgctggatgacatttattgattttcgtatgttgaaccagccttgcatcccagggatgaagcccacttgatcatggtggataagctttttgatgtgctgctggattcggtttgccagtattttattgaggatttttgcatcgatgttcatcaaggatattggtctaaaattctctttttttgttgtgtctctgccaagctttggtatcaggatgatgctggcctcataaaatgagttagagaggattccctctttttctatagattggaatagtttcagaaggaatggtaccagctcctccttctacctctggtagaattcggctgtgaatccatctggtcctggactctttttggttggtaagctattaattattgcctcaatttcagagcctgttattggtctattcagagattcagcttcttcctggtttagtcttgggatagtgtatgtgtccaggaatttatccatttcttctagattttctagtttatttgcatagaggagtttatagtattctctgatggtagtttgtatttctgtgggatcggtggtgatatcccctttatcattttttattgcgtctatttgattcttctcttttcttctttattagtcttgctagtggtgtatcaattttgttgatcttttcagaaaatcagctcctggattcattgattttttgaagggttttttgtgtctctatttccttcagttctgctctgatcttagttatttcttgccttctgctagcttttgaatgtgtttgctcttgcttctccactGAAAAAAGATGATCATATTTTGCAATGCAAGGACATGAGAATTTTGGACTCAAGAGTGCAATGATATAGTTTAGATGTTTTCCCTTCCAAATGTTATGGTGAAATGTGATTCTcaatgttggagatgggaccGACTGGGAGGTTTTGGGTCATGGGGAAAGATCCTTCAGGAATGGCTTGGGAACCACCCCATGGCACTTAGTGAATTCTTGCTGTATTAGCTActatgagatctgattgttaaaaagagtctggcaaCCCTTCTTGCCACTCATGTCCcagctctcaccatgtgacatagcctgtttcccctttgccttccaccatgattgtaaagcAGATCCTGGTGCCATGCTTCTCacacagccttcagaactgtaagccaaatatgcctcttttctttgtaaatcactTGGCCTCAGGTATTAATTTATAGGAATGCAAAAGAGACTAACACACTGTCCAAAGCATTACACAGATTCAACTCTATTTTTATCAAATGACCAATATAATTGAttacatatttagaaaaaaaatactaaaattcctACAGAATCAAAAAAGTGTCTGAATAgcaaaagcaatcctaagcaaaaagaccaaagctgGAAGCACCACATTCTctgacctcaaattatactacatGAATATAATAAGAAAGACAGCATGCTACTAGTAGAAAAAAATAGCccagaaagaaagccaaatatcTAAAACCAACTGTTGTTtgaaaaaactgacaaaaatatacactggaGAAACAAccctctattcaataaatggtgccgggaaaaTTAGGTGGCTTATGTGGAAGAATAGAACGAGACTTCCATATCACCATAGACACAAATTAACTAAATATGGATTCAgtgtttaaatttataaattaaactataaaaatacttgaataaaatctaaaaagagtcctctggacattggtctaagcaaacaaaatatgactaagacttcaaaagcaaatgcaataaaaacagaagtaGACAAACAGGATTTAATTGAACTAAAggtcttctgcacagcaaaagaaataaccaacatGGTGACCAGACAATctgcaaatggaaaaaatatttggaatctATTCATCTTGCAAAGGGCTAATATATAGAATCTACAAGTAACTCAAATAAGTcaactaaaaattacaaataacttcattaaagaatagacaaaaacagacatttatcaaaagaatacACAGAAGTGGccaacacaaataaaatatactcaGCATCACCAATCATCTGATAAATGTAAATTAGAAACAACATGATATGGCATCttccaccagtcagaatggctgttattacaaataaaaaacagcaggTGTTTGCAgacaaacataggaaaaataatgatttatatatgcttggtgagaatgtaaattagtacaacctccatgaaaaacaacatagaaatttctcaaagaactaaaattagaattaCCATTTCTTCCAGCAAGCCATCCCAGTGGGCATGTTCCTCCCAAACTTTTATATCAGAGAATGTTgcctgcactcctatgtttatttcaacaccatttttaatagaaaagtcAAGTAATCTATCTAAGTGTCAATCAGTGGATGATtagataaaatatgatatatgtaaatcatggaatactatgcagccagtaTGGTATGAATTCGGTGTGACCAGCCCCTGGACAAGGGCTCGAGTGGATGGGATGGATCATCACCTACACTGGGAACCCAATGTATACCCACGGCTTCACAGGACGGTTTGTCTTCTCCATGGACACCTCTGTCAGCATGGCGTATCTGCAGATCAGCAGCCTAAAGGCTGAGGACACGGCCGTGTATGACTCTATGAGAGACACAGTGTGGAAACCCACATCCCGAGAGAGTCAAAAACCCTGAGGGAGGAGGCAGCTGTGCTGAGCTGAGGCAGTGGTGCAGCAGTTTCTTTAACTTCCATATGATCTCATTTTGCATcatcttctacttttatattagCTAAGAACTTGGGGTAGACGGGTGCTCCTCAGAGATCCTTAACTTGCCCATTTTGATGGGTTTTCCAGAAGACATGAGAAGCCACTTTGTTAGCAAAGCATCCCAAAGCCATGCCCTGTTCTAGACACATGTGAGCCCATTTCCTGGTCTTTGCTTAACTGACAAGCTCTCATCAGTGCACCTGGGCTAATTTCACATCAGGTAGAAGAATGCGTTCTAAAGGAAAGCTAATGTTGTAATAGCAATTCCTGCTTAAAAACCTTCAGCTTCATTGTTTTTGTGTAATCTATCAACAAATTATATTAGTTCAAGGTTCTCAATGGGAGTTTCTAATAAATAGAAAGGATGTATAGAGCTTcccctaattaaaataaaacaattgtgaACACAACCTCAGTATTCAGCCATGTCTACACCCTTCACATCCTTCGCCACAAAGGAATTTTCACCTCTCCTGGAAGCTGGGTTCATTTtcaaattagttatttttttcaatttaatatcTCAAGATTATCATATATGACTATTTTAGCAGACTATTTATGCTATAAAATTAATagatgacactgcactccagcctgcacaaccaAGCaagtcttcatctgtaaaatctaaaaaagaaaaattaataggtACTGACTTTGAAATTTTtgataataatattttcaaaacccAAATTTAATTACACCCACATGTTACCTCCATCTTCACTGAAAAGTTCCCAGTCACAATAAGTTCCATGAATGCTCCATGTGTTCAAATCTGGACATCAAGAGAGtccagagaataaaatacaatgaCGGCAGTGAAACTGGTGTATATTTAGCACCTCTTAACTCAGGAGGACTCCATACACCCTGGCACACAGCTGCTTTTCTAAATGGTTCACAATGACTCCAGCTCACTCACAGAGCTCAGACAGAAATCTCCCTTCAGGGTGGGAGCTGGGTGGCAGGGGGCACTCAGTACCCACAGAGGTGAAAATGAGCTTTCAGATGGAACTTCCCTGTCACCTCAACATggaatttattgtttcatttcattaCCCCTCTTTCCATAATGGTTCATTTCTTTTGGCCTGTTCATTACTGATATTTTTCAGAGGAATCTCACTTGAATCTTTACTCTTTTGCATTTTGTCTCCATGGCAATGTTGGGAAGTTTTACCTCCAGCATCATAACATGATCTAGTGATCTGACACATTGTGCAAACAATACCTATGAATTCAGAagctctttgcttttctttccacgAAATATAATTCTTTCTGTTCTGTGTATAAGCATGTCCTAGCAACCCTGTACACACCCACATAGATGTCTACAAGCCTATGAATTATTCTCTGTAAATAAAAACTTATATCCATTTCCCTCAATGTTCATAATTCTCCTGAGGGTGAGGAAGCTCCCTCTCGATCTGTTCAAACAAAATGCCCAGAAACCATCTGGTAGGTAAGGAGTTCACCTGGCTCTGGTGTGGGgtctgtctctttccctctgtTGTCCCACAGGTCAGTCCAGTTGTTCAGGTCCTAACAAGAAAGCCCAGGTTTGTCCTGATTTTAAAACACATCGCACTTCTGATGACTCTCCTGTTACCCACATCCATGGAGAtagattatttattatataattaaccAAACTAATGTCAAATGCCCAAGTTGCAATACCGCACATCCTAGGGTGTGTTCATGCAATTCAATGGAGGAGAAGGTCTTTCAGAGACAGATGGACctgaaatgataaatatgtgggtaaagaCTCTGGACTTGAGTGTCATTGTCCAGCCATGTTTCACAGGTGTGACTTGTCAGGGAAGGACCAGAGTTCCTTGTGCTCTCAGAGGAGAGGGGTCACACAGGTCCTCTCTGGTTCCCAGGAAAGGTAATCGCACTAATCTTTATGATCTCCATGAGACTATCCTCCAGTGCTGACCTGTTATAGAGTTTTTGTCTGAAGTTGTCACTGCAATCCCTGATCCACATATTTTCATTCAGAAGTGTTTAGAGGCCAGGACACATCTTCAAGGTCACACATTGAGAAGGATGGAGATATGTCTCACTACCTTCTCCTGAGATCTCAGACAGAATCCCAAATTTCAAAAGGACACAGAAGGACAGCTCTCAGGTGCTTTTTAAAATGACCCACTTCCAGGGACAGGGAGCTTCCCTCTAACCATGATGGGTGTTCTGAACTACAATAAACACTGGATGGATCCAGGATTGTTTGAAGTCACTGTCATTATTACATTCAGCTGTTGTTTCAATGTGTCTGAAGTAGTAAATGACAATTTAGATGACCTGGGTGTGTGGTTGGTTTTATATGAATCTTTAAGGGTTGAACAGTATTGACCCTATTCCACAATCTGTCCTTGATCCATGATCACACTCATCTCTCAGACAAGCTCCTTCAGCACATCTCTTTACCTGGAAGAAGAGCACTCTGGGCTTGGCGAGGGGAGGCCCCAAGAAGAGAACTGAGTTCTCAAAGGGCACAGCCAGCATTCTACTCCCAGGGTGAGCCCAAAAGACCGGCGCCTCTCTCATCCCTTTTCACTGCTCCGTACAAAGGCACCACCCACATGCAAATCCTCACTTAGGCGCCCACAGGAAGCCACAACACATTTCCTTAAATTCAGGTCCAACTCATAAGGGAAATGCTTTCTGAGAGTCATGGACCTCCTGTGCAAGAACATGAAGCACCTGTGGTTTTTCCTCCTGCTGGTGGCAGCTCCCAGATGTGAGTGTCTCAGGGATCCAGACGTGAAGATATGGGAAGTGCCTCTGATCCCAGGGCTCACCGTGGGTTTTTCTGTTCACAGGGGTCCTgtcccaggtgcagctgcaggAGTCGGGCCCAGGACTGGTGAAGCCTTCGGAGACCCTGTCCCTCACCTGCACTGTCTCTGGTTACTCCATCAGCAGTGGTTACTACTGGGGCTGGATCCGGCAGCCcccagggaaggggctggagtgGATTGGGAGTATCTATCATAGTGGGAGCACCTACTACAACCCGTCCCTCAAGAGTCGAGTCACCATATCAGTAGACACGTCCAAGAACCAGTTCTCCCTGAAGCTGAGCTCTGTGACCGCCGCAGACACGGCCGTGTATTACTGTGCGAGAGACACAGTGAGGGGAGGTGAGTGTGAGCCCAGACACAAACCTCCCtgcagggaggctgaggggacCGGCGCAGGTGCAGCTCACGGCCAGCAGGGGGCGCGCGGAGCTCACGGAATACAAGGCCGGGTCAGGAGCAGGTGCAGGGTGAGCGGGGCTTGCTCATCTTCTCAGAGATCATCATCTCCCTCCTCGCCAGCACCTCAGCTTTCCGTAGAGGTCCTCTTTCTTTATTGTCTGTGGTTCTACTTCCTCACATCCTTGTGCCAGGAAAGAAAGGAGTAAGGCAAATTTTCCTGTTACAATTGAAGTTTCACCAATTACTAAAAACTTTCCTGCAAGTACCTGCACAGCCCATTATaccttatttatatatatatattctaatgcTTCTCACCATCTCTTGATTTGTGTCATCAATTTAATTGTGCCCTTTTtgaaattcatatgctgaaacttTAAATCCAATGGATCTATATCGGAATTTTAATGGTATAATTAACGTTAAATGTGGTCATAAGTGAGACCCTAATGCAATAGACCtgttgtctttataagaagaggaagagacaccagagaccTCTCACTTCTCACATGCACACAGAGAAGAGGCCACGTGGAGACATAGTGCACTAGAAGGTGGgcctctgcaagccaggaagaagccGCACCaagaaccaaccctgccagcaccttgatcttctACATTCAGACTGCAGAATTGTAagaaaatcaatatttgttgtttaagccacccactcCTTTTGTCTTCTTACGAAGACCCAGACAGGCTAATACCACACAACTCTGTTAGCTCCATCTCCTGGAGGGAGAAGCAGCCCCCTGAGGCTGGGCACATCGCTCAGATTTTCACATGAATTAGGCAAAAACAGTAGCTCTCATATAAAAACTGTCACGTCCCTGTTGGGACAAGGTCTTTTAAACAAACCCTGGGGCTTTGTCACAAATGTTGCATTTTATCCTTTATTAGGACTTAACTAATTGACAATGAGTACCAGCTGGATGGAAACTGACCACTGACCATCTTCTGCTGTCTCCTTATTATATCACAGAAAACCACAGCAACATTACTCTATGTCTTCAACTTTCTAAATTTGTACTGAATCTATTGCTAAATGAGGAGCTACATGGGGTCTGAGTTTTGTTATCTTCTTCCCAGTCTTCCCCAATTACCAAGCACAGAAGATACTTTCAGTGAAATTTAGCTGTCAATGCCCCCAACACCACATCATGTTTTAAGGTCCAAGGACTTTCTTTGGGGGGCTATTGAAAACACTTTTGAATGGAAAATCCTAAAGCATACAACAGCTGAAAGAATGGCCCCTGTGCACGTGAAGGCTGAAGGGATGGATGATAGGGTACGTTCCTCCAAGGTGTTCCTGGGCATGTGATGGTTGGATACCTCATGCATACGAAAACAAGGACTGAACTGAGATAGAAACAAGGGCCATATCCtataggaaaacaagaaaaaaacggGCATCCCTGAAGAGAGTTAATTAGACTTGGTGGGTTtaagatgaatttttttccaaagttttttaatgttctaagctaaatatgaatattttcaataaaCTGCAAATTAAAAGGAGAATGAATTTAGAAGTTTAGACAGAAAAAAGCCATGAGGGTGTAGAAAGCAAATCCACACAAAACTGTCACATGGCAGAGGCCAGAATGGAGCTGATGCAGCTATATCATTATTCTGCAGACCTAGTTGAGACCCTTTGGTGTTTAAGGCAGGTCCAGCAGTGAAGAActcctttattttttgtctgGCAAAGTTCTAATctaatcttcatttctgaaaaggATTTACATGGTAAAGATTCGTCTTGGCAG\n"
     ]
    }
   ],
   "source": [
    "edited = seqs[39][:10] + seqs[39][11:]\n",
    "print(edited.seq)"
   ]
  },
  {
   "cell_type": "code",
   "execution_count": 11,
   "id": "c2ba84cd-30f5-4fef-971a-275380e887c4",
   "metadata": {},
   "outputs": [
    {
     "ename": "ValueError",
     "evalue": "Cannot run multiple SparkContexts at once; existing SparkContext(app=pyspark-shell, master=local[*]) created by __init__ at /tmp/ipykernel_4584/2473571213.py:1 ",
     "output_type": "error",
     "traceback": [
      "\u001b[0;31m---------------------------------------------------------------------------\u001b[0m",
      "\u001b[0;31mValueError\u001b[0m                                Traceback (most recent call last)",
      "Input \u001b[0;32mIn [11]\u001b[0m, in \u001b[0;36m<cell line: 1>\u001b[0;34m()\u001b[0m\n\u001b[0;32m----> 1\u001b[0m sc \u001b[38;5;241m=\u001b[39m \u001b[43mSparkContext\u001b[49m\u001b[43m(\u001b[49m\u001b[43m)\u001b[49m\n\u001b[1;32m      2\u001b[0m sqlContext \u001b[38;5;241m=\u001b[39m SQLContext(sc)\n",
      "File \u001b[0;32m/usr/local/spark/python/pyspark/context.py:144\u001b[0m, in \u001b[0;36mSparkContext.__init__\u001b[0;34m(self, master, appName, sparkHome, pyFiles, environment, batchSize, serializer, conf, gateway, jsc, profiler_cls)\u001b[0m\n\u001b[1;32m    139\u001b[0m \u001b[38;5;28;01mif\u001b[39;00m gateway \u001b[38;5;129;01mis\u001b[39;00m \u001b[38;5;129;01mnot\u001b[39;00m \u001b[38;5;28;01mNone\u001b[39;00m \u001b[38;5;129;01mand\u001b[39;00m gateway\u001b[38;5;241m.\u001b[39mgateway_parameters\u001b[38;5;241m.\u001b[39mauth_token \u001b[38;5;129;01mis\u001b[39;00m \u001b[38;5;28;01mNone\u001b[39;00m:\n\u001b[1;32m    140\u001b[0m     \u001b[38;5;28;01mraise\u001b[39;00m \u001b[38;5;167;01mValueError\u001b[39;00m(\n\u001b[1;32m    141\u001b[0m         \u001b[38;5;124m\"\u001b[39m\u001b[38;5;124mYou are trying to pass an insecure Py4j gateway to Spark. This\u001b[39m\u001b[38;5;124m\"\u001b[39m\n\u001b[1;32m    142\u001b[0m         \u001b[38;5;124m\"\u001b[39m\u001b[38;5;124m is not allowed as it is a security risk.\u001b[39m\u001b[38;5;124m\"\u001b[39m)\n\u001b[0;32m--> 144\u001b[0m \u001b[43mSparkContext\u001b[49m\u001b[38;5;241;43m.\u001b[39;49m\u001b[43m_ensure_initialized\u001b[49m\u001b[43m(\u001b[49m\u001b[38;5;28;43mself\u001b[39;49m\u001b[43m,\u001b[49m\u001b[43m \u001b[49m\u001b[43mgateway\u001b[49m\u001b[38;5;241;43m=\u001b[39;49m\u001b[43mgateway\u001b[49m\u001b[43m,\u001b[49m\u001b[43m \u001b[49m\u001b[43mconf\u001b[49m\u001b[38;5;241;43m=\u001b[39;49m\u001b[43mconf\u001b[49m\u001b[43m)\u001b[49m\n\u001b[1;32m    145\u001b[0m \u001b[38;5;28;01mtry\u001b[39;00m:\n\u001b[1;32m    146\u001b[0m     \u001b[38;5;28mself\u001b[39m\u001b[38;5;241m.\u001b[39m_do_init(master, appName, sparkHome, pyFiles, environment, batchSize, serializer,\n\u001b[1;32m    147\u001b[0m                   conf, jsc, profiler_cls)\n",
      "File \u001b[0;32m/usr/local/spark/python/pyspark/context.py:350\u001b[0m, in \u001b[0;36mSparkContext._ensure_initialized\u001b[0;34m(cls, instance, gateway, conf)\u001b[0m\n\u001b[1;32m    347\u001b[0m     callsite \u001b[38;5;241m=\u001b[39m SparkContext\u001b[38;5;241m.\u001b[39m_active_spark_context\u001b[38;5;241m.\u001b[39m_callsite\n\u001b[1;32m    349\u001b[0m     \u001b[38;5;66;03m# Raise error if there is already a running Spark context\u001b[39;00m\n\u001b[0;32m--> 350\u001b[0m     \u001b[38;5;28;01mraise\u001b[39;00m \u001b[38;5;167;01mValueError\u001b[39;00m(\n\u001b[1;32m    351\u001b[0m         \u001b[38;5;124m\"\u001b[39m\u001b[38;5;124mCannot run multiple SparkContexts at once; \u001b[39m\u001b[38;5;124m\"\u001b[39m\n\u001b[1;32m    352\u001b[0m         \u001b[38;5;124m\"\u001b[39m\u001b[38;5;124mexisting SparkContext(app=\u001b[39m\u001b[38;5;132;01m%s\u001b[39;00m\u001b[38;5;124m, master=\u001b[39m\u001b[38;5;132;01m%s\u001b[39;00m\u001b[38;5;124m)\u001b[39m\u001b[38;5;124m\"\u001b[39m\n\u001b[1;32m    353\u001b[0m         \u001b[38;5;124m\"\u001b[39m\u001b[38;5;124m created by \u001b[39m\u001b[38;5;132;01m%s\u001b[39;00m\u001b[38;5;124m at \u001b[39m\u001b[38;5;132;01m%s\u001b[39;00m\u001b[38;5;124m:\u001b[39m\u001b[38;5;132;01m%s\u001b[39;00m\u001b[38;5;124m \u001b[39m\u001b[38;5;124m\"\u001b[39m\n\u001b[1;32m    354\u001b[0m         \u001b[38;5;241m%\u001b[39m (currentAppName, currentMaster,\n\u001b[1;32m    355\u001b[0m             callsite\u001b[38;5;241m.\u001b[39mfunction, callsite\u001b[38;5;241m.\u001b[39mfile, callsite\u001b[38;5;241m.\u001b[39mlinenum))\n\u001b[1;32m    356\u001b[0m \u001b[38;5;28;01melse\u001b[39;00m:\n\u001b[1;32m    357\u001b[0m     SparkContext\u001b[38;5;241m.\u001b[39m_active_spark_context \u001b[38;5;241m=\u001b[39m instance\n",
      "\u001b[0;31mValueError\u001b[0m: Cannot run multiple SparkContexts at once; existing SparkContext(app=pyspark-shell, master=local[*]) created by __init__ at /tmp/ipykernel_4584/2473571213.py:1 "
     ]
    }
   ],
   "source": [
    "sc = SparkContext()\n",
    "sqlContext = SQLContext(sc)"
   ]
  },
  {
   "cell_type": "code",
   "execution_count": 18,
   "id": "184e39e3-ee1b-49c1-9873-581f847397b6",
   "metadata": {},
   "outputs": [
    {
     "name": "stdout",
     "output_type": "stream",
     "text": [
      "The genome of human chromosome 1, sequence#90, consists of 1774 nucleotides. \n"
     ]
    }
   ],
   "source": [
    "print(f'The genome of human chromosome 1, sequence#90, consists of {len(dna_1)} nucleotides. ')"
   ]
  },
  {
   "cell_type": "code",
   "execution_count": 19,
   "id": "1fe74b40-0570-4ced-9e4f-0fba1ad7d5c1",
   "metadata": {},
   "outputs": [],
   "source": [
    "from Bio.SeqUtils import molecular_weight"
   ]
  },
  {
   "cell_type": "code",
   "execution_count": 23,
   "id": "8a317f5e-6664-486f-800f-ccedc9130f5c",
   "metadata": {},
   "outputs": [
    {
     "data": {
      "text/plain": [
       "546583.879900005"
      ]
     },
     "execution_count": 23,
     "metadata": {},
     "output_type": "execute_result"
    }
   ],
   "source": [
    "molecular_weight(dna_1.seq)"
   ]
  },
  {
   "cell_type": "code",
   "execution_count": 25,
   "id": "7bb4b8a7-4d8b-42ae-962c-f38864b11604",
   "metadata": {},
   "outputs": [
    {
     "data": {
      "text/plain": [
       "37.4859075535513"
      ]
     },
     "execution_count": 25,
     "metadata": {},
     "output_type": "execute_result"
    }
   ],
   "source": [
    "# GC Content - higher GC Content implies more stable molecule due to G and C forming triple hydrogen bonds\n",
    "from Bio.SeqUtils import GC\n",
    "GC(dna_1.seq)"
   ]
  },
  {
   "cell_type": "code",
   "execution_count": 26,
   "id": "737e1422-44d8-4790-ae5b-3e6a69ca2984",
   "metadata": {},
   "outputs": [],
   "source": [
    "count_nucleotides = {\n",
    "    'A' : dna_1.seq.count('A'),\n",
    "    'T' : dna_1.seq.count('T'),\n",
    "    'C' : dna_1.seq.count('C'),\n",
    "    'G' : dna_1.seq.count('G')}"
   ]
  },
  {
   "cell_type": "code",
   "execution_count": 27,
   "id": "e63ebef6-be63-47f9-8fb1-9616dd34e4f9",
   "metadata": {},
   "outputs": [
    {
     "data": {
      "text/plain": [
       "{'A': 13, 'T': 14, 'C': 8, 'G': 10}"
      ]
     },
     "execution_count": 27,
     "metadata": {},
     "output_type": "execute_result"
    }
   ],
   "source": [
    "count_nucleotides"
   ]
  },
  {
   "cell_type": "code",
   "execution_count": 30,
   "id": "cccffc66-58a1-4b24-9dd6-f7fbafacc178",
   "metadata": {},
   "outputs": [
    {
     "data": {
      "text/plain": [
       "Text(0.5, 1.0, 'Nucleotide Frequency')"
      ]
     },
     "execution_count": 30,
     "metadata": {},
     "output_type": "execute_result"
    },
    {
     "data": {
      "image/png": "[encoded data removed]",
      "text/plain": [
       "<Figure size 432x288 with 1 Axes>"
      ]
     },
     "metadata": {
      "needs_background": "light"
     },
     "output_type": "display_data"
    }
   ],
   "source": [
    "import matplotlib.pyplot as plt\n",
    "width = 0.5\n",
    "plt.bar(count_nucleotides.keys(), count_nucleotides.values(), width, color=['b','r','m','c'])\n",
    "plt.xlabel('Nucleotide')\n",
    "plt.ylabel('Frequency')\n",
    "plt.title('Nucleotide Frequency')"
   ]
  },
  {
   "cell_type": "code",
   "execution_count": 35,
   "id": "0173a69b-927a-4939-80b0-d94cdcf69a36",
   "metadata": {},
   "outputs": [
    {
     "data": {
      "text/plain": [
       "Seq('GMFNSMS*MQTSQRNSENAAVYLLFEFPLPTKTSKLSKYPLADSTKRVFQNCSI...GRY')"
      ]
     },
     "execution_count": 35,
     "metadata": {},
     "output_type": "execute_result"
    }
   ],
   "source": [
    "# Understanding the information stored in genomes is crucial to finding cures and vaccines. \n",
    "# So let's check translation and transciption.\n",
    "mrna = dna_1.translate()\n",
    "mrna.seq"
   ]
  },
  {
   "cell_type": "code",
   "execution_count": 36,
   "id": "6c41a114-6925-431f-bce6-82c6161232cf",
   "metadata": {},
   "outputs": [
    {
     "data": {
      "text/plain": [
       "[('S', 65),\n",
       " ('F', 62),\n",
       " ('L', 48),\n",
       " ('K', 42),\n",
       " ('R', 38),\n",
       " ('N', 32),\n",
       " ('Q', 32),\n",
       " ('T', 32),\n",
       " ('P', 29),\n",
       " ('I', 27)]"
      ]
     },
     "execution_count": 36,
     "metadata": {},
     "output_type": "execute_result"
    }
   ],
   "source": [
    "# most common amino acids\n",
    "from collections import Counter\n",
    "common_amino = Counter(mrna)\n",
    "common_amino.most_common(10)"
   ]
  },
  {
   "cell_type": "code",
   "execution_count": 37,
   "id": "3b6ae3c4-7b80-487f-828a-47fb65641115",
   "metadata": {},
   "outputs": [
    {
     "data": {
      "text/plain": [
       "Text(0.5, 1.0, 'Protein Sequence Frequency')"
      ]
     },
     "execution_count": 37,
     "metadata": {},
     "output_type": "execute_result"
    },
    {
     "data": {
      "image/png": "[encoded data removed]",
      "text/plain": [
       "<Figure size 432x288 with 1 Axes>"
      ]
     },
     "metadata": {
      "needs_background": "light"
     },
     "output_type": "display_data"
    }
   ],
   "source": [
    "del common_amino['*']  # delecting stop codon\n",
    "\n",
    "width = 0.5\n",
    "plt.bar(common_amino.keys(), common_amino.values(), width, color=['b','r','m','c'])\n",
    "plt.xlabel('Amino Acid')\n",
    "plt.ylabel('Frequency')\n",
    "plt.title('Protein Sequence Frequency')"
   ]
  },
  {
   "cell_type": "code",
   "execution_count": 39,
   "id": "ec280e28-6792-48a5-8f30-8921a37d5971",
   "metadata": {},
   "outputs": [
    {
     "name": "stdout",
     "output_type": "stream",
     "text": [
      "Human genome for mrna(dna_1) has 566 amino acids\n"
     ]
    }
   ],
   "source": [
    "print(f'Human genome for mrna(dna_1) has {sum(common_amino.values())} amino acids')"
   ]
  },
  {
   "cell_type": "code",
   "execution_count": 41,
   "id": "02380fd6-391e-441c-9615-efcbae8081a2",
   "metadata": {},
   "outputs": [
    {
     "data": {
      "text/plain": [
       "SeqRecord(seq=Seq('GMFNS'), id='<unknown id>', name='<unknown name>', description='<unknown description>', dbxrefs=[])"
      ]
     },
     "execution_count": 41,
     "metadata": {},
     "output_type": "execute_result"
    }
   ],
   "source": [
    "mrna[:5]"
   ]
  },
  {
   "cell_type": "code",
   "execution_count": 42,
   "id": "29633c09-dd35-4d8a-8ee0-eb0f637bbce1",
   "metadata": {},
   "outputs": [
    {
     "name": "stdout",
     "output_type": "stream",
     "text": [
      "We have 591 amino acids in dna_1 sequence of human genome\n"
     ]
    }
   ],
   "source": [
    "print(f'We have {len(mrna)} amino acids in dna_1 sequence of human genome')"
   ]
  },
  {
   "cell_type": "code",
   "execution_count": 8,
   "id": "32292d2f-2699-4cf8-933f-e1188e25b971",
   "metadata": {},
   "outputs": [],
   "source": [
    "spark1 = SparkSession.builder.getOrCreate()"
   ]
  },
  {
   "cell_type": "code",
   "execution_count": 9,
   "id": "3e192401-ae0c-436b-8e8c-d499bf1593da",
   "metadata": {},
   "outputs": [
    {
     "name": "stdout",
     "output_type": "stream",
     "text": [
      "0\n"
     ]
    }
   ],
   "source": [
    "cat /proc/sys/vm/overcommit_memory"
   ]
  },
  {
   "cell_type": "code",
   "execution_count": null,
   "id": "cd9c654b-44a4-4f98-8e17-347a6c63d0fd",
   "metadata": {},
   "outputs": [],
   "source": [
    "psf = ps.DataFrame(seqs)"
   ]
  },
  {
   "cell_type": "code",
   "execution_count": 6,
   "id": "37238f41-a77a-4816-8202-bb12129aedff",
   "metadata": {},
   "outputs": [
    {
     "ename": "AttributeError",
     "evalue": "'DataFrameReader' object has no attribute 'fasta'",
     "output_type": "error",
     "traceback": [
      "\u001b[0;31m---------------------------------------------------------------------------\u001b[0m",
      "\u001b[0;31mAttributeError\u001b[0m                            Traceback (most recent call last)",
      "Input \u001b[0;32mIn [6]\u001b[0m, in \u001b[0;36m<cell line: 1>\u001b[0;34m()\u001b[0m\n\u001b[0;32m----> 1\u001b[0m df \u001b[38;5;241m=\u001b[39m \u001b[43mspark1\u001b[49m\u001b[38;5;241;43m.\u001b[39;49m\u001b[43mread\u001b[49m\u001b[38;5;241;43m.\u001b[39;49m\u001b[43mfasta\u001b[49m(\u001b[38;5;124m\"\u001b[39m\u001b[38;5;124mGRCh38_latest_genomic.fna\u001b[39m\u001b[38;5;124m\"\u001b[39m)\n",
      "\u001b[0;31mAttributeError\u001b[0m: 'DataFrameReader' object has no attribute 'fasta'"
     ]
    }
   ],
   "source": [
    "SparkSession spark = SparkSession.builder().master(\"local[*]\").appName(\"FASTdoop Test Short\").getOrCreate();    \n",
    "SparkContext sc = spark.sparkContext();\n",
    "JavaSparkContext jsc = new JavaSparkContext(sc);\n",
    "\n",
    "Configuration inputConf = jsc.hadoopConfiguration();\n",
    "inputConf.setInt(\"look_ahead_buffer_size\", 4096);\n",
    "String inputPath = \"data/short.fasta\";\n",
    "\n",
    "JavaPairRDD<Text, Record> dSequences2 = jsc.newAPIHadoopFile(inputPath, \n",
    "        FASTAshortInputFileFormat.class, Text.class, Record.class, inputConf);\n",
    "\n",
    "/* We drop the keys of the new RDD since they are not used */\n",
    "JavaRDD<Record> dSequences = dSequences2.values();\n",
    "\n",
    "for (Record sequence : dSequences.collect()) {\n",
    "    System.out.println(\"ID: \" + sequence.getKey());\n",
    "    System.out.println(\"Sequence: \" + sequence.getValue());"
   ]
  },
  {
   "cell_type": "code",
   "execution_count": null,
   "id": "13918b7c-7350-4176-80e1-033bfc2685fc",
   "metadata": {},
   "outputs": [],
   "source": []
  }
 ],
 "metadata": {
  "kernelspec": {
   "display_name": "Python 3 (ipykernel)",
   "language": "python",
   "name": "python3"
  },
  "language_info": {
   "codemirror_mode": {
    "name": "ipython",
    "version": 3
   },
   "file_extension": ".py",
   "mimetype": "text/x-python",
   "name": "python",
   "nbconvert_exporter": "python",
   "pygments_lexer": "ipython3",
   "version": "3.9.12"
  }
 },
 "nbformat": 4,
 "nbformat_minor": 5
}
